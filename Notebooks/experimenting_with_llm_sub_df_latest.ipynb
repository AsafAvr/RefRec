{
  "cells": [
    {
      "cell_type": "code",
      "execution_count": 110,
      "metadata": {
        "colab": {
          "base_uri": "https://localhost:8080/"
        },
        "id": "foGtr8BDfhg-",
        "outputId": "af09739c-4b46-4010-b045-2c412b37b6ca"
      },
      "outputs": [
        {
          "name": "stdout",
          "output_type": "stream",
          "text": [
            "fatal: destination path 'RefRec' already exists and is not an empty directory.\n"
          ]
        }
      ],
      "source": [
        "!git clone github.com/AsafAvr/RefRec.git"
      ]
    },
    {
      "cell_type": "code",
      "execution_count": 111,
      "metadata": {
        "colab": {
          "base_uri": "https://localhost:8080/"
        },
        "id": "zeQnSviPfhhA",
        "outputId": "a8112f87-88e7-4535-9eef-c2190bf59d07"
      },
      "outputs": [
        {
          "name": "stdout",
          "output_type": "stream",
          "text": [
            "/content/RefRec\n",
            "Requirement already satisfied: langchain in /usr/local/lib/python3.10/dist-packages (from -r requirements.txt (line 1)) (0.1.19)\n",
            "Requirement already satisfied: langgraph in /usr/local/lib/python3.10/dist-packages (from -r requirements.txt (line 2)) (0.0.48)\n",
            "Requirement already satisfied: langchain-groq in /usr/local/lib/python3.10/dist-packages (from -r requirements.txt (line 3)) (0.1.3)\n",
            "Requirement already satisfied: langchain-openai in /usr/local/lib/python3.10/dist-packages (from -r requirements.txt (line 4)) (0.1.6)\n",
            "Requirement already satisfied: python-dotenv in /usr/local/lib/python3.10/dist-packages (from -r requirements.txt (line 5)) (1.0.1)\n",
            "Requirement already satisfied: PyYAML>=5.3 in /usr/local/lib/python3.10/dist-packages (from langchain->-r requirements.txt (line 1)) (6.0.1)\n",
            "Requirement already satisfied: SQLAlchemy<3,>=1.4 in /usr/local/lib/python3.10/dist-packages (from langchain->-r requirements.txt (line 1)) (2.0.29)\n",
            "Requirement already satisfied: aiohttp<4.0.0,>=3.8.3 in /usr/local/lib/python3.10/dist-packages (from langchain->-r requirements.txt (line 1)) (3.9.5)\n",
            "Requirement already satisfied: async-timeout<5.0.0,>=4.0.0 in /usr/local/lib/python3.10/dist-packages (from langchain->-r requirements.txt (line 1)) (4.0.3)\n",
            "Requirement already satisfied: dataclasses-json<0.7,>=0.5.7 in /usr/local/lib/python3.10/dist-packages (from langchain->-r requirements.txt (line 1)) (0.6.5)\n",
            "Requirement already satisfied: langchain-community<0.1,>=0.0.38 in /usr/local/lib/python3.10/dist-packages (from langchain->-r requirements.txt (line 1)) (0.0.38)\n",
            "Requirement already satisfied: langchain-core<0.2.0,>=0.1.52 in /usr/local/lib/python3.10/dist-packages (from langchain->-r requirements.txt (line 1)) (0.1.52)\n",
            "Requirement already satisfied: langchain-text-splitters<0.1,>=0.0.1 in /usr/local/lib/python3.10/dist-packages (from langchain->-r requirements.txt (line 1)) (0.0.1)\n",
            "Requirement already satisfied: langsmith<0.2.0,>=0.1.17 in /usr/local/lib/python3.10/dist-packages (from langchain->-r requirements.txt (line 1)) (0.1.56)\n",
            "Requirement already satisfied: numpy<2,>=1 in /usr/local/lib/python3.10/dist-packages (from langchain->-r requirements.txt (line 1)) (1.25.2)\n",
            "Requirement already satisfied: pydantic<3,>=1 in /usr/local/lib/python3.10/dist-packages (from langchain->-r requirements.txt (line 1)) (2.7.1)\n",
            "Requirement already satisfied: requests<3,>=2 in /usr/local/lib/python3.10/dist-packages (from langchain->-r requirements.txt (line 1)) (2.31.0)\n",
            "Requirement already satisfied: tenacity<9.0.0,>=8.1.0 in /usr/local/lib/python3.10/dist-packages (from langchain->-r requirements.txt (line 1)) (8.2.3)\n",
            "Requirement already satisfied: groq<1,>=0.4.1 in /usr/local/lib/python3.10/dist-packages (from langchain-groq->-r requirements.txt (line 3)) (0.5.0)\n",
            "Requirement already satisfied: openai<2.0.0,>=1.24.0 in /usr/local/lib/python3.10/dist-packages (from langchain-openai->-r requirements.txt (line 4)) (1.27.0)\n",
            "Requirement already satisfied: tiktoken<1,>=0.5.2 in /usr/local/lib/python3.10/dist-packages (from langchain-openai->-r requirements.txt (line 4)) (0.6.0)\n",
            "Requirement already satisfied: aiosignal>=1.1.2 in /usr/local/lib/python3.10/dist-packages (from aiohttp<4.0.0,>=3.8.3->langchain->-r requirements.txt (line 1)) (1.3.1)\n",
            "Requirement already satisfied: attrs>=17.3.0 in /usr/local/lib/python3.10/dist-packages (from aiohttp<4.0.0,>=3.8.3->langchain->-r requirements.txt (line 1)) (23.2.0)\n",
            "Requirement already satisfied: frozenlist>=1.1.1 in /usr/local/lib/python3.10/dist-packages (from aiohttp<4.0.0,>=3.8.3->langchain->-r requirements.txt (line 1)) (1.4.1)\n",
            "Requirement already satisfied: multidict<7.0,>=4.5 in /usr/local/lib/python3.10/dist-packages (from aiohttp<4.0.0,>=3.8.3->langchain->-r requirements.txt (line 1)) (6.0.5)\n",
            "Requirement already satisfied: yarl<2.0,>=1.0 in /usr/local/lib/python3.10/dist-packages (from aiohttp<4.0.0,>=3.8.3->langchain->-r requirements.txt (line 1)) (1.9.4)\n",
            "Requirement already satisfied: marshmallow<4.0.0,>=3.18.0 in /usr/local/lib/python3.10/dist-packages (from dataclasses-json<0.7,>=0.5.7->langchain->-r requirements.txt (line 1)) (3.21.2)\n",
            "Requirement already satisfied: typing-inspect<1,>=0.4.0 in /usr/local/lib/python3.10/dist-packages (from dataclasses-json<0.7,>=0.5.7->langchain->-r requirements.txt (line 1)) (0.9.0)\n",
            "Requirement already satisfied: anyio<5,>=3.5.0 in /usr/local/lib/python3.10/dist-packages (from groq<1,>=0.4.1->langchain-groq->-r requirements.txt (line 3)) (3.7.1)\n",
            "Requirement already satisfied: distro<2,>=1.7.0 in /usr/lib/python3/dist-packages (from groq<1,>=0.4.1->langchain-groq->-r requirements.txt (line 3)) (1.7.0)\n",
            "Requirement already satisfied: httpx<1,>=0.23.0 in /usr/local/lib/python3.10/dist-packages (from groq<1,>=0.4.1->langchain-groq->-r requirements.txt (line 3)) (0.27.0)\n",
            "Requirement already satisfied: sniffio in /usr/local/lib/python3.10/dist-packages (from groq<1,>=0.4.1->langchain-groq->-r requirements.txt (line 3)) (1.3.1)\n",
            "Requirement already satisfied: typing-extensions<5,>=4.7 in /usr/local/lib/python3.10/dist-packages (from groq<1,>=0.4.1->langchain-groq->-r requirements.txt (line 3)) (4.11.0)\n",
            "Requirement already satisfied: jsonpatch<2.0,>=1.33 in /usr/local/lib/python3.10/dist-packages (from langchain-core<0.2.0,>=0.1.52->langchain->-r requirements.txt (line 1)) (1.33)\n",
            "Requirement already satisfied: packaging<24.0,>=23.2 in /usr/local/lib/python3.10/dist-packages (from langchain-core<0.2.0,>=0.1.52->langchain->-r requirements.txt (line 1)) (23.2)\n",
            "Requirement already satisfied: orjson<4.0.0,>=3.9.14 in /usr/local/lib/python3.10/dist-packages (from langsmith<0.2.0,>=0.1.17->langchain->-r requirements.txt (line 1)) (3.10.3)\n",
            "Requirement already satisfied: tqdm>4 in /usr/local/lib/python3.10/dist-packages (from openai<2.0.0,>=1.24.0->langchain-openai->-r requirements.txt (line 4)) (4.66.4)\n",
            "Requirement already satisfied: annotated-types>=0.4.0 in /usr/local/lib/python3.10/dist-packages (from pydantic<3,>=1->langchain->-r requirements.txt (line 1)) (0.6.0)\n",
            "Requirement already satisfied: pydantic-core==2.18.2 in /usr/local/lib/python3.10/dist-packages (from pydantic<3,>=1->langchain->-r requirements.txt (line 1)) (2.18.2)\n",
            "Requirement already satisfied: charset-normalizer<4,>=2 in /usr/local/lib/python3.10/dist-packages (from requests<3,>=2->langchain->-r requirements.txt (line 1)) (3.3.2)\n",
            "Requirement already satisfied: idna<4,>=2.5 in /usr/local/lib/python3.10/dist-packages (from requests<3,>=2->langchain->-r requirements.txt (line 1)) (3.7)\n",
            "Requirement already satisfied: urllib3<3,>=1.21.1 in /usr/local/lib/python3.10/dist-packages (from requests<3,>=2->langchain->-r requirements.txt (line 1)) (2.0.7)\n",
            "Requirement already satisfied: certifi>=2017.4.17 in /usr/local/lib/python3.10/dist-packages (from requests<3,>=2->langchain->-r requirements.txt (line 1)) (2024.2.2)\n",
            "Requirement already satisfied: greenlet!=0.4.17 in /usr/local/lib/python3.10/dist-packages (from SQLAlchemy<3,>=1.4->langchain->-r requirements.txt (line 1)) (3.0.3)\n",
            "Requirement already satisfied: regex>=2022.1.18 in /usr/local/lib/python3.10/dist-packages (from tiktoken<1,>=0.5.2->langchain-openai->-r requirements.txt (line 4)) (2023.12.25)\n",
            "Requirement already satisfied: exceptiongroup in /usr/local/lib/python3.10/dist-packages (from anyio<5,>=3.5.0->groq<1,>=0.4.1->langchain-groq->-r requirements.txt (line 3)) (1.2.1)\n",
            "Requirement already satisfied: httpcore==1.* in /usr/local/lib/python3.10/dist-packages (from httpx<1,>=0.23.0->groq<1,>=0.4.1->langchain-groq->-r requirements.txt (line 3)) (1.0.5)\n",
            "Requirement already satisfied: h11<0.15,>=0.13 in /usr/local/lib/python3.10/dist-packages (from httpcore==1.*->httpx<1,>=0.23.0->groq<1,>=0.4.1->langchain-groq->-r requirements.txt (line 3)) (0.14.0)\n",
            "Requirement already satisfied: jsonpointer>=1.9 in /usr/local/lib/python3.10/dist-packages (from jsonpatch<2.0,>=1.33->langchain-core<0.2.0,>=0.1.52->langchain->-r requirements.txt (line 1)) (2.4)\n",
            "Requirement already satisfied: mypy-extensions>=0.3.0 in /usr/local/lib/python3.10/dist-packages (from typing-inspect<1,>=0.4.0->dataclasses-json<0.7,>=0.5.7->langchain->-r requirements.txt (line 1)) (1.0.0)\n"
          ]
        }
      ],
      "source": [
        "%cd /content/RefRec\n",
        "!pip install -r requirements.txt"
      ]
    },
    {
      "cell_type": "markdown",
      "metadata": {
        "id": "p_x8T2bcfhhA"
      },
      "source": [
        "# Outline\n",
        "- Load validation dataset - Movielens-1M\n",
        "- Load recommendation model that was finetuned on specific embedding spce (TBC)\n",
        "- Create a self-reflection mechanism on the validation dataset\n",
        "  - Predict the next sequence for a specific user by prompting the llm with the data about the user\n",
        "    - Generate prompt to encode specific features\n",
        "  - reflect on the prediction vs the ground truth\n",
        "  - suggest a better feature and reflect on why the mistake happened\n",
        "  - continue to the next sequence"
      ]
    },
    {
      "cell_type": "markdown",
      "metadata": {
        "id": "STk9iuq-fhhD"
      },
      "source": [
        "## Imports"
      ]
    },
    {
      "cell_type": "code",
      "execution_count": 112,
      "metadata": {
        "id": "Avy_DaHrfhhD"
      },
      "outputs": [],
      "source": [
        "device = 'cuda'"
      ]
    },
    {
      "cell_type": "code",
      "execution_count": 113,
      "metadata": {
        "colab": {
          "base_uri": "https://localhost:8080/"
        },
        "id": "PoeK0Cf9fhhE",
        "outputId": "00a19b6f-8102-4bdd-d376-51a88502b1af"
      },
      "outputs": [
        {
          "data": {
            "text/plain": [
              "PosixPath('/content/RefRec')"
            ]
          },
          "execution_count": 113,
          "metadata": {},
          "output_type": "execute_result"
        }
      ],
      "source": [
        "from pathlib import Path\n",
        "cur_path = Path.cwd()\n",
        "cur_path"
      ]
    },
    {
      "cell_type": "code",
      "execution_count": 114,
      "metadata": {
        "id": "RIz1LBfFfhhE"
      },
      "outputs": [],
      "source": [
        "klg_folder = Path.cwd().joinpath('knowledge_encoding')\n",
        "rs_folder = Path.cwd().joinpath('RS')\n",
        "ml1m_folder = Path.cwd().joinpath('data').joinpath('ml-1m')"
      ]
    },
    {
      "cell_type": "code",
      "execution_count": 115,
      "metadata": {
        "id": "Mei_t7gPfhhE"
      },
      "outputs": [],
      "source": [
        "import sys\n",
        "sys.path.append(klg_folder.as_posix())\n",
        "sys.path.append(rs_folder.as_posix())\n",
        "from lm_encoding import get_text_data_loader"
      ]
    },
    {
      "cell_type": "code",
      "execution_count": 116,
      "metadata": {
        "id": "zMmDylvyfhhF"
      },
      "outputs": [],
      "source": [
        "import numpy as np\n",
        "import pandas as pd\n",
        "import torch\n",
        "import torch.utils.data as Data\n",
        "import re\n",
        "\n",
        "from dataset import AmzDataset\n",
        "from main_ctr import eval\n",
        "from utils import load_json\n",
        "from sklearn.metrics import log_loss, roc_auc_score"
      ]
    },
    {
      "cell_type": "code",
      "execution_count": 117,
      "metadata": {
        "id": "iN-BagGQfhhF"
      },
      "outputs": [],
      "source": [
        "class ShortDataLoader:\n",
        "    def __init__(self, dataloader, num_batches):\n",
        "        self.dataloader = dataloader\n",
        "        self.num_batches = num_batches\n",
        "\n",
        "    def __iter__(self):\n",
        "        count = 0\n",
        "        for batch in self.dataloader:\n",
        "            if count >= self.num_batches:\n",
        "                break\n",
        "            yield batch\n",
        "            count += 1\n",
        "\n",
        "    def __len__(self):\n",
        "        return min(len(self.dataloader), self.num_batches)\n",
        "\n",
        "from torch.utils.data import Dataset\n",
        "class DictDataset(Dataset):\n",
        "    def __init__(self, data_list):\n",
        "        self.data_list = data_list\n",
        "\n",
        "    def __getitem__(self, index):\n",
        "        return self.data_list[index]\n",
        "\n",
        "    def __len__(self):\n",
        "        return len(self.data_list)"
      ]
    },
    {
      "cell_type": "markdown",
      "metadata": {
        "id": "qQnaxWNsfhhG"
      },
      "source": [
        "## Loading Test Set\n",
        "- Identifying Classification mistakes"
      ]
    },
    {
      "cell_type": "code",
      "execution_count": 174,
      "metadata": {
        "id": "Zd7_J6EzfhhG"
      },
      "outputs": [],
      "source": [
        "model_path = rs_folder.joinpath('model').joinpath('ml-1m').joinpath('ctr').joinpath('DIN').joinpath('DIN.pt').as_posix()\n",
        "inference_model = torch.load(model_path,map_location=torch.device(device))\n",
        "test_set = AmzDataset(ml1m_folder.joinpath('proc_data').as_posix(), 'train', 'ctr', 5, True, 'bert_avg') #test\n",
        "test_loader = Data.DataLoader(dataset=test_set, batch_size=2048, shuffle=False)\n",
        "metric_scope = [1, 3, 5, 7]"
      ]
    },
    {
      "cell_type": "code",
      "execution_count": 175,
      "metadata": {
        "colab": {
          "base_uri": "https://localhost:8080/"
        },
        "id": "GdITynNsfhhG",
        "outputId": "a8da1ca5-dde9-4fba-a90b-e706870e24c0"
      },
      "outputs": [
        {
          "data": {
            "text/plain": [
              "751436"
            ]
          },
          "execution_count": 175,
          "metadata": {},
          "output_type": "execute_result"
        }
      ],
      "source": [
        "len(test_set)"
      ]
    },
    {
      "cell_type": "code",
      "execution_count": 120,
      "metadata": {
        "colab": {
          "base_uri": "https://localhost:8080/"
        },
        "id": "4l0HMUYCfhhI",
        "outputId": "e8dd7b08-581a-4ade-bd05-8985c0113a7b"
      },
      "outputs": [
        {
          "data": {
            "text/plain": [
              "10"
            ]
          },
          "execution_count": 120,
          "metadata": {},
          "output_type": "execute_result"
        }
      ],
      "source": [
        "short_test = ShortDataLoader(test_loader, num_batches=10)\n",
        "len(short_test)"
      ]
    },
    {
      "cell_type": "code",
      "execution_count": 176,
      "metadata": {
        "colab": {
          "base_uri": "https://localhost:8080/"
        },
        "id": "-tDZowr6fhhJ",
        "outputId": "483c9c5c-a824-4020-88e7-a6a5bfde95d2"
      },
      "outputs": [
        {
          "name": "stdout",
          "output_type": "stream",
          "text": [
            "test loss: 0.54620, test time: 309.62119, auc: 0.78947, logloss: 0.54619\n"
          ]
        }
      ],
      "source": [
        "auc, ll, loss, eval_time, labels, preds = eval(inference_model, test_loader) #test_loader\n",
        "print(\"test loss: %.5f, test time: %.5f, auc: %.5f, logloss: %.5f\" % (loss, eval_time, auc, ll))"
      ]
    },
    {
      "cell_type": "code",
      "execution_count": 122,
      "metadata": {
        "colab": {
          "base_uri": "https://localhost:8080/"
        },
        "id": "fbUNAbP6fhhJ",
        "outputId": "eee92306-c55a-4639-8ee4-26520aaae4a3"
      },
      "outputs": [
        {
          "data": {
            "text/plain": [
              "[4, 18, 24, 29, 31, 34, 39, 54, 57, 59]"
            ]
          },
          "execution_count": 122,
          "metadata": {},
          "output_type": "execute_result"
        }
      ],
      "source": [
        "preds_r = [1 if pred[0] > 0.5 else 0 for pred in preds]\n",
        "mistake_indexes = [i for i, (label, pred) in enumerate(zip(labels, preds_r)) if label != pred]\n",
        "mistake_indexes[:10]"
      ]
    },
    {
      "cell_type": "code",
      "execution_count": 123,
      "metadata": {
        "colab": {
          "base_uri": "https://localhost:8080/"
        },
        "id": "VxXoh-eQfhhJ",
        "outputId": "f920f723-d7b4-41cb-f956-edb03f3179b3"
      },
      "outputs": [
        {
          "data": {
            "text/plain": [
              "([[0.7851797938346863],\n",
              "  [0.6139041185379028],\n",
              "  [0.6520099639892578],\n",
              "  [0.7986049056053162],\n",
              "  [0.7801293730735779]],\n",
              " [1, 1, 1, 1, 0])"
            ]
          },
          "execution_count": 123,
          "metadata": {},
          "output_type": "execute_result"
        }
      ],
      "source": [
        "preds[:5] , labels[:5]"
      ]
    },
    {
      "cell_type": "code",
      "execution_count": 124,
      "metadata": {
        "colab": {
          "base_uri": "https://localhost:8080/"
        },
        "id": "KP4Ki28lfhhK",
        "outputId": "de34abd9-86a0-4249-f179-6cc25cce8291"
      },
      "outputs": [
        {
          "data": {
            "text/plain": [
              "['2179', '3813', '2108', '778', '4232', '2903', '2449', '5286', '4235', '3020']"
            ]
          },
          "execution_count": 124,
          "metadata": {},
          "output_type": "execute_result"
        }
      ],
      "source": [
        "user_vec_dict = load_json(ml1m_folder.joinpath('proc_data').joinpath('bert_avg_augment.hist'))\n",
        "list(user_vec_dict.keys())[:10]"
      ]
    },
    {
      "cell_type": "code",
      "execution_count": 125,
      "metadata": {
        "colab": {
          "base_uri": "https://localhost:8080/"
        },
        "id": "Ow-tbDfOfhhK",
        "outputId": "8124505d-6809-4347-9589-8b08bcfad7f0"
      },
      "outputs": [
        {
          "data": {
            "text/plain": [
              "['1', '2', '4', '3', '5', '6', '7', '9', '8', '11']"
            ]
          },
          "execution_count": 125,
          "metadata": {},
          "output_type": "execute_result"
        }
      ],
      "source": [
        "item_vec_dict = load_json(ml1m_folder.joinpath('proc_data').joinpath('bert_avg_augment.item'))\n",
        "list(item_vec_dict.keys())[:10]"
      ]
    },
    {
      "cell_type": "markdown",
      "metadata": {
        "id": "TY2zsTwDfhhK"
      },
      "source": [
        "## Extracting metadata for LLM"
      ]
    },
    {
      "cell_type": "code",
      "execution_count": 126,
      "metadata": {
        "colab": {
          "base_uri": "https://localhost:8080/"
        },
        "id": "vO3EIr9SfhhK",
        "outputId": "cc51e47c-0ad9-4a8a-fa34-94fdc37ef445"
      },
      "outputs": [
        {
          "name": "stdout",
          "output_type": "stream",
          "text": [
            "chatgpt.hist 1 Given a male user who is aged 35-44 and an executive/managerial, this user's movie viewing history over time is listed below. Bridge on the River Kwai, The (1957), 5 stars; Chinatown (1974), 4 stars; Duck Soup (1933), 5 stars; Toy Story (1995), 5 stars; Arsenic and Old Lace (1944), 4 stars; Dances with Wolves (1990), 5 stars; Cool Hand Luke (1967), 5 stars; Young Frankenstein (1974), 5 stars; High Noon (1952), 5 stars; Rear Window (1954), 5 stars; Being There (1979), 5 stars; Some Like It Hot (1959), 5 stars; Casablanca (1942), 5 stars; Wizard of Oz, The (1939), 5 stars; Gone with the Wind (1939), 5 stars; Moonstruck (1987), 5 stars; It's a Wonderful Life (1946), 5 stars; Mr. Smith Goes to Washington (1939), 5 stars; 39 Steps, The (1935), 5 stars; Malcolm X (1992), 5 stars; Witness (1985), 4 stars; Animal House (1978), 4 stars; Do the Right Thing (1989), 5 stars; Frankenstein (1931), 5 stars; Modern Times (1936), 4 stars; War of the Worlds, The (1953), 5 stars; Hollywood Knights, The (1980), 3 stars; Star Wars: Episode IV - A New Hope (1977), 5 stars; Once Were Warriors (1994), 3 stars; American Beauty (1999), 5 stars. Based on the user's movie viewing history, it seems that they have a strong preference for classic movies that are highly regarded by critics and audiences alike. They also seem to enjoy movies that are thought-provoking or have a deeper meaning, as evidenced by their high ratings for movies like Being There, Malcolm X, and Do the Right Thing. \n",
            "\n",
            "The user also appears to enjoy movies with strong characters and well-developed plots, as seen in their high ratings for Cool Hand Luke, Dances with Wolves, and Witness. They also seem to enjoy movies with a bit of humor, as evidenced by their high ratings for Duck Soup, Young Frankenstein, and Some Like It Hot. \n",
            "\n",
            "In terms of time period and country, the user appears to have a preference for movies from the 1930s-1960s, with a few exceptions like American Beauty and Once Were Warriors. The user also seems to enjoy movies with a historical or cultural significance, such as Gone with the Wind and Malcolm X. \n",
            "\n",
            "The user's rating of Hollywood Knights at 3 stars may suggest that they are not particularly interested in movies that are solely focused on entertainment or lack substance. Similarly, their high ratings for critically acclaimed movies like Casablanca and It's a Wonderful Life may indicate that they value excellent production quality and an impactful soundtrack.\n",
            "\n",
            "Overall, this user seems to have a diverse range of movie preferences, but they tend to favor classic movies with strong characters and well-developed plots that offer something deeper than just entertainment. hist len 6040\n",
            "chatgpt.item 1 Jumanji is a classic adventure/fantasy film released in 1995, directed by Joe Johnston and starring Robin Williams, Kirsten Dunst, and Bonnie Hunt. The film was produced in the United States and takes place in a fictional town called Brantford, New Hampshire.\n",
            "\n",
            "The plot follows two children, Peter and Judy, who discover a mysterious board game called Jumanji. As they begin to play, they quickly realize that the game is more than just a simple board game - it unleashes a series of dangerous and chaotic events that come to life in the real world. With the help of a man who has been trapped inside the game for decades (played by Robin Williams), the children must navigate through the hazards of the game and find a way to stop it before it's too late.\n",
            "\n",
            "The mood and tone of Jumanji are both adventurous and thrilling, with a healthy dose of humor and heartwarming moments throughout. The film was well-received by both audiences and critics, and even garnered an Academy Award nomination for its visual effects.\n",
            "\n",
            "In terms of production quality, the film features impressive special effects and stunning cinematography that transports viewers into the heart of the action. The soundtrack, composed by James Horner, perfectly captures the film's adventurous and exciting spirit.\n",
            "\n",
            "Overall, Jumanji is a beloved classic that has stood the test of time as a thrilling adventure film that is both entertaining and heartwarming. item len 3883\n"
          ]
        }
      ],
      "source": [
        "hist_loader, hist_idxes, item_loader, item_idxes = get_text_data_loader(ml1m_folder.joinpath('knowledge').as_posix(), 2)"
      ]
    },
    {
      "cell_type": "code",
      "execution_count": 127,
      "metadata": {
        "colab": {
          "base_uri": "https://localhost:8080/",
          "height": 140
        },
        "id": "AgYTxVlYfhhK",
        "outputId": "8a4e1e3f-47e9-49b7-9dd8-038814a9cc5d"
      },
      "outputs": [
        {
          "name": "stdout",
          "output_type": "stream",
          "text": [
            "4160\n"
          ]
        },
        {
          "data": {
            "application/vnd.google.colaboratory.intrinsic+json": {
              "type": "string"
            },
            "text/plain": [
              "\"Given a male user who is aged 18-24 and a programmer, this user's movie viewing history over time is listed below. Honey, I Shrunk the Kids (1989), 1 stars; Negotiator, The (1998), 4 stars; Terminator 2: Judgment Day (1991), 3 stars; Jumanji (1995), 2 stars; Heat (1995), 5 stars; Insider, The (1999), 5 stars; Last of the Mohicans, The (1992), 3 stars; Michael (1996), 3 stars; Batman (1989), 3 stars; Jackie Chan's First Strike (1996), 4 stars; Rocketeer, The (1991), 3 stars; Maltese Falcon, The (1941), 4 stars; Messenger: The Story of Joan of Arc, The (1999), 3 stars; 2001: A Space Odyssey (1968), 3 stars; Jewel of the Nile, The (1985), 2 stars; Romancing the Stone (1984), 3 stars; Saint, The (1997), 5 stars; Sleepy Hollow (1999), 2 stars; World Is Not Enough, The (1999), 2 stars; Anaconda (1997), 1 stars; Titanic (1953), 3 stars; Waterworld (1995), 2 stars; Lost in Space (1998), 3 stars; Teenage Mutant Ninja Turtles (1990), 1 stars; Payback (1999), 3 stars; Red Dawn (1984), 3 stars; Romeo Must Die (2000), 3 stars; Universal Soldier (1992), 3 stars; Big Hit, The (1998), 4 stars; Close Encounters of the Third Kind (1977), 4 stars. Based on the user's movie viewing history, it seems that they enjoy action and adventure movies from the 80s and 90s. They also seem to enjoy movies with high production quality and critical acclaim, as evidenced by their high ratings of Heat, The Insider, and The Saint.\\n\\nThe user also seems to have a preference for movies with strong male protagonists, such as Terminator 2: Judgment Day, Payback, and Red Dawn. They also appear to enjoy movies with a historical or fantastical element, like Last of the Mohicans and Sleepy Hollow.\\n\\nHowever, the user seems to have a lower tolerance for movies with weak plot or character development, as seen in their low ratings of Anaconda and Teenage Mutant Ninja Turtles. They also don't seem to enjoy movies with a heavy romance element, as evidenced by their low rating of Jewel of the Nile.\\n\\nIt is also worth noting that the user has rated several movies from the 80s and 90s, which could suggest a preference for movies from that time period.\\n\\nOverall, the user appears to enjoy action and adventure movies with strong male protagonists and high production quality, but may not be as interested in movies with weak plot or character development or heavy romance elements.\""
            ]
          },
          "execution_count": 127,
          "metadata": {},
          "output_type": "execute_result"
        }
      ],
      "source": [
        "key = '4810'\n",
        "index = hist_idxes.index(key)\n",
        "print(index)\n",
        "\n",
        "hist_loader.dataset[index]"
      ]
    },
    {
      "cell_type": "code",
      "execution_count": 128,
      "metadata": {
        "id": "jk2esO3-fhhL"
      },
      "outputs": [],
      "source": [
        "def get_user_hist(user_vec,hist_idxes):\n",
        "    user_vec = user_vec.tolist()\n",
        "    for key, v in user_vec_dict.items():\n",
        "        if v == user_vec:\n",
        "            user_index = hist_idxes.index(key)\n",
        "            return key, hist_loader.dataset[user_index]\n",
        "    return None\n",
        "\n",
        "def get_item_desc(item_vec, item_idxes):\n",
        "    item_vec = item_vec.tolist()\n",
        "    for key,v in item_vec_dict.items():\n",
        "        if v == item_vec:\n",
        "            item_index = item_idxes.index(key)\n",
        "            return key, item_loader.dataset[item_index]\n",
        "    return None"
      ]
    },
    {
      "cell_type": "code",
      "execution_count": 129,
      "metadata": {
        "colab": {
          "base_uri": "https://localhost:8080/",
          "height": 424
        },
        "id": "U58TieCbfhhL",
        "outputId": "9536b78a-d674-4c6f-ff4c-e3c9e1fa0890"
      },
      "outputs": [
        {
          "data": {
            "application/vnd.google.colaboratory.intrinsic+json": {
              "summary": "{\n  \"name\": \"df_results\",\n  \"rows\": 812,\n  \"fields\": [\n    {\n      \"column\": \"test_index\",\n      \"properties\": {\n        \"dtype\": \"number\",\n        \"std\": 717,\n        \"min\": 4,\n        \"max\": 2557,\n        \"num_unique_values\": 812,\n        \"samples\": [\n          757,\n          1760,\n          713\n        ],\n        \"semantic_type\": \"\",\n        \"description\": \"\"\n      }\n    },\n    {\n      \"column\": \"user_idx\",\n      \"properties\": {\n        \"dtype\": \"category\",\n        \"num_unique_values\": 24,\n        \"samples\": [\n          \"1906\",\n          \"344\",\n          \"2336\"\n        ],\n        \"semantic_type\": \"\",\n        \"description\": \"\"\n      }\n    },\n    {\n      \"column\": \"user_hist\",\n      \"properties\": {\n        \"dtype\": \"category\",\n        \"num_unique_values\": 24,\n        \"samples\": [\n          \"Given a female user who is aged 25-34 and a customer service staff, this user's movie viewing history over time is listed below. Nikita (La Femme Nikita) (1990), 4 stars; Stand by Me (1986), 4 stars; Terminator 2: Judgment Day (1991), 5 stars; Arsenic and Old Lace (1944), 5 stars; Big Sleep, The (1946), 5 stars; Edward Scissorhands (1990), 4 stars; Boogie Nights (1997), 3 stars; Star Wars: Episode I - The Phantom Menace (1999), 3 stars; Rocky Horror Picture Show, The (1975), 3 stars; Universal Soldier: The Return (1999), 1 stars. Based on the user's movie viewing history, it seems that she enjoys a mix of classic and modern movies from different genres. She has given high ratings to classic movies like Arsenic and Old Lace and The Big Sleep, which are known for their clever and complex plots. She has also enjoyed action movies like Terminator 2: Judgment Day and La Femme Nikita, which feature strong female characters. On the other hand, she has rated Boogie Nights and Star Wars: Episode I - The Phantom Menace lower, which suggests that she may not be as interested in movies that rely heavily on special effects and action sequences.\\n\\nAdditionally, the user has shown a preference for movies with strong directing and acting performances. For example, she gave Edward Scissorhands a high rating, which features Tim Burton's signature style and Johnny Depp's captivating performance. She also rated Stand by Me highly, which features a young cast of talented actors.\\n\\nOverall, it seems that the user is drawn to movies with well-crafted plots, memorable characters, and strong performances. As a customer service staff, you could suggest other movies that fit this profile, such as The Shawshank Redemption (1994), The Godfather (1972), or Pulp Fiction (1994).\",\n          \"Given a male user who is aged 35-44 and in sales/marketing department, this user's movie viewing history over time is listed below. Who Framed Roger Rabbit? (1988), 2 stars; Bridge on the River Kwai, The (1957), 4 stars; X-Men (2000), 3 stars; Live and Let Die (1973), 3 stars; Meet the Parents (2000), 3 stars; Great Escape, The (1963), 5 stars; Star Wars: Episode V - The Empire Strikes Back (1980), 4 stars; Raiders of the Lost Ark (1981), 4 stars; Back to the Future (1985), 4 stars; Patton (1970), 5 stars; Star Trek: First Contact (1996), 1 stars; Toy Story 2 (1999), 4 stars; Star Trek: The Motion Picture (1979), 1 stars; McHale's Navy (1997), 1 stars; Star Trek VI: The Undiscovered Country (1991), 1 stars; Casablanca (1942), 3 stars; Star Trek V: The Final Frontier (1989), 1 stars; Maltese Falcon, The (1941), 4 stars; Star Trek: The Wrath of Khan (1982), 4 stars; Star Trek III: The Search for Spock (1984), 3 stars; Star Trek IV: The Voyage Home (1986), 3 stars; Independence Day (ID4) (1996), 4 stars; Dead Calm (1989), 4 stars; Rambo: First Blood Part II (1985), 2 stars; Rambo III (1988), 2 stars; Tora! Tora! Tora! (1970), 4 stars; Mars Attacks! (1996), 1 stars; Stuart Little (1999), 3 stars; Bug's Life, A (1998), 3 stars; Night of the Living Dead (1968), 4 stars. Based on the user's movie viewing history, it seems like they enjoy a mix of classic and modern movies, with a preference for action and adventure films. They also seem to have an interest in science fiction movies, particularly those from the Star Trek franchise. However, their ratings for the Star Trek movies are generally low, suggesting that they may not enjoy the franchise as much as they thought they would.\\n\\nThe user also seems to have a fondness for war movies, particularly those set in World War II. They gave high ratings to The Great Escape and Tora! Tora! Tora!, both of which are classic war movies. Additionally, they gave a high rating to the movie Patton, which is a biographical war film.\\n\\nIn terms of comedy, the user seems to enjoy light-hearted movies like Meet the Parents and Stuart Little. However, they also gave a low rating to the comedy science fiction film Mars Attacks!, suggesting that they may not enjoy over-the-top humor.\\n\\nOverall, the user seems to enjoy movies with well-developed characters, exciting plots, and good production quality. They also seem to appreciate movies with critical acclaim and awards, as evidenced by their high ratings for The Great Escape and Patton.\",\n          \"Given a male user who is aged 35-44 and a tradesman/craftsman, this user's movie viewing history over time is listed below. Last of the Mohicans, The (1992), 4 stars; Unforgiven (1992), 5 stars; Pale Rider (1985), 5 stars; Gattaca (1997), 2 stars; Legends of the Fall (1994), 5 stars; Milk Money (1994), 3 stars; Kelly's Heroes (1970), 4 stars; One Flew Over the Cuckoo's Nest (1975), 4 stars; Star Wars: Episode V - The Empire Strikes Back (1980), 3 stars; Raiders of the Lost Ark (1981), 4 stars. Based on the user's movie viewing history, it seems that he enjoys action and adventure movies with strong male leads. The user has given high ratings to movies like \\\"Unforgiven,\\\" \\\"Pale Rider,\\\" and \\\"Legends of the Fall,\\\" which all feature rugged, tough male protagonists. The user also enjoys classic war movies like \\\"Kelly's Heroes\\\" and \\\"Raiders of the Lost Ark,\\\" both of which have strong male leads.\\n\\nHowever, the user also seems to appreciate movies with more complex themes and characters. \\\"One Flew Over the Cuckoo's Nest\\\" is a classic film that explores mental illness and institutionalization, while \\\"Gattaca\\\" deals with issues of genetic engineering and discrimination. These movies may appeal to the user's intellectual side.\\n\\nThe user's lower rating for \\\"Star Wars: Episode V - The Empire Strikes Back\\\" may suggest that he is not a huge fan of sci-fi or fantasy movies. However, the user may still enjoy action-driven movies like \\\"Star Wars\\\" as long as they have strong male leads and a compelling plot.\\n\\nOverall, the user seems to prefer movies with strong male leads, action and adventure, complex themes and characters, and high production quality. The user may also appreciate movies with critical acclaim or awards, as many of the movies in his viewing history have received positive reviews and recognition.\"\n        ],\n        \"semantic_type\": \"\",\n        \"description\": \"\"\n      }\n    },\n    {\n      \"column\": \"item_idx\",\n      \"properties\": {\n        \"dtype\": \"string\",\n        \"num_unique_values\": 587,\n        \"samples\": [\n          \"2297\",\n          \"454\",\n          \"3174\"\n        ],\n        \"semantic_type\": \"\",\n        \"description\": \"\"\n      }\n    },\n    {\n      \"column\": \"item_desc\",\n      \"properties\": {\n        \"dtype\": \"string\",\n        \"num_unique_values\": 587,\n        \"samples\": [\n          \"What Dreams May Come is a 1998 American fantasy drama film directed by Vincent Ward and starring Robin Williams, Cuba Gooding Jr., and Annabella Sciorra. The movie is based on the novel of the same name by Richard Matheson.\\n\\nThe film tells the story of Chris Nielsen, a man who dies in a car accident and finds himself in Heaven. However, when his wife Ann commits suicide and goes to Hell, Chris embarks on a journey to rescue her and bring her back to Heaven.\\n\\nThe movie is a mix of fantasy, drama, and romance genres, with themes of love, loss, and the afterlife. The mood and tone of the film are both melancholic and spiritual.\\n\\nThe film was praised for its stunning visual effects and production quality, earning an Academy Award for Best Visual Effects. The soundtrack of the movie, composed by Michael Kamen, is also highly acclaimed and adds to the emotional impact of the film.\\n\\nOverall, What Dreams May Come is a thought-provoking and visually stunning film that explores the concepts of love, loss, and the afterlife in a unique and powerful way.\",\n          \"\\\"The Firm\\\" is a 1993 legal thriller film directed by Sydney Pollack, based on the novel of the same name by John Grisham. The movie stars Tom Cruise as Mitch McDeere, a young and ambitious lawyer who lands a job at a prestigious law firm in Memphis, Tennessee. The cast also includes Gene Hackman, Holly Hunter, and Wilford Brimley.\\n\\nThe film takes place in the United States and centers around Mitch's struggles to balance his personal and professional life while uncovering a web of corruption and deceit within the law firm. The plot is a classic tale of a man caught in a dangerous game, where his professional success comes at a great personal cost.\\n\\nThe mood and tone of the movie are tense and suspenseful, with a sense of impending danger looming throughout the story. The soundtrack features a mix of jazz and blues music, which helps to create a sense of the film's southern setting.\\n\\n\\\"The Firm\\\" received critical acclaim upon its release and was a commercial success, grossing over $270 million worldwide. The film was nominated for two Academy Awards, including Best Supporting Actress for Holly Hunter. The production quality is top-notch, with excellent cinematography and direction by Sydney Pollack. Overall, \\\"The Firm\\\" is a well-crafted, engaging legal thriller that stands the test of time.\",\n          \"Man on the Moon is a biographical comedy-drama film directed by Milos Forman and released in 1999. The film is based on the life of American comedian and performer Andy Kaufman, played by Jim Carrey. The film also stars Danny DeVito, Courtney Love, and Paul Giamatti.\\n\\nThe movie is set in the United States and follows the life of Andy Kaufman, an eccentric and unconventional comedian known for his unique style of humor and his performances on the television show \\\"Saturday Night Live.\\\" The film explores his rise to fame, his relationships with friends and family, and his eventual death from cancer.\\n\\nThe movie is a blend of different genres, including comedy, drama, and biography. The film's mood is often melancholic, as it explores the darker aspects of Kaufman's life and career. The soundtrack of the film features a mix of classic rock and popular music from the 1970s and 1980s.\\n\\nMan on the Moon was well-received by critics and audiences alike, earning critical acclaim and several awards. Jim Carrey's performance as Kaufman was particularly praised, and he won a Golden Globe for Best Actor in a Musical or Comedy. The film also received nominations for Best Director, Best Screenplay, and Best Supporting Actor. The production quality of the movie is high, with detailed and accurate recreations of Kaufman's performances and settings.\\n\\nOverall, Man on the Moon is a compelling and entertaining film that combines elements of comedy and drama to tell the story of a unique and fascinating performer.\"\n        ],\n        \"semantic_type\": \"\",\n        \"description\": \"\"\n      }\n    },\n    {\n      \"column\": \"label\",\n      \"properties\": {\n        \"dtype\": \"number\",\n        \"std\": 0,\n        \"min\": 0,\n        \"max\": 1,\n        \"num_unique_values\": 2,\n        \"samples\": [\n          1,\n          0\n        ],\n        \"semantic_type\": \"\",\n        \"description\": \"\"\n      }\n    },\n    {\n      \"column\": \"pred\",\n      \"properties\": {\n        \"dtype\": \"number\",\n        \"std\": 0.1796189060175623,\n        \"min\": 0.06111834943294525,\n        \"max\": 0.9095484614372253,\n        \"num_unique_values\": 812,\n        \"samples\": [\n          0.39421579241752625,\n          0.6463512778282166\n        ],\n        \"semantic_type\": \"\",\n        \"description\": \"\"\n      }\n    }\n  ]\n}",
              "type": "dataframe",
              "variable_name": "df_results"
            },
            "text/html": [
              "\n",
              "  <div id=\"df-b27f38b7-16ac-4330-91a0-45f46371b9d8\" class=\"colab-df-container\">\n",
              "    <div>\n",
              "<style scoped>\n",
              "    .dataframe tbody tr th:only-of-type {\n",
              "        vertical-align: middle;\n",
              "    }\n",
              "\n",
              "    .dataframe tbody tr th {\n",
              "        vertical-align: top;\n",
              "    }\n",
              "\n",
              "    .dataframe thead th {\n",
              "        text-align: right;\n",
              "    }\n",
              "</style>\n",
              "<table border=\"1\" class=\"dataframe\">\n",
              "  <thead>\n",
              "    <tr style=\"text-align: right;\">\n",
              "      <th></th>\n",
              "      <th>test_index</th>\n",
              "      <th>user_idx</th>\n",
              "      <th>user_hist</th>\n",
              "      <th>item_idx</th>\n",
              "      <th>item_desc</th>\n",
              "      <th>label</th>\n",
              "      <th>pred</th>\n",
              "    </tr>\n",
              "  </thead>\n",
              "  <tbody>\n",
              "    <tr>\n",
              "      <th>0</th>\n",
              "      <td>4</td>\n",
              "      <td>2336</td>\n",
              "      <td>Given a male user who is aged 35-44 and a trad...</td>\n",
              "      <td>2922</td>\n",
              "      <td>Hang 'em High is a classic Western film releas...</td>\n",
              "      <td>0</td>\n",
              "      <td>0.780129</td>\n",
              "    </tr>\n",
              "    <tr>\n",
              "      <th>1</th>\n",
              "      <td>18</td>\n",
              "      <td>1034</td>\n",
              "      <td>Given a female user who is aged 35-44 and an a...</td>\n",
              "      <td>924</td>\n",
              "      <td>2001: A Space Odyssey is a science fiction fil...</td>\n",
              "      <td>0</td>\n",
              "      <td>0.717540</td>\n",
              "    </tr>\n",
              "    <tr>\n",
              "      <th>2</th>\n",
              "      <td>24</td>\n",
              "      <td>1034</td>\n",
              "      <td>Given a female user who is aged 35-44 and an a...</td>\n",
              "      <td>1608</td>\n",
              "      <td>Air Force One is a 1997 action-thriller film d...</td>\n",
              "      <td>0</td>\n",
              "      <td>0.551879</td>\n",
              "    </tr>\n",
              "    <tr>\n",
              "      <th>3</th>\n",
              "      <td>29</td>\n",
              "      <td>1034</td>\n",
              "      <td>Given a female user who is aged 35-44 and an a...</td>\n",
              "      <td>3217</td>\n",
              "      <td>\"A Star is Born\" is a 1937 American drama film...</td>\n",
              "      <td>1</td>\n",
              "      <td>0.386345</td>\n",
              "    </tr>\n",
              "    <tr>\n",
              "      <th>4</th>\n",
              "      <td>31</td>\n",
              "      <td>1034</td>\n",
              "      <td>Given a female user who is aged 35-44 and an a...</td>\n",
              "      <td>1617</td>\n",
              "      <td>L.A. Confidential is a neo-noir crime film dir...</td>\n",
              "      <td>0</td>\n",
              "      <td>0.825905</td>\n",
              "    </tr>\n",
              "    <tr>\n",
              "      <th>...</th>\n",
              "      <td>...</td>\n",
              "      <td>...</td>\n",
              "      <td>...</td>\n",
              "      <td>...</td>\n",
              "      <td>...</td>\n",
              "      <td>...</td>\n",
              "      <td>...</td>\n",
              "    </tr>\n",
              "    <tr>\n",
              "      <th>807</th>\n",
              "      <td>2540</td>\n",
              "      <td>550</td>\n",
              "      <td>Given a male user who is aged 45-49 and a farm...</td>\n",
              "      <td>2599</td>\n",
              "      <td>Election is a satirical comedy-drama film rele...</td>\n",
              "      <td>0</td>\n",
              "      <td>0.800991</td>\n",
              "    </tr>\n",
              "    <tr>\n",
              "      <th>808</th>\n",
              "      <td>2541</td>\n",
              "      <td>550</td>\n",
              "      <td>Given a male user who is aged 45-49 and a farm...</td>\n",
              "      <td>1948</td>\n",
              "      <td>Tom Jones is a British comedy-drama film relea...</td>\n",
              "      <td>0</td>\n",
              "      <td>0.708786</td>\n",
              "    </tr>\n",
              "    <tr>\n",
              "      <th>809</th>\n",
              "      <td>2547</td>\n",
              "      <td>550</td>\n",
              "      <td>Given a male user who is aged 45-49 and a farm...</td>\n",
              "      <td>1028</td>\n",
              "      <td>Mary Poppins is a classic musical movie releas...</td>\n",
              "      <td>0</td>\n",
              "      <td>0.813044</td>\n",
              "    </tr>\n",
              "    <tr>\n",
              "      <th>810</th>\n",
              "      <td>2555</td>\n",
              "      <td>550</td>\n",
              "      <td>Given a male user who is aged 45-49 and a farm...</td>\n",
              "      <td>2926</td>\n",
              "      <td>Hairspray is a musical comedy film directed by...</td>\n",
              "      <td>0</td>\n",
              "      <td>0.712927</td>\n",
              "    </tr>\n",
              "    <tr>\n",
              "      <th>811</th>\n",
              "      <td>2557</td>\n",
              "      <td>550</td>\n",
              "      <td>Given a male user who is aged 45-49 and a farm...</td>\n",
              "      <td>2791</td>\n",
              "      <td>Airplane! is a classic comedy film released in...</td>\n",
              "      <td>0</td>\n",
              "      <td>0.822909</td>\n",
              "    </tr>\n",
              "  </tbody>\n",
              "</table>\n",
              "<p>812 rows × 7 columns</p>\n",
              "</div>\n",
              "    <div class=\"colab-df-buttons\">\n",
              "\n",
              "  <div class=\"colab-df-container\">\n",
              "    <button class=\"colab-df-convert\" onclick=\"convertToInteractive('df-b27f38b7-16ac-4330-91a0-45f46371b9d8')\"\n",
              "            title=\"Convert this dataframe to an interactive table.\"\n",
              "            style=\"display:none;\">\n",
              "\n",
              "  <svg xmlns=\"http://www.w3.org/2000/svg\" height=\"24px\" viewBox=\"0 -960 960 960\">\n",
              "    <path d=\"M120-120v-720h720v720H120Zm60-500h600v-160H180v160Zm220 220h160v-160H400v160Zm0 220h160v-160H400v160ZM180-400h160v-160H180v160Zm440 0h160v-160H620v160ZM180-180h160v-160H180v160Zm440 0h160v-160H620v160Z\"/>\n",
              "  </svg>\n",
              "    </button>\n",
              "\n",
              "  <style>\n",
              "    .colab-df-container {\n",
              "      display:flex;\n",
              "      gap: 12px;\n",
              "    }\n",
              "\n",
              "    .colab-df-convert {\n",
              "      background-color: #E8F0FE;\n",
              "      border: none;\n",
              "      border-radius: 50%;\n",
              "      cursor: pointer;\n",
              "      display: none;\n",
              "      fill: #1967D2;\n",
              "      height: 32px;\n",
              "      padding: 0 0 0 0;\n",
              "      width: 32px;\n",
              "    }\n",
              "\n",
              "    .colab-df-convert:hover {\n",
              "      background-color: #E2EBFA;\n",
              "      box-shadow: 0px 1px 2px rgba(60, 64, 67, 0.3), 0px 1px 3px 1px rgba(60, 64, 67, 0.15);\n",
              "      fill: #174EA6;\n",
              "    }\n",
              "\n",
              "    .colab-df-buttons div {\n",
              "      margin-bottom: 4px;\n",
              "    }\n",
              "\n",
              "    [theme=dark] .colab-df-convert {\n",
              "      background-color: #3B4455;\n",
              "      fill: #D2E3FC;\n",
              "    }\n",
              "\n",
              "    [theme=dark] .colab-df-convert:hover {\n",
              "      background-color: #434B5C;\n",
              "      box-shadow: 0px 1px 3px 1px rgba(0, 0, 0, 0.15);\n",
              "      filter: drop-shadow(0px 1px 2px rgba(0, 0, 0, 0.3));\n",
              "      fill: #FFFFFF;\n",
              "    }\n",
              "  </style>\n",
              "\n",
              "    <script>\n",
              "      const buttonEl =\n",
              "        document.querySelector('#df-b27f38b7-16ac-4330-91a0-45f46371b9d8 button.colab-df-convert');\n",
              "      buttonEl.style.display =\n",
              "        google.colab.kernel.accessAllowed ? 'block' : 'none';\n",
              "\n",
              "      async function convertToInteractive(key) {\n",
              "        const element = document.querySelector('#df-b27f38b7-16ac-4330-91a0-45f46371b9d8');\n",
              "        const dataTable =\n",
              "          await google.colab.kernel.invokeFunction('convertToInteractive',\n",
              "                                                    [key], {});\n",
              "        if (!dataTable) return;\n",
              "\n",
              "        const docLinkHtml = 'Like what you see? Visit the ' +\n",
              "          '<a target=\"_blank\" href=https://colab.research.google.com/notebooks/data_table.ipynb>data table notebook</a>'\n",
              "          + ' to learn more about interactive tables.';\n",
              "        element.innerHTML = '';\n",
              "        dataTable['output_type'] = 'display_data';\n",
              "        await google.colab.output.renderOutput(dataTable, element);\n",
              "        const docLink = document.createElement('div');\n",
              "        docLink.innerHTML = docLinkHtml;\n",
              "        element.appendChild(docLink);\n",
              "      }\n",
              "    </script>\n",
              "  </div>\n",
              "\n",
              "\n",
              "<div id=\"df-92d37841-c71d-464c-a407-d032368e18c4\">\n",
              "  <button class=\"colab-df-quickchart\" onclick=\"quickchart('df-92d37841-c71d-464c-a407-d032368e18c4')\"\n",
              "            title=\"Suggest charts\"\n",
              "            style=\"display:none;\">\n",
              "\n",
              "<svg xmlns=\"http://www.w3.org/2000/svg\" height=\"24px\"viewBox=\"0 0 24 24\"\n",
              "     width=\"24px\">\n",
              "    <g>\n",
              "        <path d=\"M19 3H5c-1.1 0-2 .9-2 2v14c0 1.1.9 2 2 2h14c1.1 0 2-.9 2-2V5c0-1.1-.9-2-2-2zM9 17H7v-7h2v7zm4 0h-2V7h2v10zm4 0h-2v-4h2v4z\"/>\n",
              "    </g>\n",
              "</svg>\n",
              "  </button>\n",
              "\n",
              "<style>\n",
              "  .colab-df-quickchart {\n",
              "      --bg-color: #E8F0FE;\n",
              "      --fill-color: #1967D2;\n",
              "      --hover-bg-color: #E2EBFA;\n",
              "      --hover-fill-color: #174EA6;\n",
              "      --disabled-fill-color: #AAA;\n",
              "      --disabled-bg-color: #DDD;\n",
              "  }\n",
              "\n",
              "  [theme=dark] .colab-df-quickchart {\n",
              "      --bg-color: #3B4455;\n",
              "      --fill-color: #D2E3FC;\n",
              "      --hover-bg-color: #434B5C;\n",
              "      --hover-fill-color: #FFFFFF;\n",
              "      --disabled-bg-color: #3B4455;\n",
              "      --disabled-fill-color: #666;\n",
              "  }\n",
              "\n",
              "  .colab-df-quickchart {\n",
              "    background-color: var(--bg-color);\n",
              "    border: none;\n",
              "    border-radius: 50%;\n",
              "    cursor: pointer;\n",
              "    display: none;\n",
              "    fill: var(--fill-color);\n",
              "    height: 32px;\n",
              "    padding: 0;\n",
              "    width: 32px;\n",
              "  }\n",
              "\n",
              "  .colab-df-quickchart:hover {\n",
              "    background-color: var(--hover-bg-color);\n",
              "    box-shadow: 0 1px 2px rgba(60, 64, 67, 0.3), 0 1px 3px 1px rgba(60, 64, 67, 0.15);\n",
              "    fill: var(--button-hover-fill-color);\n",
              "  }\n",
              "\n",
              "  .colab-df-quickchart-complete:disabled,\n",
              "  .colab-df-quickchart-complete:disabled:hover {\n",
              "    background-color: var(--disabled-bg-color);\n",
              "    fill: var(--disabled-fill-color);\n",
              "    box-shadow: none;\n",
              "  }\n",
              "\n",
              "  .colab-df-spinner {\n",
              "    border: 2px solid var(--fill-color);\n",
              "    border-color: transparent;\n",
              "    border-bottom-color: var(--fill-color);\n",
              "    animation:\n",
              "      spin 1s steps(1) infinite;\n",
              "  }\n",
              "\n",
              "  @keyframes spin {\n",
              "    0% {\n",
              "      border-color: transparent;\n",
              "      border-bottom-color: var(--fill-color);\n",
              "      border-left-color: var(--fill-color);\n",
              "    }\n",
              "    20% {\n",
              "      border-color: transparent;\n",
              "      border-left-color: var(--fill-color);\n",
              "      border-top-color: var(--fill-color);\n",
              "    }\n",
              "    30% {\n",
              "      border-color: transparent;\n",
              "      border-left-color: var(--fill-color);\n",
              "      border-top-color: var(--fill-color);\n",
              "      border-right-color: var(--fill-color);\n",
              "    }\n",
              "    40% {\n",
              "      border-color: transparent;\n",
              "      border-right-color: var(--fill-color);\n",
              "      border-top-color: var(--fill-color);\n",
              "    }\n",
              "    60% {\n",
              "      border-color: transparent;\n",
              "      border-right-color: var(--fill-color);\n",
              "    }\n",
              "    80% {\n",
              "      border-color: transparent;\n",
              "      border-right-color: var(--fill-color);\n",
              "      border-bottom-color: var(--fill-color);\n",
              "    }\n",
              "    90% {\n",
              "      border-color: transparent;\n",
              "      border-bottom-color: var(--fill-color);\n",
              "    }\n",
              "  }\n",
              "</style>\n",
              "\n",
              "  <script>\n",
              "    async function quickchart(key) {\n",
              "      const quickchartButtonEl =\n",
              "        document.querySelector('#' + key + ' button');\n",
              "      quickchartButtonEl.disabled = true;  // To prevent multiple clicks.\n",
              "      quickchartButtonEl.classList.add('colab-df-spinner');\n",
              "      try {\n",
              "        const charts = await google.colab.kernel.invokeFunction(\n",
              "            'suggestCharts', [key], {});\n",
              "      } catch (error) {\n",
              "        console.error('Error during call to suggestCharts:', error);\n",
              "      }\n",
              "      quickchartButtonEl.classList.remove('colab-df-spinner');\n",
              "      quickchartButtonEl.classList.add('colab-df-quickchart-complete');\n",
              "    }\n",
              "    (() => {\n",
              "      let quickchartButtonEl =\n",
              "        document.querySelector('#df-92d37841-c71d-464c-a407-d032368e18c4 button');\n",
              "      quickchartButtonEl.style.display =\n",
              "        google.colab.kernel.accessAllowed ? 'block' : 'none';\n",
              "    })();\n",
              "  </script>\n",
              "</div>\n",
              "\n",
              "  <div id=\"id_16c113cf-6f7a-4f36-aea1-5225eeb0b9e8\">\n",
              "    <style>\n",
              "      .colab-df-generate {\n",
              "        background-color: #E8F0FE;\n",
              "        border: none;\n",
              "        border-radius: 50%;\n",
              "        cursor: pointer;\n",
              "        display: none;\n",
              "        fill: #1967D2;\n",
              "        height: 32px;\n",
              "        padding: 0 0 0 0;\n",
              "        width: 32px;\n",
              "      }\n",
              "\n",
              "      .colab-df-generate:hover {\n",
              "        background-color: #E2EBFA;\n",
              "        box-shadow: 0px 1px 2px rgba(60, 64, 67, 0.3), 0px 1px 3px 1px rgba(60, 64, 67, 0.15);\n",
              "        fill: #174EA6;\n",
              "      }\n",
              "\n",
              "      [theme=dark] .colab-df-generate {\n",
              "        background-color: #3B4455;\n",
              "        fill: #D2E3FC;\n",
              "      }\n",
              "\n",
              "      [theme=dark] .colab-df-generate:hover {\n",
              "        background-color: #434B5C;\n",
              "        box-shadow: 0px 1px 3px 1px rgba(0, 0, 0, 0.15);\n",
              "        filter: drop-shadow(0px 1px 2px rgba(0, 0, 0, 0.3));\n",
              "        fill: #FFFFFF;\n",
              "      }\n",
              "    </style>\n",
              "    <button class=\"colab-df-generate\" onclick=\"generateWithVariable('df_results')\"\n",
              "            title=\"Generate code using this dataframe.\"\n",
              "            style=\"display:none;\">\n",
              "\n",
              "  <svg xmlns=\"http://www.w3.org/2000/svg\" height=\"24px\"viewBox=\"0 0 24 24\"\n",
              "       width=\"24px\">\n",
              "    <path d=\"M7,19H8.4L18.45,9,17,7.55,7,17.6ZM5,21V16.75L18.45,3.32a2,2,0,0,1,2.83,0l1.4,1.43a1.91,1.91,0,0,1,.58,1.4,1.91,1.91,0,0,1-.58,1.4L9.25,21ZM18.45,9,17,7.55Zm-12,3A5.31,5.31,0,0,0,4.9,8.1,5.31,5.31,0,0,0,1,6.5,5.31,5.31,0,0,0,4.9,4.9,5.31,5.31,0,0,0,6.5,1,5.31,5.31,0,0,0,8.1,4.9,5.31,5.31,0,0,0,12,6.5,5.46,5.46,0,0,0,6.5,12Z\"/>\n",
              "  </svg>\n",
              "    </button>\n",
              "    <script>\n",
              "      (() => {\n",
              "      const buttonEl =\n",
              "        document.querySelector('#id_16c113cf-6f7a-4f36-aea1-5225eeb0b9e8 button.colab-df-generate');\n",
              "      buttonEl.style.display =\n",
              "        google.colab.kernel.accessAllowed ? 'block' : 'none';\n",
              "\n",
              "      buttonEl.onclick = () => {\n",
              "        google.colab.notebook.generateWithVariable('df_results');\n",
              "      }\n",
              "      })();\n",
              "    </script>\n",
              "  </div>\n",
              "\n",
              "    </div>\n",
              "  </div>\n"
            ],
            "text/plain": [
              "     test_index user_idx                                          user_hist  \\\n",
              "0             4     2336  Given a male user who is aged 35-44 and a trad...   \n",
              "1            18     1034  Given a female user who is aged 35-44 and an a...   \n",
              "2            24     1034  Given a female user who is aged 35-44 and an a...   \n",
              "3            29     1034  Given a female user who is aged 35-44 and an a...   \n",
              "4            31     1034  Given a female user who is aged 35-44 and an a...   \n",
              "..          ...      ...                                                ...   \n",
              "807        2540      550  Given a male user who is aged 45-49 and a farm...   \n",
              "808        2541      550  Given a male user who is aged 45-49 and a farm...   \n",
              "809        2547      550  Given a male user who is aged 45-49 and a farm...   \n",
              "810        2555      550  Given a male user who is aged 45-49 and a farm...   \n",
              "811        2557      550  Given a male user who is aged 45-49 and a farm...   \n",
              "\n",
              "    item_idx                                          item_desc  label  \\\n",
              "0       2922  Hang 'em High is a classic Western film releas...      0   \n",
              "1        924  2001: A Space Odyssey is a science fiction fil...      0   \n",
              "2       1608  Air Force One is a 1997 action-thriller film d...      0   \n",
              "3       3217  \"A Star is Born\" is a 1937 American drama film...      1   \n",
              "4       1617  L.A. Confidential is a neo-noir crime film dir...      0   \n",
              "..       ...                                                ...    ...   \n",
              "807     2599  Election is a satirical comedy-drama film rele...      0   \n",
              "808     1948  Tom Jones is a British comedy-drama film relea...      0   \n",
              "809     1028  Mary Poppins is a classic musical movie releas...      0   \n",
              "810     2926  Hairspray is a musical comedy film directed by...      0   \n",
              "811     2791  Airplane! is a classic comedy film released in...      0   \n",
              "\n",
              "         pred  \n",
              "0    0.780129  \n",
              "1    0.717540  \n",
              "2    0.551879  \n",
              "3    0.386345  \n",
              "4    0.825905  \n",
              "..        ...  \n",
              "807  0.800991  \n",
              "808  0.708786  \n",
              "809  0.813044  \n",
              "810  0.712927  \n",
              "811  0.822909  \n",
              "\n",
              "[812 rows x 7 columns]"
            ]
          },
          "execution_count": 129,
          "metadata": {},
          "output_type": "execute_result"
        }
      ],
      "source": [
        "data_list = []\n",
        "for i in mistake_indexes:\n",
        "    data = test_set[i]\n",
        "    user_idx, user_hist = get_user_hist(data['hist_aug_vec'], hist_idxes)\n",
        "    item_idx, item_desc = get_item_desc(data['item_aug_vec'], item_idxes)\n",
        "    label = labels[i]\n",
        "    pred = preds[i][0]\n",
        "    data_list.append({'test_index': i, 'user_idx': user_idx, 'user_hist': user_hist, 'item_idx': item_idx, 'item_desc': item_desc, 'label': label, 'pred': pred})\n",
        "\n",
        "df_results = pd.DataFrame(data_list)\n",
        "df_results\n"
      ]
    },
    {
      "cell_type": "code",
      "execution_count": 177,
      "metadata": {
        "id": "bfITGTH1CCwZ"
      },
      "outputs": [],
      "source": [
        "# df_results = pd.read_csv('/content/train_preds_labels.csv')\n",
        "# df_results.to_csv('train_preds_labels.csv')"
      ]
    },
    {
      "cell_type": "markdown",
      "metadata": {
        "id": "Yi4fN9plfhhL"
      },
      "source": [
        "## Encoding the text to vectors with BERT"
      ]
    },
    {
      "cell_type": "code",
      "execution_count": 131,
      "metadata": {
        "id": "JKtRGZS9fhhL"
      },
      "outputs": [],
      "source": [
        "from transformers import AutoTokenizer, AutoModel\n",
        "from torch.utils.data import DataLoader\n",
        "from lm_encoding import inference\n",
        "\n",
        "tokenizer = AutoTokenizer.from_pretrained('bert-base-uncased',  trust_remote_code=True)\n",
        "encoding_model = AutoModel.from_pretrained('bert-base-uncased',  trust_remote_code=True).half().cuda()"
      ]
    },
    {
      "cell_type": "markdown",
      "metadata": {
        "id": "R3wbEZ-GfhhL"
      },
      "source": [
        "### Validating the encoder"
      ]
    },
    {
      "cell_type": "code",
      "execution_count": 132,
      "metadata": {
        "id": "whvxF5CtfhhM"
      },
      "outputs": [],
      "source": [
        "items = df_results['item_desc'].tolist()\n",
        "item_loader = DataLoader(items[:4], 1, shuffle=False)"
      ]
    },
    {
      "cell_type": "code",
      "execution_count": 133,
      "metadata": {
        "id": "ROGPQjd5fhhM"
      },
      "outputs": [],
      "source": [
        "users = df_results['user_hist'].tolist()\n",
        "user_loader = DataLoader(users[:1], 1, shuffle=False)"
      ]
    },
    {
      "cell_type": "code",
      "execution_count": 134,
      "metadata": {
        "colab": {
          "base_uri": "https://localhost:8080/"
        },
        "id": "gYFHfLJrfhhM",
        "outputId": "b0b9e106-e175-46ca-9266-099c24dec5f0"
      },
      "outputs": [
        {
          "name": "stderr",
          "output_type": "stream",
          "text": [
            "100%|██████████| 4/4 [00:00<00:00, 21.40it/s]\n"
          ]
        },
        {
          "data": {
            "text/plain": [
              "4"
            ]
          },
          "execution_count": 134,
          "metadata": {},
          "output_type": "execute_result"
        }
      ],
      "source": [
        "new_item_vec = inference(encoding_model, tokenizer, item_loader, 'bert', 'avg')\n",
        "len(new_item_vec)"
      ]
    },
    {
      "cell_type": "code",
      "execution_count": 135,
      "metadata": {
        "colab": {
          "base_uri": "https://localhost:8080/"
        },
        "id": "qKNYzzBQfhhM",
        "outputId": "ef868271-0a1a-4563-8ca6-697ff04fe002"
      },
      "outputs": [
        {
          "name": "stderr",
          "output_type": "stream",
          "text": [
            "100%|██████████| 1/1 [00:00<00:00, 29.97it/s]\n"
          ]
        },
        {
          "data": {
            "text/plain": [
              "1"
            ]
          },
          "execution_count": 135,
          "metadata": {},
          "output_type": "execute_result"
        }
      ],
      "source": [
        "new_user_vec = inference(encoding_model, tokenizer, user_loader, 'bert', 'avg')\n",
        "len(new_user_vec)"
      ]
    },
    {
      "cell_type": "code",
      "execution_count": 136,
      "metadata": {
        "colab": {
          "base_uri": "https://localhost:8080/"
        },
        "id": "_jCjDlV_fhhM",
        "outputId": "d6facfcb-1a38-4178-bf92-0a40e64ae6f8"
      },
      "outputs": [
        {
          "data": {
            "text/plain": [
              "4"
            ]
          },
          "execution_count": 136,
          "metadata": {},
          "output_type": "execute_result"
        }
      ],
      "source": [
        "n_item_vec = [i for i in new_item_vec]\n",
        "len(n_item_vec)"
      ]
    },
    {
      "cell_type": "code",
      "execution_count": 137,
      "metadata": {
        "colab": {
          "base_uri": "https://localhost:8080/"
        },
        "id": "9e6xUo8AfhhM",
        "outputId": "c98868ce-e21d-4c95-9e89-867d221fd23c"
      },
      "outputs": [
        {
          "name": "stdout",
          "output_type": "stream",
          "text": [
            "0.003536781410996269\n",
            "0.003649090919045039\n",
            "0.0034479879603599322\n",
            "0.0040963562191398675\n"
          ]
        }
      ],
      "source": [
        "for i in range(4):\n",
        "    a = np.array(item_vec_dict[str(df_results['item_idx'][i])])\n",
        "    b = np.array(new_item_vec[i])\n",
        "    print(np.linalg.norm(a - b))"
      ]
    },
    {
      "cell_type": "code",
      "execution_count": 138,
      "metadata": {
        "colab": {
          "base_uri": "https://localhost:8080/"
        },
        "id": "csLfDoJAfhhN",
        "outputId": "9af353b4-7fc5-4c3f-a888-ef3aba8f7e9a"
      },
      "outputs": [
        {
          "name": "stdout",
          "output_type": "stream",
          "text": [
            "0.003975717616505557\n"
          ]
        }
      ],
      "source": [
        "for i in range(1):\n",
        "    a = np.array(user_vec_dict[str(df_results['user_idx'][i])])\n",
        "    b = np.array(new_user_vec[i])\n",
        "    print(np.linalg.norm(a - b))"
      ]
    },
    {
      "cell_type": "markdown",
      "metadata": {
        "id": "wGhTiL_lfhhN"
      },
      "source": [
        "## Creating a Simple Reflexion Mechanism"
      ]
    },
    {
      "cell_type": "code",
      "execution_count": 139,
      "metadata": {
        "colab": {
          "base_uri": "https://localhost:8080/"
        },
        "id": "iGjX0sjmfhhN",
        "outputId": "731fdede-114b-483f-f4d6-3893e3677878"
      },
      "outputs": [
        {
          "data": {
            "text/plain": [
              "True"
            ]
          },
          "execution_count": 139,
          "metadata": {},
          "output_type": "execute_result"
        }
      ],
      "source": [
        "import datetime\n",
        "import os\n",
        "from langchain_groq import ChatGroq\n",
        "\n",
        "from langchain_core.prompts import ChatPromptTemplate, MessagesPlaceholder\n",
        "from langchain_core.pydantic_v1 import BaseModel, Field, ValidationError\n",
        "from langchain_openai import ChatOpenAI\n",
        "from langsmith import traceable\n",
        "\n",
        "from collections import defaultdict\n",
        "from typing import List\n",
        "\n",
        "from langchain.output_parsers.openai_tools import (\n",
        "    JsonOutputToolsParser,\n",
        "    PydanticToolsParser,\n",
        ")\n",
        "from langchain_core.messages import AIMessage, BaseMessage, HumanMessage, ToolMessage\n",
        "from langgraph.prebuilt.tool_executor import ToolExecutor, ToolInvocation\n",
        "\n",
        "from dotenv import load_dotenv\n",
        "load_dotenv(Path.cwd().joinpath('.env'))\n"
      ]
    },
    {
      "cell_type": "code",
      "execution_count": 140,
      "metadata": {
        "id": "2oLqfDV6fhhN"
      },
      "outputs": [],
      "source": [
        "parser = JsonOutputToolsParser(return_id=True)"
      ]
    },
    {
      "cell_type": "code",
      "execution_count": 141,
      "metadata": {
        "id": "igfI9rynfhhN"
      },
      "outputs": [],
      "source": [
        "actor_prompt_template = ChatPromptTemplate.from_messages(\n",
        "    [\n",
        "        (\n",
        "            \"system\",\n",
        "            \"\"\"You are expert researcher.\n",
        "            Current time: {time}\n",
        "\n",
        "            1. {first_instruction}\n",
        "            2. Reflect and critique your answer. Be severe to maximize improvement.\n",
        "            3. Recommend search queries to research information and improve your answer.\"\"\",\n",
        "        ),\n",
        "            MessagesPlaceholder(variable_name=\"messages\"),\n",
        "            (\"system\", \"Answer the user's question above using the required format.\"),\n",
        "        ]\n",
        ").partial(\n",
        "    time=lambda: datetime.datetime.now().isoformat(),\n",
        ")\n",
        "\n",
        "\n",
        "class Reflection(BaseModel):\n",
        "    missing: str = Field(description=\"Critique of what is missing.\")\n",
        "    superfluous: str = Field(description=\"Critique of what is superfluous\")\n",
        "\n",
        "\n",
        "class AnswerQuestion(BaseModel):\n",
        "    \"\"\"Answer the question.\"\"\"\n",
        "\n",
        "    answer: str = Field(description=\"~250 word detailed answer to the question.\")\n",
        "    reflection: Reflection = Field(description=\"Your reflection on the initial answer.\")\n",
        "    search_queries: List[str] = Field(\n",
        "        description=\"1-3 search queries for researching improvements to address the critique of your current answer.\"\n",
        "    )"
      ]
    },
    {
      "cell_type": "code",
      "execution_count": 142,
      "metadata": {
        "id": "NIE5rm2HfhhO"
      },
      "outputs": [],
      "source": [
        "llm = ChatGroq(groq_api_key = os.getenv('GROQ_API_KEY'),model = 'llama3-8b-8192')\n",
        "# llm = ChatOpenAI(api_key=os.getenv('OPENAI_API_KEY'), model='gpt-4-turbo-2024-04-09')\n",
        "\n",
        "initial_answer_chain = actor_prompt_template.partial(\n",
        "    first_instruction=\"Provide a detailed answer.\"\n",
        ") | llm.bind_tools(tools=[AnswerQuestion], tool_choice=\"AnswerQuestion\")\n",
        "validator = PydanticToolsParser(tools=[AnswerQuestion])"
      ]
    },
    {
      "cell_type": "code",
      "execution_count": 143,
      "metadata": {
        "id": "FcX1_qRDfhhO"
      },
      "outputs": [],
      "source": [
        "class ResponderWithRetries:\n",
        "    def __init__(self, runnable, validator):\n",
        "        self.runnable = runnable\n",
        "        self.validator = validator\n",
        "\n",
        "    @traceable\n",
        "    def respond(self, state: List[BaseMessage]):\n",
        "        response = []\n",
        "        for attempt in range(3):\n",
        "            try:\n",
        "                response = self.runnable.invoke({\"messages\": state})\n",
        "                self.validator.invoke(response)\n",
        "                return response\n",
        "            except ValidationError as e:\n",
        "                state = state + [HumanMessage(content=repr(e))]\n",
        "        return response\n",
        "\n",
        "first_responder = ResponderWithRetries(\n",
        "    runnable=initial_answer_chain, validator=validator\n",
        ")"
      ]
    },
    {
      "cell_type": "code",
      "execution_count": 144,
      "metadata": {
        "colab": {
          "base_uri": "https://localhost:8080/",
          "height": 122
        },
        "id": "YsNLOWkufhhO",
        "outputId": "e0a2eece-dcc3-4ac5-ac75-896ffeeb06b3"
      },
      "outputs": [
        {
          "data": {
            "application/vnd.google.colaboratory.intrinsic+json": {
              "type": "string"
            },
            "text/plain": [
              "'Given a male user who is aged 35-44 and a tradesman/craftsman, this user\\'s movie viewing history over time is listed below. Last of the Mohicans, The (1992), 4 stars; Unforgiven (1992), 5 stars; Pale Rider (1985), 5 stars; Gattaca (1997), 2 stars; Legends of the Fall (1994), 5 stars; Milk Money (1994), 3 stars; Kelly\\'s Heroes (1970), 4 stars; One Flew Over the Cuckoo\\'s Nest (1975), 4 stars; Star Wars: Episode V - The Empire Strikes Back (1980), 3 stars; Raiders of the Lost Ark (1981), 4 stars. Based on the user\\'s movie viewing history, it seems that he enjoys action and adventure movies with strong male leads. The user has given high ratings to movies like \"Unforgiven,\" \"Pale Rider,\" and \"Legends of the Fall,\" which all feature rugged, tough male protagonists. The user also enjoys classic war movies like \"Kelly\\'s Heroes\" and \"Raiders of the Lost Ark,\" both of which have strong male leads.\\n\\nHowever, the user also seems to appreciate movies with more complex themes and characters. \"One Flew Over the Cuckoo\\'s Nest\" is a classic film that explores mental illness and institutionalization, while \"Gattaca\" deals with issues of genetic engineering and discrimination. These movies may appeal to the user\\'s intellectual side.\\n\\nThe user\\'s lower rating for \"Star Wars: Episode V - The Empire Strikes Back\" may suggest that he is not a huge fan of sci-fi or fantasy movies. However, the user may still enjoy action-driven movies like \"Star Wars\" as long as they have strong male leads and a compelling plot.\\n\\nOverall, the user seems to prefer movies with strong male leads, action and adventure, complex themes and characters, and high production quality. The user may also appreciate movies with critical acclaim or awards, as many of the movies in his viewing history have received positive reviews and recognition.'"
            ]
          },
          "execution_count": 144,
          "metadata": {},
          "output_type": "execute_result"
        }
      ],
      "source": [
        "df_results.iloc[0]['user_hist']"
      ]
    },
    {
      "cell_type": "code",
      "execution_count": 145,
      "metadata": {
        "colab": {
          "base_uri": "https://localhost:8080/"
        },
        "id": "G6ent7jolO_u",
        "outputId": "232eaa8b-b35b-4150-8960-adaef1558f3c"
      },
      "outputs": [
        {
          "data": {
            "text/plain": [
              "1"
            ]
          },
          "execution_count": 145,
          "metadata": {},
          "output_type": "execute_result"
        }
      ],
      "source": [
        "round(df_results['pred'][0])"
      ]
    },
    {
      "cell_type": "code",
      "execution_count": 146,
      "metadata": {
        "id": "DcCzdLobfhhO"
      },
      "outputs": [],
      "source": [
        "def generate_prompt_from_df(row):\n",
        "    user_hist = row['user_hist']\n",
        "    item_desc = row['item_desc']\n",
        "    real_label = row['label']\n",
        "    pred = round(row['pred'])\n",
        "    prompt =    f\"\"\"User has the following history: {user_hist}.\n",
        "                    Item has the following description: {item_desc}.\n",
        "                    A mistake was made in the model's prediction.\n",
        "                    The real label is {real_label} and the model predicted {pred}.\n",
        "                    How would you rephrase the user history and item description to improve the model's prediction?\n",
        "                    Answer formst should like this:\n",
        "                    Revised User History: <revised user history> \\n\\n\n",
        "                    Revised Item Description: <revised item description>\n",
        "                    use two lines at the end of user history and at the end of item description.\n",
        "                    Remember that your new rephrasing should help the model to predict better next time but without overfitting\"\"\"\n",
        "    return prompt"
      ]
    },
    {
      "cell_type": "code",
      "execution_count": 147,
      "metadata": {
        "id": "PnhjoacBfhhP"
      },
      "outputs": [],
      "source": [
        "# def generate_prompt_from_df(df_restuls,idx):\n",
        "#     user_hist = df_restuls['user_hist'][idx]\n",
        "#     item_desc = df_restuls['item_desc'][idx]\n",
        "#     real_label = df_restuls['label'][idx]\n",
        "#     pred = df_restuls['pred'][idx]\n",
        "\n",
        "#     prompt =    f\"\"\"Task:Rephrase the user history and item description to better match the prediction to the actual label. Assume that the model's prediction is either a match or a mismatch to the label, and modify the descriptions to improve the fit between user preferences (as inferred from the user history) and the characteristics of the movie (as described in the item description).\n",
        "\n",
        "#                 Output Format:\n",
        "#                 Revised User History:\n",
        "#                 Try to rephrase the user history to better reflect the user's preferences.\n",
        "#                 You can adjust the length, tone, and content of the user history to better align with the user's likely interests.\n",
        "#                 Finish the Revised User History with ;\n",
        "#                 Revised Item Description:\n",
        "#                 The item description should be rephrased to highlight aspects of the movie that are more aligned with the user's adjusted preferences.\n",
        "#                 Key elements to focus on might include genre, notable performances, thematic elements, and any particular production features.\n",
        "#                 Finish the Revised User Item Description with ;\n",
        "\n",
        "#                 Here is the user history: {user_hist}.\n",
        "#                 Here is the item description: {item_desc}.\n",
        "#                 A mistake was made in the model's prediction.\n",
        "#                 The real label is {real_label} and the model predicted {pred}.\n",
        "#                 How would you rephrase the user history and item description to improve the model's prediction?\n",
        "\n",
        "#                 \"\"\"\n",
        "#     return prompt"
      ]
    },
    {
      "cell_type": "code",
      "execution_count": 148,
      "metadata": {
        "id": "_uc45TosfhhP"
      },
      "outputs": [],
      "source": [
        "def llm_revised_prompt(prompt_text):\n",
        "    system = \"You are a helpful assistant.\"\n",
        "    human = \"{text}\"\n",
        "    prompt = ChatPromptTemplate.from_messages([(\"system\", system), (\"human\", human)])\n",
        "\n",
        "    chain = prompt | llm\n",
        "    initial = chain.invoke({\"text\": prompt_text})\n",
        "    return initial"
      ]
    },
    {
      "cell_type": "code",
      "execution_count": 149,
      "metadata": {
        "id": "4vnA-S5ZfhhP"
      },
      "outputs": [],
      "source": [
        "def extract_revised_prompt(initial):\n",
        "  revised_prompt = initial.content + \";\"\n",
        "  # String containing the revised User History and Revised Item Description\n",
        "  # Extracting the revised User History\n",
        "  user_history = re.search(r\"Revised User History:\\n(.*?)\\n\\n\", revised_prompt, re.DOTALL)\n",
        "  if user_history:\n",
        "      user_history = user_history.group(1).strip()\n",
        "\n",
        "  # Extracting the Revised Item Description\n",
        "  item_description = re.search(r\"Revised Item Description:\\n(.*?);\", revised_prompt, re.DOTALL)\n",
        "  if item_description:\n",
        "      item_description = item_description.group(1).strip()\n",
        "\n",
        "  # Printing the extracted information\n",
        "  # print(\"Revised User History:\", user_history)\n",
        "  # print(\"Revised Item Description:\", item_description)\n",
        "  return user_history, item_description\n"
      ]
    },
    {
      "cell_type": "code",
      "execution_count": 150,
      "metadata": {
        "id": "3ydQBhVQn1l7"
      },
      "outputs": [],
      "source": [
        "def reflect_prompt(row):\n",
        "    prompt = generate_prompt_from_df(row)\n",
        "    initial = llm_revised_prompt(prompt)\n",
        "    user_history, item_description = extract_revised_prompt(initial)\n",
        "    return user_history, item_description, initial.content"
      ]
    },
    {
      "cell_type": "code",
      "execution_count": 179,
      "metadata": {
        "colab": {
          "base_uri": "https://localhost:8080/"
        },
        "id": "5SQyH4MvYnXl",
        "outputId": "ecc8779d-ee8c-4db2-da6b-6b99aca6ed2f"
      },
      "outputs": [
        {
          "data": {
            "text/plain": [
              "user_idx\n",
              "3464    125\n",
              "4193    101\n",
              "1034     90\n",
              "727      84\n",
              "1294     81\n",
              "973      68\n",
              "1193     61\n",
              "5761     51\n",
              "150      33\n",
              "2811     22\n",
              "550      20\n",
              "344      12\n",
              "2001     11\n",
              "2229     10\n",
              "5474      9\n",
              "2460      7\n",
              "4076      6\n",
              "1906      5\n",
              "2673      5\n",
              "4081      4\n",
              "2296      2\n",
              "4874      2\n",
              "4393      2\n",
              "2336      1\n",
              "Name: count, dtype: int64"
            ]
          },
          "execution_count": 179,
          "metadata": {},
          "output_type": "execute_result"
        }
      ],
      "source": [
        "df_results['user_idx'].value_counts()"
      ]
    },
    {
      "cell_type": "code",
      "execution_count": 151,
      "metadata": {
        "colab": {
          "base_uri": "https://localhost:8080/"
        },
        "id": "85XnM4g3npul",
        "outputId": "5a8ea0b2-ae3a-47f6-e20d-544676930c81"
      },
      "outputs": [
        {
          "name": "stderr",
          "output_type": "stream",
          "text": [
            "<ipython-input-151-22e6b2741323>:2: SettingWithCopyWarning: \n",
            "A value is trying to be set on a copy of a slice from a DataFrame.\n",
            "Try using .loc[row_indexer,col_indexer] = value instead\n",
            "\n",
            "See the caveats in the documentation: https://pandas.pydata.org/pandas-docs/stable/user_guide/indexing.html#returning-a-view-versus-a-copy\n",
            "  sub_df['user_reflect'] = \"\"\n",
            "<ipython-input-151-22e6b2741323>:3: SettingWithCopyWarning: \n",
            "A value is trying to be set on a copy of a slice from a DataFrame.\n",
            "Try using .loc[row_indexer,col_indexer] = value instead\n",
            "\n",
            "See the caveats in the documentation: https://pandas.pydata.org/pandas-docs/stable/user_guide/indexing.html#returning-a-view-versus-a-copy\n",
            "  sub_df['item_reflect'] = \"\"\n",
            "<ipython-input-151-22e6b2741323>:4: SettingWithCopyWarning: \n",
            "A value is trying to be set on a copy of a slice from a DataFrame.\n",
            "Try using .loc[row_indexer,col_indexer] = value instead\n",
            "\n",
            "See the caveats in the documentation: https://pandas.pydata.org/pandas-docs/stable/user_guide/indexing.html#returning-a-view-versus-a-copy\n",
            "  sub_df['init_context'] = \"\"\n"
          ]
        }
      ],
      "source": [
        "sub_df = df_results.iloc[:30]\n",
        "sub_df['user_reflect'] = \"\"\n",
        "sub_df['item_reflect'] = \"\"\n",
        "sub_df['init_context'] = \"\"\n"
      ]
    },
    {
      "cell_type": "code",
      "execution_count": 152,
      "metadata": {
        "id": "DqilAtNbrRZh"
      },
      "outputs": [],
      "source": [
        "u_list =[]\n",
        "i_list = []\n",
        "for i, row in sub_df.iterrows():\n",
        "    user_history, item_description, init_context = reflect_prompt(row)\n",
        "    sub_df.loc[i,'user_reflect'] = user_history\n",
        "    sub_df.loc[i,'item_reflect'] = item_description\n",
        "    sub_df.loc[i,'init_context'] = init_context\n"
      ]
    },
    {
      "cell_type": "code",
      "execution_count": 153,
      "metadata": {
        "colab": {
          "base_uri": "https://localhost:8080/",
          "height": 1000
        },
        "id": "PwYa-n3mr1xJ",
        "outputId": "701f2b54-3dcd-423f-bca9-d4fc9fd2ea33"
      },
      "outputs": [
        {
          "data": {
            "application/vnd.google.colaboratory.intrinsic+json": {
              "summary": "{\n  \"name\": \"sub_df_clean\",\n  \"rows\": 22,\n  \"fields\": [\n    {\n      \"column\": \"test_index\",\n      \"properties\": {\n        \"dtype\": \"number\",\n        \"std\": 30,\n        \"min\": 4,\n        \"max\": 111,\n        \"num_unique_values\": 22,\n        \"samples\": [\n          4,\n          87,\n          69\n        ],\n        \"semantic_type\": \"\",\n        \"description\": \"\"\n      }\n    },\n    {\n      \"column\": \"user_idx\",\n      \"properties\": {\n        \"dtype\": \"category\",\n        \"num_unique_values\": 2,\n        \"samples\": [\n          \"1034\",\n          \"2336\"\n        ],\n        \"semantic_type\": \"\",\n        \"description\": \"\"\n      }\n    },\n    {\n      \"column\": \"user_hist\",\n      \"properties\": {\n        \"dtype\": \"category\",\n        \"num_unique_values\": 2,\n        \"samples\": [\n          \"Given a female user who is aged 35-44 and an academic/educator, this user's movie viewing history over time is listed below. For Your Eyes Only (1981), 4 stars; Licence to Kill (1989), 4 stars; X-Men (2000), 2 stars; Live and Let Die (1973), 3 stars; Treasure of the Sierra Madre, The (1948), 4 stars; Incredible Journey, The (1963), 4 stars; What Lies Beneath (2000), 3 stars; Ghost (1990), 4 stars; Aladdin (1992), 4 stars; Grumpier Old Men (1995), 4 stars; Shadow of a Doubt (1943), 3 stars; Saboteur (1942), 4 stars; Mr. & Mrs. Smith (1941), 3 stars; Meet the Parents (2000), 4 stars; Last of the Mohicans, The (1992), 4 stars; Out of the Past (1947), 4 stars; Arsenic and Old Lace (1944), 4 stars; Dances with Wolves (1990), 4 stars; Batman (1989), 2 stars; Beauty and the Beast (1991), 4 stars; Pretty Woman (1990), 4 stars; Patton (1970), 5 stars; Lady and the Tramp (1955), 4 stars; 101 Dalmatians (1961), 3 stars; High Noon (1952), 3 stars; Big Sleep, The (1946), 4 stars; Somewhere in Time (1980), 4 stars; Ben-Hur (1959), 4 stars; Rounders (1998), 1 stars; Robin Hood (1973), 4 stars. Based on the user's movie viewing history, it seems she enjoys a variety of genres, ranging from action films like \\\"Licence to Kill\\\" and \\\"For Your Eyes Only\\\" to romantic comedies like \\\"Pretty Woman\\\" and family-friendly animations like \\\"Aladdin\\\" and \\\"101 Dalmatians.\\\" She also seems to appreciate classic films, as evidenced by her high ratings for \\\"Treasure of the Sierra Madre,\\\" \\\"Shadow of a Doubt,\\\" \\\"Saboteur,\\\" and \\\"Arsenic and Old Lace.\\\"\\n\\nThe user's ratings suggest that she values strong character development and engaging plots. She generally gives high ratings to films with well-developed and memorable characters, such as \\\"Patton,\\\" which earned a 5-star rating, and \\\"Grumpier Old Men,\\\" which earned a 4-star rating. She also seems to enjoy films with complex and intriguing plots, such as \\\"Out of the Past\\\" and \\\"Last of the Mohicans.\\\"\\n\\nThe user's ratings also suggest that she places importance on production quality and critical acclaim, as she gave high ratings to several award-winning films, including \\\"Ben-Hur\\\" and \\\"Dances with Wolves.\\\" However, she also seems to appreciate more light-hearted and entertaining films, such as \\\"Lady and the Tramp\\\" and \\\"Aladdin.\\\"\\n\\nOverall, it seems that the user enjoys a range of films with engaging plots, memorable characters, and high production quality, regardless of genre or time period. She also seems to appreciate classic films and award-winning productions.\",\n          \"Given a male user who is aged 35-44 and a tradesman/craftsman, this user's movie viewing history over time is listed below. Last of the Mohicans, The (1992), 4 stars; Unforgiven (1992), 5 stars; Pale Rider (1985), 5 stars; Gattaca (1997), 2 stars; Legends of the Fall (1994), 5 stars; Milk Money (1994), 3 stars; Kelly's Heroes (1970), 4 stars; One Flew Over the Cuckoo's Nest (1975), 4 stars; Star Wars: Episode V - The Empire Strikes Back (1980), 3 stars; Raiders of the Lost Ark (1981), 4 stars. Based on the user's movie viewing history, it seems that he enjoys action and adventure movies with strong male leads. The user has given high ratings to movies like \\\"Unforgiven,\\\" \\\"Pale Rider,\\\" and \\\"Legends of the Fall,\\\" which all feature rugged, tough male protagonists. The user also enjoys classic war movies like \\\"Kelly's Heroes\\\" and \\\"Raiders of the Lost Ark,\\\" both of which have strong male leads.\\n\\nHowever, the user also seems to appreciate movies with more complex themes and characters. \\\"One Flew Over the Cuckoo's Nest\\\" is a classic film that explores mental illness and institutionalization, while \\\"Gattaca\\\" deals with issues of genetic engineering and discrimination. These movies may appeal to the user's intellectual side.\\n\\nThe user's lower rating for \\\"Star Wars: Episode V - The Empire Strikes Back\\\" may suggest that he is not a huge fan of sci-fi or fantasy movies. However, the user may still enjoy action-driven movies like \\\"Star Wars\\\" as long as they have strong male leads and a compelling plot.\\n\\nOverall, the user seems to prefer movies with strong male leads, action and adventure, complex themes and characters, and high production quality. The user may also appreciate movies with critical acclaim or awards, as many of the movies in his viewing history have received positive reviews and recognition.\"\n        ],\n        \"semantic_type\": \"\",\n        \"description\": \"\"\n      }\n    },\n    {\n      \"column\": \"item_idx\",\n      \"properties\": {\n        \"dtype\": \"string\",\n        \"num_unique_values\": 22,\n        \"samples\": [\n          \"2922\",\n          \"3844\"\n        ],\n        \"semantic_type\": \"\",\n        \"description\": \"\"\n      }\n    },\n    {\n      \"column\": \"item_desc\",\n      \"properties\": {\n        \"dtype\": \"string\",\n        \"num_unique_values\": 22,\n        \"samples\": [\n          \"Hang 'em High is a classic Western film released in 1967, directed by Ted Post and starring Clint Eastwood in the lead role. The movie is set in the American West during the late 1800s and follows the story of Jed Cooper, a former lawman who is wrongfully accused of cattle rustling and murder. After being lynched by a group of vigilantes, Cooper is rescued and taken to trial, where he is eventually acquitted and sworn in as a U.S. Marshal. \\n\\nThe film is a classic example of the Western genre, featuring cowboys, outlaws, and lawmen in an epic struggle for justice and survival. The cast of Hang 'em High includes some of the most iconic names in Western cinema, including Clint Eastwood, Inger Stevens, Ed Begley, and Pat Hingle. \\n\\nAs a Western film, Hang 'em High is known for its gritty and violent portrayal of life on the American frontier. The movie explores themes of justice, revenge, and redemption, and the mood and tone are dark and often somber. \\n\\nDespite mixed reviews upon its initial release, Hang 'em High has since gained a cult following and is considered a classic of the Western genre. The film received a nomination for Best Cinematography at the 1969 Academy Awards, and its production quality and soundtrack have been praised by critics and viewers alike. \\n\\nOverall, Hang 'em High is an entertaining and thought-provoking Western film that showcases the talents of its director, cast, and crew. It remains a must-see for fans of the genre and those interested in classic American cinema.\",\n          \"Steel Magnolias is a 1989 American comedy-drama film directed by Herbert Ross and based on a play of the same name by Robert Harling. The film features an all-star cast including Sally Field, Julia Roberts, Dolly Parton, Shirley MacLaine, Daryl Hannah, and Olympia Dukakis. \\n\\nSet in a small Louisiana town, the film follows the lives of a group of women who gather at Truvy's Beauty Spot, a local beauty salon, to gossip, share stories, and support each other through life's ups and downs. The characters include M'Lynn, a protective mother; Shelby, her headstrong daughter; Truvy, the salon owner; Clairee, the town's former first lady; Ouiser, a wealthy curmudgeon; and Annelle, a shy newcomer.\\n\\nThe film explores themes of friendship, family, love, loss, and the resilience of the human spirit. The mood and tone of the film are both heartwarming and bittersweet.\\n\\nSteel Magnolias received critical acclaim and was nominated for several awards, including an Academy Award for Best Supporting Actress for Julia Roberts. The film's production quality is high, with excellent cinematography and set design that perfectly captures the small-town Southern setting. The soundtrack features classic songs from the 1960s and 1970s, adding to the film's nostalgic feel.\\n\\nOverall, Steel Magnolias is a timeless classic that showcases the talent of its all-star cast and delivers a heartwarming and emotional story.\"\n        ],\n        \"semantic_type\": \"\",\n        \"description\": \"\"\n      }\n    },\n    {\n      \"column\": \"label\",\n      \"properties\": {\n        \"dtype\": \"number\",\n        \"std\": 0,\n        \"min\": 0,\n        \"max\": 1,\n        \"num_unique_values\": 2,\n        \"samples\": [\n          1,\n          0\n        ],\n        \"semantic_type\": \"\",\n        \"description\": \"\"\n      }\n    },\n    {\n      \"column\": \"pred\",\n      \"properties\": {\n        \"dtype\": \"number\",\n        \"std\": 0.17018686500887092,\n        \"min\": 0.27299609780311584,\n        \"max\": 0.8259052634239197,\n        \"num_unique_values\": 22,\n        \"samples\": [\n          0.7801293730735779,\n          0.438433974981308\n        ],\n        \"semantic_type\": \"\",\n        \"description\": \"\"\n      }\n    },\n    {\n      \"column\": \"user_reflect\",\n      \"properties\": {\n        \"dtype\": \"string\",\n        \"num_unique_values\": 21,\n        \"samples\": [\n          \"Given a male user who is aged 35-44 and a tradesman/craftsman, this user's movie viewing history over time is listed below. Last of the Mohicans, The (1992), 4 stars; Unforgiven (1992), 5 stars; Pale Rider (1985), 5 stars; Gattaca (1997), 2 stars; Legends of the Fall (1994), 5 stars; Milk Money (1994), 3 stars; Kelly's Heroes (1970), 4 stars; One Flew Over the Cuckoo's Nest (1975), 4 stars; Star Wars: Episode V - The Empire Strikes Back (1980), 3 stars; Raiders of the Lost Ark (1981), 4 stars. This user tends to enjoy action-packed movies with strong male leads, often set in historical or adventurous settings. He also appreciates movies with complex themes and characters, exploring deeper issues and emotions.\",\n          \"This user is a 35-44 year old academic/educator who enjoys a wide range of films, including action movies like \\\"Licence to Kill\\\" and \\\"For Your Eyes Only\\\", romantic comedies like \\\"Pretty Woman\\\", and family-friendly animations like \\\"Aladdin\\\" and \\\"101 Dalmatians\\\". She also appreciates classic films, such as \\\"Treasure of the Sierra Madre\\\", \\\"Shadow of a Doubt\\\", \\\"Saboteur\\\", and \\\"Arsenic and Old Lace\\\". She values strong character development and engaging plots, and tends to give high ratings to films with memorable characters and complex plots. She also places importance on production quality and critical acclaim, and has a special fondness for award-winning films.\"\n        ],\n        \"semantic_type\": \"\",\n        \"description\": \"\"\n      }\n    },\n    {\n      \"column\": \"item_reflect\",\n      \"properties\": {\n        \"dtype\": \"string\",\n        \"num_unique_values\": 22,\n        \"samples\": [\n          \"Hang 'em High is a 1967 Western film directed by Ted Post, starring Clint Eastwood as Jed Cooper, a former lawman wrongly accused of cattle rustling and murder. Set in the American West, the movie follows Cooper's journey from wrongful lynching to trial and redemption. With its gritty portrayal of frontier life, Hang 'em High explores themes of justice, revenge, and redemption. The film features a talented cast, including Clint Eastwood, Inger Stevens, Ed Begley, and Pat Hingle. Despite mixed initial reviews, Hang 'em High has gained cult following and critical acclaim, earning a nomination for Best Cinematography at the 1969 Academy Awards. With its iconic leading man, memorable plot, and impressive production quality, Hang 'em High is a must-see for Western film enthusiasts and fans of Clint Eastwood.\",\n          \"Steel Magnolias is a 1989 American comedy-drama film that tells the story of a group of women who gather at Truvy's Beauty Spot, a local beauty salon, to support each other through life's ups and downs. With an all-star cast, the film explores themes of friendship, family, love, loss, and the resilience of the human spirit. The film's production quality is high, with excellent cinematography and set design that perfectly captures the small-town Southern setting. The soundtrack features classic songs from the 1960s and 1970s, adding to the film's nostalgic feel. Critics have praised the film for its heartwarming and emotional story, and it has received numerous award nominations, including an Academy Award for Best Supporting Actress for Julia Roberts.\\n\\nTwo lines added to the end of the item description:\\n\\n* The film's exploration of complex themes and its well-developed characters make it a timeless classic that resonates with audiences.\\n* With its talented cast and poignant storyline, Steel Magnolias is a film that has left a lasting impact on the world of cinema.\"\n        ],\n        \"semantic_type\": \"\",\n        \"description\": \"\"\n      }\n    },\n    {\n      \"column\": \"init_context\",\n      \"properties\": {\n        \"dtype\": \"string\",\n        \"num_unique_values\": 22,\n        \"samples\": [\n          \"Revised User History:\\nGiven a male user who is aged 35-44 and a tradesman/craftsman, this user's movie viewing history over time is listed below. Last of the Mohicans, The (1992), 4 stars; Unforgiven (1992), 5 stars; Pale Rider (1985), 5 stars; Gattaca (1997), 2 stars; Legends of the Fall (1994), 5 stars; Milk Money (1994), 3 stars; Kelly's Heroes (1970), 4 stars; One Flew Over the Cuckoo's Nest (1975), 4 stars; Star Wars: Episode V - The Empire Strikes Back (1980), 3 stars; Raiders of the Lost Ark (1981), 4 stars. This user tends to enjoy action-packed movies with strong male leads, often set in historical or adventurous settings. He also appreciates movies with complex themes and characters, exploring deeper issues and emotions.\\n\\nRevised Item Description:\\nHang 'em High is a 1967 Western film directed by Ted Post, starring Clint Eastwood as Jed Cooper, a former lawman wrongly accused of cattle rustling and murder. Set in the American West, the movie follows Cooper's journey from wrongful lynching to trial and redemption. With its gritty portrayal of frontier life, Hang 'em High explores themes of justice, revenge, and redemption. The film features a talented cast, including Clint Eastwood, Inger Stevens, Ed Begley, and Pat Hingle. Despite mixed initial reviews, Hang 'em High has gained cult following and critical acclaim, earning a nomination for Best Cinematography at the 1969 Academy Awards. With its iconic leading man, memorable plot, and impressive production quality, Hang 'em High is a must-see for Western film enthusiasts and fans of Clint Eastwood.\",\n          \"Revised User History:\\n\\nThis user is a 35-44 year old academic/educator who enjoys a variety of movies, including action films, romantic comedies, and family-friendly animations. She appreciates strong character development and engaging plots, as seen in her high ratings for films like \\\"Patton\\\" and \\\"Grumpier Old Men\\\". She also values production quality and critical acclaim, as evident from her high ratings for award-winning films like \\\"Ben-Hur\\\" and \\\"Dances with Wolves\\\". However, she also enjoys light-hearted and entertaining films, such as \\\"Lady and the Tramp\\\" and \\\"Aladdin\\\". Overall, this user enjoys a range of films with engaging plots, memorable characters, and high production quality, regardless of genre or time period.\\n\\nTwo lines added to the end of the user history:\\n\\n* She tends to appreciate films with a strong emotional resonance, often finding herself invested in the characters' journeys and struggles.\\n* Her enjoyment of films is deeply rooted in her appreciation for well-crafted storytelling and memorable characters.\\n\\nRevised Item Description:\\n\\nSteel Magnolias is a 1989 American comedy-drama film that tells the story of a group of women who gather at Truvy's Beauty Spot, a local beauty salon, to support each other through life's ups and downs. With an all-star cast, the film explores themes of friendship, family, love, loss, and the resilience of the human spirit. The film's production quality is high, with excellent cinematography and set design that perfectly captures the small-town Southern setting. The soundtrack features classic songs from the 1960s and 1970s, adding to the film's nostalgic feel. Critics have praised the film for its heartwarming and emotional story, and it has received numerous award nominations, including an Academy Award for Best Supporting Actress for Julia Roberts.\\n\\nTwo lines added to the end of the item description:\\n\\n* The film's exploration of complex themes and its well-developed characters make it a timeless classic that resonates with audiences.\\n* With its talented cast and poignant storyline, Steel Magnolias is a film that has left a lasting impact on the world of cinema.\"\n        ],\n        \"semantic_type\": \"\",\n        \"description\": \"\"\n      }\n    }\n  ]\n}",
              "type": "dataframe",
              "variable_name": "sub_df_clean"
            },
            "text/html": [
              "\n",
              "  <div id=\"df-fd5332ee-11ed-4925-93df-1c654d65a3e7\" class=\"colab-df-container\">\n",
              "    <div>\n",
              "<style scoped>\n",
              "    .dataframe tbody tr th:only-of-type {\n",
              "        vertical-align: middle;\n",
              "    }\n",
              "\n",
              "    .dataframe tbody tr th {\n",
              "        vertical-align: top;\n",
              "    }\n",
              "\n",
              "    .dataframe thead th {\n",
              "        text-align: right;\n",
              "    }\n",
              "</style>\n",
              "<table border=\"1\" class=\"dataframe\">\n",
              "  <thead>\n",
              "    <tr style=\"text-align: right;\">\n",
              "      <th></th>\n",
              "      <th>test_index</th>\n",
              "      <th>user_idx</th>\n",
              "      <th>user_hist</th>\n",
              "      <th>item_idx</th>\n",
              "      <th>item_desc</th>\n",
              "      <th>label</th>\n",
              "      <th>pred</th>\n",
              "      <th>user_reflect</th>\n",
              "      <th>item_reflect</th>\n",
              "      <th>init_context</th>\n",
              "    </tr>\n",
              "  </thead>\n",
              "  <tbody>\n",
              "    <tr>\n",
              "      <th>0</th>\n",
              "      <td>4</td>\n",
              "      <td>2336</td>\n",
              "      <td>Given a male user who is aged 35-44 and a trad...</td>\n",
              "      <td>2922</td>\n",
              "      <td>Hang 'em High is a classic Western film releas...</td>\n",
              "      <td>0</td>\n",
              "      <td>0.780129</td>\n",
              "      <td>Given a male user who is aged 35-44 and a trad...</td>\n",
              "      <td>Hang 'em High is a 1967 Western film directed ...</td>\n",
              "      <td>Revised User History:\\nGiven a male user who i...</td>\n",
              "    </tr>\n",
              "    <tr>\n",
              "      <th>1</th>\n",
              "      <td>18</td>\n",
              "      <td>1034</td>\n",
              "      <td>Given a female user who is aged 35-44 and an a...</td>\n",
              "      <td>924</td>\n",
              "      <td>2001: A Space Odyssey is a science fiction fil...</td>\n",
              "      <td>0</td>\n",
              "      <td>0.717540</td>\n",
              "      <td>Given a female user who is aged 35-44 and an a...</td>\n",
              "      <td>2001: A Space Odyssey is a groundbreaking scie...</td>\n",
              "      <td>Here is the revised user history and item desc...</td>\n",
              "    </tr>\n",
              "    <tr>\n",
              "      <th>2</th>\n",
              "      <td>29</td>\n",
              "      <td>1034</td>\n",
              "      <td>Given a female user who is aged 35-44 and an a...</td>\n",
              "      <td>3217</td>\n",
              "      <td>\"A Star is Born\" is a 1937 American drama film...</td>\n",
              "      <td>1</td>\n",
              "      <td>0.386345</td>\n",
              "      <td>User is a 35-44 year old academic/educator who...</td>\n",
              "      <td>\"A Star is Born\" is a 1937 American drama film...</td>\n",
              "      <td>Revised User History:\\nUser is a 35-44 year ol...</td>\n",
              "    </tr>\n",
              "    <tr>\n",
              "      <th>3</th>\n",
              "      <td>31</td>\n",
              "      <td>1034</td>\n",
              "      <td>Given a female user who is aged 35-44 and an a...</td>\n",
              "      <td>1617</td>\n",
              "      <td>L.A. Confidential is a neo-noir crime film dir...</td>\n",
              "      <td>0</td>\n",
              "      <td>0.825905</td>\n",
              "      <td>A female user aged 35-44 and an academic/educa...</td>\n",
              "      <td>L.A. Confidential is a critically acclaimed ne...</td>\n",
              "      <td>Revised User History:\\nA female user aged 35-4...</td>\n",
              "    </tr>\n",
              "    <tr>\n",
              "      <th>4</th>\n",
              "      <td>34</td>\n",
              "      <td>1034</td>\n",
              "      <td>Given a female user who is aged 35-44 and an a...</td>\n",
              "      <td>2278</td>\n",
              "      <td>Ronin is a 1998 thriller movie directed by Joh...</td>\n",
              "      <td>0</td>\n",
              "      <td>0.502834</td>\n",
              "      <td>Given a female user who is aged 35-44 and an a...</td>\n",
              "      <td>Ronin is a 1998 thriller movie directed by Joh...</td>\n",
              "      <td>Here is the revised user history and item desc...</td>\n",
              "    </tr>\n",
              "    <tr>\n",
              "      <th>5</th>\n",
              "      <td>57</td>\n",
              "      <td>1034</td>\n",
              "      <td>Given a female user who is aged 35-44 and an a...</td>\n",
              "      <td>978</td>\n",
              "      <td>The Blue Angel (Blaue Engel, Der) is a 1930 Ge...</td>\n",
              "      <td>0</td>\n",
              "      <td>0.727337</td>\n",
              "      <td>As a 35-44 year old academic/educator, this us...</td>\n",
              "      <td>\"The Blue Angel\" is a 1930 German drama film d...</td>\n",
              "      <td>Here are the revised user history and item des...</td>\n",
              "    </tr>\n",
              "    <tr>\n",
              "      <th>6</th>\n",
              "      <td>60</td>\n",
              "      <td>1034</td>\n",
              "      <td>Given a female user who is aged 35-44 and an a...</td>\n",
              "      <td>2617</td>\n",
              "      <td>The Mummy is a 1999 American action-adventure ...</td>\n",
              "      <td>1</td>\n",
              "      <td>0.272996</td>\n",
              "      <td>This user's movie viewing history reveals a di...</td>\n",
              "      <td>The Mummy is a 1999 American action-adventure ...</td>\n",
              "      <td>Revised User History:\\nThis user's movie viewi...</td>\n",
              "    </tr>\n",
              "    <tr>\n",
              "      <th>7</th>\n",
              "      <td>65</td>\n",
              "      <td>1034</td>\n",
              "      <td>Given a female user who is aged 35-44 and an a...</td>\n",
              "      <td>2640</td>\n",
              "      <td>Superman is a 1978 superhero film directed by ...</td>\n",
              "      <td>1</td>\n",
              "      <td>0.386297</td>\n",
              "      <td>As a 35-44 year old academic/educator, this us...</td>\n",
              "      <td>In this 1978 superhero classic, Christopher Re...</td>\n",
              "      <td>Revised User History:\\nAs a 35-44 year old aca...</td>\n",
              "    </tr>\n",
              "    <tr>\n",
              "      <th>8</th>\n",
              "      <td>69</td>\n",
              "      <td>1034</td>\n",
              "      <td>Given a female user who is aged 35-44 and an a...</td>\n",
              "      <td>1873</td>\n",
              "      <td>Les Misérables (1998) is a French film adaptat...</td>\n",
              "      <td>0</td>\n",
              "      <td>0.625090</td>\n",
              "      <td>This user is a 35-44-year-old academic/educato...</td>\n",
              "      <td>Les Misérables is a critically acclaimed Frenc...</td>\n",
              "      <td>Revised User History:\\n\\nThis user is a 35-44-...</td>\n",
              "    </tr>\n",
              "    <tr>\n",
              "      <th>9</th>\n",
              "      <td>74</td>\n",
              "      <td>1034</td>\n",
              "      <td>Given a female user who is aged 35-44 and an a...</td>\n",
              "      <td>3483</td>\n",
              "      <td>\"The Road to El Dorado\" is an animated adventu...</td>\n",
              "      <td>1</td>\n",
              "      <td>0.278205</td>\n",
              "      <td>Given a female user who is aged 35-44 and an a...</td>\n",
              "      <td>The Road to El Dorado is an animated adventure...</td>\n",
              "      <td>Here are the revised user history and item des...</td>\n",
              "    </tr>\n",
              "    <tr>\n",
              "      <th>10</th>\n",
              "      <td>79</td>\n",
              "      <td>1034</td>\n",
              "      <td>Given a female user who is aged 35-44 and an a...</td>\n",
              "      <td>2861</td>\n",
              "      <td>For Love of the Game is a romantic sports dram...</td>\n",
              "      <td>1</td>\n",
              "      <td>0.431502</td>\n",
              "      <td>This user, aged 35-44 and an academic/educator...</td>\n",
              "      <td>For Love of the Game is a romantic sports dram...</td>\n",
              "      <td>Revised User History:\\nThis user, aged 35-44 a...</td>\n",
              "    </tr>\n",
              "    <tr>\n",
              "      <th>11</th>\n",
              "      <td>85</td>\n",
              "      <td>1034</td>\n",
              "      <td>Given a female user who is aged 35-44 and an a...</td>\n",
              "      <td>480</td>\n",
              "      <td>Jurassic Park is a science fiction adventure f...</td>\n",
              "      <td>0</td>\n",
              "      <td>0.567006</td>\n",
              "      <td>Given a female user who is aged 35-44 and an a...</td>\n",
              "      <td>Jurassic Park is a science fiction adventure f...</td>\n",
              "      <td>Revised User History:\\n\\nGiven a female user w...</td>\n",
              "    </tr>\n",
              "    <tr>\n",
              "      <th>12</th>\n",
              "      <td>86</td>\n",
              "      <td>1034</td>\n",
              "      <td>Given a female user who is aged 35-44 and an a...</td>\n",
              "      <td>2100</td>\n",
              "      <td>Splash is a romantic comedy film released in 1...</td>\n",
              "      <td>1</td>\n",
              "      <td>0.356206</td>\n",
              "      <td>Given a female user who is aged 35-44 and an a...</td>\n",
              "      <td>Splash is a romantic comedy film released in 1...</td>\n",
              "      <td>Here's a revised version of the user history a...</td>\n",
              "    </tr>\n",
              "    <tr>\n",
              "      <th>13</th>\n",
              "      <td>87</td>\n",
              "      <td>1034</td>\n",
              "      <td>Given a female user who is aged 35-44 and an a...</td>\n",
              "      <td>3844</td>\n",
              "      <td>Steel Magnolias is a 1989 American comedy-dram...</td>\n",
              "      <td>1</td>\n",
              "      <td>0.438434</td>\n",
              "      <td>This user is a 35-44 year old academic/educato...</td>\n",
              "      <td>Steel Magnolias is a 1989 American comedy-dram...</td>\n",
              "      <td>Revised User History:\\n\\nThis user is a 35-44 ...</td>\n",
              "    </tr>\n",
              "    <tr>\n",
              "      <th>14</th>\n",
              "      <td>88</td>\n",
              "      <td>1034</td>\n",
              "      <td>Given a female user who is aged 35-44 and an a...</td>\n",
              "      <td>2110</td>\n",
              "      <td>Dead Men Don't Wear Plaid is a 1982 comedy fil...</td>\n",
              "      <td>1</td>\n",
              "      <td>0.342043</td>\n",
              "      <td>Given a female user who is aged 35-44 and an a...</td>\n",
              "      <td>Dead Men Don't Wear Plaid is a 1982 comedy fil...</td>\n",
              "      <td>Revised User History:\\n\\nGiven a female user w...</td>\n",
              "    </tr>\n",
              "    <tr>\n",
              "      <th>15</th>\n",
              "      <td>90</td>\n",
              "      <td>1034</td>\n",
              "      <td>Given a female user who is aged 35-44 and an a...</td>\n",
              "      <td>1333</td>\n",
              "      <td>The Birds is a 1963 horror-thriller film direc...</td>\n",
              "      <td>0</td>\n",
              "      <td>0.608357</td>\n",
              "      <td>This user is a 35-44 year old educator who has...</td>\n",
              "      <td>The Birds is a 1963 horror-thriller film direc...</td>\n",
              "      <td>Here is the revised user history and item desc...</td>\n",
              "    </tr>\n",
              "    <tr>\n",
              "      <th>16</th>\n",
              "      <td>95</td>\n",
              "      <td>1034</td>\n",
              "      <td>Given a female user who is aged 35-44 and an a...</td>\n",
              "      <td>3897</td>\n",
              "      <td>Almost Famous is a 2000 American drama film di...</td>\n",
              "      <td>0</td>\n",
              "      <td>0.699644</td>\n",
              "      <td>This 35-44 year old academic/educator has a di...</td>\n",
              "      <td>Almost Famous is a critically acclaimed 2000 d...</td>\n",
              "      <td>Here's a revised version of the user history a...</td>\n",
              "    </tr>\n",
              "    <tr>\n",
              "      <th>17</th>\n",
              "      <td>96</td>\n",
              "      <td>1034</td>\n",
              "      <td>Given a female user who is aged 35-44 and an a...</td>\n",
              "      <td>2160</td>\n",
              "      <td>Rosemary's Baby is a classic horror film that ...</td>\n",
              "      <td>0</td>\n",
              "      <td>0.579325</td>\n",
              "      <td>This user is a 35-44 year old academic/educato...</td>\n",
              "      <td>Rosemary's Baby is a classic horror film relea...</td>\n",
              "      <td>Here are the revised user history and item des...</td>\n",
              "    </tr>\n",
              "    <tr>\n",
              "      <th>18</th>\n",
              "      <td>97</td>\n",
              "      <td>1034</td>\n",
              "      <td>Given a female user who is aged 35-44 and an a...</td>\n",
              "      <td>3111</td>\n",
              "      <td>\"Places in the Heart\" is a drama film from 198...</td>\n",
              "      <td>1</td>\n",
              "      <td>0.443891</td>\n",
              "      <td>Given a female user who is aged 35-44 and an a...</td>\n",
              "      <td>\"Places in the Heart\" is a critically acclaime...</td>\n",
              "      <td>Here is a revised version of the user history ...</td>\n",
              "    </tr>\n",
              "    <tr>\n",
              "      <th>19</th>\n",
              "      <td>105</td>\n",
              "      <td>1034</td>\n",
              "      <td>Given a female user who is aged 35-44 and an a...</td>\n",
              "      <td>2340</td>\n",
              "      <td>Meet Joe Black is a romantic fantasy drama fil...</td>\n",
              "      <td>1</td>\n",
              "      <td>0.321990</td>\n",
              "      <td>Given a female user who is aged 35-44 and an a...</td>\n",
              "      <td>Meet Joe Black is a romantic fantasy drama fil...</td>\n",
              "      <td>Revised User History:\\nGiven a female user who...</td>\n",
              "    </tr>\n",
              "    <tr>\n",
              "      <th>20</th>\n",
              "      <td>107</td>\n",
              "      <td>1034</td>\n",
              "      <td>Given a female user who is aged 35-44 and an a...</td>\n",
              "      <td>3148</td>\n",
              "      <td>The Cider House Rules is a drama film released...</td>\n",
              "      <td>0</td>\n",
              "      <td>0.694874</td>\n",
              "      <td>This user is a 35-44 year old educator who has...</td>\n",
              "      <td>This drama film, released in 1999, is a poigna...</td>\n",
              "      <td>Revised User History:\\nThis user is a 35-44 ye...</td>\n",
              "    </tr>\n",
              "    <tr>\n",
              "      <th>21</th>\n",
              "      <td>111</td>\n",
              "      <td>1034</td>\n",
              "      <td>Given a female user who is aged 35-44 and an a...</td>\n",
              "      <td>2355</td>\n",
              "      <td>A Bug's Life is a computer-animated comedy fil...</td>\n",
              "      <td>1</td>\n",
              "      <td>0.456336</td>\n",
              "      <td>Given a female user who is aged 35-44 and an a...</td>\n",
              "      <td>A Bug's Life is a computer-animated comedy fil...</td>\n",
              "      <td>Revised User History:\\nGiven a female user who...</td>\n",
              "    </tr>\n",
              "  </tbody>\n",
              "</table>\n",
              "</div>\n",
              "    <div class=\"colab-df-buttons\">\n",
              "\n",
              "  <div class=\"colab-df-container\">\n",
              "    <button class=\"colab-df-convert\" onclick=\"convertToInteractive('df-fd5332ee-11ed-4925-93df-1c654d65a3e7')\"\n",
              "            title=\"Convert this dataframe to an interactive table.\"\n",
              "            style=\"display:none;\">\n",
              "\n",
              "  <svg xmlns=\"http://www.w3.org/2000/svg\" height=\"24px\" viewBox=\"0 -960 960 960\">\n",
              "    <path d=\"M120-120v-720h720v720H120Zm60-500h600v-160H180v160Zm220 220h160v-160H400v160Zm0 220h160v-160H400v160ZM180-400h160v-160H180v160Zm440 0h160v-160H620v160ZM180-180h160v-160H180v160Zm440 0h160v-160H620v160Z\"/>\n",
              "  </svg>\n",
              "    </button>\n",
              "\n",
              "  <style>\n",
              "    .colab-df-container {\n",
              "      display:flex;\n",
              "      gap: 12px;\n",
              "    }\n",
              "\n",
              "    .colab-df-convert {\n",
              "      background-color: #E8F0FE;\n",
              "      border: none;\n",
              "      border-radius: 50%;\n",
              "      cursor: pointer;\n",
              "      display: none;\n",
              "      fill: #1967D2;\n",
              "      height: 32px;\n",
              "      padding: 0 0 0 0;\n",
              "      width: 32px;\n",
              "    }\n",
              "\n",
              "    .colab-df-convert:hover {\n",
              "      background-color: #E2EBFA;\n",
              "      box-shadow: 0px 1px 2px rgba(60, 64, 67, 0.3), 0px 1px 3px 1px rgba(60, 64, 67, 0.15);\n",
              "      fill: #174EA6;\n",
              "    }\n",
              "\n",
              "    .colab-df-buttons div {\n",
              "      margin-bottom: 4px;\n",
              "    }\n",
              "\n",
              "    [theme=dark] .colab-df-convert {\n",
              "      background-color: #3B4455;\n",
              "      fill: #D2E3FC;\n",
              "    }\n",
              "\n",
              "    [theme=dark] .colab-df-convert:hover {\n",
              "      background-color: #434B5C;\n",
              "      box-shadow: 0px 1px 3px 1px rgba(0, 0, 0, 0.15);\n",
              "      filter: drop-shadow(0px 1px 2px rgba(0, 0, 0, 0.3));\n",
              "      fill: #FFFFFF;\n",
              "    }\n",
              "  </style>\n",
              "\n",
              "    <script>\n",
              "      const buttonEl =\n",
              "        document.querySelector('#df-fd5332ee-11ed-4925-93df-1c654d65a3e7 button.colab-df-convert');\n",
              "      buttonEl.style.display =\n",
              "        google.colab.kernel.accessAllowed ? 'block' : 'none';\n",
              "\n",
              "      async function convertToInteractive(key) {\n",
              "        const element = document.querySelector('#df-fd5332ee-11ed-4925-93df-1c654d65a3e7');\n",
              "        const dataTable =\n",
              "          await google.colab.kernel.invokeFunction('convertToInteractive',\n",
              "                                                    [key], {});\n",
              "        if (!dataTable) return;\n",
              "\n",
              "        const docLinkHtml = 'Like what you see? Visit the ' +\n",
              "          '<a target=\"_blank\" href=https://colab.research.google.com/notebooks/data_table.ipynb>data table notebook</a>'\n",
              "          + ' to learn more about interactive tables.';\n",
              "        element.innerHTML = '';\n",
              "        dataTable['output_type'] = 'display_data';\n",
              "        await google.colab.output.renderOutput(dataTable, element);\n",
              "        const docLink = document.createElement('div');\n",
              "        docLink.innerHTML = docLinkHtml;\n",
              "        element.appendChild(docLink);\n",
              "      }\n",
              "    </script>\n",
              "  </div>\n",
              "\n",
              "\n",
              "<div id=\"df-7f0a1eb3-c703-48a6-9a7b-757a2adfe973\">\n",
              "  <button class=\"colab-df-quickchart\" onclick=\"quickchart('df-7f0a1eb3-c703-48a6-9a7b-757a2adfe973')\"\n",
              "            title=\"Suggest charts\"\n",
              "            style=\"display:none;\">\n",
              "\n",
              "<svg xmlns=\"http://www.w3.org/2000/svg\" height=\"24px\"viewBox=\"0 0 24 24\"\n",
              "     width=\"24px\">\n",
              "    <g>\n",
              "        <path d=\"M19 3H5c-1.1 0-2 .9-2 2v14c0 1.1.9 2 2 2h14c1.1 0 2-.9 2-2V5c0-1.1-.9-2-2-2zM9 17H7v-7h2v7zm4 0h-2V7h2v10zm4 0h-2v-4h2v4z\"/>\n",
              "    </g>\n",
              "</svg>\n",
              "  </button>\n",
              "\n",
              "<style>\n",
              "  .colab-df-quickchart {\n",
              "      --bg-color: #E8F0FE;\n",
              "      --fill-color: #1967D2;\n",
              "      --hover-bg-color: #E2EBFA;\n",
              "      --hover-fill-color: #174EA6;\n",
              "      --disabled-fill-color: #AAA;\n",
              "      --disabled-bg-color: #DDD;\n",
              "  }\n",
              "\n",
              "  [theme=dark] .colab-df-quickchart {\n",
              "      --bg-color: #3B4455;\n",
              "      --fill-color: #D2E3FC;\n",
              "      --hover-bg-color: #434B5C;\n",
              "      --hover-fill-color: #FFFFFF;\n",
              "      --disabled-bg-color: #3B4455;\n",
              "      --disabled-fill-color: #666;\n",
              "  }\n",
              "\n",
              "  .colab-df-quickchart {\n",
              "    background-color: var(--bg-color);\n",
              "    border: none;\n",
              "    border-radius: 50%;\n",
              "    cursor: pointer;\n",
              "    display: none;\n",
              "    fill: var(--fill-color);\n",
              "    height: 32px;\n",
              "    padding: 0;\n",
              "    width: 32px;\n",
              "  }\n",
              "\n",
              "  .colab-df-quickchart:hover {\n",
              "    background-color: var(--hover-bg-color);\n",
              "    box-shadow: 0 1px 2px rgba(60, 64, 67, 0.3), 0 1px 3px 1px rgba(60, 64, 67, 0.15);\n",
              "    fill: var(--button-hover-fill-color);\n",
              "  }\n",
              "\n",
              "  .colab-df-quickchart-complete:disabled,\n",
              "  .colab-df-quickchart-complete:disabled:hover {\n",
              "    background-color: var(--disabled-bg-color);\n",
              "    fill: var(--disabled-fill-color);\n",
              "    box-shadow: none;\n",
              "  }\n",
              "\n",
              "  .colab-df-spinner {\n",
              "    border: 2px solid var(--fill-color);\n",
              "    border-color: transparent;\n",
              "    border-bottom-color: var(--fill-color);\n",
              "    animation:\n",
              "      spin 1s steps(1) infinite;\n",
              "  }\n",
              "\n",
              "  @keyframes spin {\n",
              "    0% {\n",
              "      border-color: transparent;\n",
              "      border-bottom-color: var(--fill-color);\n",
              "      border-left-color: var(--fill-color);\n",
              "    }\n",
              "    20% {\n",
              "      border-color: transparent;\n",
              "      border-left-color: var(--fill-color);\n",
              "      border-top-color: var(--fill-color);\n",
              "    }\n",
              "    30% {\n",
              "      border-color: transparent;\n",
              "      border-left-color: var(--fill-color);\n",
              "      border-top-color: var(--fill-color);\n",
              "      border-right-color: var(--fill-color);\n",
              "    }\n",
              "    40% {\n",
              "      border-color: transparent;\n",
              "      border-right-color: var(--fill-color);\n",
              "      border-top-color: var(--fill-color);\n",
              "    }\n",
              "    60% {\n",
              "      border-color: transparent;\n",
              "      border-right-color: var(--fill-color);\n",
              "    }\n",
              "    80% {\n",
              "      border-color: transparent;\n",
              "      border-right-color: var(--fill-color);\n",
              "      border-bottom-color: var(--fill-color);\n",
              "    }\n",
              "    90% {\n",
              "      border-color: transparent;\n",
              "      border-bottom-color: var(--fill-color);\n",
              "    }\n",
              "  }\n",
              "</style>\n",
              "\n",
              "  <script>\n",
              "    async function quickchart(key) {\n",
              "      const quickchartButtonEl =\n",
              "        document.querySelector('#' + key + ' button');\n",
              "      quickchartButtonEl.disabled = true;  // To prevent multiple clicks.\n",
              "      quickchartButtonEl.classList.add('colab-df-spinner');\n",
              "      try {\n",
              "        const charts = await google.colab.kernel.invokeFunction(\n",
              "            'suggestCharts', [key], {});\n",
              "      } catch (error) {\n",
              "        console.error('Error during call to suggestCharts:', error);\n",
              "      }\n",
              "      quickchartButtonEl.classList.remove('colab-df-spinner');\n",
              "      quickchartButtonEl.classList.add('colab-df-quickchart-complete');\n",
              "    }\n",
              "    (() => {\n",
              "      let quickchartButtonEl =\n",
              "        document.querySelector('#df-7f0a1eb3-c703-48a6-9a7b-757a2adfe973 button');\n",
              "      quickchartButtonEl.style.display =\n",
              "        google.colab.kernel.accessAllowed ? 'block' : 'none';\n",
              "    })();\n",
              "  </script>\n",
              "</div>\n",
              "\n",
              "  <div id=\"id_c9a15026-791d-4745-b79f-3df516bc75b3\">\n",
              "    <style>\n",
              "      .colab-df-generate {\n",
              "        background-color: #E8F0FE;\n",
              "        border: none;\n",
              "        border-radius: 50%;\n",
              "        cursor: pointer;\n",
              "        display: none;\n",
              "        fill: #1967D2;\n",
              "        height: 32px;\n",
              "        padding: 0 0 0 0;\n",
              "        width: 32px;\n",
              "      }\n",
              "\n",
              "      .colab-df-generate:hover {\n",
              "        background-color: #E2EBFA;\n",
              "        box-shadow: 0px 1px 2px rgba(60, 64, 67, 0.3), 0px 1px 3px 1px rgba(60, 64, 67, 0.15);\n",
              "        fill: #174EA6;\n",
              "      }\n",
              "\n",
              "      [theme=dark] .colab-df-generate {\n",
              "        background-color: #3B4455;\n",
              "        fill: #D2E3FC;\n",
              "      }\n",
              "\n",
              "      [theme=dark] .colab-df-generate:hover {\n",
              "        background-color: #434B5C;\n",
              "        box-shadow: 0px 1px 3px 1px rgba(0, 0, 0, 0.15);\n",
              "        filter: drop-shadow(0px 1px 2px rgba(0, 0, 0, 0.3));\n",
              "        fill: #FFFFFF;\n",
              "      }\n",
              "    </style>\n",
              "    <button class=\"colab-df-generate\" onclick=\"generateWithVariable('sub_df_clean')\"\n",
              "            title=\"Generate code using this dataframe.\"\n",
              "            style=\"display:none;\">\n",
              "\n",
              "  <svg xmlns=\"http://www.w3.org/2000/svg\" height=\"24px\"viewBox=\"0 0 24 24\"\n",
              "       width=\"24px\">\n",
              "    <path d=\"M7,19H8.4L18.45,9,17,7.55,7,17.6ZM5,21V16.75L18.45,3.32a2,2,0,0,1,2.83,0l1.4,1.43a1.91,1.91,0,0,1,.58,1.4,1.91,1.91,0,0,1-.58,1.4L9.25,21ZM18.45,9,17,7.55Zm-12,3A5.31,5.31,0,0,0,4.9,8.1,5.31,5.31,0,0,0,1,6.5,5.31,5.31,0,0,0,4.9,4.9,5.31,5.31,0,0,0,6.5,1,5.31,5.31,0,0,0,8.1,4.9,5.31,5.31,0,0,0,12,6.5,5.46,5.46,0,0,0,6.5,12Z\"/>\n",
              "  </svg>\n",
              "    </button>\n",
              "    <script>\n",
              "      (() => {\n",
              "      const buttonEl =\n",
              "        document.querySelector('#id_c9a15026-791d-4745-b79f-3df516bc75b3 button.colab-df-generate');\n",
              "      buttonEl.style.display =\n",
              "        google.colab.kernel.accessAllowed ? 'block' : 'none';\n",
              "\n",
              "      buttonEl.onclick = () => {\n",
              "        google.colab.notebook.generateWithVariable('sub_df_clean');\n",
              "      }\n",
              "      })();\n",
              "    </script>\n",
              "  </div>\n",
              "\n",
              "    </div>\n",
              "  </div>\n"
            ],
            "text/plain": [
              "    test_index user_idx                                          user_hist  \\\n",
              "0            4     2336  Given a male user who is aged 35-44 and a trad...   \n",
              "1           18     1034  Given a female user who is aged 35-44 and an a...   \n",
              "2           29     1034  Given a female user who is aged 35-44 and an a...   \n",
              "3           31     1034  Given a female user who is aged 35-44 and an a...   \n",
              "4           34     1034  Given a female user who is aged 35-44 and an a...   \n",
              "5           57     1034  Given a female user who is aged 35-44 and an a...   \n",
              "6           60     1034  Given a female user who is aged 35-44 and an a...   \n",
              "7           65     1034  Given a female user who is aged 35-44 and an a...   \n",
              "8           69     1034  Given a female user who is aged 35-44 and an a...   \n",
              "9           74     1034  Given a female user who is aged 35-44 and an a...   \n",
              "10          79     1034  Given a female user who is aged 35-44 and an a...   \n",
              "11          85     1034  Given a female user who is aged 35-44 and an a...   \n",
              "12          86     1034  Given a female user who is aged 35-44 and an a...   \n",
              "13          87     1034  Given a female user who is aged 35-44 and an a...   \n",
              "14          88     1034  Given a female user who is aged 35-44 and an a...   \n",
              "15          90     1034  Given a female user who is aged 35-44 and an a...   \n",
              "16          95     1034  Given a female user who is aged 35-44 and an a...   \n",
              "17          96     1034  Given a female user who is aged 35-44 and an a...   \n",
              "18          97     1034  Given a female user who is aged 35-44 and an a...   \n",
              "19         105     1034  Given a female user who is aged 35-44 and an a...   \n",
              "20         107     1034  Given a female user who is aged 35-44 and an a...   \n",
              "21         111     1034  Given a female user who is aged 35-44 and an a...   \n",
              "\n",
              "   item_idx                                          item_desc  label  \\\n",
              "0      2922  Hang 'em High is a classic Western film releas...      0   \n",
              "1       924  2001: A Space Odyssey is a science fiction fil...      0   \n",
              "2      3217  \"A Star is Born\" is a 1937 American drama film...      1   \n",
              "3      1617  L.A. Confidential is a neo-noir crime film dir...      0   \n",
              "4      2278  Ronin is a 1998 thriller movie directed by Joh...      0   \n",
              "5       978  The Blue Angel (Blaue Engel, Der) is a 1930 Ge...      0   \n",
              "6      2617  The Mummy is a 1999 American action-adventure ...      1   \n",
              "7      2640  Superman is a 1978 superhero film directed by ...      1   \n",
              "8      1873  Les Misérables (1998) is a French film adaptat...      0   \n",
              "9      3483  \"The Road to El Dorado\" is an animated adventu...      1   \n",
              "10     2861  For Love of the Game is a romantic sports dram...      1   \n",
              "11      480  Jurassic Park is a science fiction adventure f...      0   \n",
              "12     2100  Splash is a romantic comedy film released in 1...      1   \n",
              "13     3844  Steel Magnolias is a 1989 American comedy-dram...      1   \n",
              "14     2110  Dead Men Don't Wear Plaid is a 1982 comedy fil...      1   \n",
              "15     1333  The Birds is a 1963 horror-thriller film direc...      0   \n",
              "16     3897  Almost Famous is a 2000 American drama film di...      0   \n",
              "17     2160  Rosemary's Baby is a classic horror film that ...      0   \n",
              "18     3111  \"Places in the Heart\" is a drama film from 198...      1   \n",
              "19     2340  Meet Joe Black is a romantic fantasy drama fil...      1   \n",
              "20     3148  The Cider House Rules is a drama film released...      0   \n",
              "21     2355  A Bug's Life is a computer-animated comedy fil...      1   \n",
              "\n",
              "        pred                                       user_reflect  \\\n",
              "0   0.780129  Given a male user who is aged 35-44 and a trad...   \n",
              "1   0.717540  Given a female user who is aged 35-44 and an a...   \n",
              "2   0.386345  User is a 35-44 year old academic/educator who...   \n",
              "3   0.825905  A female user aged 35-44 and an academic/educa...   \n",
              "4   0.502834  Given a female user who is aged 35-44 and an a...   \n",
              "5   0.727337  As a 35-44 year old academic/educator, this us...   \n",
              "6   0.272996  This user's movie viewing history reveals a di...   \n",
              "7   0.386297  As a 35-44 year old academic/educator, this us...   \n",
              "8   0.625090  This user is a 35-44-year-old academic/educato...   \n",
              "9   0.278205  Given a female user who is aged 35-44 and an a...   \n",
              "10  0.431502  This user, aged 35-44 and an academic/educator...   \n",
              "11  0.567006  Given a female user who is aged 35-44 and an a...   \n",
              "12  0.356206  Given a female user who is aged 35-44 and an a...   \n",
              "13  0.438434  This user is a 35-44 year old academic/educato...   \n",
              "14  0.342043  Given a female user who is aged 35-44 and an a...   \n",
              "15  0.608357  This user is a 35-44 year old educator who has...   \n",
              "16  0.699644  This 35-44 year old academic/educator has a di...   \n",
              "17  0.579325  This user is a 35-44 year old academic/educato...   \n",
              "18  0.443891  Given a female user who is aged 35-44 and an a...   \n",
              "19  0.321990  Given a female user who is aged 35-44 and an a...   \n",
              "20  0.694874  This user is a 35-44 year old educator who has...   \n",
              "21  0.456336  Given a female user who is aged 35-44 and an a...   \n",
              "\n",
              "                                         item_reflect  \\\n",
              "0   Hang 'em High is a 1967 Western film directed ...   \n",
              "1   2001: A Space Odyssey is a groundbreaking scie...   \n",
              "2   \"A Star is Born\" is a 1937 American drama film...   \n",
              "3   L.A. Confidential is a critically acclaimed ne...   \n",
              "4   Ronin is a 1998 thriller movie directed by Joh...   \n",
              "5   \"The Blue Angel\" is a 1930 German drama film d...   \n",
              "6   The Mummy is a 1999 American action-adventure ...   \n",
              "7   In this 1978 superhero classic, Christopher Re...   \n",
              "8   Les Misérables is a critically acclaimed Frenc...   \n",
              "9   The Road to El Dorado is an animated adventure...   \n",
              "10  For Love of the Game is a romantic sports dram...   \n",
              "11  Jurassic Park is a science fiction adventure f...   \n",
              "12  Splash is a romantic comedy film released in 1...   \n",
              "13  Steel Magnolias is a 1989 American comedy-dram...   \n",
              "14  Dead Men Don't Wear Plaid is a 1982 comedy fil...   \n",
              "15  The Birds is a 1963 horror-thriller film direc...   \n",
              "16  Almost Famous is a critically acclaimed 2000 d...   \n",
              "17  Rosemary's Baby is a classic horror film relea...   \n",
              "18  \"Places in the Heart\" is a critically acclaime...   \n",
              "19  Meet Joe Black is a romantic fantasy drama fil...   \n",
              "20  This drama film, released in 1999, is a poigna...   \n",
              "21  A Bug's Life is a computer-animated comedy fil...   \n",
              "\n",
              "                                         init_context  \n",
              "0   Revised User History:\\nGiven a male user who i...  \n",
              "1   Here is the revised user history and item desc...  \n",
              "2   Revised User History:\\nUser is a 35-44 year ol...  \n",
              "3   Revised User History:\\nA female user aged 35-4...  \n",
              "4   Here is the revised user history and item desc...  \n",
              "5   Here are the revised user history and item des...  \n",
              "6   Revised User History:\\nThis user's movie viewi...  \n",
              "7   Revised User History:\\nAs a 35-44 year old aca...  \n",
              "8   Revised User History:\\n\\nThis user is a 35-44-...  \n",
              "9   Here are the revised user history and item des...  \n",
              "10  Revised User History:\\nThis user, aged 35-44 a...  \n",
              "11  Revised User History:\\n\\nGiven a female user w...  \n",
              "12  Here's a revised version of the user history a...  \n",
              "13  Revised User History:\\n\\nThis user is a 35-44 ...  \n",
              "14  Revised User History:\\n\\nGiven a female user w...  \n",
              "15  Here is the revised user history and item desc...  \n",
              "16  Here's a revised version of the user history a...  \n",
              "17  Here are the revised user history and item des...  \n",
              "18  Here is a revised version of the user history ...  \n",
              "19  Revised User History:\\nGiven a female user who...  \n",
              "20  Revised User History:\\nThis user is a 35-44 ye...  \n",
              "21  Revised User History:\\nGiven a female user who...  "
            ]
          },
          "execution_count": 153,
          "metadata": {},
          "output_type": "execute_result"
        }
      ],
      "source": [
        "sub_df_clean = sub_df.dropna()\n",
        "sub_df_clean.reset_index(drop=True, inplace=True)\n",
        "sub_df_clean"
      ]
    },
    {
      "cell_type": "code",
      "execution_count": 154,
      "metadata": {
        "colab": {
          "base_uri": "https://localhost:8080/",
          "height": 87
        },
        "id": "i7Dob1wBdtJr",
        "outputId": "2eb374b0-ba84-48f3-dea0-d20eca8ddbbd"
      },
      "outputs": [
        {
          "data": {
            "application/vnd.google.colaboratory.intrinsic+json": {
              "type": "string"
            },
            "text/plain": [
              "\"Given a male user who is aged 35-44 and a tradesman/craftsman, this user's movie viewing history over time is listed below. Last of the Mohicans, The (1992), 4 stars; Unforgiven (1992), 5 stars; Pale Rider (1985), 5 stars; Gattaca (1997), 2 stars; Legends of the Fall (1994), 5 stars; Milk Money (1994), 3 stars; Kelly's Heroes (1970), 4 stars; One Flew Over the Cuckoo's Nest (1975), 4 stars; Star Wars: Episode V - The Empire Strikes Back (1980), 3 stars; Raiders of the Lost Ark (1981), 4 stars. This user tends to enjoy action-packed movies with strong male leads, often set in historical or adventurous settings. He also appreciates movies with complex themes and characters, exploring deeper issues and emotions.\""
            ]
          },
          "execution_count": 154,
          "metadata": {},
          "output_type": "execute_result"
        }
      ],
      "source": [
        "sub_df.loc[0,'user_reflect']"
      ]
    },
    {
      "cell_type": "code",
      "execution_count": 155,
      "metadata": {
        "colab": {
          "base_uri": "https://localhost:8080/",
          "height": 122
        },
        "id": "g3B8Jp4ldw4c",
        "outputId": "67be0663-57b2-4b0a-9a4b-0f6df94be761"
      },
      "outputs": [
        {
          "data": {
            "application/vnd.google.colaboratory.intrinsic+json": {
              "type": "string"
            },
            "text/plain": [
              "'Given a male user who is aged 35-44 and a tradesman/craftsman, this user\\'s movie viewing history over time is listed below. Last of the Mohicans, The (1992), 4 stars; Unforgiven (1992), 5 stars; Pale Rider (1985), 5 stars; Gattaca (1997), 2 stars; Legends of the Fall (1994), 5 stars; Milk Money (1994), 3 stars; Kelly\\'s Heroes (1970), 4 stars; One Flew Over the Cuckoo\\'s Nest (1975), 4 stars; Star Wars: Episode V - The Empire Strikes Back (1980), 3 stars; Raiders of the Lost Ark (1981), 4 stars. Based on the user\\'s movie viewing history, it seems that he enjoys action and adventure movies with strong male leads. The user has given high ratings to movies like \"Unforgiven,\" \"Pale Rider,\" and \"Legends of the Fall,\" which all feature rugged, tough male protagonists. The user also enjoys classic war movies like \"Kelly\\'s Heroes\" and \"Raiders of the Lost Ark,\" both of which have strong male leads.\\n\\nHowever, the user also seems to appreciate movies with more complex themes and characters. \"One Flew Over the Cuckoo\\'s Nest\" is a classic film that explores mental illness and institutionalization, while \"Gattaca\" deals with issues of genetic engineering and discrimination. These movies may appeal to the user\\'s intellectual side.\\n\\nThe user\\'s lower rating for \"Star Wars: Episode V - The Empire Strikes Back\" may suggest that he is not a huge fan of sci-fi or fantasy movies. However, the user may still enjoy action-driven movies like \"Star Wars\" as long as they have strong male leads and a compelling plot.\\n\\nOverall, the user seems to prefer movies with strong male leads, action and adventure, complex themes and characters, and high production quality. The user may also appreciate movies with critical acclaim or awards, as many of the movies in his viewing history have received positive reviews and recognition.'"
            ]
          },
          "execution_count": 155,
          "metadata": {},
          "output_type": "execute_result"
        }
      ],
      "source": [
        "sub_df.loc[0,'user_hist']"
      ]
    },
    {
      "cell_type": "code",
      "execution_count": 156,
      "metadata": {
        "id": "vVjRCbc7owmp"
      },
      "outputs": [],
      "source": [
        "new_user_history = sub_df_clean['user_reflect'].tolist()\n",
        "new_item_description = sub_df_clean['item_reflect'].tolist()"
      ]
    },
    {
      "cell_type": "code",
      "execution_count": 157,
      "metadata": {
        "colab": {
          "base_uri": "https://localhost:8080/"
        },
        "id": "6m6TVFM7fhhP",
        "outputId": "2a05bb89-0166-4ad3-e350-e61aa449305a"
      },
      "outputs": [
        {
          "name": "stderr",
          "output_type": "stream",
          "text": [
            "100%|██████████| 11/11 [00:00<00:00, 53.55it/s]\n"
          ]
        }
      ],
      "source": [
        "data_l = DataLoader(new_user_history,2, shuffle=False)\n",
        "new_user_vec = inference(encoding_model, tokenizer, data_l, 'bert', 'avg')"
      ]
    },
    {
      "cell_type": "code",
      "execution_count": 158,
      "metadata": {
        "colab": {
          "base_uri": "https://localhost:8080/"
        },
        "id": "cTmPcwNHp9M5",
        "outputId": "304eace0-9816-40e5-9efe-7e2ca3ec4798"
      },
      "outputs": [
        {
          "name": "stderr",
          "output_type": "stream",
          "text": [
            "100%|██████████| 11/11 [00:00<00:00, 65.59it/s]\n"
          ]
        }
      ],
      "source": [
        "data_l = DataLoader(new_item_description,2, shuffle=False)\n",
        "new_item_vec = inference(encoding_model, tokenizer, data_l, 'bert', 'avg')"
      ]
    },
    {
      "cell_type": "code",
      "execution_count": 159,
      "metadata": {
        "id": "jxEA7ksTfhhQ"
      },
      "outputs": [],
      "source": [
        "l = []\n",
        "cnt= 0\n",
        "for item in test_set:\n",
        "    l.append(item)\n",
        "    cnt+=1\n",
        "    if cnt>200:\n",
        "        break\n",
        "test_dataset = DictDataset(l)"
      ]
    },
    {
      "cell_type": "code",
      "execution_count": 160,
      "metadata": {
        "colab": {
          "base_uri": "https://localhost:8080/"
        },
        "id": "CvbcnoMaqwER",
        "outputId": "064cfbf7-63e9-4509-8261-b532768f1f57"
      },
      "outputs": [
        {
          "data": {
            "text/plain": [
              "tensor([-0.4031,  0.0147,  0.1539, -0.0502,  0.4482,  0.1345,  0.3013,  0.1704,\n",
              "        -0.1854,  0.3938])"
            ]
          },
          "execution_count": 160,
          "metadata": {},
          "output_type": "execute_result"
        }
      ],
      "source": [
        "test_dataset[18]['hist_aug_vec'][:10]"
      ]
    },
    {
      "cell_type": "code",
      "execution_count": 161,
      "metadata": {
        "colab": {
          "base_uri": "https://localhost:8080/"
        },
        "id": "wYSmbANRoeCA",
        "outputId": "6def2dc7-06d2-47aa-97e7-301f1153f511"
      },
      "outputs": [
        {
          "name": "stdout",
          "output_type": "stream",
          "text": [
            "4\n",
            "18\n",
            "29\n",
            "31\n",
            "34\n",
            "57\n",
            "60\n",
            "65\n",
            "69\n",
            "74\n",
            "79\n",
            "85\n",
            "86\n",
            "87\n",
            "88\n",
            "90\n",
            "95\n",
            "96\n",
            "97\n",
            "105\n",
            "107\n",
            "111\n"
          ]
        }
      ],
      "source": [
        "for idx, row in sub_df_clean.iterrows():\n",
        "    test_idx = row['test_index']\n",
        "    print(test_idx)\n",
        "    test_dataset[test_idx]['hist_aug_vec'] = 0\n",
        "    test_dataset[test_idx]['hist_aug_vec'] = torch.tensor(new_user_vec[idx])\n",
        "    test_dataset[test_idx]['item_aug_vec'] = 0\n",
        "    test_dataset[test_idx]['item_aug_vec'] = torch.tensor(new_item_vec[idx])\n"
      ]
    },
    {
      "cell_type": "code",
      "execution_count": 162,
      "metadata": {
        "colab": {
          "base_uri": "https://localhost:8080/"
        },
        "id": "2ONmVWUQq2VG",
        "outputId": "1528775a-5d2e-4ce6-f478-a316aa16b0e8"
      },
      "outputs": [
        {
          "data": {
            "text/plain": [
              "tensor([-0.3225,  0.0623,  0.1450, -0.0188,  0.4778,  0.1110,  0.3804,  0.1305,\n",
              "        -0.2793,  0.4114])"
            ]
          },
          "execution_count": 162,
          "metadata": {},
          "output_type": "execute_result"
        }
      ],
      "source": [
        "test_dataset[18]['hist_aug_vec'][:10]"
      ]
    },
    {
      "cell_type": "code",
      "execution_count": 163,
      "metadata": {
        "id": "6s-OvTzyfhhQ"
      },
      "outputs": [],
      "source": [
        "test_loader = Data.DataLoader(dataset=test_dataset, batch_size=2, shuffle=False)\n",
        "short_test = ShortDataLoader(test_loader, num_batches=100)\n",
        "auc, ll, loss, eval_time, labels, preds = eval(inference_model, short_test)"
      ]
    },
    {
      "cell_type": "code",
      "execution_count": 164,
      "metadata": {
        "colab": {
          "base_uri": "https://localhost:8080/"
        },
        "id": "524JVoApfhhR",
        "outputId": "53b77ade-4fd9-48b6-aeb3-9ee91e81f6e9"
      },
      "outputs": [
        {
          "data": {
            "text/plain": [
              "(0, [0.6602370142936707])"
            ]
          },
          "execution_count": 164,
          "metadata": {},
          "output_type": "execute_result"
        }
      ],
      "source": [
        "labels[18], preds[18]"
      ]
    },
    {
      "cell_type": "code",
      "execution_count": 165,
      "metadata": {
        "colab": {
          "base_uri": "https://localhost:8080/"
        },
        "id": "1WB3j3R0sA7v",
        "outputId": "58b4a0dc-6c0c-40d5-d6b7-c524816495a4"
      },
      "outputs": [
        {
          "data": {
            "text/plain": [
              "[4,\n",
              " 18,\n",
              " 24,\n",
              " 29,\n",
              " 31,\n",
              " 34,\n",
              " 39,\n",
              " 54,\n",
              " 57,\n",
              " 59,\n",
              " 60,\n",
              " 64,\n",
              " 65,\n",
              " 69,\n",
              " 74,\n",
              " 79,\n",
              " 84,\n",
              " 85,\n",
              " 86,\n",
              " 87,\n",
              " 88,\n",
              " 90,\n",
              " 94,\n",
              " 95,\n",
              " 96,\n",
              " 97,\n",
              " 99,\n",
              " 105,\n",
              " 107,\n",
              " 111]"
            ]
          },
          "execution_count": 165,
          "metadata": {},
          "output_type": "execute_result"
        }
      ],
      "source": [
        "sub_df['test_index'].to_list()"
      ]
    },
    {
      "cell_type": "code",
      "execution_count": 166,
      "metadata": {
        "id": "mj0SoXttsNRS"
      },
      "outputs": [],
      "source": [
        "# prompt: take from list only the indexes from another list\n",
        "\n",
        "def get_indexes(list1, list2):\n",
        "  return [e for i, e in enumerate(list1) if i in list2]\n"
      ]
    },
    {
      "cell_type": "code",
      "execution_count": 167,
      "metadata": {
        "colab": {
          "base_uri": "https://localhost:8080/"
        },
        "id": "Cs4jVGOQr6Uy",
        "outputId": "fb7e82c6-3159-41c5-90f7-11c110557fa2"
      },
      "outputs": [
        {
          "data": {
            "text/plain": [
              "[0, 0, 1, 0, 0, 0, 1, 1, 0, 1, 1, 0, 1, 1, 1, 0, 0, 0, 1, 1, 0, 1]"
            ]
          },
          "execution_count": 167,
          "metadata": {},
          "output_type": "execute_result"
        }
      ],
      "source": [
        "new_labels = [v for i , v in enumerate(labels) if i in sub_df_clean['test_index'].to_list()]\n",
        "new_preds = [v[0] for i , v  in enumerate(preds) if i in sub_df_clean['test_index'].to_list()]\n",
        "new_labels"
      ]
    },
    {
      "cell_type": "code",
      "execution_count": 168,
      "metadata": {
        "colab": {
          "base_uri": "https://localhost:8080/"
        },
        "id": "K7MuHfsUsmEi",
        "outputId": "2e497186-0db9-4821-82d8-4ae6aa174113"
      },
      "outputs": [
        {
          "data": {
            "text/plain": [
              "[0.7745561003684998,\n",
              " 0.6602370142936707,\n",
              " 0.6377848386764526,\n",
              " 0.758130669593811,\n",
              " 0.48564252257347107,\n",
              " 0.6651780009269714,\n",
              " 0.3463522791862488,\n",
              " 0.44794902205467224,\n",
              " 0.6877689361572266,\n",
              " 0.34976911544799805,\n",
              " 0.6094719767570496,\n",
              " 0.631099283695221,\n",
              " 0.23065820336341858,\n",
              " 0.6297541856765747,\n",
              " 0.44829216599464417,\n",
              " 0.6686490774154663,\n",
              " 0.6434418559074402,\n",
              " 0.4604402482509613,\n",
              " 0.5197166800498962,\n",
              " 0.5047423243522644,\n",
              " 0.6996059417724609,\n",
              " 0.5078151822090149]"
            ]
          },
          "execution_count": 168,
          "metadata": {},
          "output_type": "execute_result"
        }
      ],
      "source": [
        "new_preds"
      ]
    },
    {
      "cell_type": "code",
      "execution_count": 169,
      "metadata": {
        "colab": {
          "base_uri": "https://localhost:8080/",
          "height": 1000
        },
        "id": "MVJbxyNUfhhR",
        "outputId": "923e150d-9ff9-418c-9dfd-f4322a856d16"
      },
      "outputs": [
        {
          "name": "stderr",
          "output_type": "stream",
          "text": [
            "<ipython-input-169-4f1ed2965461>:1: SettingWithCopyWarning: \n",
            "A value is trying to be set on a copy of a slice from a DataFrame.\n",
            "Try using .loc[row_indexer,col_indexer] = value instead\n",
            "\n",
            "See the caveats in the documentation: https://pandas.pydata.org/pandas-docs/stable/user_guide/indexing.html#returning-a-view-versus-a-copy\n",
            "  sub_df_clean['new label'] = new_labels\n",
            "<ipython-input-169-4f1ed2965461>:2: SettingWithCopyWarning: \n",
            "A value is trying to be set on a copy of a slice from a DataFrame.\n",
            "Try using .loc[row_indexer,col_indexer] = value instead\n",
            "\n",
            "See the caveats in the documentation: https://pandas.pydata.org/pandas-docs/stable/user_guide/indexing.html#returning-a-view-versus-a-copy\n",
            "  sub_df_clean['new pred'] = new_preds\n"
          ]
        },
        {
          "data": {
            "application/vnd.google.colaboratory.intrinsic+json": {
              "summary": "{\n  \"name\": \"sub_df_clean\",\n  \"rows\": 22,\n  \"fields\": [\n    {\n      \"column\": \"test_index\",\n      \"properties\": {\n        \"dtype\": \"number\",\n        \"std\": 30,\n        \"min\": 4,\n        \"max\": 111,\n        \"num_unique_values\": 22,\n        \"samples\": [\n          4,\n          87,\n          69\n        ],\n        \"semantic_type\": \"\",\n        \"description\": \"\"\n      }\n    },\n    {\n      \"column\": \"user_idx\",\n      \"properties\": {\n        \"dtype\": \"category\",\n        \"num_unique_values\": 2,\n        \"samples\": [\n          \"1034\",\n          \"2336\"\n        ],\n        \"semantic_type\": \"\",\n        \"description\": \"\"\n      }\n    },\n    {\n      \"column\": \"user_hist\",\n      \"properties\": {\n        \"dtype\": \"category\",\n        \"num_unique_values\": 2,\n        \"samples\": [\n          \"Given a female user who is aged 35-44 and an academic/educator, this user's movie viewing history over time is listed below. For Your Eyes Only (1981), 4 stars; Licence to Kill (1989), 4 stars; X-Men (2000), 2 stars; Live and Let Die (1973), 3 stars; Treasure of the Sierra Madre, The (1948), 4 stars; Incredible Journey, The (1963), 4 stars; What Lies Beneath (2000), 3 stars; Ghost (1990), 4 stars; Aladdin (1992), 4 stars; Grumpier Old Men (1995), 4 stars; Shadow of a Doubt (1943), 3 stars; Saboteur (1942), 4 stars; Mr. & Mrs. Smith (1941), 3 stars; Meet the Parents (2000), 4 stars; Last of the Mohicans, The (1992), 4 stars; Out of the Past (1947), 4 stars; Arsenic and Old Lace (1944), 4 stars; Dances with Wolves (1990), 4 stars; Batman (1989), 2 stars; Beauty and the Beast (1991), 4 stars; Pretty Woman (1990), 4 stars; Patton (1970), 5 stars; Lady and the Tramp (1955), 4 stars; 101 Dalmatians (1961), 3 stars; High Noon (1952), 3 stars; Big Sleep, The (1946), 4 stars; Somewhere in Time (1980), 4 stars; Ben-Hur (1959), 4 stars; Rounders (1998), 1 stars; Robin Hood (1973), 4 stars. Based on the user's movie viewing history, it seems she enjoys a variety of genres, ranging from action films like \\\"Licence to Kill\\\" and \\\"For Your Eyes Only\\\" to romantic comedies like \\\"Pretty Woman\\\" and family-friendly animations like \\\"Aladdin\\\" and \\\"101 Dalmatians.\\\" She also seems to appreciate classic films, as evidenced by her high ratings for \\\"Treasure of the Sierra Madre,\\\" \\\"Shadow of a Doubt,\\\" \\\"Saboteur,\\\" and \\\"Arsenic and Old Lace.\\\"\\n\\nThe user's ratings suggest that she values strong character development and engaging plots. She generally gives high ratings to films with well-developed and memorable characters, such as \\\"Patton,\\\" which earned a 5-star rating, and \\\"Grumpier Old Men,\\\" which earned a 4-star rating. She also seems to enjoy films with complex and intriguing plots, such as \\\"Out of the Past\\\" and \\\"Last of the Mohicans.\\\"\\n\\nThe user's ratings also suggest that she places importance on production quality and critical acclaim, as she gave high ratings to several award-winning films, including \\\"Ben-Hur\\\" and \\\"Dances with Wolves.\\\" However, she also seems to appreciate more light-hearted and entertaining films, such as \\\"Lady and the Tramp\\\" and \\\"Aladdin.\\\"\\n\\nOverall, it seems that the user enjoys a range of films with engaging plots, memorable characters, and high production quality, regardless of genre or time period. She also seems to appreciate classic films and award-winning productions.\",\n          \"Given a male user who is aged 35-44 and a tradesman/craftsman, this user's movie viewing history over time is listed below. Last of the Mohicans, The (1992), 4 stars; Unforgiven (1992), 5 stars; Pale Rider (1985), 5 stars; Gattaca (1997), 2 stars; Legends of the Fall (1994), 5 stars; Milk Money (1994), 3 stars; Kelly's Heroes (1970), 4 stars; One Flew Over the Cuckoo's Nest (1975), 4 stars; Star Wars: Episode V - The Empire Strikes Back (1980), 3 stars; Raiders of the Lost Ark (1981), 4 stars. Based on the user's movie viewing history, it seems that he enjoys action and adventure movies with strong male leads. The user has given high ratings to movies like \\\"Unforgiven,\\\" \\\"Pale Rider,\\\" and \\\"Legends of the Fall,\\\" which all feature rugged, tough male protagonists. The user also enjoys classic war movies like \\\"Kelly's Heroes\\\" and \\\"Raiders of the Lost Ark,\\\" both of which have strong male leads.\\n\\nHowever, the user also seems to appreciate movies with more complex themes and characters. \\\"One Flew Over the Cuckoo's Nest\\\" is a classic film that explores mental illness and institutionalization, while \\\"Gattaca\\\" deals with issues of genetic engineering and discrimination. These movies may appeal to the user's intellectual side.\\n\\nThe user's lower rating for \\\"Star Wars: Episode V - The Empire Strikes Back\\\" may suggest that he is not a huge fan of sci-fi or fantasy movies. However, the user may still enjoy action-driven movies like \\\"Star Wars\\\" as long as they have strong male leads and a compelling plot.\\n\\nOverall, the user seems to prefer movies with strong male leads, action and adventure, complex themes and characters, and high production quality. The user may also appreciate movies with critical acclaim or awards, as many of the movies in his viewing history have received positive reviews and recognition.\"\n        ],\n        \"semantic_type\": \"\",\n        \"description\": \"\"\n      }\n    },\n    {\n      \"column\": \"item_idx\",\n      \"properties\": {\n        \"dtype\": \"string\",\n        \"num_unique_values\": 22,\n        \"samples\": [\n          \"2922\",\n          \"3844\"\n        ],\n        \"semantic_type\": \"\",\n        \"description\": \"\"\n      }\n    },\n    {\n      \"column\": \"item_desc\",\n      \"properties\": {\n        \"dtype\": \"string\",\n        \"num_unique_values\": 22,\n        \"samples\": [\n          \"Hang 'em High is a classic Western film released in 1967, directed by Ted Post and starring Clint Eastwood in the lead role. The movie is set in the American West during the late 1800s and follows the story of Jed Cooper, a former lawman who is wrongfully accused of cattle rustling and murder. After being lynched by a group of vigilantes, Cooper is rescued and taken to trial, where he is eventually acquitted and sworn in as a U.S. Marshal. \\n\\nThe film is a classic example of the Western genre, featuring cowboys, outlaws, and lawmen in an epic struggle for justice and survival. The cast of Hang 'em High includes some of the most iconic names in Western cinema, including Clint Eastwood, Inger Stevens, Ed Begley, and Pat Hingle. \\n\\nAs a Western film, Hang 'em High is known for its gritty and violent portrayal of life on the American frontier. The movie explores themes of justice, revenge, and redemption, and the mood and tone are dark and often somber. \\n\\nDespite mixed reviews upon its initial release, Hang 'em High has since gained a cult following and is considered a classic of the Western genre. The film received a nomination for Best Cinematography at the 1969 Academy Awards, and its production quality and soundtrack have been praised by critics and viewers alike. \\n\\nOverall, Hang 'em High is an entertaining and thought-provoking Western film that showcases the talents of its director, cast, and crew. It remains a must-see for fans of the genre and those interested in classic American cinema.\",\n          \"Steel Magnolias is a 1989 American comedy-drama film directed by Herbert Ross and based on a play of the same name by Robert Harling. The film features an all-star cast including Sally Field, Julia Roberts, Dolly Parton, Shirley MacLaine, Daryl Hannah, and Olympia Dukakis. \\n\\nSet in a small Louisiana town, the film follows the lives of a group of women who gather at Truvy's Beauty Spot, a local beauty salon, to gossip, share stories, and support each other through life's ups and downs. The characters include M'Lynn, a protective mother; Shelby, her headstrong daughter; Truvy, the salon owner; Clairee, the town's former first lady; Ouiser, a wealthy curmudgeon; and Annelle, a shy newcomer.\\n\\nThe film explores themes of friendship, family, love, loss, and the resilience of the human spirit. The mood and tone of the film are both heartwarming and bittersweet.\\n\\nSteel Magnolias received critical acclaim and was nominated for several awards, including an Academy Award for Best Supporting Actress for Julia Roberts. The film's production quality is high, with excellent cinematography and set design that perfectly captures the small-town Southern setting. The soundtrack features classic songs from the 1960s and 1970s, adding to the film's nostalgic feel.\\n\\nOverall, Steel Magnolias is a timeless classic that showcases the talent of its all-star cast and delivers a heartwarming and emotional story.\"\n        ],\n        \"semantic_type\": \"\",\n        \"description\": \"\"\n      }\n    },\n    {\n      \"column\": \"label\",\n      \"properties\": {\n        \"dtype\": \"number\",\n        \"std\": 0,\n        \"min\": 0,\n        \"max\": 1,\n        \"num_unique_values\": 2,\n        \"samples\": [\n          1,\n          0\n        ],\n        \"semantic_type\": \"\",\n        \"description\": \"\"\n      }\n    },\n    {\n      \"column\": \"pred\",\n      \"properties\": {\n        \"dtype\": \"number\",\n        \"std\": 0.17018686500887092,\n        \"min\": 0.27299609780311584,\n        \"max\": 0.8259052634239197,\n        \"num_unique_values\": 22,\n        \"samples\": [\n          0.7801293730735779,\n          0.438433974981308\n        ],\n        \"semantic_type\": \"\",\n        \"description\": \"\"\n      }\n    },\n    {\n      \"column\": \"user_reflect\",\n      \"properties\": {\n        \"dtype\": \"string\",\n        \"num_unique_values\": 21,\n        \"samples\": [\n          \"Given a male user who is aged 35-44 and a tradesman/craftsman, this user's movie viewing history over time is listed below. Last of the Mohicans, The (1992), 4 stars; Unforgiven (1992), 5 stars; Pale Rider (1985), 5 stars; Gattaca (1997), 2 stars; Legends of the Fall (1994), 5 stars; Milk Money (1994), 3 stars; Kelly's Heroes (1970), 4 stars; One Flew Over the Cuckoo's Nest (1975), 4 stars; Star Wars: Episode V - The Empire Strikes Back (1980), 3 stars; Raiders of the Lost Ark (1981), 4 stars. This user tends to enjoy action-packed movies with strong male leads, often set in historical or adventurous settings. He also appreciates movies with complex themes and characters, exploring deeper issues and emotions.\",\n          \"This user is a 35-44 year old academic/educator who enjoys a wide range of films, including action movies like \\\"Licence to Kill\\\" and \\\"For Your Eyes Only\\\", romantic comedies like \\\"Pretty Woman\\\", and family-friendly animations like \\\"Aladdin\\\" and \\\"101 Dalmatians\\\". She also appreciates classic films, such as \\\"Treasure of the Sierra Madre\\\", \\\"Shadow of a Doubt\\\", \\\"Saboteur\\\", and \\\"Arsenic and Old Lace\\\". She values strong character development and engaging plots, and tends to give high ratings to films with memorable characters and complex plots. She also places importance on production quality and critical acclaim, and has a special fondness for award-winning films.\"\n        ],\n        \"semantic_type\": \"\",\n        \"description\": \"\"\n      }\n    },\n    {\n      \"column\": \"item_reflect\",\n      \"properties\": {\n        \"dtype\": \"string\",\n        \"num_unique_values\": 22,\n        \"samples\": [\n          \"Hang 'em High is a 1967 Western film directed by Ted Post, starring Clint Eastwood as Jed Cooper, a former lawman wrongly accused of cattle rustling and murder. Set in the American West, the movie follows Cooper's journey from wrongful lynching to trial and redemption. With its gritty portrayal of frontier life, Hang 'em High explores themes of justice, revenge, and redemption. The film features a talented cast, including Clint Eastwood, Inger Stevens, Ed Begley, and Pat Hingle. Despite mixed initial reviews, Hang 'em High has gained cult following and critical acclaim, earning a nomination for Best Cinematography at the 1969 Academy Awards. With its iconic leading man, memorable plot, and impressive production quality, Hang 'em High is a must-see for Western film enthusiasts and fans of Clint Eastwood.\",\n          \"Steel Magnolias is a 1989 American comedy-drama film that tells the story of a group of women who gather at Truvy's Beauty Spot, a local beauty salon, to support each other through life's ups and downs. With an all-star cast, the film explores themes of friendship, family, love, loss, and the resilience of the human spirit. The film's production quality is high, with excellent cinematography and set design that perfectly captures the small-town Southern setting. The soundtrack features classic songs from the 1960s and 1970s, adding to the film's nostalgic feel. Critics have praised the film for its heartwarming and emotional story, and it has received numerous award nominations, including an Academy Award for Best Supporting Actress for Julia Roberts.\\n\\nTwo lines added to the end of the item description:\\n\\n* The film's exploration of complex themes and its well-developed characters make it a timeless classic that resonates with audiences.\\n* With its talented cast and poignant storyline, Steel Magnolias is a film that has left a lasting impact on the world of cinema.\"\n        ],\n        \"semantic_type\": \"\",\n        \"description\": \"\"\n      }\n    },\n    {\n      \"column\": \"init_context\",\n      \"properties\": {\n        \"dtype\": \"string\",\n        \"num_unique_values\": 22,\n        \"samples\": [\n          \"Revised User History:\\nGiven a male user who is aged 35-44 and a tradesman/craftsman, this user's movie viewing history over time is listed below. Last of the Mohicans, The (1992), 4 stars; Unforgiven (1992), 5 stars; Pale Rider (1985), 5 stars; Gattaca (1997), 2 stars; Legends of the Fall (1994), 5 stars; Milk Money (1994), 3 stars; Kelly's Heroes (1970), 4 stars; One Flew Over the Cuckoo's Nest (1975), 4 stars; Star Wars: Episode V - The Empire Strikes Back (1980), 3 stars; Raiders of the Lost Ark (1981), 4 stars. This user tends to enjoy action-packed movies with strong male leads, often set in historical or adventurous settings. He also appreciates movies with complex themes and characters, exploring deeper issues and emotions.\\n\\nRevised Item Description:\\nHang 'em High is a 1967 Western film directed by Ted Post, starring Clint Eastwood as Jed Cooper, a former lawman wrongly accused of cattle rustling and murder. Set in the American West, the movie follows Cooper's journey from wrongful lynching to trial and redemption. With its gritty portrayal of frontier life, Hang 'em High explores themes of justice, revenge, and redemption. The film features a talented cast, including Clint Eastwood, Inger Stevens, Ed Begley, and Pat Hingle. Despite mixed initial reviews, Hang 'em High has gained cult following and critical acclaim, earning a nomination for Best Cinematography at the 1969 Academy Awards. With its iconic leading man, memorable plot, and impressive production quality, Hang 'em High is a must-see for Western film enthusiasts and fans of Clint Eastwood.\",\n          \"Revised User History:\\n\\nThis user is a 35-44 year old academic/educator who enjoys a variety of movies, including action films, romantic comedies, and family-friendly animations. She appreciates strong character development and engaging plots, as seen in her high ratings for films like \\\"Patton\\\" and \\\"Grumpier Old Men\\\". She also values production quality and critical acclaim, as evident from her high ratings for award-winning films like \\\"Ben-Hur\\\" and \\\"Dances with Wolves\\\". However, she also enjoys light-hearted and entertaining films, such as \\\"Lady and the Tramp\\\" and \\\"Aladdin\\\". Overall, this user enjoys a range of films with engaging plots, memorable characters, and high production quality, regardless of genre or time period.\\n\\nTwo lines added to the end of the user history:\\n\\n* She tends to appreciate films with a strong emotional resonance, often finding herself invested in the characters' journeys and struggles.\\n* Her enjoyment of films is deeply rooted in her appreciation for well-crafted storytelling and memorable characters.\\n\\nRevised Item Description:\\n\\nSteel Magnolias is a 1989 American comedy-drama film that tells the story of a group of women who gather at Truvy's Beauty Spot, a local beauty salon, to support each other through life's ups and downs. With an all-star cast, the film explores themes of friendship, family, love, loss, and the resilience of the human spirit. The film's production quality is high, with excellent cinematography and set design that perfectly captures the small-town Southern setting. The soundtrack features classic songs from the 1960s and 1970s, adding to the film's nostalgic feel. Critics have praised the film for its heartwarming and emotional story, and it has received numerous award nominations, including an Academy Award for Best Supporting Actress for Julia Roberts.\\n\\nTwo lines added to the end of the item description:\\n\\n* The film's exploration of complex themes and its well-developed characters make it a timeless classic that resonates with audiences.\\n* With its talented cast and poignant storyline, Steel Magnolias is a film that has left a lasting impact on the world of cinema.\"\n        ],\n        \"semantic_type\": \"\",\n        \"description\": \"\"\n      }\n    },\n    {\n      \"column\": \"new label\",\n      \"properties\": {\n        \"dtype\": \"number\",\n        \"std\": 0,\n        \"min\": 0,\n        \"max\": 1,\n        \"num_unique_values\": 2,\n        \"samples\": [\n          1,\n          0\n        ],\n        \"semantic_type\": \"\",\n        \"description\": \"\"\n      }\n    },\n    {\n      \"column\": \"new pred\",\n      \"properties\": {\n        \"dtype\": \"number\",\n        \"std\": 0.1423414654770506,\n        \"min\": 0.23065820336341858,\n        \"max\": 0.7745561003684998,\n        \"num_unique_values\": 22,\n        \"samples\": [\n          0.7745561003684998,\n          0.6297541856765747\n        ],\n        \"semantic_type\": \"\",\n        \"description\": \"\"\n      }\n    }\n  ]\n}",
              "type": "dataframe",
              "variable_name": "sub_df_clean"
            },
            "text/html": [
              "\n",
              "  <div id=\"df-4fd0f517-44c9-4bea-a762-0391944cc17e\" class=\"colab-df-container\">\n",
              "    <div>\n",
              "<style scoped>\n",
              "    .dataframe tbody tr th:only-of-type {\n",
              "        vertical-align: middle;\n",
              "    }\n",
              "\n",
              "    .dataframe tbody tr th {\n",
              "        vertical-align: top;\n",
              "    }\n",
              "\n",
              "    .dataframe thead th {\n",
              "        text-align: right;\n",
              "    }\n",
              "</style>\n",
              "<table border=\"1\" class=\"dataframe\">\n",
              "  <thead>\n",
              "    <tr style=\"text-align: right;\">\n",
              "      <th></th>\n",
              "      <th>test_index</th>\n",
              "      <th>user_idx</th>\n",
              "      <th>user_hist</th>\n",
              "      <th>item_idx</th>\n",
              "      <th>item_desc</th>\n",
              "      <th>label</th>\n",
              "      <th>pred</th>\n",
              "      <th>user_reflect</th>\n",
              "      <th>item_reflect</th>\n",
              "      <th>init_context</th>\n",
              "      <th>new label</th>\n",
              "      <th>new pred</th>\n",
              "    </tr>\n",
              "  </thead>\n",
              "  <tbody>\n",
              "    <tr>\n",
              "      <th>0</th>\n",
              "      <td>4</td>\n",
              "      <td>2336</td>\n",
              "      <td>Given a male user who is aged 35-44 and a trad...</td>\n",
              "      <td>2922</td>\n",
              "      <td>Hang 'em High is a classic Western film releas...</td>\n",
              "      <td>0</td>\n",
              "      <td>0.780129</td>\n",
              "      <td>Given a male user who is aged 35-44 and a trad...</td>\n",
              "      <td>Hang 'em High is a 1967 Western film directed ...</td>\n",
              "      <td>Revised User History:\\nGiven a male user who i...</td>\n",
              "      <td>0</td>\n",
              "      <td>0.774556</td>\n",
              "    </tr>\n",
              "    <tr>\n",
              "      <th>1</th>\n",
              "      <td>18</td>\n",
              "      <td>1034</td>\n",
              "      <td>Given a female user who is aged 35-44 and an a...</td>\n",
              "      <td>924</td>\n",
              "      <td>2001: A Space Odyssey is a science fiction fil...</td>\n",
              "      <td>0</td>\n",
              "      <td>0.717540</td>\n",
              "      <td>Given a female user who is aged 35-44 and an a...</td>\n",
              "      <td>2001: A Space Odyssey is a groundbreaking scie...</td>\n",
              "      <td>Here is the revised user history and item desc...</td>\n",
              "      <td>0</td>\n",
              "      <td>0.660237</td>\n",
              "    </tr>\n",
              "    <tr>\n",
              "      <th>2</th>\n",
              "      <td>29</td>\n",
              "      <td>1034</td>\n",
              "      <td>Given a female user who is aged 35-44 and an a...</td>\n",
              "      <td>3217</td>\n",
              "      <td>\"A Star is Born\" is a 1937 American drama film...</td>\n",
              "      <td>1</td>\n",
              "      <td>0.386345</td>\n",
              "      <td>User is a 35-44 year old academic/educator who...</td>\n",
              "      <td>\"A Star is Born\" is a 1937 American drama film...</td>\n",
              "      <td>Revised User History:\\nUser is a 35-44 year ol...</td>\n",
              "      <td>1</td>\n",
              "      <td>0.637785</td>\n",
              "    </tr>\n",
              "    <tr>\n",
              "      <th>3</th>\n",
              "      <td>31</td>\n",
              "      <td>1034</td>\n",
              "      <td>Given a female user who is aged 35-44 and an a...</td>\n",
              "      <td>1617</td>\n",
              "      <td>L.A. Confidential is a neo-noir crime film dir...</td>\n",
              "      <td>0</td>\n",
              "      <td>0.825905</td>\n",
              "      <td>A female user aged 35-44 and an academic/educa...</td>\n",
              "      <td>L.A. Confidential is a critically acclaimed ne...</td>\n",
              "      <td>Revised User History:\\nA female user aged 35-4...</td>\n",
              "      <td>0</td>\n",
              "      <td>0.758131</td>\n",
              "    </tr>\n",
              "    <tr>\n",
              "      <th>4</th>\n",
              "      <td>34</td>\n",
              "      <td>1034</td>\n",
              "      <td>Given a female user who is aged 35-44 and an a...</td>\n",
              "      <td>2278</td>\n",
              "      <td>Ronin is a 1998 thriller movie directed by Joh...</td>\n",
              "      <td>0</td>\n",
              "      <td>0.502834</td>\n",
              "      <td>Given a female user who is aged 35-44 and an a...</td>\n",
              "      <td>Ronin is a 1998 thriller movie directed by Joh...</td>\n",
              "      <td>Here is the revised user history and item desc...</td>\n",
              "      <td>0</td>\n",
              "      <td>0.485643</td>\n",
              "    </tr>\n",
              "    <tr>\n",
              "      <th>5</th>\n",
              "      <td>57</td>\n",
              "      <td>1034</td>\n",
              "      <td>Given a female user who is aged 35-44 and an a...</td>\n",
              "      <td>978</td>\n",
              "      <td>The Blue Angel (Blaue Engel, Der) is a 1930 Ge...</td>\n",
              "      <td>0</td>\n",
              "      <td>0.727337</td>\n",
              "      <td>As a 35-44 year old academic/educator, this us...</td>\n",
              "      <td>\"The Blue Angel\" is a 1930 German drama film d...</td>\n",
              "      <td>Here are the revised user history and item des...</td>\n",
              "      <td>0</td>\n",
              "      <td>0.665178</td>\n",
              "    </tr>\n",
              "    <tr>\n",
              "      <th>6</th>\n",
              "      <td>60</td>\n",
              "      <td>1034</td>\n",
              "      <td>Given a female user who is aged 35-44 and an a...</td>\n",
              "      <td>2617</td>\n",
              "      <td>The Mummy is a 1999 American action-adventure ...</td>\n",
              "      <td>1</td>\n",
              "      <td>0.272996</td>\n",
              "      <td>This user's movie viewing history reveals a di...</td>\n",
              "      <td>The Mummy is a 1999 American action-adventure ...</td>\n",
              "      <td>Revised User History:\\nThis user's movie viewi...</td>\n",
              "      <td>1</td>\n",
              "      <td>0.346352</td>\n",
              "    </tr>\n",
              "    <tr>\n",
              "      <th>7</th>\n",
              "      <td>65</td>\n",
              "      <td>1034</td>\n",
              "      <td>Given a female user who is aged 35-44 and an a...</td>\n",
              "      <td>2640</td>\n",
              "      <td>Superman is a 1978 superhero film directed by ...</td>\n",
              "      <td>1</td>\n",
              "      <td>0.386297</td>\n",
              "      <td>As a 35-44 year old academic/educator, this us...</td>\n",
              "      <td>In this 1978 superhero classic, Christopher Re...</td>\n",
              "      <td>Revised User History:\\nAs a 35-44 year old aca...</td>\n",
              "      <td>1</td>\n",
              "      <td>0.447949</td>\n",
              "    </tr>\n",
              "    <tr>\n",
              "      <th>8</th>\n",
              "      <td>69</td>\n",
              "      <td>1034</td>\n",
              "      <td>Given a female user who is aged 35-44 and an a...</td>\n",
              "      <td>1873</td>\n",
              "      <td>Les Misérables (1998) is a French film adaptat...</td>\n",
              "      <td>0</td>\n",
              "      <td>0.625090</td>\n",
              "      <td>This user is a 35-44-year-old academic/educato...</td>\n",
              "      <td>Les Misérables is a critically acclaimed Frenc...</td>\n",
              "      <td>Revised User History:\\n\\nThis user is a 35-44-...</td>\n",
              "      <td>0</td>\n",
              "      <td>0.687769</td>\n",
              "    </tr>\n",
              "    <tr>\n",
              "      <th>9</th>\n",
              "      <td>74</td>\n",
              "      <td>1034</td>\n",
              "      <td>Given a female user who is aged 35-44 and an a...</td>\n",
              "      <td>3483</td>\n",
              "      <td>\"The Road to El Dorado\" is an animated adventu...</td>\n",
              "      <td>1</td>\n",
              "      <td>0.278205</td>\n",
              "      <td>Given a female user who is aged 35-44 and an a...</td>\n",
              "      <td>The Road to El Dorado is an animated adventure...</td>\n",
              "      <td>Here are the revised user history and item des...</td>\n",
              "      <td>1</td>\n",
              "      <td>0.349769</td>\n",
              "    </tr>\n",
              "    <tr>\n",
              "      <th>10</th>\n",
              "      <td>79</td>\n",
              "      <td>1034</td>\n",
              "      <td>Given a female user who is aged 35-44 and an a...</td>\n",
              "      <td>2861</td>\n",
              "      <td>For Love of the Game is a romantic sports dram...</td>\n",
              "      <td>1</td>\n",
              "      <td>0.431502</td>\n",
              "      <td>This user, aged 35-44 and an academic/educator...</td>\n",
              "      <td>For Love of the Game is a romantic sports dram...</td>\n",
              "      <td>Revised User History:\\nThis user, aged 35-44 a...</td>\n",
              "      <td>1</td>\n",
              "      <td>0.609472</td>\n",
              "    </tr>\n",
              "    <tr>\n",
              "      <th>11</th>\n",
              "      <td>85</td>\n",
              "      <td>1034</td>\n",
              "      <td>Given a female user who is aged 35-44 and an a...</td>\n",
              "      <td>480</td>\n",
              "      <td>Jurassic Park is a science fiction adventure f...</td>\n",
              "      <td>0</td>\n",
              "      <td>0.567006</td>\n",
              "      <td>Given a female user who is aged 35-44 and an a...</td>\n",
              "      <td>Jurassic Park is a science fiction adventure f...</td>\n",
              "      <td>Revised User History:\\n\\nGiven a female user w...</td>\n",
              "      <td>0</td>\n",
              "      <td>0.631099</td>\n",
              "    </tr>\n",
              "    <tr>\n",
              "      <th>12</th>\n",
              "      <td>86</td>\n",
              "      <td>1034</td>\n",
              "      <td>Given a female user who is aged 35-44 and an a...</td>\n",
              "      <td>2100</td>\n",
              "      <td>Splash is a romantic comedy film released in 1...</td>\n",
              "      <td>1</td>\n",
              "      <td>0.356206</td>\n",
              "      <td>Given a female user who is aged 35-44 and an a...</td>\n",
              "      <td>Splash is a romantic comedy film released in 1...</td>\n",
              "      <td>Here's a revised version of the user history a...</td>\n",
              "      <td>1</td>\n",
              "      <td>0.230658</td>\n",
              "    </tr>\n",
              "    <tr>\n",
              "      <th>13</th>\n",
              "      <td>87</td>\n",
              "      <td>1034</td>\n",
              "      <td>Given a female user who is aged 35-44 and an a...</td>\n",
              "      <td>3844</td>\n",
              "      <td>Steel Magnolias is a 1989 American comedy-dram...</td>\n",
              "      <td>1</td>\n",
              "      <td>0.438434</td>\n",
              "      <td>This user is a 35-44 year old academic/educato...</td>\n",
              "      <td>Steel Magnolias is a 1989 American comedy-dram...</td>\n",
              "      <td>Revised User History:\\n\\nThis user is a 35-44 ...</td>\n",
              "      <td>1</td>\n",
              "      <td>0.629754</td>\n",
              "    </tr>\n",
              "    <tr>\n",
              "      <th>14</th>\n",
              "      <td>88</td>\n",
              "      <td>1034</td>\n",
              "      <td>Given a female user who is aged 35-44 and an a...</td>\n",
              "      <td>2110</td>\n",
              "      <td>Dead Men Don't Wear Plaid is a 1982 comedy fil...</td>\n",
              "      <td>1</td>\n",
              "      <td>0.342043</td>\n",
              "      <td>Given a female user who is aged 35-44 and an a...</td>\n",
              "      <td>Dead Men Don't Wear Plaid is a 1982 comedy fil...</td>\n",
              "      <td>Revised User History:\\n\\nGiven a female user w...</td>\n",
              "      <td>1</td>\n",
              "      <td>0.448292</td>\n",
              "    </tr>\n",
              "    <tr>\n",
              "      <th>15</th>\n",
              "      <td>90</td>\n",
              "      <td>1034</td>\n",
              "      <td>Given a female user who is aged 35-44 and an a...</td>\n",
              "      <td>1333</td>\n",
              "      <td>The Birds is a 1963 horror-thriller film direc...</td>\n",
              "      <td>0</td>\n",
              "      <td>0.608357</td>\n",
              "      <td>This user is a 35-44 year old educator who has...</td>\n",
              "      <td>The Birds is a 1963 horror-thriller film direc...</td>\n",
              "      <td>Here is the revised user history and item desc...</td>\n",
              "      <td>0</td>\n",
              "      <td>0.668649</td>\n",
              "    </tr>\n",
              "    <tr>\n",
              "      <th>16</th>\n",
              "      <td>95</td>\n",
              "      <td>1034</td>\n",
              "      <td>Given a female user who is aged 35-44 and an a...</td>\n",
              "      <td>3897</td>\n",
              "      <td>Almost Famous is a 2000 American drama film di...</td>\n",
              "      <td>0</td>\n",
              "      <td>0.699644</td>\n",
              "      <td>This 35-44 year old academic/educator has a di...</td>\n",
              "      <td>Almost Famous is a critically acclaimed 2000 d...</td>\n",
              "      <td>Here's a revised version of the user history a...</td>\n",
              "      <td>0</td>\n",
              "      <td>0.643442</td>\n",
              "    </tr>\n",
              "    <tr>\n",
              "      <th>17</th>\n",
              "      <td>96</td>\n",
              "      <td>1034</td>\n",
              "      <td>Given a female user who is aged 35-44 and an a...</td>\n",
              "      <td>2160</td>\n",
              "      <td>Rosemary's Baby is a classic horror film that ...</td>\n",
              "      <td>0</td>\n",
              "      <td>0.579325</td>\n",
              "      <td>This user is a 35-44 year old academic/educato...</td>\n",
              "      <td>Rosemary's Baby is a classic horror film relea...</td>\n",
              "      <td>Here are the revised user history and item des...</td>\n",
              "      <td>0</td>\n",
              "      <td>0.460440</td>\n",
              "    </tr>\n",
              "    <tr>\n",
              "      <th>18</th>\n",
              "      <td>97</td>\n",
              "      <td>1034</td>\n",
              "      <td>Given a female user who is aged 35-44 and an a...</td>\n",
              "      <td>3111</td>\n",
              "      <td>\"Places in the Heart\" is a drama film from 198...</td>\n",
              "      <td>1</td>\n",
              "      <td>0.443891</td>\n",
              "      <td>Given a female user who is aged 35-44 and an a...</td>\n",
              "      <td>\"Places in the Heart\" is a critically acclaime...</td>\n",
              "      <td>Here is a revised version of the user history ...</td>\n",
              "      <td>1</td>\n",
              "      <td>0.519717</td>\n",
              "    </tr>\n",
              "    <tr>\n",
              "      <th>19</th>\n",
              "      <td>105</td>\n",
              "      <td>1034</td>\n",
              "      <td>Given a female user who is aged 35-44 and an a...</td>\n",
              "      <td>2340</td>\n",
              "      <td>Meet Joe Black is a romantic fantasy drama fil...</td>\n",
              "      <td>1</td>\n",
              "      <td>0.321990</td>\n",
              "      <td>Given a female user who is aged 35-44 and an a...</td>\n",
              "      <td>Meet Joe Black is a romantic fantasy drama fil...</td>\n",
              "      <td>Revised User History:\\nGiven a female user who...</td>\n",
              "      <td>1</td>\n",
              "      <td>0.504742</td>\n",
              "    </tr>\n",
              "    <tr>\n",
              "      <th>20</th>\n",
              "      <td>107</td>\n",
              "      <td>1034</td>\n",
              "      <td>Given a female user who is aged 35-44 and an a...</td>\n",
              "      <td>3148</td>\n",
              "      <td>The Cider House Rules is a drama film released...</td>\n",
              "      <td>0</td>\n",
              "      <td>0.694874</td>\n",
              "      <td>This user is a 35-44 year old educator who has...</td>\n",
              "      <td>This drama film, released in 1999, is a poigna...</td>\n",
              "      <td>Revised User History:\\nThis user is a 35-44 ye...</td>\n",
              "      <td>0</td>\n",
              "      <td>0.699606</td>\n",
              "    </tr>\n",
              "    <tr>\n",
              "      <th>21</th>\n",
              "      <td>111</td>\n",
              "      <td>1034</td>\n",
              "      <td>Given a female user who is aged 35-44 and an a...</td>\n",
              "      <td>2355</td>\n",
              "      <td>A Bug's Life is a computer-animated comedy fil...</td>\n",
              "      <td>1</td>\n",
              "      <td>0.456336</td>\n",
              "      <td>Given a female user who is aged 35-44 and an a...</td>\n",
              "      <td>A Bug's Life is a computer-animated comedy fil...</td>\n",
              "      <td>Revised User History:\\nGiven a female user who...</td>\n",
              "      <td>1</td>\n",
              "      <td>0.507815</td>\n",
              "    </tr>\n",
              "  </tbody>\n",
              "</table>\n",
              "</div>\n",
              "    <div class=\"colab-df-buttons\">\n",
              "\n",
              "  <div class=\"colab-df-container\">\n",
              "    <button class=\"colab-df-convert\" onclick=\"convertToInteractive('df-4fd0f517-44c9-4bea-a762-0391944cc17e')\"\n",
              "            title=\"Convert this dataframe to an interactive table.\"\n",
              "            style=\"display:none;\">\n",
              "\n",
              "  <svg xmlns=\"http://www.w3.org/2000/svg\" height=\"24px\" viewBox=\"0 -960 960 960\">\n",
              "    <path d=\"M120-120v-720h720v720H120Zm60-500h600v-160H180v160Zm220 220h160v-160H400v160Zm0 220h160v-160H400v160ZM180-400h160v-160H180v160Zm440 0h160v-160H620v160ZM180-180h160v-160H180v160Zm440 0h160v-160H620v160Z\"/>\n",
              "  </svg>\n",
              "    </button>\n",
              "\n",
              "  <style>\n",
              "    .colab-df-container {\n",
              "      display:flex;\n",
              "      gap: 12px;\n",
              "    }\n",
              "\n",
              "    .colab-df-convert {\n",
              "      background-color: #E8F0FE;\n",
              "      border: none;\n",
              "      border-radius: 50%;\n",
              "      cursor: pointer;\n",
              "      display: none;\n",
              "      fill: #1967D2;\n",
              "      height: 32px;\n",
              "      padding: 0 0 0 0;\n",
              "      width: 32px;\n",
              "    }\n",
              "\n",
              "    .colab-df-convert:hover {\n",
              "      background-color: #E2EBFA;\n",
              "      box-shadow: 0px 1px 2px rgba(60, 64, 67, 0.3), 0px 1px 3px 1px rgba(60, 64, 67, 0.15);\n",
              "      fill: #174EA6;\n",
              "    }\n",
              "\n",
              "    .colab-df-buttons div {\n",
              "      margin-bottom: 4px;\n",
              "    }\n",
              "\n",
              "    [theme=dark] .colab-df-convert {\n",
              "      background-color: #3B4455;\n",
              "      fill: #D2E3FC;\n",
              "    }\n",
              "\n",
              "    [theme=dark] .colab-df-convert:hover {\n",
              "      background-color: #434B5C;\n",
              "      box-shadow: 0px 1px 3px 1px rgba(0, 0, 0, 0.15);\n",
              "      filter: drop-shadow(0px 1px 2px rgba(0, 0, 0, 0.3));\n",
              "      fill: #FFFFFF;\n",
              "    }\n",
              "  </style>\n",
              "\n",
              "    <script>\n",
              "      const buttonEl =\n",
              "        document.querySelector('#df-4fd0f517-44c9-4bea-a762-0391944cc17e button.colab-df-convert');\n",
              "      buttonEl.style.display =\n",
              "        google.colab.kernel.accessAllowed ? 'block' : 'none';\n",
              "\n",
              "      async function convertToInteractive(key) {\n",
              "        const element = document.querySelector('#df-4fd0f517-44c9-4bea-a762-0391944cc17e');\n",
              "        const dataTable =\n",
              "          await google.colab.kernel.invokeFunction('convertToInteractive',\n",
              "                                                    [key], {});\n",
              "        if (!dataTable) return;\n",
              "\n",
              "        const docLinkHtml = 'Like what you see? Visit the ' +\n",
              "          '<a target=\"_blank\" href=https://colab.research.google.com/notebooks/data_table.ipynb>data table notebook</a>'\n",
              "          + ' to learn more about interactive tables.';\n",
              "        element.innerHTML = '';\n",
              "        dataTable['output_type'] = 'display_data';\n",
              "        await google.colab.output.renderOutput(dataTable, element);\n",
              "        const docLink = document.createElement('div');\n",
              "        docLink.innerHTML = docLinkHtml;\n",
              "        element.appendChild(docLink);\n",
              "      }\n",
              "    </script>\n",
              "  </div>\n",
              "\n",
              "\n",
              "<div id=\"df-b6d08108-60fc-423e-9b73-a7eff39fc229\">\n",
              "  <button class=\"colab-df-quickchart\" onclick=\"quickchart('df-b6d08108-60fc-423e-9b73-a7eff39fc229')\"\n",
              "            title=\"Suggest charts\"\n",
              "            style=\"display:none;\">\n",
              "\n",
              "<svg xmlns=\"http://www.w3.org/2000/svg\" height=\"24px\"viewBox=\"0 0 24 24\"\n",
              "     width=\"24px\">\n",
              "    <g>\n",
              "        <path d=\"M19 3H5c-1.1 0-2 .9-2 2v14c0 1.1.9 2 2 2h14c1.1 0 2-.9 2-2V5c0-1.1-.9-2-2-2zM9 17H7v-7h2v7zm4 0h-2V7h2v10zm4 0h-2v-4h2v4z\"/>\n",
              "    </g>\n",
              "</svg>\n",
              "  </button>\n",
              "\n",
              "<style>\n",
              "  .colab-df-quickchart {\n",
              "      --bg-color: #E8F0FE;\n",
              "      --fill-color: #1967D2;\n",
              "      --hover-bg-color: #E2EBFA;\n",
              "      --hover-fill-color: #174EA6;\n",
              "      --disabled-fill-color: #AAA;\n",
              "      --disabled-bg-color: #DDD;\n",
              "  }\n",
              "\n",
              "  [theme=dark] .colab-df-quickchart {\n",
              "      --bg-color: #3B4455;\n",
              "      --fill-color: #D2E3FC;\n",
              "      --hover-bg-color: #434B5C;\n",
              "      --hover-fill-color: #FFFFFF;\n",
              "      --disabled-bg-color: #3B4455;\n",
              "      --disabled-fill-color: #666;\n",
              "  }\n",
              "\n",
              "  .colab-df-quickchart {\n",
              "    background-color: var(--bg-color);\n",
              "    border: none;\n",
              "    border-radius: 50%;\n",
              "    cursor: pointer;\n",
              "    display: none;\n",
              "    fill: var(--fill-color);\n",
              "    height: 32px;\n",
              "    padding: 0;\n",
              "    width: 32px;\n",
              "  }\n",
              "\n",
              "  .colab-df-quickchart:hover {\n",
              "    background-color: var(--hover-bg-color);\n",
              "    box-shadow: 0 1px 2px rgba(60, 64, 67, 0.3), 0 1px 3px 1px rgba(60, 64, 67, 0.15);\n",
              "    fill: var(--button-hover-fill-color);\n",
              "  }\n",
              "\n",
              "  .colab-df-quickchart-complete:disabled,\n",
              "  .colab-df-quickchart-complete:disabled:hover {\n",
              "    background-color: var(--disabled-bg-color);\n",
              "    fill: var(--disabled-fill-color);\n",
              "    box-shadow: none;\n",
              "  }\n",
              "\n",
              "  .colab-df-spinner {\n",
              "    border: 2px solid var(--fill-color);\n",
              "    border-color: transparent;\n",
              "    border-bottom-color: var(--fill-color);\n",
              "    animation:\n",
              "      spin 1s steps(1) infinite;\n",
              "  }\n",
              "\n",
              "  @keyframes spin {\n",
              "    0% {\n",
              "      border-color: transparent;\n",
              "      border-bottom-color: var(--fill-color);\n",
              "      border-left-color: var(--fill-color);\n",
              "    }\n",
              "    20% {\n",
              "      border-color: transparent;\n",
              "      border-left-color: var(--fill-color);\n",
              "      border-top-color: var(--fill-color);\n",
              "    }\n",
              "    30% {\n",
              "      border-color: transparent;\n",
              "      border-left-color: var(--fill-color);\n",
              "      border-top-color: var(--fill-color);\n",
              "      border-right-color: var(--fill-color);\n",
              "    }\n",
              "    40% {\n",
              "      border-color: transparent;\n",
              "      border-right-color: var(--fill-color);\n",
              "      border-top-color: var(--fill-color);\n",
              "    }\n",
              "    60% {\n",
              "      border-color: transparent;\n",
              "      border-right-color: var(--fill-color);\n",
              "    }\n",
              "    80% {\n",
              "      border-color: transparent;\n",
              "      border-right-color: var(--fill-color);\n",
              "      border-bottom-color: var(--fill-color);\n",
              "    }\n",
              "    90% {\n",
              "      border-color: transparent;\n",
              "      border-bottom-color: var(--fill-color);\n",
              "    }\n",
              "  }\n",
              "</style>\n",
              "\n",
              "  <script>\n",
              "    async function quickchart(key) {\n",
              "      const quickchartButtonEl =\n",
              "        document.querySelector('#' + key + ' button');\n",
              "      quickchartButtonEl.disabled = true;  // To prevent multiple clicks.\n",
              "      quickchartButtonEl.classList.add('colab-df-spinner');\n",
              "      try {\n",
              "        const charts = await google.colab.kernel.invokeFunction(\n",
              "            'suggestCharts', [key], {});\n",
              "      } catch (error) {\n",
              "        console.error('Error during call to suggestCharts:', error);\n",
              "      }\n",
              "      quickchartButtonEl.classList.remove('colab-df-spinner');\n",
              "      quickchartButtonEl.classList.add('colab-df-quickchart-complete');\n",
              "    }\n",
              "    (() => {\n",
              "      let quickchartButtonEl =\n",
              "        document.querySelector('#df-b6d08108-60fc-423e-9b73-a7eff39fc229 button');\n",
              "      quickchartButtonEl.style.display =\n",
              "        google.colab.kernel.accessAllowed ? 'block' : 'none';\n",
              "    })();\n",
              "  </script>\n",
              "</div>\n",
              "\n",
              "  <div id=\"id_69b1b460-b623-4fff-98aa-60c82c01ba9c\">\n",
              "    <style>\n",
              "      .colab-df-generate {\n",
              "        background-color: #E8F0FE;\n",
              "        border: none;\n",
              "        border-radius: 50%;\n",
              "        cursor: pointer;\n",
              "        display: none;\n",
              "        fill: #1967D2;\n",
              "        height: 32px;\n",
              "        padding: 0 0 0 0;\n",
              "        width: 32px;\n",
              "      }\n",
              "\n",
              "      .colab-df-generate:hover {\n",
              "        background-color: #E2EBFA;\n",
              "        box-shadow: 0px 1px 2px rgba(60, 64, 67, 0.3), 0px 1px 3px 1px rgba(60, 64, 67, 0.15);\n",
              "        fill: #174EA6;\n",
              "      }\n",
              "\n",
              "      [theme=dark] .colab-df-generate {\n",
              "        background-color: #3B4455;\n",
              "        fill: #D2E3FC;\n",
              "      }\n",
              "\n",
              "      [theme=dark] .colab-df-generate:hover {\n",
              "        background-color: #434B5C;\n",
              "        box-shadow: 0px 1px 3px 1px rgba(0, 0, 0, 0.15);\n",
              "        filter: drop-shadow(0px 1px 2px rgba(0, 0, 0, 0.3));\n",
              "        fill: #FFFFFF;\n",
              "      }\n",
              "    </style>\n",
              "    <button class=\"colab-df-generate\" onclick=\"generateWithVariable('sub_df_clean')\"\n",
              "            title=\"Generate code using this dataframe.\"\n",
              "            style=\"display:none;\">\n",
              "\n",
              "  <svg xmlns=\"http://www.w3.org/2000/svg\" height=\"24px\"viewBox=\"0 0 24 24\"\n",
              "       width=\"24px\">\n",
              "    <path d=\"M7,19H8.4L18.45,9,17,7.55,7,17.6ZM5,21V16.75L18.45,3.32a2,2,0,0,1,2.83,0l1.4,1.43a1.91,1.91,0,0,1,.58,1.4,1.91,1.91,0,0,1-.58,1.4L9.25,21ZM18.45,9,17,7.55Zm-12,3A5.31,5.31,0,0,0,4.9,8.1,5.31,5.31,0,0,0,1,6.5,5.31,5.31,0,0,0,4.9,4.9,5.31,5.31,0,0,0,6.5,1,5.31,5.31,0,0,0,8.1,4.9,5.31,5.31,0,0,0,12,6.5,5.46,5.46,0,0,0,6.5,12Z\"/>\n",
              "  </svg>\n",
              "    </button>\n",
              "    <script>\n",
              "      (() => {\n",
              "      const buttonEl =\n",
              "        document.querySelector('#id_69b1b460-b623-4fff-98aa-60c82c01ba9c button.colab-df-generate');\n",
              "      buttonEl.style.display =\n",
              "        google.colab.kernel.accessAllowed ? 'block' : 'none';\n",
              "\n",
              "      buttonEl.onclick = () => {\n",
              "        google.colab.notebook.generateWithVariable('sub_df_clean');\n",
              "      }\n",
              "      })();\n",
              "    </script>\n",
              "  </div>\n",
              "\n",
              "    </div>\n",
              "  </div>\n"
            ],
            "text/plain": [
              "    test_index user_idx                                          user_hist  \\\n",
              "0            4     2336  Given a male user who is aged 35-44 and a trad...   \n",
              "1           18     1034  Given a female user who is aged 35-44 and an a...   \n",
              "2           29     1034  Given a female user who is aged 35-44 and an a...   \n",
              "3           31     1034  Given a female user who is aged 35-44 and an a...   \n",
              "4           34     1034  Given a female user who is aged 35-44 and an a...   \n",
              "5           57     1034  Given a female user who is aged 35-44 and an a...   \n",
              "6           60     1034  Given a female user who is aged 35-44 and an a...   \n",
              "7           65     1034  Given a female user who is aged 35-44 and an a...   \n",
              "8           69     1034  Given a female user who is aged 35-44 and an a...   \n",
              "9           74     1034  Given a female user who is aged 35-44 and an a...   \n",
              "10          79     1034  Given a female user who is aged 35-44 and an a...   \n",
              "11          85     1034  Given a female user who is aged 35-44 and an a...   \n",
              "12          86     1034  Given a female user who is aged 35-44 and an a...   \n",
              "13          87     1034  Given a female user who is aged 35-44 and an a...   \n",
              "14          88     1034  Given a female user who is aged 35-44 and an a...   \n",
              "15          90     1034  Given a female user who is aged 35-44 and an a...   \n",
              "16          95     1034  Given a female user who is aged 35-44 and an a...   \n",
              "17          96     1034  Given a female user who is aged 35-44 and an a...   \n",
              "18          97     1034  Given a female user who is aged 35-44 and an a...   \n",
              "19         105     1034  Given a female user who is aged 35-44 and an a...   \n",
              "20         107     1034  Given a female user who is aged 35-44 and an a...   \n",
              "21         111     1034  Given a female user who is aged 35-44 and an a...   \n",
              "\n",
              "   item_idx                                          item_desc  label  \\\n",
              "0      2922  Hang 'em High is a classic Western film releas...      0   \n",
              "1       924  2001: A Space Odyssey is a science fiction fil...      0   \n",
              "2      3217  \"A Star is Born\" is a 1937 American drama film...      1   \n",
              "3      1617  L.A. Confidential is a neo-noir crime film dir...      0   \n",
              "4      2278  Ronin is a 1998 thriller movie directed by Joh...      0   \n",
              "5       978  The Blue Angel (Blaue Engel, Der) is a 1930 Ge...      0   \n",
              "6      2617  The Mummy is a 1999 American action-adventure ...      1   \n",
              "7      2640  Superman is a 1978 superhero film directed by ...      1   \n",
              "8      1873  Les Misérables (1998) is a French film adaptat...      0   \n",
              "9      3483  \"The Road to El Dorado\" is an animated adventu...      1   \n",
              "10     2861  For Love of the Game is a romantic sports dram...      1   \n",
              "11      480  Jurassic Park is a science fiction adventure f...      0   \n",
              "12     2100  Splash is a romantic comedy film released in 1...      1   \n",
              "13     3844  Steel Magnolias is a 1989 American comedy-dram...      1   \n",
              "14     2110  Dead Men Don't Wear Plaid is a 1982 comedy fil...      1   \n",
              "15     1333  The Birds is a 1963 horror-thriller film direc...      0   \n",
              "16     3897  Almost Famous is a 2000 American drama film di...      0   \n",
              "17     2160  Rosemary's Baby is a classic horror film that ...      0   \n",
              "18     3111  \"Places in the Heart\" is a drama film from 198...      1   \n",
              "19     2340  Meet Joe Black is a romantic fantasy drama fil...      1   \n",
              "20     3148  The Cider House Rules is a drama film released...      0   \n",
              "21     2355  A Bug's Life is a computer-animated comedy fil...      1   \n",
              "\n",
              "        pred                                       user_reflect  \\\n",
              "0   0.780129  Given a male user who is aged 35-44 and a trad...   \n",
              "1   0.717540  Given a female user who is aged 35-44 and an a...   \n",
              "2   0.386345  User is a 35-44 year old academic/educator who...   \n",
              "3   0.825905  A female user aged 35-44 and an academic/educa...   \n",
              "4   0.502834  Given a female user who is aged 35-44 and an a...   \n",
              "5   0.727337  As a 35-44 year old academic/educator, this us...   \n",
              "6   0.272996  This user's movie viewing history reveals a di...   \n",
              "7   0.386297  As a 35-44 year old academic/educator, this us...   \n",
              "8   0.625090  This user is a 35-44-year-old academic/educato...   \n",
              "9   0.278205  Given a female user who is aged 35-44 and an a...   \n",
              "10  0.431502  This user, aged 35-44 and an academic/educator...   \n",
              "11  0.567006  Given a female user who is aged 35-44 and an a...   \n",
              "12  0.356206  Given a female user who is aged 35-44 and an a...   \n",
              "13  0.438434  This user is a 35-44 year old academic/educato...   \n",
              "14  0.342043  Given a female user who is aged 35-44 and an a...   \n",
              "15  0.608357  This user is a 35-44 year old educator who has...   \n",
              "16  0.699644  This 35-44 year old academic/educator has a di...   \n",
              "17  0.579325  This user is a 35-44 year old academic/educato...   \n",
              "18  0.443891  Given a female user who is aged 35-44 and an a...   \n",
              "19  0.321990  Given a female user who is aged 35-44 and an a...   \n",
              "20  0.694874  This user is a 35-44 year old educator who has...   \n",
              "21  0.456336  Given a female user who is aged 35-44 and an a...   \n",
              "\n",
              "                                         item_reflect  \\\n",
              "0   Hang 'em High is a 1967 Western film directed ...   \n",
              "1   2001: A Space Odyssey is a groundbreaking scie...   \n",
              "2   \"A Star is Born\" is a 1937 American drama film...   \n",
              "3   L.A. Confidential is a critically acclaimed ne...   \n",
              "4   Ronin is a 1998 thriller movie directed by Joh...   \n",
              "5   \"The Blue Angel\" is a 1930 German drama film d...   \n",
              "6   The Mummy is a 1999 American action-adventure ...   \n",
              "7   In this 1978 superhero classic, Christopher Re...   \n",
              "8   Les Misérables is a critically acclaimed Frenc...   \n",
              "9   The Road to El Dorado is an animated adventure...   \n",
              "10  For Love of the Game is a romantic sports dram...   \n",
              "11  Jurassic Park is a science fiction adventure f...   \n",
              "12  Splash is a romantic comedy film released in 1...   \n",
              "13  Steel Magnolias is a 1989 American comedy-dram...   \n",
              "14  Dead Men Don't Wear Plaid is a 1982 comedy fil...   \n",
              "15  The Birds is a 1963 horror-thriller film direc...   \n",
              "16  Almost Famous is a critically acclaimed 2000 d...   \n",
              "17  Rosemary's Baby is a classic horror film relea...   \n",
              "18  \"Places in the Heart\" is a critically acclaime...   \n",
              "19  Meet Joe Black is a romantic fantasy drama fil...   \n",
              "20  This drama film, released in 1999, is a poigna...   \n",
              "21  A Bug's Life is a computer-animated comedy fil...   \n",
              "\n",
              "                                         init_context  new label  new pred  \n",
              "0   Revised User History:\\nGiven a male user who i...          0  0.774556  \n",
              "1   Here is the revised user history and item desc...          0  0.660237  \n",
              "2   Revised User History:\\nUser is a 35-44 year ol...          1  0.637785  \n",
              "3   Revised User History:\\nA female user aged 35-4...          0  0.758131  \n",
              "4   Here is the revised user history and item desc...          0  0.485643  \n",
              "5   Here are the revised user history and item des...          0  0.665178  \n",
              "6   Revised User History:\\nThis user's movie viewi...          1  0.346352  \n",
              "7   Revised User History:\\nAs a 35-44 year old aca...          1  0.447949  \n",
              "8   Revised User History:\\n\\nThis user is a 35-44-...          0  0.687769  \n",
              "9   Here are the revised user history and item des...          1  0.349769  \n",
              "10  Revised User History:\\nThis user, aged 35-44 a...          1  0.609472  \n",
              "11  Revised User History:\\n\\nGiven a female user w...          0  0.631099  \n",
              "12  Here's a revised version of the user history a...          1  0.230658  \n",
              "13  Revised User History:\\n\\nThis user is a 35-44 ...          1  0.629754  \n",
              "14  Revised User History:\\n\\nGiven a female user w...          1  0.448292  \n",
              "15  Here is the revised user history and item desc...          0  0.668649  \n",
              "16  Here's a revised version of the user history a...          0  0.643442  \n",
              "17  Here are the revised user history and item des...          0  0.460440  \n",
              "18  Here is a revised version of the user history ...          1  0.519717  \n",
              "19  Revised User History:\\nGiven a female user who...          1  0.504742  \n",
              "20  Revised User History:\\nThis user is a 35-44 ye...          0  0.699606  \n",
              "21  Revised User History:\\nGiven a female user who...          1  0.507815  "
            ]
          },
          "execution_count": 169,
          "metadata": {},
          "output_type": "execute_result"
        }
      ],
      "source": [
        "sub_df_clean['new label'] = new_labels\n",
        "sub_df_clean['new pred'] = new_preds\n",
        "sub_df_clean"
      ]
    },
    {
      "cell_type": "code",
      "execution_count": 170,
      "metadata": {
        "colab": {
          "base_uri": "https://localhost:8080/"
        },
        "id": "N2vFxF8vFgbT",
        "outputId": "c5846e39-e914-4889-a079-e98462830c79"
      },
      "outputs": [
        {
          "data": {
            "text/plain": [
              "1.0689344950927078"
            ]
          },
          "execution_count": 170,
          "metadata": {},
          "output_type": "execute_result"
        }
      ],
      "source": [
        "y_true = sub_df_clean['label'].to_list()\n",
        "y_pred = sub_df_clean['pred'].to_list()\n",
        "log_loss(y_true, y_pred)"
      ]
    },
    {
      "cell_type": "code",
      "execution_count": 171,
      "metadata": {
        "colab": {
          "base_uri": "https://localhost:8080/"
        },
        "id": "ohACq0uufhhR",
        "outputId": "4cccb5c4-5d19-4263-996f-4297e57c4d89"
      },
      "outputs": [
        {
          "data": {
            "text/plain": [
              "0.930473731275092"
            ]
          },
          "execution_count": 171,
          "metadata": {},
          "output_type": "execute_result"
        }
      ],
      "source": [
        "\n",
        "y_true = sub_df_clean['label'].to_list()\n",
        "y_pred = sub_df_clean['new pred'].to_list()\n",
        "\n",
        "log_loss(y_true, y_pred)\n"
      ]
    }
  ],
  "metadata": {
    "accelerator": "GPU",
    "colab": {
      "gpuType": "T4",
      "provenance": []
    },
    "kernelspec": {
      "display_name": "Python 3",
      "name": "python3"
    },
    "language_info": {
      "codemirror_mode": {
        "name": "ipython",
        "version": 3
      },
      "file_extension": ".py",
      "mimetype": "text/x-python",
      "name": "python",
      "nbconvert_exporter": "python",
      "pygments_lexer": "ipython3",
      "version": "3.11.9"
    }
  },
  "nbformat": 4,
  "nbformat_minor": 0
}
