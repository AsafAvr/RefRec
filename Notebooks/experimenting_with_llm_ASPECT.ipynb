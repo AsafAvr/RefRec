{
  "cells": [
    {
      "cell_type": "markdown",
      "metadata": {
        "id": "yGuIpwXflRfp"
      },
      "source": [
        "# Experimenting with Self-Reflection Mechanism & Recommendation Systems\n"
      ]
    },
    {
      "cell_type": "markdown",
      "metadata": {
        "id": "vPeEEWHmlaEe"
      },
      "source": [
        "## Git Dependencies"
      ]
    },
    {
      "cell_type": "code",
      "execution_count": 1,
      "metadata": {
        "colab": {
          "base_uri": "https://localhost:8080/"
        },
        "id": "foGtr8BDfhg-",
        "outputId": "51d57943-2c2f-4da0-918f-37f45bd75f52"
      },
      "outputs": [
        {
          "name": "stdout",
          "output_type": "stream",
          "text": [
            "Cloning into 'RefRec'...\n",
            "remote: Enumerating objects: 99, done.\u001b[K\n",
            "remote: Counting objects: 100% (47/47), done.\u001b[K\n",
            "remote: Compressing objects: 100% (39/39), done.\u001b[K\n",
            "remote: Total 99 (delta 13), reused 26 (delta 3), pack-reused 52\u001b[K\n",
            "Receiving objects: 100% (99/99), 49.69 MiB | 13.83 MiB/s, done.\n",
            "Resolving deltas: 100% (17/17), done.\n",
            "Updating files: 100% (53/53), done.\n"
          ]
        }
      ],
      "source": [
        "!git clone github.com/AsafAvr/RefRec.git"
      ]
    },
    {
      "cell_type": "code",
      "execution_count": 2,
      "metadata": {
        "colab": {
          "base_uri": "https://localhost:8080/"
        },
        "id": "zeQnSviPfhhA",
        "outputId": "140fc5eb-13ff-4a7b-c00a-27a6eafe80fb"
      },
      "outputs": [
        {
          "name": "stdout",
          "output_type": "stream",
          "text": [
            "/content/RefRec\n",
            "\u001b[2K     \u001b[90m━━━━━━━━━━━━━━━━━━━━━━━━━━━━━━━━━━━━━━━━\u001b[0m \u001b[32m1.0/1.0 MB\u001b[0m \u001b[31m8.2 MB/s\u001b[0m eta \u001b[36m0:00:00\u001b[0m\n",
            "\u001b[2K     \u001b[90m━━━━━━━━━━━━━━━━━━━━━━━━━━━━━━━━━━━━━━━━\u001b[0m \u001b[32m70.0/70.0 kB\u001b[0m \u001b[31m4.8 MB/s\u001b[0m eta \u001b[36m0:00:00\u001b[0m\n",
            "\u001b[2K     \u001b[90m━━━━━━━━━━━━━━━━━━━━━━━━━━━━━━━━━━━━━━━━\u001b[0m \u001b[32m2.0/2.0 MB\u001b[0m \u001b[31m17.4 MB/s\u001b[0m eta \u001b[36m0:00:00\u001b[0m\n",
            "\u001b[2K     \u001b[90m━━━━━━━━━━━━━━━━━━━━━━━━━━━━━━━━━━━━━━━━\u001b[0m \u001b[32m302.9/302.9 kB\u001b[0m \u001b[31m14.7 MB/s\u001b[0m eta \u001b[36m0:00:00\u001b[0m\n",
            "\u001b[2K     \u001b[90m━━━━━━━━━━━━━━━━━━━━━━━━━━━━━━━━━━━━━━━━\u001b[0m \u001b[32m120.8/120.8 kB\u001b[0m \u001b[31m5.4 MB/s\u001b[0m eta \u001b[36m0:00:00\u001b[0m\n",
            "\u001b[2K     \u001b[90m━━━━━━━━━━━━━━━━━━━━━━━━━━━━━━━━━━━━━━━━\u001b[0m \u001b[32m75.0/75.0 kB\u001b[0m \u001b[31m6.4 MB/s\u001b[0m eta \u001b[36m0:00:00\u001b[0m\n",
            "\u001b[2K     \u001b[90m━━━━━━━━━━━━━━━━━━━━━━━━━━━━━━━━━━━━━━━━\u001b[0m \u001b[32m320.1/320.1 kB\u001b[0m \u001b[31m11.7 MB/s\u001b[0m eta \u001b[36m0:00:00\u001b[0m\n",
            "\u001b[2K     \u001b[90m━━━━━━━━━━━━━━━━━━━━━━━━━━━━━━━━━━━━━━━━\u001b[0m \u001b[32m1.8/1.8 MB\u001b[0m \u001b[31m4.7 MB/s\u001b[0m eta \u001b[36m0:00:00\u001b[0m\n",
            "\u001b[2K     \u001b[90m━━━━━━━━━━━━━━━━━━━━━━━━━━━━━━━━━━━━━━━━\u001b[0m \u001b[32m49.3/49.3 kB\u001b[0m \u001b[31m2.6 MB/s\u001b[0m eta \u001b[36m0:00:00\u001b[0m\n",
            "\u001b[2K     \u001b[90m━━━━━━━━━━━━━━━━━━━━━━━━━━━━━━━━━━━━━━━━\u001b[0m \u001b[32m75.6/75.6 kB\u001b[0m \u001b[31m5.0 MB/s\u001b[0m eta \u001b[36m0:00:00\u001b[0m\n",
            "\u001b[2K     \u001b[90m━━━━━━━━━━━━━━━━━━━━━━━━━━━━━━━━━━━━━━━━\u001b[0m \u001b[32m53.0/53.0 kB\u001b[0m \u001b[31m4.1 MB/s\u001b[0m eta \u001b[36m0:00:00\u001b[0m\n",
            "\u001b[2K     \u001b[90m━━━━━━━━━━━━━━━━━━━━━━━━━━━━━━━━━━━━━━━━\u001b[0m \u001b[32m142.5/142.5 kB\u001b[0m \u001b[31m3.0 MB/s\u001b[0m eta \u001b[36m0:00:00\u001b[0m\n",
            "\u001b[2K     \u001b[90m━━━━━━━━━━━━━━━━━━━━━━━━━━━━━━━━━━━━━━━━\u001b[0m \u001b[32m77.9/77.9 kB\u001b[0m \u001b[31m3.1 MB/s\u001b[0m eta \u001b[36m0:00:00\u001b[0m\n",
            "\u001b[2K     \u001b[90m━━━━━━━━━━━━━━━━━━━━━━━━━━━━━━━━━━━━━━━━\u001b[0m \u001b[32m58.3/58.3 kB\u001b[0m \u001b[31m2.7 MB/s\u001b[0m eta \u001b[36m0:00:00\u001b[0m\n",
            "\u001b[?25h"
          ]
        }
      ],
      "source": [
        "%cd /content/RefRec\n",
        "!pip install -q -r requirements.txt"
      ]
    },
    {
      "cell_type": "markdown",
      "metadata": {
        "id": "p_x8T2bcfhhA"
      },
      "source": [
        "# Outline\n",
        "- Load validation dataset - Movielens-1M\n",
        "- Load recommendation model that was finetuned on specific embedding spce (TBC)\n",
        "- Create a self-reflection mechanism on the validation dataset\n",
        "  - Predict the next sequence for a specific user by prompting the llm with the data about the user\n",
        "    - Generate prompt to encode specific features\n",
        "  - reflect on the prediction vs the ground truth\n",
        "  - suggest a better feature and reflect on why the mistake happened\n",
        "  - continue to the next sequence"
      ]
    },
    {
      "cell_type": "markdown",
      "metadata": {
        "id": "STk9iuq-fhhD"
      },
      "source": [
        "## Imports"
      ]
    },
    {
      "cell_type": "code",
      "execution_count": 3,
      "metadata": {
        "id": "Avy_DaHrfhhD"
      },
      "outputs": [],
      "source": [
        "device = 'cuda'"
      ]
    },
    {
      "cell_type": "code",
      "execution_count": 4,
      "metadata": {
        "colab": {
          "base_uri": "https://localhost:8080/"
        },
        "id": "PoeK0Cf9fhhE",
        "outputId": "0e5f28f6-b5f3-43e8-fbbd-07d4e65c209a"
      },
      "outputs": [
        {
          "data": {
            "text/plain": [
              "PosixPath('/content/RefRec')"
            ]
          },
          "execution_count": 4,
          "metadata": {},
          "output_type": "execute_result"
        }
      ],
      "source": [
        "from pathlib import Path\n",
        "cur_path = Path.cwd()\n",
        "cur_path"
      ]
    },
    {
      "cell_type": "code",
      "execution_count": 5,
      "metadata": {
        "id": "RIz1LBfFfhhE"
      },
      "outputs": [],
      "source": [
        "klg_folder = Path.cwd().joinpath('knowledge_encoding')\n",
        "rs_folder = Path.cwd().joinpath('RS')\n",
        "ml1m_folder = Path.cwd().joinpath('data').joinpath('ml-1m')\n",
        "preprocess_folder = Path.cwd().joinpath('preprocess')"
      ]
    },
    {
      "cell_type": "code",
      "execution_count": 5,
      "metadata": {
        "id": "ws_QeEGlpILi"
      },
      "outputs": [],
      "source": []
    },
    {
      "cell_type": "code",
      "execution_count": 6,
      "metadata": {
        "id": "Mei_t7gPfhhE"
      },
      "outputs": [],
      "source": [
        "import sys\n",
        "sys.path.append(klg_folder.as_posix())\n",
        "sys.path.append(rs_folder.as_posix())\n",
        "sys.path.append(preprocess_folder.as_posix())\n",
        "from lm_encoding import get_text_data_loader\n",
        "from pre_utils import GENDER_MAPPING, AGE_MAPPING, OCCUPATION_MAPPING"
      ]
    },
    {
      "cell_type": "code",
      "execution_count": 7,
      "metadata": {
        "id": "zMmDylvyfhhF"
      },
      "outputs": [],
      "source": [
        "import numpy as np\n",
        "import pandas as pd\n",
        "import torch\n",
        "import torch.utils.data as Data\n",
        "import re\n",
        "\n",
        "from dataset import AmzDataset\n",
        "from main_ctr import eval\n",
        "from utils import load_json\n",
        "from sklearn.metrics import log_loss, roc_auc_score"
      ]
    },
    {
      "cell_type": "code",
      "execution_count": 8,
      "metadata": {
        "id": "iN-BagGQfhhF"
      },
      "outputs": [],
      "source": [
        "class ShortDataLoader:\n",
        "    def __init__(self, dataloader, num_batches):\n",
        "        self.dataloader = dataloader\n",
        "        self.num_batches = num_batches\n",
        "\n",
        "    def __iter__(self):\n",
        "        count = 0\n",
        "        for batch in self.dataloader:\n",
        "            if count >= self.num_batches:\n",
        "                break\n",
        "            yield batch\n",
        "            count += 1\n",
        "\n",
        "    def __len__(self):\n",
        "        return min(len(self.dataloader), self.num_batches)\n",
        "\n",
        "from torch.utils.data import Dataset\n",
        "class DictDataset(Dataset):\n",
        "    def __init__(self, data_list):\n",
        "        self.data_list = data_list\n",
        "\n",
        "    def __getitem__(self, index):\n",
        "        return self.data_list[index]\n",
        "\n",
        "    def __len__(self):\n",
        "        return len(self.data_list)"
      ]
    },
    {
      "cell_type": "markdown",
      "metadata": {
        "id": "qQnaxWNsfhhG"
      },
      "source": [
        "## Loading Train & Test datasets\n"
      ]
    },
    {
      "cell_type": "code",
      "execution_count": 9,
      "metadata": {
        "id": "Zd7_J6EzfhhG"
      },
      "outputs": [],
      "source": [
        "model_path = rs_folder.joinpath('model').joinpath('ml-1m').joinpath('ctr').joinpath('DIN').joinpath('DIN.pt').as_posix()\n",
        "inference_model = torch.load(model_path,map_location=torch.device(device))\n",
        "train_set = AmzDataset(ml1m_folder.joinpath('proc_data').as_posix(), 'train', 'ctr', 5, True, 'bert_avg') #test\n",
        "train_loader = Data.DataLoader(dataset=train_set, batch_size=2048, shuffle=False)"
      ]
    },
    {
      "cell_type": "code",
      "execution_count": 10,
      "metadata": {
        "colab": {
          "base_uri": "https://localhost:8080/"
        },
        "id": "GdITynNsfhhG",
        "outputId": "36c96f24-daf8-4845-f06d-519027fad44b"
      },
      "outputs": [
        {
          "data": {
            "text/plain": [
              "751436"
            ]
          },
          "execution_count": 10,
          "metadata": {},
          "output_type": "execute_result"
        }
      ],
      "source": [
        "len(train_set)"
      ]
    },
    {
      "cell_type": "code",
      "execution_count": 11,
      "metadata": {
        "colab": {
          "base_uri": "https://localhost:8080/"
        },
        "id": "fOIMj5vAA2xZ",
        "outputId": "cfd56ee1-59f4-4381-e176-d6be31971394"
      },
      "outputs": [
        {
          "data": {
            "text/plain": [
              "92024"
            ]
          },
          "execution_count": 11,
          "metadata": {},
          "output_type": "execute_result"
        }
      ],
      "source": [
        "test_set = AmzDataset(ml1m_folder.joinpath('proc_data').as_posix(), 'test', 'ctr', 5, True, 'bert_avg') #test\n",
        "len(test_set)"
      ]
    },
    {
      "cell_type": "code",
      "execution_count": 12,
      "metadata": {
        "colab": {
          "base_uri": "https://localhost:8080/"
        },
        "id": "KP4Ki28lfhhK",
        "outputId": "fcc98406-3489-4f19-8915-5ebce6ce6fad"
      },
      "outputs": [
        {
          "data": {
            "text/plain": [
              "['2179', '3813', '2108', '778', '4232', '2903', '2449', '5286', '4235', '3020']"
            ]
          },
          "execution_count": 12,
          "metadata": {},
          "output_type": "execute_result"
        }
      ],
      "source": [
        "user_vec_dict = load_json(ml1m_folder.joinpath('proc_data').joinpath('bert_avg_augment.hist'))\n",
        "list(user_vec_dict.keys())[:10]"
      ]
    },
    {
      "cell_type": "code",
      "execution_count": 13,
      "metadata": {
        "colab": {
          "base_uri": "https://localhost:8080/"
        },
        "id": "Ow-tbDfOfhhK",
        "outputId": "73ae3c27-1267-40c1-c6cc-552e3e96e6ee"
      },
      "outputs": [
        {
          "data": {
            "text/plain": [
              "['1', '2', '4', '3', '5', '6', '7', '9', '8', '11']"
            ]
          },
          "execution_count": 13,
          "metadata": {},
          "output_type": "execute_result"
        }
      ],
      "source": [
        "item_vec_dict = load_json(ml1m_folder.joinpath('proc_data').joinpath('bert_avg_augment.item'))\n",
        "list(item_vec_dict.keys())[:10]"
      ]
    },
    {
      "cell_type": "markdown",
      "metadata": {
        "id": "TY2zsTwDfhhK"
      },
      "source": [
        "## Extracting metadata for LLM"
      ]
    },
    {
      "cell_type": "code",
      "execution_count": 14,
      "metadata": {
        "colab": {
          "base_uri": "https://localhost:8080/"
        },
        "id": "vO3EIr9SfhhK",
        "outputId": "ff37dade-39bf-4ea9-88d4-626d374205c3"
      },
      "outputs": [
        {
          "name": "stdout",
          "output_type": "stream",
          "text": [
            "chatgpt.hist 1 Given a male user who is aged 35-44 and an executive/managerial, this user's movie viewing history over time is listed below. Bridge on the River Kwai, The (1957), 5 stars; Chinatown (1974), 4 stars; Duck Soup (1933), 5 stars; Toy Story (1995), 5 stars; Arsenic and Old Lace (1944), 4 stars; Dances with Wolves (1990), 5 stars; Cool Hand Luke (1967), 5 stars; Young Frankenstein (1974), 5 stars; High Noon (1952), 5 stars; Rear Window (1954), 5 stars; Being There (1979), 5 stars; Some Like It Hot (1959), 5 stars; Casablanca (1942), 5 stars; Wizard of Oz, The (1939), 5 stars; Gone with the Wind (1939), 5 stars; Moonstruck (1987), 5 stars; It's a Wonderful Life (1946), 5 stars; Mr. Smith Goes to Washington (1939), 5 stars; 39 Steps, The (1935), 5 stars; Malcolm X (1992), 5 stars; Witness (1985), 4 stars; Animal House (1978), 4 stars; Do the Right Thing (1989), 5 stars; Frankenstein (1931), 5 stars; Modern Times (1936), 4 stars; War of the Worlds, The (1953), 5 stars; Hollywood Knights, The (1980), 3 stars; Star Wars: Episode IV - A New Hope (1977), 5 stars; Once Were Warriors (1994), 3 stars; American Beauty (1999), 5 stars. Based on the user's movie viewing history, it seems that they have a strong preference for classic movies that are highly regarded by critics and audiences alike. They also seem to enjoy movies that are thought-provoking or have a deeper meaning, as evidenced by their high ratings for movies like Being There, Malcolm X, and Do the Right Thing. \n",
            "\n",
            "The user also appears to enjoy movies with strong characters and well-developed plots, as seen in their high ratings for Cool Hand Luke, Dances with Wolves, and Witness. They also seem to enjoy movies with a bit of humor, as evidenced by their high ratings for Duck Soup, Young Frankenstein, and Some Like It Hot. \n",
            "\n",
            "In terms of time period and country, the user appears to have a preference for movies from the 1930s-1960s, with a few exceptions like American Beauty and Once Were Warriors. The user also seems to enjoy movies with a historical or cultural significance, such as Gone with the Wind and Malcolm X. \n",
            "\n",
            "The user's rating of Hollywood Knights at 3 stars may suggest that they are not particularly interested in movies that are solely focused on entertainment or lack substance. Similarly, their high ratings for critically acclaimed movies like Casablanca and It's a Wonderful Life may indicate that they value excellent production quality and an impactful soundtrack.\n",
            "\n",
            "Overall, this user seems to have a diverse range of movie preferences, but they tend to favor classic movies with strong characters and well-developed plots that offer something deeper than just entertainment. hist len 6040\n",
            "chatgpt.item 1 Jumanji is a classic adventure/fantasy film released in 1995, directed by Joe Johnston and starring Robin Williams, Kirsten Dunst, and Bonnie Hunt. The film was produced in the United States and takes place in a fictional town called Brantford, New Hampshire.\n",
            "\n",
            "The plot follows two children, Peter and Judy, who discover a mysterious board game called Jumanji. As they begin to play, they quickly realize that the game is more than just a simple board game - it unleashes a series of dangerous and chaotic events that come to life in the real world. With the help of a man who has been trapped inside the game for decades (played by Robin Williams), the children must navigate through the hazards of the game and find a way to stop it before it's too late.\n",
            "\n",
            "The mood and tone of Jumanji are both adventurous and thrilling, with a healthy dose of humor and heartwarming moments throughout. The film was well-received by both audiences and critics, and even garnered an Academy Award nomination for its visual effects.\n",
            "\n",
            "In terms of production quality, the film features impressive special effects and stunning cinematography that transports viewers into the heart of the action. The soundtrack, composed by James Horner, perfectly captures the film's adventurous and exciting spirit.\n",
            "\n",
            "Overall, Jumanji is a beloved classic that has stood the test of time as a thrilling adventure film that is both entertaining and heartwarming. item len 3883\n"
          ]
        }
      ],
      "source": [
        "hist_loader, hist_idxes, item_loader, item_idxes = get_text_data_loader(ml1m_folder.joinpath('knowledge').as_posix(), 1)"
      ]
    },
    {
      "cell_type": "code",
      "execution_count": 15,
      "metadata": {
        "id": "jk2esO3-fhhL"
      },
      "outputs": [],
      "source": [
        "def get_user_hist(user_vec,hist_idxes):\n",
        "    user_vec = user_vec.tolist()\n",
        "    for key, v in user_vec_dict.items():\n",
        "        if v == user_vec:\n",
        "            user_index = hist_idxes.index(key)\n",
        "            return key,user_index,hist_loader.dataset[user_index]\n",
        "    return None\n",
        "\n",
        "def get_item_desc(item_vec, item_idxes):\n",
        "    item_vec = item_vec.tolist()\n",
        "    for key,v in item_vec_dict.items():\n",
        "        if v == item_vec:\n",
        "            item_index = item_idxes.index(key)\n",
        "            return key,item_index, item_loader.dataset[item_index]\n",
        "    return None"
      ]
    },
    {
      "cell_type": "code",
      "execution_count": 16,
      "metadata": {
        "id": "ITBPSewKNcgg"
      },
      "outputs": [],
      "source": [
        "user_prompt_dict = load_json(ml1m_folder.joinpath('proc_data').joinpath('prompt.hist').as_posix())\n",
        "item_prompt_dict = load_json(ml1m_folder.joinpath('proc_data').joinpath('prompt.item').as_posix())\n",
        "datamap = load_json(ml1m_folder.joinpath('proc_data').joinpath('datamaps.json').as_posix())\n",
        "sequence_data = load_json(ml1m_folder.joinpath('proc_data').joinpath('sequential_data.json').as_posix())\n",
        "train_test_split = load_json(ml1m_folder.joinpath('proc_data').joinpath('train_test_split.json').as_posix())\n",
        "id2user = datamap['id2user']\n",
        "id2item = datamap['id2item']"
      ]
    },
    {
      "cell_type": "code",
      "execution_count": 17,
      "metadata": {
        "id": "dEu73NthCNA8"
      },
      "outputs": [],
      "source": [
        "data_list = []\n",
        "for i in range(10000):\n",
        "    data = train_set[i]\n",
        "    user_key, user_idx, user_hist = get_user_hist(data['hist_aug_vec'], hist_idxes)\n",
        "    item_key, item_idx, item_desc = get_item_desc(data['item_aug_vec'], item_idxes)\n",
        "    data_list.append({'test_index': i, 'user_idx': user_idx, 'user_key': user_key, 'user_hist': user_hist, 'item_idx': item_idx,'item_key': item_key, 'item_desc': item_desc })\n",
        "df_train = pd.DataFrame(data_list)"
      ]
    },
    {
      "cell_type": "code",
      "execution_count": 18,
      "metadata": {
        "id": "HzrAVfkJCYbB"
      },
      "outputs": [],
      "source": [
        "data_list = []\n",
        "for i in range(10000):\n",
        "    data = test_set[i]\n",
        "    user_key, user_idx, user_hist = get_user_hist(data['hist_aug_vec'], hist_idxes)\n",
        "    item_key, item_idx, item_desc = get_item_desc(data['item_aug_vec'], item_idxes)\n",
        "    data_list.append({'test_index': i, 'user_idx': user_idx, 'user_key': user_key, 'user_hist': user_hist, 'item_idx': item_idx,'item_key': item_key, 'item_desc': item_desc })\n",
        "df_test = pd.DataFrame(data_list)"
      ]
    },
    {
      "cell_type": "code",
      "execution_count": 19,
      "metadata": {
        "colab": {
          "base_uri": "https://localhost:8080/"
        },
        "id": "5ba2G2bDf6La",
        "outputId": "96e2d401-f122-4acb-d0e7-984b82fe11d9"
      },
      "outputs": [
        {
          "name": "stdout",
          "output_type": "stream",
          "text": [
            "iid tensor(297)\n",
            "aid tensor([4])\n",
            "lb tensor(1)\n",
            "hist_iid_seq tensor([ 292,  980,  427, 1277,  107])\n",
            "hist_aid_seq tensor([[4],\n",
            "        [4],\n",
            "        [3],\n",
            "        [5],\n",
            "        [3]])\n",
            "hist_rate_seq tensor([2, 5, 4, 4, 5])\n",
            "hist_seq_len tensor(5)\n"
          ]
        }
      ],
      "source": [
        "data.keys()\n",
        "for key in data.keys():\n",
        "  if key != 'hist_aug_vec' and key != 'item_aug_vec':\n",
        "    print(key,data[key])"
      ]
    },
    {
      "cell_type": "code",
      "execution_count": 20,
      "metadata": {
        "colab": {
          "base_uri": "https://localhost:8080/"
        },
        "id": "G63m8YXHN1HL",
        "outputId": "5ea59186-5bc2-4b77-eab5-30e84fa2b122"
      },
      "outputs": [
        {
          "data": {
            "text/plain": [
              "test_index                                                    0\n",
              "user_idx                                                   4130\n",
              "user_key                                                   2336\n",
              "user_hist     Given a male user who is aged 35-44 and a trad...\n",
              "item_idx                                                   3440\n",
              "item_key                                                   3508\n",
              "item_desc     The Outlaw Josey Wales is a 1976 American West...\n",
              "Name: 0, dtype: object"
            ]
          },
          "execution_count": 20,
          "metadata": {},
          "output_type": "execute_result"
        }
      ],
      "source": [
        "df_train.loc[0]"
      ]
    },
    {
      "cell_type": "code",
      "execution_count": 21,
      "metadata": {
        "colab": {
          "base_uri": "https://localhost:8080/",
          "height": 36
        },
        "id": "V3qPEgvYcF5P",
        "outputId": "919bd4eb-e923-4e5a-f28e-30c5419243e5"
      },
      "outputs": [
        {
          "data": {
            "application/vnd.google.colaboratory.intrinsic+json": {
              "type": "string"
            },
            "text/plain": [
              "'4593'"
            ]
          },
          "execution_count": 21,
          "metadata": {},
          "output_type": "execute_result"
        }
      ],
      "source": [
        "id2user[df_train['user_key'][0]]"
      ]
    },
    {
      "cell_type": "code",
      "execution_count": 22,
      "metadata": {
        "colab": {
          "base_uri": "https://localhost:8080/",
          "height": 175
        },
        "id": "jn4su1osN4OM",
        "outputId": "cd006152-0505-4b20-8801-b6bc188e90ea"
      },
      "outputs": [
        {
          "data": {
            "application/vnd.google.colaboratory.intrinsic+json": {
              "type": "string"
            },
            "text/plain": [
              "'Given a male user who is aged 35-44 and a tradesman/craftsman, this user\\'s movie viewing history over time is listed below. \"Honey, I Shrunk the Kids (1989)\", 1 stars; \"The Parent Trap (1998)\", 3 stars; \"Home Alone (1990)\", 3 stars; \"Ghost (1990)\", 3 stars; \"Aladdin (1992)\", 4 stars; \"Waiting to Exhale (1995)\", 2 stars; \"Father of the Bride Part II (1995)\", 3 stars; \"Ghosts of Mississippi (1996)\", 3 stars; \"The Insider (1999)\", 3 stars; \"Roger & Me (1989)\", 4 stars; \"The Purple Rose of Cairo (1985)\", 2 stars; \"Michael (1996)\", 2 stars; \"Doctor Zhivago (1965)\", 5 stars; \"Fanny and Alexander (1982)\", 4 stars; \"The Trip to Bountiful (1985)\", 4 stars; \"Dances with Wolves (1990)\", 2 stars; \"Batman (1989)\", 2 stars; \"The Silence of the Lambs (1991)\", 4 stars; \"Pretty Woman (1990)\", 3 stars; \"Tender Mercies (1983)\", 4 stars; \"And the Band Played On (1993)\", 4 stars; \"Evita (1996)\", 3 stars; \"Blue Velvet (1986)\", 3 stars; \"Little Big Man (1970)\", 3 stars; \"Kolya (1996)\", 5 stars; \"Dogma (1999)\", 3 stars; \"The Messenger: The Story of Joan of Arc (1999)\", 3 stars; \"Cocoon (1985)\", 3 stars; \"Women on the Verge of a Nervous Breakdown (1988)\", 3 stars; \"You\\'ve Got Mail (1998)\", 3 stars; Analyze user\\'s preferences on movies (consider factors like genre, director/actors, time period/country, character, plot/theme, mood/tone, critical acclaim/award, production quality, and soundtrack). Provide clear explanations based on relevant details from the user\\'s movie viewing history and other pertinent factors.'"
            ]
          },
          "execution_count": 22,
          "metadata": {},
          "output_type": "execute_result"
        }
      ],
      "source": [
        "user_prompt_dict[id2user[df_train['user_key'][0]]]"
      ]
    },
    {
      "cell_type": "code",
      "execution_count": 23,
      "metadata": {
        "colab": {
          "base_uri": "https://localhost:8080/",
          "height": 53
        },
        "id": "GKi56njDOBuO",
        "outputId": "72ad7c7b-2c41-4a4d-c3a5-d5c9160dfd78"
      },
      "outputs": [
        {
          "data": {
            "application/vnd.google.colaboratory.intrinsic+json": {
              "type": "string"
            },
            "text/plain": [
              "'Introduce movie The Outlaw Josey Wales (1976) and describe its attributes (including but not limited to genre, director/cast, country, character, plot/theme, mood/tone, critical acclaim/award, production quality, and soundtrack).'"
            ]
          },
          "execution_count": 23,
          "metadata": {},
          "output_type": "execute_result"
        }
      ],
      "source": [
        "item_prompt_dict[df_train['item_key'][0]]"
      ]
    },
    {
      "cell_type": "code",
      "execution_count": 24,
      "metadata": {
        "colab": {
          "base_uri": "https://localhost:8080/"
        },
        "id": "BC60JoFkJeiy",
        "outputId": "0da72a01-7047-44ad-aa40-b929f037fa35"
      },
      "outputs": [
        {
          "data": {
            "text/plain": [
              "10000"
            ]
          },
          "execution_count": 24,
          "metadata": {},
          "output_type": "execute_result"
        }
      ],
      "source": [
        "len(df_train)"
      ]
    },
    {
      "cell_type": "code",
      "execution_count": 25,
      "metadata": {
        "colab": {
          "base_uri": "https://localhost:8080/"
        },
        "id": "tSYb6jovJdCf",
        "outputId": "850d9772-8bc7-45d3-f335-84bde2735d81"
      },
      "outputs": [
        {
          "data": {
            "text/plain": [
              "10000"
            ]
          },
          "execution_count": 25,
          "metadata": {},
          "output_type": "execute_result"
        }
      ],
      "source": [
        "len(df_test)"
      ]
    },
    {
      "cell_type": "code",
      "execution_count": 26,
      "metadata": {
        "id": "G8EHymkRppib"
      },
      "outputs": [],
      "source": [
        "question = 'Analyze user\\'s preferences on movies (consider factors like genre, director/actors, time ' \\\n",
        "                    'period/country, character, plot/theme, mood/tone, critical acclaim/award, production quality, ' \\\n",
        "                    'and soundtrack). Provide clear explanations based on relevant details from the user\\'s movie ' \\\n",
        "                    'viewing history and other pertinent factors.'"
      ]
    },
    {
      "cell_type": "code",
      "execution_count": 27,
      "metadata": {
        "colab": {
          "base_uri": "https://localhost:8080/"
        },
        "id": "whyA8mdxnKVC",
        "outputId": "88430d08-9341-4b15-e5c4-e18ae3fbf458"
      },
      "outputs": [
        {
          "data": {
            "text/plain": [
              "30"
            ]
          },
          "execution_count": 27,
          "metadata": {},
          "output_type": "execute_result"
        }
      ],
      "source": [
        "lm_hist_idx = train_test_split['lm_hist_idx']\n",
        "itemid2title = datamap['itemid2title']\n",
        "user2attribute = datamap['user2attribute']\n",
        "\n",
        "for uid, item_rating in sequence_data.items():\n",
        "    user = id2user[uid]\n",
        "    item_seq, rating_seq = item_rating\n",
        "    cur_idx = lm_hist_idx[uid]\n",
        "    hist_item_seq = item_seq[:cur_idx]\n",
        "    hist_rating_seq = rating_seq[:cur_idx]\n",
        "    history_texts = []\n",
        "    movie_history = []\n",
        "    for iid, rating in zip(hist_item_seq, hist_rating_seq):\n",
        "        tmp = '\"{}\", {} stars; '.format(itemid2title[str(iid)], int(rating))\n",
        "        movie_history.append({'title': itemid2title[str(iid)], 'rating': rating})\n",
        "        history_texts.append(tmp)\n",
        "    break\n",
        "# uid, item_seq, rating_seq\n",
        "# history_texts\n",
        "len(movie_history)"
      ]
    },
    {
      "cell_type": "code",
      "execution_count": 28,
      "metadata": {
        "colab": {
          "base_uri": "https://localhost:8080/",
          "height": 53
        },
        "id": "XPWU6O9JpXbI",
        "outputId": "5311c606-ec73-421c-8f15-9a7d8c2462d3"
      },
      "outputs": [
        {
          "data": {
            "application/vnd.google.colaboratory.intrinsic+json": {
              "type": "string"
            },
            "text/plain": [
              "\"Given a female user who is aged under 18 and a K-12 student, this user's movie viewing history over time is listed below. \""
            ]
          },
          "execution_count": 28,
          "metadata": {},
          "output_type": "execute_result"
        }
      ],
      "source": [
        "gender, age, occupation = user2attribute[uid]\n",
        "user_text = 'Given a {} user who is aged {} and {}, this user\\'s movie viewing history over time' \\\n",
        "            ' is listed below. '.format(GENDER_MAPPING[gender], AGE_MAPPING[age],\n",
        "                                        OCCUPATION_MAPPING[occupation])\n",
        "user_text"
      ]
    },
    {
      "cell_type": "code",
      "execution_count": 29,
      "metadata": {
        "id": "-8Ul8S034EwA"
      },
      "outputs": [],
      "source": [
        "def return_user_details(uid):\n",
        "    user = id2user[uid]\n",
        "    item_seq, rating_seq = sequence_data[uid]\n",
        "    cur_idx = lm_hist_idx[uid]\n",
        "    hist_item_seq = item_seq[:cur_idx]\n",
        "    hist_rating_seq = rating_seq[:cur_idx]\n",
        "    history_texts = []\n",
        "    movie_history = []\n",
        "    for iid, rating in zip(hist_item_seq, hist_rating_seq):\n",
        "        movie_history.append({'title': itemid2title[str(iid)], 'rating': rating})\n",
        "    gender, age, occupation = user2attribute[uid]\n",
        "    gender = GENDER_MAPPING[gender]\n",
        "    age = AGE_MAPPING[age]\n",
        "    occupation = OCCUPATION_MAPPING[occupation]\n",
        "    return gender, age, occupation, movie_history\n"
      ]
    },
    {
      "cell_type": "markdown",
      "metadata": {
        "id": "XvwjT4_cl4kh"
      },
      "source": [
        "## Identifying Classification Mistakes"
      ]
    },
    {
      "cell_type": "code",
      "execution_count": 30,
      "metadata": {
        "id": "C9Eiqid9CGu5"
      },
      "outputs": [],
      "source": [
        "train_loader = Data.DataLoader(dataset=train_set, batch_size=256, shuffle=False)\n",
        "test_loader = Data.DataLoader(dataset=test_set, batch_size=256, shuffle=False)"
      ]
    },
    {
      "cell_type": "code",
      "execution_count": 33,
      "metadata": {
        "id": "ig-9SQinEChT"
      },
      "outputs": [],
      "source": [
        "auc, ll, loss, eval_time, labels, preds = eval(inference_model, train_loader) #short_loader\n",
        "print(\"train loss: %.5f, inference time: %.5f, auc: %.5f, logloss: %.5f\" % (loss, eval_time, auc, ll))\n",
        "\n",
        "df_train['labels'] = labels[:10000]\n",
        "df_train['preds'] = preds[:10000]"
      ]
    },
    {
      "cell_type": "code",
      "execution_count": 34,
      "metadata": {
        "id": "mdGrPVNqm4xE"
      },
      "outputs": [],
      "source": [
        "auc, ll, loss, eval_time, labels, preds = eval(inference_model, train_loader) #short_loader\n",
        "print(\"train loss: %.5f, inference time: %.5f, auc: %.5f, logloss: %.5f\" % (loss, eval_time, auc, ll))\n",
        "\n",
        "df_test['labels'] = labels[:10000]\n",
        "df_test['preds'] = preds[:10000]"
      ]
    },
    {
      "cell_type": "code",
      "execution_count": null,
      "metadata": {
        "id": "UyNMDKMECB-E"
      },
      "outputs": [],
      "source": [
        "auc, ll, loss, eval_time, labels, preds = eval(inference_model, train_loader) #short_loader\n",
        "print(\"train loss: %.5f, inference time: %.5f, auc: %.5f, logloss: %.5f\" % (loss, eval_time, auc, ll))\n",
        "\n",
        "preds_r = [1 if pred[0] > 0.5 else 0 for pred in preds]\n",
        "\n",
        "mistake_indexes = [i for i, (label, pred) in enumerate(zip(labels, preds_r)) if label != pred]\n",
        "mistake_indexes[:10]"
      ]
    },
    {
      "cell_type": "code",
      "execution_count": null,
      "metadata": {
        "id": "U58TieCbfhhL"
      },
      "outputs": [],
      "source": [
        "data_list = []\n",
        "for i in mistake_indexes:\n",
        "    data = train_set[i]\n",
        "    user_idx, user_hist = get_user_hist(data['hist_aug_vec'], hist_idxes)\n",
        "    item_idx, item_desc = get_item_desc(data['item_aug_vec'], item_idxes)\n",
        "    label = labels[i]\n",
        "    pred = preds[i][0]\n",
        "    data_list.append({'test_index': i, 'user_idx': user_idx, 'user_hist': user_hist, 'item_idx': item_idx, 'item_desc': item_desc, 'label': label, 'pred': pred})\n",
        "\n",
        "df_results = pd.DataFrame(data_list)\n",
        "df_results\n"
      ]
    },
    {
      "cell_type": "code",
      "execution_count": null,
      "metadata": {
        "id": "bfITGTH1CCwZ"
      },
      "outputs": [],
      "source": [
        "# df_results = pd.read_csv('/content/train_preds_labels.csv')\n",
        "# df_results.to_csv('train_preds_labels.csv')"
      ]
    },
    {
      "cell_type": "markdown",
      "metadata": {
        "id": "Yi4fN9plfhhL"
      },
      "source": [
        "## Encoding the text to vectors with BERT"
      ]
    },
    {
      "cell_type": "code",
      "execution_count": null,
      "metadata": {
        "id": "JKtRGZS9fhhL"
      },
      "outputs": [],
      "source": [
        "from transformers import AutoTokenizer, AutoModel\n",
        "from torch.utils.data import DataLoader\n",
        "from lm_encoding import inference\n",
        "\n",
        "tokenizer = AutoTokenizer.from_pretrained('bert-base-uncased',  trust_remote_code=True)\n",
        "encoding_model = AutoModel.from_pretrained('bert-base-uncased',  trust_remote_code=True).half().cuda()"
      ]
    },
    {
      "cell_type": "markdown",
      "metadata": {
        "id": "R3wbEZ-GfhhL"
      },
      "source": [
        "### Validating the encoder"
      ]
    },
    {
      "cell_type": "code",
      "execution_count": null,
      "metadata": {
        "id": "whvxF5CtfhhM"
      },
      "outputs": [],
      "source": [
        "items = df_results['item_desc'].tolist()\n",
        "item_loader = DataLoader(items[:4], 1, shuffle=False)"
      ]
    },
    {
      "cell_type": "code",
      "execution_count": null,
      "metadata": {
        "id": "ROGPQjd5fhhM"
      },
      "outputs": [],
      "source": [
        "users = df_results['user_hist'].tolist()\n",
        "user_loader = DataLoader(users[:1], 1, shuffle=False)"
      ]
    },
    {
      "cell_type": "code",
      "execution_count": null,
      "metadata": {
        "id": "gYFHfLJrfhhM"
      },
      "outputs": [],
      "source": [
        "new_item_vec = inference(encoding_model, tokenizer, item_loader, 'bert', 'avg')\n",
        "len(new_item_vec)"
      ]
    },
    {
      "cell_type": "code",
      "execution_count": null,
      "metadata": {
        "id": "qKNYzzBQfhhM"
      },
      "outputs": [],
      "source": [
        "new_user_vec = inference(encoding_model, tokenizer, user_loader, 'bert', 'avg')\n",
        "len(new_user_vec)"
      ]
    },
    {
      "cell_type": "code",
      "execution_count": null,
      "metadata": {
        "id": "_jCjDlV_fhhM"
      },
      "outputs": [],
      "source": [
        "n_item_vec = [i for i in new_item_vec]\n",
        "len(n_item_vec)"
      ]
    },
    {
      "cell_type": "code",
      "execution_count": null,
      "metadata": {
        "id": "9e6xUo8AfhhM"
      },
      "outputs": [],
      "source": [
        "for i in range(4):\n",
        "    a = np.array(item_vec_dict[str(df_results['item_idx'][i])])\n",
        "    b = np.array(new_item_vec[i])\n",
        "    print(np.linalg.norm(a - b))"
      ]
    },
    {
      "cell_type": "code",
      "execution_count": null,
      "metadata": {
        "id": "csLfDoJAfhhN"
      },
      "outputs": [],
      "source": [
        "for i in range(1):\n",
        "    a = np.array(user_vec_dict[str(df_results['user_idx'][i])])\n",
        "    b = np.array(new_user_vec[i])\n",
        "    print(np.linalg.norm(a - b))"
      ]
    },
    {
      "cell_type": "markdown",
      "metadata": {
        "id": "2Sj1lPGKef-G"
      },
      "source": [
        "## Loading LLM Model"
      ]
    },
    {
      "cell_type": "markdown",
      "metadata": {
        "id": "wGhTiL_lfhhN"
      },
      "source": [
        "## Creating a Simple Reflexion Mechanism"
      ]
    },
    {
      "cell_type": "code",
      "execution_count": 43,
      "metadata": {
        "colab": {
          "base_uri": "https://localhost:8080/"
        },
        "id": "iGjX0sjmfhhN",
        "outputId": "8205ca4d-d640-4978-991e-72dc322fc807"
      },
      "outputs": [
        {
          "data": {
            "text/plain": [
              "True"
            ]
          },
          "execution_count": 43,
          "metadata": {},
          "output_type": "execute_result"
        }
      ],
      "source": [
        "import datetime\n",
        "import os\n",
        "from langchain_groq import ChatGroq\n",
        "\n",
        "from langchain_core.prompts import ChatPromptTemplate, MessagesPlaceholder\n",
        "from langchain_core.pydantic_v1 import BaseModel, Field, ValidationError\n",
        "from langchain_openai import ChatOpenAI\n",
        "from langsmith import traceable\n",
        "\n",
        "from collections import defaultdict\n",
        "from typing import List\n",
        "\n",
        "from langchain.output_parsers.openai_tools import (\n",
        "    JsonOutputToolsParser,\n",
        "    PydanticToolsParser,\n",
        ")\n",
        "from langchain_core.messages import AIMessage, BaseMessage, HumanMessage, ToolMessage\n",
        "from langgraph.prebuilt.tool_executor import ToolExecutor, ToolInvocation\n",
        "\n",
        "from dotenv import load_dotenv\n",
        "load_dotenv(Path.cwd().joinpath('.env'))\n"
      ]
    },
    {
      "cell_type": "code",
      "execution_count": 44,
      "metadata": {
        "id": "7ggBBM4m2uPp"
      },
      "outputs": [],
      "source": [
        "def create_analysis_prompt(gender, age, occupation, movie_history):\n",
        "    \"\"\"\n",
        "    Constructs a prompt for analyzing user preferences in movie recommendations,\n",
        "    given limited data (only titles and ratings).\n",
        "\n",
        "    Parameters:\n",
        "    - gender (str): The gender of the user.\n",
        "    - age (int): The age of the user.\n",
        "    - occupation (str): The occupation of the user.\n",
        "    - movie_history (list of dicts): A list of movies watched by the user,\n",
        "                                     each entry is a dict with 'title' and 'rating'.\n",
        "\n",
        "    Returns:\n",
        "    - str: A detailed prompt for analysis.\n",
        "    \"\"\"\n",
        "    prompt = f\"Analyze the movie preferences of a {age}-year-old {gender} who works as a {occupation}. \"\n",
        "    prompt += \"Consider their movie rating history and infer preferences from the following aspects:\\n\\n\"\n",
        "\n",
        "    # Titles and ratings summary\n",
        "    titles_ratings = ', '.join([f\"{movie['title']} (rated {movie['rating']}/5)\" for movie in movie_history])\n",
        "    prompt += f\"- Movies and ratings: {titles_ratings}\\n\"\n",
        "\n",
        "    # Encourage consideration of aspects where detailed data is not available\n",
        "    prompt += \"- Infer genres and subgenres from the movie titles.\\n\"\n",
        "    prompt += \"- Deduce potential favorite directors and actors based on common movie industry knowledge.\\n\"\n",
        "    prompt += \"- Assume preferences for film eras or years based on the release dates of the listed movies.\\n\"\n",
        "    prompt += \"- Consider common themes and motifs in these movies, such as love, conflict, adventure, etc.\\n\"\n",
        "    prompt += \"- Analyze the critical reception versus user ratings by considering how these types of films are generally received.\\n\"\n",
        "    prompt += \"- Predict preferences in sequels or franchises if any of the movies belong to such categories.\\n\"\n",
        "    prompt += \"- Consider how demographics (like age and gender) might influence the preferences inferred from the titles and ratings provided.\\n\"\n",
        "\n",
        "    return prompt\n"
      ]
    },
    {
      "cell_type": "code",
      "execution_count": 45,
      "metadata": {
        "id": "kub3Ul5X9dou"
      },
      "outputs": [],
      "source": [
        "def llm_revised_prompt(prompt_text,llm):\n",
        "    system = \"You are a helpful assistant in the movie recommendation domain.\"\n",
        "    human = \"{text}\"\n",
        "    prompt = ChatPromptTemplate.from_messages([(\"system\", system), (\"human\", human)])\n",
        "\n",
        "    chain = prompt | llm\n",
        "    initial = chain.invoke({\"text\": prompt_text}).content\n",
        "    return initial"
      ]
    },
    {
      "cell_type": "code",
      "execution_count": 46,
      "metadata": {
        "id": "Mtks7jnQseoz"
      },
      "outputs": [],
      "source": [
        "# Configure the LLM\n",
        "llm = ChatOpenAI(api_key=os.getenv('OPENAI_API_KEY'), model='gpt-3.5-turbo-0125')"
      ]
    },
    {
      "cell_type": "code",
      "execution_count": 50,
      "metadata": {
        "colab": {
          "base_uri": "https://localhost:8080/"
        },
        "id": "z_C5JCgn1dWz",
        "outputId": "259d334f-2daa-408a-c94d-019ac3719e54"
      },
      "outputs": [
        {
          "name": "stdout",
          "output_type": "stream",
          "text": [
            "4810\n",
            "4 5\n",
            "4 5\n",
            "4 4\n",
            "No feedback needed.\n",
            "4 5\n",
            "3 3\n",
            "No feedback needed.\n",
            "[(\"Based on the movie preferences of the 18-24-year-old male programmer, we can infer the following:\\n\\nGenres and Subgenres:\\n- **Terminator 2: Judgment Day (1991)**: This movie falls under the genres of science fiction and action. The subgenres can include post-apocalyptic, time travel, and thriller.\\n- **Unforgiven (1992)**: This movie belongs to the western genre, specifically the revisionist western subgenre.\\n\\nFavorite Directors and Actors:\\n- **James Cameron**: As the director of Terminator 2: Judgment Day, the programmer may have a preference for his work.\\n- **Clint Eastwood**: Since Unforgiven was directed by Clint Eastwood, the programmer may appreciate his directorial style.\\n\\nFilm Eras or Years:\\n- The programmer may have a preference for movies from the early 1990s, as both listed movies were released during this time.\\n\\nThemes and Motifs:\\n- Common themes in these movies can include redemption, violence, sacrifice, and the exploration of morality.\\n\\nCritical Reception versus User Ratings:\\n- Both Terminator 2: Judgment Day and Unforgiven are highly acclaimed films with positive critical reception and user ratings. This suggests that the programmer appreciates well-crafted and critically acclaimed movies.\\n\\nSequels or Franchises:\\n- Terminator 2: Judgment Day is part of the Terminator franchise, so the programmer may enjoy sequels or franchises with a similar action-packed and sci-fi theme.\\n\\nDemographics Influence:\\n- The programmer's age and gender may influence his preference for action and science fiction genres. Being a male in the 18-24 age group, he may be drawn to movies with high intensity, special effects, and complex storytelling.\\n\\nOverall, the programmer seems to have a preference for well-executed action and science fiction movies with strong narratives, possibly featuring moral dilemmas and redemption arcs. He may also appreciate films from the early 1990s and the works of directors like James Cameron and Clint Eastwood.\", 'The rating for Dances with Wolves (1990) would be: *4*', 4, 5, \"Based on the movie preferences of the 18-24-year-old male programmer, we can infer the following:\\n\\nGenres and Subgenres:\\n- **Terminator 2: Judgment Day (1991)**: This movie falls under the genres of science fiction and action. The subgenres can include post-apocalyptic, time travel, and thriller.\\n- **Unforgiven (1992)**: This movie belongs to the western genre, specifically the revisionist western subgenre.\\n\\nFavorite Directors and Actors:\\n- **James Cameron**: As the director of Terminator 2: Judgment Day, the programmer may have a preference for his work.\\n- **Clint Eastwood**: Since Unforgiven was directed by Clint Eastwood, the programmer may appreciate his directorial style.\\n\\nFilm Eras or Years:\\n- The programmer may have a preference for movies from the early 1990s, as both listed movies were released during this time.\\n\\nThemes and Motifs:\\n- Common themes in these movies can include redemption, violence, sacrifice, and the exploration of morality.\\n\\nCritical Reception versus User Ratings:\\n- Both Terminator 2: Judgment Day and Unforgiven are highly acclaimed films with positive critical reception and user ratings. This suggests that the programmer appreciates well-crafted and critically acclaimed movies.\\n\\nSequels or Franchises:\\n- Terminator 2: Judgment Day is part of the Terminator franchise, so the programmer may enjoy sequels or franchises with a similar action-packed and sci-fi theme.\\n\\nDemographics Influence:\\n- The programmer's age and gender may influence his preference for action and science fiction genres. Being a male in the 18-24 age group, he may be drawn to movies with high intensity, special effects, and complex storytelling.\\n\\nOverall, the programmer seems to have a preference for well-executed action and science fiction movies with strong narratives, possibly featuring moral dilemmas and redemption arcs. He may also appreciate films from the early 1990s and the works of directors like James Cameron and Clint Eastwood. The expected rating for the programmer's movie preferences based on the analysis is 5 out of 5.\"), (\"Based on the movie preferences of the 18-24-year-old male programmer, we can infer the following:\\n\\nGenres and Subgenres:\\n- **Terminator 2: Judgment Day (1991)**: This movie falls under the genres of science fiction and action. The subgenres can include post-apocalyptic, time travel, and thriller.\\n- **Unforgiven (1992)**: This movie belongs to the western genre, specifically the revisionist western subgenre.\\n\\nFavorite Directors and Actors:\\n- **James Cameron**: As the director of Terminator 2: Judgment Day, the programmer may have a preference for his work.\\n- **Clint Eastwood**: Since Unforgiven was directed by Clint Eastwood, the programmer may appreciate his directorial style.\\n\\nFilm Eras or Years:\\n- The programmer may have a preference for movies from the early 1990s, as both listed movies were released during this time.\\n\\nThemes and Motifs:\\n- Common themes in these movies can include redemption, violence, sacrifice, and the exploration of morality.\\n\\nCritical Reception versus User Ratings:\\n- Both Terminator 2: Judgment Day and Unforgiven are highly acclaimed films with positive critical reception and user ratings. This suggests that the programmer appreciates well-crafted and critically acclaimed movies.\\n\\nSequels or Franchises:\\n- Terminator 2: Judgment Day is part of the Terminator franchise, so the programmer may enjoy sequels or franchises with a similar action-packed and sci-fi theme.\\n\\nDemographics Influence:\\n- The programmer's age and gender may influence his preference for action and science fiction genres. Being a male in the 18-24 age group, he may be drawn to movies with high intensity, special effects, and complex storytelling.\\n\\nOverall, the programmer seems to have a preference for well-executed action and science fiction movies with strong narratives, possibly featuring moral dilemmas and redemption arcs. He may also appreciate films from the early 1990s and the works of directors like James Cameron and Clint Eastwood. The expected rating for the programmer's movie preferences based on the analysis is 5 out of 5.\", 'The rating for *The Wild Bunch (1969)* would likely be: *4*', 4, 5, \"Based on the movie preferences of the 18-24-year-old male programmer, here is a revised analysis:\\n\\nGenres and Subgenres:\\n- **Terminator 2: Judgment Day (1991)** falls under the genres of science fiction and action, with subgenres including post-apocalyptic, time travel, and thriller.\\n- **Unforgiven (1992)** belongs to the western genre, specifically the revisionist western subgenre.\\n\\nFavorite Directors and Actors:\\n- The programmer may have a preference for the works of **James Cameron** as he directed Terminator 2: Judgment Day.\\n- Since **Clint Eastwood** directed Unforgiven, the programmer may appreciate his directorial style as well.\\n\\nFilm Eras or Years:\\n- Both listed movies were released in the early 1990s, suggesting the programmer may have a preference for films from this era.\\n\\nThemes and Motifs:\\n- Common themes in these movies can include redemption, violence, sacrifice, and exploration of morality. The programmer may be drawn to films with these themes.\\n\\nCritical Reception versus User Ratings:\\n- Terminator 2: Judgment Day and Unforgiven are highly acclaimed films with positive critical reception and user ratings. This indicates that the programmer values well-crafted and critically acclaimed movies.\\n\\nSequels or Franchises:\\n- Terminator 2: Judgment Day is part of the Terminator franchise, suggesting that the programmer may enjoy sequels or franchises with similar action-packed and sci-fi themes.\\n\\nDemographics Influence:\\n- Given the programmer's age and gender, he may be inclined towards action and science fiction genres, appreciating movies with high intensity, special effects, and complex storytelling.\\n\\nOverall, the programmer seems to have a preference for well-executed action and science fiction films with strong narratives, potentially featuring moral dilemmas and redemption arcs. He may also appreciate works from the early 1990s, enjoy the directing styles of James Cameron and Clint Eastwood, and favor critically acclaimed movies. Considering these aspects, the expected rating for the programmer's movie preferences may be adjusted to 5 out of 5.\"), (\"Based on the movie preferences of the 18-24-year-old male programmer, here is a revised analysis:\\n\\nGenres and Subgenres:\\n- **Terminator 2: Judgment Day (1991)** falls under the genres of science fiction and action, with subgenres including post-apocalyptic, time travel, and thriller.\\n- **Unforgiven (1992)** belongs to the western genre, specifically the revisionist western subgenre.\\n\\nFavorite Directors and Actors:\\n- The programmer may have a preference for the works of **James Cameron** as he directed Terminator 2: Judgment Day.\\n- Since **Clint Eastwood** directed Unforgiven, the programmer may appreciate his directorial style as well.\\n\\nFilm Eras or Years:\\n- Both listed movies were released in the early 1990s, suggesting the programmer may have a preference for films from this era.\\n\\nThemes and Motifs:\\n- Common themes in these movies can include redemption, violence, sacrifice, and exploration of morality. The programmer may be drawn to films with these themes.\\n\\nCritical Reception versus User Ratings:\\n- Terminator 2: Judgment Day and Unforgiven are highly acclaimed films with positive critical reception and user ratings. This indicates that the programmer values well-crafted and critically acclaimed movies.\\n\\nSequels or Franchises:\\n- Terminator 2: Judgment Day is part of the Terminator franchise, suggesting that the programmer may enjoy sequels or franchises with similar action-packed and sci-fi themes.\\n\\nDemographics Influence:\\n- Given the programmer's age and gender, he may be inclined towards action and science fiction genres, appreciating movies with high intensity, special effects, and complex storytelling.\\n\\nOverall, the programmer seems to have a preference for well-executed action and science fiction films with strong narratives, potentially featuring moral dilemmas and redemption arcs. He may also appreciate works from the early 1990s, enjoy the directing styles of James Cameron and Clint Eastwood, and favor critically acclaimed movies. Considering these aspects, the expected rating for the programmer's movie preferences may be adjusted to 5 out of 5.\", 'The rating for High Noon (1952) for the 18-24-year-old male programmer with the described movie preferences would be: *4*', 4, 4, None), (\"Based on the movie preferences of the 18-24-year-old male programmer, here is a revised analysis:\\n\\nGenres and Subgenres:\\n- **Terminator 2: Judgment Day (1991)** falls under the genres of science fiction and action, with subgenres including post-apocalyptic, time travel, and thriller.\\n- **Unforgiven (1992)** belongs to the western genre, specifically the revisionist western subgenre.\\n\\nFavorite Directors and Actors:\\n- The programmer may have a preference for the works of **James Cameron** as he directed Terminator 2: Judgment Day.\\n- Since **Clint Eastwood** directed Unforgiven, the programmer may appreciate his directorial style as well.\\n\\nFilm Eras or Years:\\n- Both listed movies were released in the early 1990s, suggesting the programmer may have a preference for films from this era.\\n\\nThemes and Motifs:\\n- Common themes in these movies can include redemption, violence, sacrifice, and exploration of morality. The programmer may be drawn to films with these themes.\\n\\nCritical Reception versus User Ratings:\\n- Terminator 2: Judgment Day and Unforgiven are highly acclaimed films with positive critical reception and user ratings. This indicates that the programmer values well-crafted and critically acclaimed movies.\\n\\nSequels or Franchises:\\n- Terminator 2: Judgment Day is part of the Terminator franchise, suggesting that the programmer may enjoy sequels or franchises with similar action-packed and sci-fi themes.\\n\\nDemographics Influence:\\n- Given the programmer's age and gender, he may be inclined towards action and science fiction genres, appreciating movies with high intensity, special effects, and complex storytelling.\\n\\nOverall, the programmer seems to have a preference for well-executed action and science fiction films with strong narratives, potentially featuring moral dilemmas and redemption arcs. He may also appreciate works from the early 1990s, enjoy the directing styles of James Cameron and Clint Eastwood, and favor critically acclaimed movies. Considering these aspects, the expected rating for the programmer's movie preferences may be adjusted to 5 out of 5.\", 'The rating for Yojimbo (1961) based on the analysis of the movie preferences of the 18-24-year-old male programmer would be:\\n\\n*4*', 4, 5, \"Based on the revised analysis of the movie preferences of the 18-24-year-old male programmer:\\n\\n1. Genres and Subgenres:\\n   - The programmer seems to enjoy a mix of science fiction, action, and western genres with subgenres like post-apocalyptic, time travel, thriller, and revisionist western.\\n\\n2. Favorite Directors and Actors:\\n   - The programmer may have a preference for works by directors like James Cameron and Clint Eastwood.\\n\\n3. Film Eras or Years:\\n   - Given the programmer's positive reception to movies from the early 1990s, he may have a preference for films from that era.\\n\\n4. Themes and Motifs:\\n   - Common themes in the programmer's preferred movies might include redemption, violence, sacrifice, and exploration of morality.\\n\\n5. Critical Reception versus User Ratings:\\n   - The programmer appreciates well-crafted and critically acclaimed films as indicated by the positive ratings for Terminator 2: Judgment Day and Unforgiven.\\n\\n6. Sequels or Franchises:\\n   - The programmer may enjoy sequels or franchises with action-packed and sci-fi themes, considering his positive rating for Terminator 2: Judgment Day.\\n\\n7. Demographics Influence:\\n   - Given the programmer's age and gender, he is likely inclined towards intense, special effects-driven movies with complex storytelling, aligning with his interest in action and science fiction genres.\\n\\nOverall, considering the programmer's preferences and the adjustments made to the analysis, it is reasonable to predict a rating of 5 out of 5 for his movie preferences.\"), (\"Based on the revised analysis of the movie preferences of the 18-24-year-old male programmer:\\n\\n1. Genres and Subgenres:\\n   - The programmer seems to enjoy a mix of science fiction, action, and western genres with subgenres like post-apocalyptic, time travel, thriller, and revisionist western.\\n\\n2. Favorite Directors and Actors:\\n   - The programmer may have a preference for works by directors like James Cameron and Clint Eastwood.\\n\\n3. Film Eras or Years:\\n   - Given the programmer's positive reception to movies from the early 1990s, he may have a preference for films from that era.\\n\\n4. Themes and Motifs:\\n   - Common themes in the programmer's preferred movies might include redemption, violence, sacrifice, and exploration of morality.\\n\\n5. Critical Reception versus User Ratings:\\n   - The programmer appreciates well-crafted and critically acclaimed films as indicated by the positive ratings for Terminator 2: Judgment Day and Unforgiven.\\n\\n6. Sequels or Franchises:\\n   - The programmer may enjoy sequels or franchises with action-packed and sci-fi themes, considering his positive rating for Terminator 2: Judgment Day.\\n\\n7. Demographics Influence:\\n   - Given the programmer's age and gender, he is likely inclined towards intense, special effects-driven movies with complex storytelling, aligning with his interest in action and science fiction genres.\\n\\nOverall, considering the programmer's preferences and the adjustments made to the analysis, it is reasonable to predict a rating of 5 out of 5 for his movie preferences.\", 'The rating for Pale Rider (1985) based on the revised analysis of the movie preferences of the 18-24-year-old male programmer would be: ***3***.', 3, 3, None)]\n",
            "3564\n",
            "4 4\n",
            "No feedback needed.\n",
            "4 3\n",
            "4 4\n",
            "No feedback needed.\n",
            "4 4\n",
            "No feedback needed.\n",
            "4 5\n",
            "[('Based on the movie preferences of the 25-34-year-old male lawyer, we can infer the following:\\n\\n1. **Genres and subgenres:**\\n   - Psychological thriller: \"The Silence of the Lambs\"\\n   - Coming-of-age comedy: \"Fandango\"\\n   - Action thriller: \"The World Is Not Enough\"\\n   - Drama: \"The Grapes of Wrath\"\\n\\n2. **Potential favorite directors and actors:**\\n   - Favorite directors may include Jonathan Demme (director of \"The Silence of the Lambs\") and Michael Apted (director of \"The World Is Not Enough\").\\n   - Common actors might include Anthony Hopkins (from \"The Silence of the Lambs\") and Pierce Brosnan (from \"The World Is Not Enough\").\\n\\n3. **Film eras or years:**\\n   - The lawyer seems to enjoy a mix of classic and more recent films, as the movies listed range from 1940 (\"The Grapes of Wrath\") to 1999 (\"The World Is Not Enough\").\\n\\n4. **Themes and motifs:**\\n   - Dark psychological themes: \"The Silence of the Lambs\"\\n   - Friendship and adventure: \"Fandango\"\\n   - Action and espionage: \"The World Is Not Enough\"\\n   - Social commentary and drama: \"The Grapes of Wrath\"\\n\\n5. **Critical reception versus user ratings:**\\n   - \"The Silence of the Lambs\" and \"The Grapes of Wrath\" are critically acclaimed and well-received by users, while \"The World Is Not Enough\" has a slightly lower rating.\\n   - The lawyer might appreciate well-crafted, thought-provoking films with strong performances.\\n\\n6. **Preferences in sequels or franchises:**\\n   - Given the lawyer\\'s enjoyment of \"The World Is Not Enough,\" he might be inclined towards other James Bond films or action-packed sequels.\\n\\n7. **Influence of demographics:**\\n   - The lawyer\\'s age and profession may influence his preference for a mix of classic and more recent films that offer a blend of entertainment, thoughtfulness, and action.\\n\\nBased on this analysis, the lawyer seems to have diverse taste in movies, appreciating a mix of genres, eras, and themes that offer engaging storytelling and compelling performances. He may prefer well-crafted films with strong character development and intriguing plotlines.', 'The rating for \"Animal House\" (1978) would be: *4*', 4, 4, None), ('Based on the movie preferences of the 25-34-year-old male lawyer, we can infer the following:\\n\\n1. **Genres and subgenres:**\\n   - Psychological thriller: \"The Silence of the Lambs\"\\n   - Coming-of-age comedy: \"Fandango\"\\n   - Action thriller: \"The World Is Not Enough\"\\n   - Drama: \"The Grapes of Wrath\"\\n\\n2. **Potential favorite directors and actors:**\\n   - Favorite directors may include Jonathan Demme (director of \"The Silence of the Lambs\") and Michael Apted (director of \"The World Is Not Enough\").\\n   - Common actors might include Anthony Hopkins (from \"The Silence of the Lambs\") and Pierce Brosnan (from \"The World Is Not Enough\").\\n\\n3. **Film eras or years:**\\n   - The lawyer seems to enjoy a mix of classic and more recent films, as the movies listed range from 1940 (\"The Grapes of Wrath\") to 1999 (\"The World Is Not Enough\").\\n\\n4. **Themes and motifs:**\\n   - Dark psychological themes: \"The Silence of the Lambs\"\\n   - Friendship and adventure: \"Fandango\"\\n   - Action and espionage: \"The World Is Not Enough\"\\n   - Social commentary and drama: \"The Grapes of Wrath\"\\n\\n5. **Critical reception versus user ratings:**\\n   - \"The Silence of the Lambs\" and \"The Grapes of Wrath\" are critically acclaimed and well-received by users, while \"The World Is Not Enough\" has a slightly lower rating.\\n   - The lawyer might appreciate well-crafted, thought-provoking films with strong performances.\\n\\n6. **Preferences in sequels or franchises:**\\n   - Given the lawyer\\'s enjoyment of \"The World Is Not Enough,\" he might be inclined towards other James Bond films or action-packed sequels.\\n\\n7. **Influence of demographics:**\\n   - The lawyer\\'s age and profession may influence his preference for a mix of classic and more recent films that offer a blend of entertainment, thoughtfulness, and action.\\n\\nBased on this analysis, the lawyer seems to have diverse taste in movies, appreciating a mix of genres, eras, and themes that offer engaging storytelling and compelling performances. He may prefer well-crafted films with strong character development and intriguing plotlines.', 'The rating for \"Creature Comforts\" (1990) would be: *4*', 4, 3, 'Based on the adjusted analysis of the movie preferences of a 25-34-year-old male lawyer as per the provided movie ratings and titles:\\n\\n1. **Genres and subgenres:**\\n   - Psychological thriller: \"The Silence of the Lambs\"\\n   - Coming-of-age comedy: \"Fandango\"\\n   - Action thriller: \"The World Is Not Enough\"\\n   - Drama: \"The Grapes of Wrath\"\\n\\n2. **Potential favorite directors and actors:**\\n   - Favorite directors may include Jonathan Demme (director of \"The Silence of the Lambs\") and Michael Apted (director of \"The World Is Not Enough\").\\n   - Common actors might include Anthony Hopkins (from \"The Silence of the Lambs\") and Pierce Brosnan (from \"The World Is Not Enough\").\\n\\n3. **Film eras or years:**\\n   - The lawyer appears to enjoy a mix of classic and more recent films, as the movies listed range from 1940 (\"The Grapes of Wrath\") to 1999 (\"The World Is Not Enough\").\\n\\n4. **Themes and motifs:**\\n   - Dark psychological themes: \"The Silence of the Lambs\"\\n   - Friendship and adventure: \"Fandango\"\\n   - Action and espionage: \"The World Is Not Enough\"\\n   - Social commentary and drama: \"The Grapes of Wrath\"\\n\\n5. **Critical reception versus user ratings:**\\n   - \"The Silence of the Lambs,\" \"Fandango,\" and \"The Grapes of Wrath\" are highly rated by the lawyer, indicating a preference for well-received films with strong storytelling and performances. \\n   - \"The World Is Not Enough\" received a slightly lower rating, suggesting a preference for more critically acclaimed movies.\\n\\n6. **Preferences in sequels or franchises:**\\n   - Given the lawyer\\'s rating of \"The World Is Not Enough,\" he might enjoy other James Bond films or action-packed sequels.\\n\\n7. **Influence of demographics:**\\n   - The lawyer\\'s age and profession may influence his preference for a mix of classic and more recent films that offer a blend of entertainment, thoughtfulness, and action.\\n\\nBased on this adjusted analysis, the lawyer seems to prefer movies that offer a mix of genres, engaging themes, and well-crafted storytelling with strong performances. He values critically acclaimed films and may have a preference for sequels or franchises within action-packed genres.'), ('Based on the adjusted analysis of the movie preferences of a 25-34-year-old male lawyer as per the provided movie ratings and titles:\\n\\n1. **Genres and subgenres:**\\n   - Psychological thriller: \"The Silence of the Lambs\"\\n   - Coming-of-age comedy: \"Fandango\"\\n   - Action thriller: \"The World Is Not Enough\"\\n   - Drama: \"The Grapes of Wrath\"\\n\\n2. **Potential favorite directors and actors:**\\n   - Favorite directors may include Jonathan Demme (director of \"The Silence of the Lambs\") and Michael Apted (director of \"The World Is Not Enough\").\\n   - Common actors might include Anthony Hopkins (from \"The Silence of the Lambs\") and Pierce Brosnan (from \"The World Is Not Enough\").\\n\\n3. **Film eras or years:**\\n   - The lawyer appears to enjoy a mix of classic and more recent films, as the movies listed range from 1940 (\"The Grapes of Wrath\") to 1999 (\"The World Is Not Enough\").\\n\\n4. **Themes and motifs:**\\n   - Dark psychological themes: \"The Silence of the Lambs\"\\n   - Friendship and adventure: \"Fandango\"\\n   - Action and espionage: \"The World Is Not Enough\"\\n   - Social commentary and drama: \"The Grapes of Wrath\"\\n\\n5. **Critical reception versus user ratings:**\\n   - \"The Silence of the Lambs,\" \"Fandango,\" and \"The Grapes of Wrath\" are highly rated by the lawyer, indicating a preference for well-received films with strong storytelling and performances. \\n   - \"The World Is Not Enough\" received a slightly lower rating, suggesting a preference for more critically acclaimed movies.\\n\\n6. **Preferences in sequels or franchises:**\\n   - Given the lawyer\\'s rating of \"The World Is Not Enough,\" he might enjoy other James Bond films or action-packed sequels.\\n\\n7. **Influence of demographics:**\\n   - The lawyer\\'s age and profession may influence his preference for a mix of classic and more recent films that offer a blend of entertainment, thoughtfulness, and action.\\n\\nBased on this adjusted analysis, the lawyer seems to prefer movies that offer a mix of genres, engaging themes, and well-crafted storytelling with strong performances. He values critically acclaimed films and may have a preference for sequels or franchises within action-packed genres.', 'The rating for \"A Christmas Story\" (1983) from the perspective of the 25-34-year-old male lawyer based on the adjusted analysis would be: *4*', 4, 4, None), ('Based on the adjusted analysis of the movie preferences of a 25-34-year-old male lawyer as per the provided movie ratings and titles:\\n\\n1. **Genres and subgenres:**\\n   - Psychological thriller: \"The Silence of the Lambs\"\\n   - Coming-of-age comedy: \"Fandango\"\\n   - Action thriller: \"The World Is Not Enough\"\\n   - Drama: \"The Grapes of Wrath\"\\n\\n2. **Potential favorite directors and actors:**\\n   - Favorite directors may include Jonathan Demme (director of \"The Silence of the Lambs\") and Michael Apted (director of \"The World Is Not Enough\").\\n   - Common actors might include Anthony Hopkins (from \"The Silence of the Lambs\") and Pierce Brosnan (from \"The World Is Not Enough\").\\n\\n3. **Film eras or years:**\\n   - The lawyer appears to enjoy a mix of classic and more recent films, as the movies listed range from 1940 (\"The Grapes of Wrath\") to 1999 (\"The World Is Not Enough\").\\n\\n4. **Themes and motifs:**\\n   - Dark psychological themes: \"The Silence of the Lambs\"\\n   - Friendship and adventure: \"Fandango\"\\n   - Action and espionage: \"The World Is Not Enough\"\\n   - Social commentary and drama: \"The Grapes of Wrath\"\\n\\n5. **Critical reception versus user ratings:**\\n   - \"The Silence of the Lambs,\" \"Fandango,\" and \"The Grapes of Wrath\" are highly rated by the lawyer, indicating a preference for well-received films with strong storytelling and performances. \\n   - \"The World Is Not Enough\" received a slightly lower rating, suggesting a preference for more critically acclaimed movies.\\n\\n6. **Preferences in sequels or franchises:**\\n   - Given the lawyer\\'s rating of \"The World Is Not Enough,\" he might enjoy other James Bond films or action-packed sequels.\\n\\n7. **Influence of demographics:**\\n   - The lawyer\\'s age and profession may influence his preference for a mix of classic and more recent films that offer a blend of entertainment, thoughtfulness, and action.\\n\\nBased on this adjusted analysis, the lawyer seems to prefer movies that offer a mix of genres, engaging themes, and well-crafted storytelling with strong performances. He values critically acclaimed films and may have a preference for sequels or franchises within action-packed genres.', 'The rating for \"Close Encounters of the Third Kind\" (1977) based on the adjusted analysis for the 25-34-year-old male lawyer would be: *4*', 4, 4, None), ('Based on the adjusted analysis of the movie preferences of a 25-34-year-old male lawyer as per the provided movie ratings and titles:\\n\\n1. **Genres and subgenres:**\\n   - Psychological thriller: \"The Silence of the Lambs\"\\n   - Coming-of-age comedy: \"Fandango\"\\n   - Action thriller: \"The World Is Not Enough\"\\n   - Drama: \"The Grapes of Wrath\"\\n\\n2. **Potential favorite directors and actors:**\\n   - Favorite directors may include Jonathan Demme (director of \"The Silence of the Lambs\") and Michael Apted (director of \"The World Is Not Enough\").\\n   - Common actors might include Anthony Hopkins (from \"The Silence of the Lambs\") and Pierce Brosnan (from \"The World Is Not Enough\").\\n\\n3. **Film eras or years:**\\n   - The lawyer appears to enjoy a mix of classic and more recent films, as the movies listed range from 1940 (\"The Grapes of Wrath\") to 1999 (\"The World Is Not Enough\").\\n\\n4. **Themes and motifs:**\\n   - Dark psychological themes: \"The Silence of the Lambs\"\\n   - Friendship and adventure: \"Fandango\"\\n   - Action and espionage: \"The World Is Not Enough\"\\n   - Social commentary and drama: \"The Grapes of Wrath\"\\n\\n5. **Critical reception versus user ratings:**\\n   - \"The Silence of the Lambs,\" \"Fandango,\" and \"The Grapes of Wrath\" are highly rated by the lawyer, indicating a preference for well-received films with strong storytelling and performances. \\n   - \"The World Is Not Enough\" received a slightly lower rating, suggesting a preference for more critically acclaimed movies.\\n\\n6. **Preferences in sequels or franchises:**\\n   - Given the lawyer\\'s rating of \"The World Is Not Enough,\" he might enjoy other James Bond films or action-packed sequels.\\n\\n7. **Influence of demographics:**\\n   - The lawyer\\'s age and profession may influence his preference for a mix of classic and more recent films that offer a blend of entertainment, thoughtfulness, and action.\\n\\nBased on this adjusted analysis, the lawyer seems to prefer movies that offer a mix of genres, engaging themes, and well-crafted storytelling with strong performances. He values critically acclaimed films and may have a preference for sequels or franchises within action-packed genres.', 'The rating for Star Wars: Episode IV - A New Hope (1977) for the 25-34-year-old male lawyer based on the provided analysis would be:\\n\\nThe rating will be: *4*', 4, 5, 'Based on the adjusted analysis of the movie preferences of a 25-34-year-old male lawyer, here are the key insights:\\n\\n1. **Genres and subgenres:** \\n   - Psychological thriller: \"The Silence of the Lambs\"\\n   - Coming-of-age comedy: \"Fandango\"\\n   - Action thriller: \"The World Is Not Enough\"\\n   - Drama: \"The Grapes of Wrath\"\\n\\n2. **Potential favorite directors and actors:** \\n   - Favorite directors may include Jonathan Demme (director of \"The Silence of the Lambs\") and Michael Apted (director of \"The World Is Not Enough\").\\n   - Common actors might include Anthony Hopkins (from \"The Silence of the Lambs\") and Pierce Brosnan (from \"The World Is Not Enough\").\\n\\n3. **Film eras or years:** \\n   - The lawyer enjoys a mix of classic and more recent films, as the movies listed range from 1940 (\"The Grapes of Wrath\") to 1999 (\"The World Is Not Enough\").\\n\\n4. **Themes and motifs:** \\n   - Dark psychological themes: \"The Silence of the Lambs\"\\n   - Friendship and adventure: \"Fandango\"\\n   - Action and espionage: \"The World Is Not Enough\"\\n   - Social commentary and drama: \"The Grapes of Wrath\"\\n\\n5. **Critical reception versus user ratings:** \\n   - \"The Silence of the Lambs,\" \"Fandango,\" and \"The Grapes of Wrath\" are highly rated by the lawyer, indicating a preference for well-received films with strong storytelling and performances.\\n   - \"The World Is Not Enough\" received a slightly lower rating, suggesting a preference for more critically acclaimed movies.\\n\\n6. **Preferences in sequels or franchises:** \\n   - Given the lawyer\\'s rating of \"The World Is Not Enough,\" he might enjoy other James Bond films or action-packed sequels.\\n\\n7. **Influence of demographics:** \\n   - The lawyer\\'s age and profession may influence his preference for a mix of classic and more recent films that offer a blend of entertainment, thoughtfulness, and action.\\n\\nBased on this adjusted analysis, the lawyer seems to prefer movies that offer a mix of genres, engaging themes, and well-crafted storytelling with strong performances. He values critically acclaimed films and may have a preference for sequels or franchises within action-packed genres.')]\n",
            "3596\n",
            "4 5\n",
            "3 4\n",
            "4 3\n",
            "3 4\n",
            "3 4\n",
            "[(\"Based on the movie preferences of the 35-44-year-old female college/grad student, we can infer the following aspects:\\n\\nGenres and Subgenres:\\n1. Action/Sci-Fi: Terminator 2: Judgment Day (1991)\\n2. Animation/Family: Toy Story (1995), Snow White and the Seven Dwarfs (1937)\\n3. Thriller: The Silence of the Lambs (1991)\\n4. Western: The Wild Bunch (1969)\\n5. Musical/Drama: Evita (1996)\\n6. Mystery/Thriller: Vertigo (1958), Rear Window (1954), North by Northwest (1959)\\n7. Fantasy/Adventure: The Wizard of Oz (1939)\\n8. Sci-Fi: 2001: A Space Odyssey (1968)\\n9. Drama: The Verdict (1982), It's a Wonderful Life (1946), Mighty Joe Young (1949), The Grapes of Wrath (1940), The Natural (1984)\\n10. Comedy: Animal House (1978)\\n11. Drama/Romance: Moonstruck (1987)\\n12. Drama/Romance/Social: Guess Who's Coming to Dinner (1967)\\n\\nFavorite Directors and Actors:\\n1. Directors: Alfred Hitchcock (Vertigo, Rear Window, North by Northwest), Steven Spielberg (Jurassic Park)\\n2. Actors: Tom Hanks (Toy Story), Judy Garland (The Wizard of Oz), James Stewart (Rear Window, It's a Wonderful Life), Charlton Heston (The Wild Bunch)\\n\\nFilm Eras or Years Preferences:\\nThe individual seems to enjoy movies from various eras, including classic Hollywood films like The Wizard of Oz (1939) and Snow White and the Seven Dwarfs (1937), as well as more recent releases like Evita (1996) and Toy Story (1995).\\n\\nThemes and Motifs:\\nCommon themes in the mentioned movies include love, adventure, conflict, self-discovery, justice, and family relationships.\\n\\nCritical Reception vs. User Ratings:\\nThe individual seems to value classic films and high-quality storytelling, as indicated by the high ratings for movies like Snow White and the Seven Dwarfs, The Wizard of Oz, and It's a Wonderful Life.\\n\\nPreferences in Sequels or Franchises:\\nGiven the positive ratings for Terminator 2: Judgment Day and Toy Story, the individual may enjoy sequels and franchises with engaging storylines and strong character development.\\n\\nInfluence of Demographics:\\nAs a 35-44-year-old female college/grad student, the individual may appreciate a diverse range of genres and themes, including classics, animated films, thrillers, dramas, and comedies. Her preferences seem to lean towards well-crafted storytelling, strong character development, and emotional depth in movies across different eras.\", 'The rating for A Christmas Story (1983) based on the movie preferences of the 35-44-year-old female college/grad student would be: *4*', 4, 5, \"Based on the movie preferences and ratings provided for the 35-44-year-old female college/grad student:\\n\\nGenres and Subgenres:\\n1. Action/Sci-Fi: Terminator 2: Judgment Day (1991) - rated 4/5\\n2. Animation/Family: Toy Story (1995) - rated 4/5, Snow White and the Seven Dwarfs (1937) - rated 5/5\\n3. Thriller: The Silence of the Lambs (1991) - rated 3/5\\n4. Western: The Wild Bunch (1969) - rated 3/5\\n5. Musical/Drama: Evita (1996) - rated 2/5\\n6. Mystery/Thriller: Vertigo (1958) - rated 3/5, Rear Window (1954) - rated 3/5, North by Northwest (1959) - rated 5/5\\n7. Fantasy/Adventure: The Wizard of Oz (1939) - rated 5/5\\n8. Sci-Fi: 2001: A Space Odyssey (1968) - rated 3/5\\n9. Drama: The Verdict (1982) - rated 4/5, It's a Wonderful Life (1946) - rated 5/5, Mighty Joe Young (1949) - rated 3/5, The Grapes of Wrath (1940) - rated 3/5, The Natural (1984) - rated 4/5\\n10. Comedy: Animal House (1978) - rated 4/5\\n11. Drama/Romance: Moonstruck (1987) - rated 3/5\\n12. Drama/Romance/Social: Guess Who's Coming to Dinner (1967) - rated 2/5\\n\\nFavorite Directors and Actors:\\n1. Directors: Alfred Hitchcock (Vertigo, Rear Window, North by Northwest)\\n2. Actors: Tom Hanks (Toy Story), Judy Garland (The Wizard of Oz)\\n\\nFilm Eras or Years Preferences:\\nThe individual enjoys movies from various eras, including classic Hollywood films like The Wizard of Oz (1939) and Snow White and the Seven Dwarfs (1937), as well as more recent releases like Evita (1996) and Toy Story (1995).\\n\\nThemes and Motifs:\\nCommon themes in the mentioned movies include love, adventure, conflict, self-discovery, justice, and family relationships.\\n\\nCritical Reception vs. User Ratings:\\nThe individual seems to value classic films and high-quality storytelling, as indicated by the high ratings for movies like Snow White and the Seven Dwarfs, The Wizard of Oz, and It's a Wonderful Life.\\n\\nPreferences in Sequels or Franchises:\\nGiven the positive ratings for Terminator 2: Judgment Day and Toy Story, the individual may enjoy sequels and franchises with engaging storylines and strong character development.\\n\\nInfluence of Demographics:\\nAs a 35-44-year-old female college/grad student, the individual appreciates a diverse range of genres and themes, including classics, animated films, thrillers, dramas, and comedies. Her preferences lean towards well-crafted storytelling, strong character development, and emotional depth in movies across different eras.\"), (\"Based on the movie preferences and ratings provided for the 35-44-year-old female college/grad student:\\n\\nGenres and Subgenres:\\n1. Action/Sci-Fi: Terminator 2: Judgment Day (1991) - rated 4/5\\n2. Animation/Family: Toy Story (1995) - rated 4/5, Snow White and the Seven Dwarfs (1937) - rated 5/5\\n3. Thriller: The Silence of the Lambs (1991) - rated 3/5\\n4. Western: The Wild Bunch (1969) - rated 3/5\\n5. Musical/Drama: Evita (1996) - rated 2/5\\n6. Mystery/Thriller: Vertigo (1958) - rated 3/5, Rear Window (1954) - rated 3/5, North by Northwest (1959) - rated 5/5\\n7. Fantasy/Adventure: The Wizard of Oz (1939) - rated 5/5\\n8. Sci-Fi: 2001: A Space Odyssey (1968) - rated 3/5\\n9. Drama: The Verdict (1982) - rated 4/5, It's a Wonderful Life (1946) - rated 5/5, Mighty Joe Young (1949) - rated 3/5, The Grapes of Wrath (1940) - rated 3/5, The Natural (1984) - rated 4/5\\n10. Comedy: Animal House (1978) - rated 4/5\\n11. Drama/Romance: Moonstruck (1987) - rated 3/5\\n12. Drama/Romance/Social: Guess Who's Coming to Dinner (1967) - rated 2/5\\n\\nFavorite Directors and Actors:\\n1. Directors: Alfred Hitchcock (Vertigo, Rear Window, North by Northwest)\\n2. Actors: Tom Hanks (Toy Story), Judy Garland (The Wizard of Oz)\\n\\nFilm Eras or Years Preferences:\\nThe individual enjoys movies from various eras, including classic Hollywood films like The Wizard of Oz (1939) and Snow White and the Seven Dwarfs (1937), as well as more recent releases like Evita (1996) and Toy Story (1995).\\n\\nThemes and Motifs:\\nCommon themes in the mentioned movies include love, adventure, conflict, self-discovery, justice, and family relationships.\\n\\nCritical Reception vs. User Ratings:\\nThe individual seems to value classic films and high-quality storytelling, as indicated by the high ratings for movies like Snow White and the Seven Dwarfs, The Wizard of Oz, and It's a Wonderful Life.\\n\\nPreferences in Sequels or Franchises:\\nGiven the positive ratings for Terminator 2: Judgment Day and Toy Story, the individual may enjoy sequels and franchises with engaging storylines and strong character development.\\n\\nInfluence of Demographics:\\nAs a 35-44-year-old female college/grad student, the individual appreciates a diverse range of genres and themes, including classics, animated films, thrillers, dramas, and comedies. Her preferences lean towards well-crafted storytelling, strong character development, and emotional depth in movies across different eras.\", 'The rating for Hud (1963) based on the provided analysis would be: *3*', 3, 4, \"Based on the movie preferences and ratings provided for the 35-44-year-old female college/grad student, here is an adjusted analysis:\\n\\nGenres and Subgenres Inferred:\\n1. Action/Sci-Fi: Terminator 2: Judgment Day (1991) - rated 4/5\\n2. Animation/Family: Toy Story (1995) - rated 4/5, Snow White and the Seven Dwarfs (1937) - rated 5/5\\n3. Thriller: The Silence of the Lambs (1991) - rated 3/5\\n4. Western: The Wild Bunch (1969) - rated 3/5\\n5. Musical/Drama: Evita (1996) - rated 2/5\\n6. Mystery/Thriller: Vertigo (1958) - rated 3/5, Rear Window (1954) - rated 3/5, North by Northwest (1959) - rated 5/5\\n7. Fantasy/Adventure: The Wizard of Oz (1939) - rated 5/5\\n8. Sci-Fi: 2001: A Space Odyssey (1968) - rated 3/5\\n9. Drama: The Verdict (1982) - rated 4/5, It's a Wonderful Life (1946) - rated 5/5, Mighty Joe Young (1949) - rated 3/5, The Grapes of Wrath (1940) - rated 3/5, The Natural (1984) - rated 4/5\\n10. Comedy: Animal House (1978) - rated 4/5\\n11. Drama/Romance: Moonstruck (1987) - rated 3/5\\n12. Drama/Romance/Social: Guess Who's Coming to Dinner (1967) - rated 2/5\\n13. Comedy/Drama: Mister Roberts (1955) - rated 4/5\\n\\nFavorite Directors and Actors Inferred:\\n1. Directors: Alfred Hitchcock (Vertigo, Rear Window, North by Northwest)\\n2. Actors: Tom Hanks (Toy Story), Judy Garland (The Wizard of Oz)\\n\\nFilm Eras or Years Preferences:\\nThe individual enjoys movies from various eras, including classic Hollywood films like The Wizard of Oz (1939) and Snow White and the Seven Dwarfs (1937), as well as mid-20th-century releases like Vertigo (1958) and Rear Window (1954).\\n\\nThemes and Motifs:\\nCommon themes in the mentioned movies include love, adventure, conflict, self-discovery, justice, and family relationships.\\n\\nCritical Reception vs. User Ratings:\\nThe individual seems to value classic films and high-quality storytelling, as indicated by the high ratings for movies like Snow White and the Seven Dwarfs, The Wizard of Oz, and It's a Wonderful Life.\\n\\nPreferences in Sequels or Franchises:\\nGiven the positive ratings for Terminator 2: Judgment Day and Toy Story, the individual may enjoy sequels and franchises with engaging storylines and strong character development.\\n\\nInfluence of Demographics:\\nAs a 35-44-year-old female college/grad student, the individual appreciates a diverse range of genres and themes, including classics, animated films, thrillers, dramas, and comedies. Her preferences lean towards well-crafted storytelling, strong character development, and emotional depth in movies across different eras.\"), (\"Based on the movie preferences and ratings provided for the 35-44-year-old female college/grad student, here is an adjusted analysis:\\n\\nGenres and Subgenres Inferred:\\n1. Action/Sci-Fi: Terminator 2: Judgment Day (1991) - rated 4/5\\n2. Animation/Family: Toy Story (1995) - rated 4/5, Snow White and the Seven Dwarfs (1937) - rated 5/5\\n3. Thriller: The Silence of the Lambs (1991) - rated 3/5\\n4. Western: The Wild Bunch (1969) - rated 3/5\\n5. Musical/Drama: Evita (1996) - rated 2/5\\n6. Mystery/Thriller: Vertigo (1958) - rated 3/5, Rear Window (1954) - rated 3/5, North by Northwest (1959) - rated 5/5\\n7. Fantasy/Adventure: The Wizard of Oz (1939) - rated 5/5\\n8. Sci-Fi: 2001: A Space Odyssey (1968) - rated 3/5\\n9. Drama: The Verdict (1982) - rated 4/5, It's a Wonderful Life (1946) - rated 5/5, Mighty Joe Young (1949) - rated 3/5, The Grapes of Wrath (1940) - rated 3/5, The Natural (1984) - rated 4/5\\n10. Comedy: Animal House (1978) - rated 4/5\\n11. Drama/Romance: Moonstruck (1987) - rated 3/5\\n12. Drama/Romance/Social: Guess Who's Coming to Dinner (1967) - rated 2/5\\n13. Comedy/Drama: Mister Roberts (1955) - rated 4/5\\n\\nFavorite Directors and Actors Inferred:\\n1. Directors: Alfred Hitchcock (Vertigo, Rear Window, North by Northwest)\\n2. Actors: Tom Hanks (Toy Story), Judy Garland (The Wizard of Oz)\\n\\nFilm Eras or Years Preferences:\\nThe individual enjoys movies from various eras, including classic Hollywood films like The Wizard of Oz (1939) and Snow White and the Seven Dwarfs (1937), as well as mid-20th-century releases like Vertigo (1958) and Rear Window (1954).\\n\\nThemes and Motifs:\\nCommon themes in the mentioned movies include love, adventure, conflict, self-discovery, justice, and family relationships.\\n\\nCritical Reception vs. User Ratings:\\nThe individual seems to value classic films and high-quality storytelling, as indicated by the high ratings for movies like Snow White and the Seven Dwarfs, The Wizard of Oz, and It's a Wonderful Life.\\n\\nPreferences in Sequels or Franchises:\\nGiven the positive ratings for Terminator 2: Judgment Day and Toy Story, the individual may enjoy sequels and franchises with engaging storylines and strong character development.\\n\\nInfluence of Demographics:\\nAs a 35-44-year-old female college/grad student, the individual appreciates a diverse range of genres and themes, including classics, animated films, thrillers, dramas, and comedies. Her preferences lean towards well-crafted storytelling, strong character development, and emotional depth in movies across different eras.\", 'The rating for The Hustler (1961) based on the inferred movie preferences and ratings provided for the 35-44-year-old female college/grad student would be:\\n\\n*4*', 4, 3, \"Based on the provided movie preferences and ratings of the 35-44-year-old female college/grad student, here is an adjusted analysis:\\n\\nGenres and Subgenres Inferred:\\n1. Action/Sci-Fi: Terminator 2: Judgment Day (1991) - rated 4/5\\n2. Animation/Family: Toy Story (1995) - rated 4/5, Snow White and the Seven Dwarfs (1937) - rated 5/5\\n3. Thriller: The Silence of the Lambs (1991) - rated 3/5\\n4. Western: The Wild Bunch (1969) - rated 3/5\\n5. Drama: Evita (1996) - rated 2/5, The Verdict (1982) - rated 4/5, It's a Wonderful Life (1946) - rated 5/5, The Natural (1984) - rated 4/5\\n6. Comedy: Animal House (1978) - rated 4/5\\n7. Mystery/Thriller: Vertigo (1958) - rated 3/5, Rear Window (1954) - rated 3/5, North by Northwest (1959) - rated 5/5\\n8. Fantasy/Adventure: The Wizard of Oz (1939) - rated 5/5\\n9. Sci-Fi: 2001: A Space Odyssey (1968) - rated 3/5\\n10. Musical/Drama: Evita (1996) - rated 2/5\\n11. Drama/Romance: Moonstruck (1987) - rated 3/5\\n12. Drama/Romance/Social: Guess Who's Coming to Dinner (1967) - rated 2/5\\n13. Comedy/Drama: Mister Roberts (1955) - rated 4/5\\n\\nFavorite Directors and Actors Inferred:\\n1. Directors: Alfred Hitchcock (Vertigo, Rear Window, North by Northwest)\\n2. Actors: Tom Hanks (Toy Story), Judy Garland (The Wizard of Oz)\\n\\nFilm Eras or Years Preferences:\\nThe individual enjoys movies from various eras, including classic Hollywood films like The Wizard of Oz (1939) and Snow White and the Seven Dwarfs (1937), as well as mid-20th-century releases like Vertigo (1958) and Rear Window (1954).\\n\\nThemes and Motifs:\\nCommon themes in the mentioned movies include love, adventure, conflict, self-discovery, justice, and family relationships.\\n\\nCritical Reception vs. User Ratings:\\nThe individual seems to value classic films and high-quality storytelling, as indicated by the high ratings for movies like Snow White and the Seven Dwarfs, The Wizard of Oz, and It's a Wonderful Life.\\n\\nPreferences in Sequels or Franchises:\\nGiven the positive ratings for Terminator 2: Judgment Day and Toy Story, the individual may enjoy sequels and franchises with engaging storylines and strong character development.\\n\\nInfluence of Demographics:\\nAs a 35-44-year-old female college/grad student, the individual appreciates a diverse range of genres and themes, including classics, animated films, thrillers, dramas, and comedies. Her preferences lean towards well-crafted storytelling, strong character development, and emotional depth in movies across different eras.\"), (\"Based on the provided movie preferences and ratings of the 35-44-year-old female college/grad student, here is an adjusted analysis:\\n\\nGenres and Subgenres Inferred:\\n1. Action/Sci-Fi: Terminator 2: Judgment Day (1991) - rated 4/5\\n2. Animation/Family: Toy Story (1995) - rated 4/5, Snow White and the Seven Dwarfs (1937) - rated 5/5\\n3. Thriller: The Silence of the Lambs (1991) - rated 3/5\\n4. Western: The Wild Bunch (1969) - rated 3/5\\n5. Drama: Evita (1996) - rated 2/5, The Verdict (1982) - rated 4/5, It's a Wonderful Life (1946) - rated 5/5, The Natural (1984) - rated 4/5\\n6. Comedy: Animal House (1978) - rated 4/5\\n7. Mystery/Thriller: Vertigo (1958) - rated 3/5, Rear Window (1954) - rated 3/5, North by Northwest (1959) - rated 5/5\\n8. Fantasy/Adventure: The Wizard of Oz (1939) - rated 5/5\\n9. Sci-Fi: 2001: A Space Odyssey (1968) - rated 3/5\\n10. Musical/Drama: Evita (1996) - rated 2/5\\n11. Drama/Romance: Moonstruck (1987) - rated 3/5\\n12. Drama/Romance/Social: Guess Who's Coming to Dinner (1967) - rated 2/5\\n13. Comedy/Drama: Mister Roberts (1955) - rated 4/5\\n\\nFavorite Directors and Actors Inferred:\\n1. Directors: Alfred Hitchcock (Vertigo, Rear Window, North by Northwest)\\n2. Actors: Tom Hanks (Toy Story), Judy Garland (The Wizard of Oz)\\n\\nFilm Eras or Years Preferences:\\nThe individual enjoys movies from various eras, including classic Hollywood films like The Wizard of Oz (1939) and Snow White and the Seven Dwarfs (1937), as well as mid-20th-century releases like Vertigo (1958) and Rear Window (1954).\\n\\nThemes and Motifs:\\nCommon themes in the mentioned movies include love, adventure, conflict, self-discovery, justice, and family relationships.\\n\\nCritical Reception vs. User Ratings:\\nThe individual seems to value classic films and high-quality storytelling, as indicated by the high ratings for movies like Snow White and the Seven Dwarfs, The Wizard of Oz, and It's a Wonderful Life.\\n\\nPreferences in Sequels or Franchises:\\nGiven the positive ratings for Terminator 2: Judgment Day and Toy Story, the individual may enjoy sequels and franchises with engaging storylines and strong character development.\\n\\nInfluence of Demographics:\\nAs a 35-44-year-old female college/grad student, the individual appreciates a diverse range of genres and themes, including classics, animated films, thrillers, dramas, and comedies. Her preferences lean towards well-crafted storytelling, strong character development, and emotional depth in movies across different eras.\", 'The rating for Close Encounters of the Third Kind (1977) based on the provided movie preferences and ratings of the 35-44-year-old female college/grad student would be:\\n\\n*3*', 3, 4, \"Based on the adjusted analysis of the movie preferences for the 35-44-year-old female college/grad student:\\n\\nGenres and Subgenres Inferred:\\n1. Action/Sci-Fi: Terminator 2: Judgment Day (1991) - rated 4/5\\n2. Animation/Family: Toy Story (1995) - rated 4/5, Snow White and the Seven Dwarfs (1937) - rated 5/5\\n3. Thriller: The Silence of the Lambs (1991) - rated 3/5\\n4. Drama: The Verdict (1982) - rated 4/5, It's a Wonderful Life (1946) - rated 5/5, Moonstruck (1987) - rated 3/5, Guess Who's Coming to Dinner (1967) - rated 2/5\\n5. Comedy: Animal House (1978) - rated 4/5\\n6. Mystery/Thriller: Vertigo (1958) - rated 3/5, Rear Window (1954) - rated 3/5, North by Northwest (1959) - rated 5/5\\n7. Fantasy/Adventure: The Wizard of Oz (1939) - rated 5/5\\n8. Western: The Wild Bunch (1969) - rated 3/5\\n9. Sci-Fi: 2001: A Space Odyssey (1968) - rated 3/5\\n10. Musical/Drama: Evita (1996) - rated 2/5\\n11. Comedy/Drama: Mister Roberts (1955) - rated 4/5\\n\\nFavorite Directors and Actors Inferred:\\n1. Directors: Alfred Hitchcock (Vertigo, Rear Window, North by Northwest)\\n2. Actors: Tom Hanks (Toy Story), Judy Garland (The Wizard of Oz)\\n\\nFilm Eras or Years Preferences:\\nThe individual enjoys movies from various eras, including classic Hollywood films like The Wizard of Oz (1939) and Snow White and the Seven Dwarfs (1937), as well as mid-20th-century releases like Vertigo (1958) and Rear Window (1954).\\n\\nThemes and Motifs:\\nCommon themes in the mentioned movies include love, adventure, conflict, self-discovery, justice, and family relationships.\\n\\nCritical Reception vs. User Ratings:\\nThe individual seems to value classic films and high-quality storytelling, as indicated by the high ratings for movies like Snow White and the Seven Dwarfs, The Wizard of Oz, and It's a Wonderful Life.\\n\\nPreferences in Sequels or Franchises:\\nGiven the positive ratings for Terminator 2: Judgment Day and Toy Story, the individual may enjoy sequels and franchises with engaging storylines and strong character development.\\n\\nInfluence of Demographics:\\nAs a 35-44-year-old female college/grad student, the individual appreciates a diverse range of genres and themes, including classics, animated films, thrillers, dramas, and comedies. Her preferences lean towards well-crafted storytelling, strong character development, and emotional depth in movies across different eras.\"), (\"Based on the adjusted analysis of the movie preferences for the 35-44-year-old female college/grad student:\\n\\nGenres and Subgenres Inferred:\\n1. Action/Sci-Fi: Terminator 2: Judgment Day (1991) - rated 4/5\\n2. Animation/Family: Toy Story (1995) - rated 4/5, Snow White and the Seven Dwarfs (1937) - rated 5/5\\n3. Thriller: The Silence of the Lambs (1991) - rated 3/5\\n4. Drama: The Verdict (1982) - rated 4/5, It's a Wonderful Life (1946) - rated 5/5, Moonstruck (1987) - rated 3/5, Guess Who's Coming to Dinner (1967) - rated 2/5\\n5. Comedy: Animal House (1978) - rated 4/5\\n6. Mystery/Thriller: Vertigo (1958) - rated 3/5, Rear Window (1954) - rated 3/5, North by Northwest (1959) - rated 5/5\\n7. Fantasy/Adventure: The Wizard of Oz (1939) - rated 5/5\\n8. Western: The Wild Bunch (1969) - rated 3/5\\n9. Sci-Fi: 2001: A Space Odyssey (1968) - rated 3/5\\n10. Musical/Drama: Evita (1996) - rated 2/5\\n11. Comedy/Drama: Mister Roberts (1955) - rated 4/5\\n\\nFavorite Directors and Actors Inferred:\\n1. Directors: Alfred Hitchcock (Vertigo, Rear Window, North by Northwest)\\n2. Actors: Tom Hanks (Toy Story), Judy Garland (The Wizard of Oz)\\n\\nFilm Eras or Years Preferences:\\nThe individual enjoys movies from various eras, including classic Hollywood films like The Wizard of Oz (1939) and Snow White and the Seven Dwarfs (1937), as well as mid-20th-century releases like Vertigo (1958) and Rear Window (1954).\\n\\nThemes and Motifs:\\nCommon themes in the mentioned movies include love, adventure, conflict, self-discovery, justice, and family relationships.\\n\\nCritical Reception vs. User Ratings:\\nThe individual seems to value classic films and high-quality storytelling, as indicated by the high ratings for movies like Snow White and the Seven Dwarfs, The Wizard of Oz, and It's a Wonderful Life.\\n\\nPreferences in Sequels or Franchises:\\nGiven the positive ratings for Terminator 2: Judgment Day and Toy Story, the individual may enjoy sequels and franchises with engaging storylines and strong character development.\\n\\nInfluence of Demographics:\\nAs a 35-44-year-old female college/grad student, the individual appreciates a diverse range of genres and themes, including classics, animated films, thrillers, dramas, and comedies. Her preferences lean towards well-crafted storytelling, strong character development, and emotional depth in movies across different eras.\", 'The rating for Les Misérables (1998) based on the analysis provided would be: *3*', 3, 4, 'Based on the adjusted analysis of the movie preferences for the 35-44-year-old female college/grad student, here are some recommendations and insights:\\n\\nGenres and Subgenres Inferred:\\n1. **Action/Sci-Fi**: \"Terminator 2: Judgment Day\" (1991) - rated 4/5, \"2001: A Space Odyssey\" (1968) - rated 3/5\\n2. **Animation/Family**: \"Toy Story\" (1995) - rated 4/5, \"Snow White and the Seven Dwarfs\" (1937) - rated 5/5, \"Mighty Joe Young\" (1949) - rated 3/5\\n3. **Thriller**: \"The Silence of the Lambs\" (1991) - rated 3/5\\n4. **Drama**: \"The Verdict\" (1982) - rated 4/5, \"Moonstruck\" (1987) - rated 3/5, \"It\\'s a Wonderful Life\" (1946) - rated 5/5, \"Guess Who\\'s Coming to Dinner\" (1967) - rated 2/5, \"The Grapes of Wrath\" (1940) - rated 3/5, \"The Natural\" (1984) - rated 4/5\\n5. **Comedy**: \"Animal House\" (1978) - rated 4/5\\n6. **Musical/Drama**: \"Evita\" (1996) - rated 2/5\\n7. **Comedy/Drama**: \"Mister Roberts\" (1955) - rated 4/5\\n\\nFavorite Directors and Actors Inferred:\\n- **Directors**: Given the ratings and movie selections, the individual may enjoy films directed by **Frank Capra** (known for classics like \"It\\'s a Wonderful Life\") and **Steven Spielberg** (known for family-friendly films like \"E.T.\" and \"Jurassic Park\").\\n- **Actors**: The individual may have a preference for actors like **Tom Hanks** (voiced in \"Toy Story\") and **Meryl Streep** (starred in \"The Devil Wears Prada\" and \"Mamma Mia!\").\\n\\nFilm Eras or Years Preferences:\\n- The individual seems to enjoy movies from various eras, including classic Hollywood films like \"Snow White and the Seven Dwarfs\" (1937), mid-century releases like \"Vertigo\" (1958), and more recent films like \"Toy Story\" (1995) and \"The Silence of the Lambs\" (1991).\\n\\nThemes and Motifs:\\n- Common themes in the mentioned movies include love, adventure, family relationships, justice, self-discovery, and social issues.\\n\\nCritical Reception vs. User Ratings:\\n- The individual values classic films, high-quality storytelling, and emotional depth, as indicated by the high ratings for movies like \"Snow White and the Seven Dwarfs,\" \"It\\'s a Wonderful Life,\" and \"Toy Story.\"\\n\\nPreferences in Sequels or Franchises:\\n- Given the positive ratings for \"Toy Story\" (1995), the individual may enjoy sequels and franchises with engaging storylines and strong character development.\\n\\nInfluence of Demographics:\\n- As a 35-44-year-old female college/grad student, the individual appreciates a diverse range of genres and themes, including classics, animated films, thrillers, dramas, and comedies. Her preferences lean towards well-crafted storytelling, strong character development, and emotional depth in movies across different eras.')]\n",
            "696\n",
            "4 1\n",
            "4 4\n",
            "No feedback needed.\n",
            "3 1\n",
            "5 5\n",
            "No feedback needed.\n",
            "4 1\n",
            "[(\"Based on the movie preferences of the 25-34-year-old male programmer, we can infer the following:\\n\\n**Genres and Subgenres:**\\n- Psychological Thriller: The Silence of the Lambs\\n- War Drama: The General\\n- Mystery Thriller: Rear Window\\n- Romance Drama: Casablanca\\n- Fantasy Drama: It's a Wonderful Life\\n- Comedy Drama: Modern Times\\n\\n**Potential Favorite Directors and Actors:**\\n- Favorite Directors: Alfred Hitchcock (Rear Window), Frank Capra (It's a Wonderful Life), Charlie Chaplin (Modern Times)\\n- Favorite Actors: Anthony Hopkins (The Silence of the Lambs), James Stewart (Rear Window), Ingrid Bergman (Casablanca)\\n\\n**Film Eras or Years Preferences:**\\n- Classic Films: The General (1927), Casablanca (1942), It's a Wonderful Life (1946), Rear Window (1954), Modern Times (1936)\\n\\n**Common Themes and Motifs:**\\n- Psychological Thrills, War, Mystery, Romance, Fantasy, Comedy\\n\\n**Critical Reception versus User Ratings:**\\n- The Silence of the Lambs is critically acclaimed and rated highly by the user.\\n- Rear Window and Casablanca are considered classics with generally positive critical reception and user ratings.\\n- The General, It's a Wonderful Life, and Modern Times have mixed critical reception and lower user ratings.\\n\\n**Preferences in Sequels or Franchises:**\\n- No mentioned preference for sequels or franchises based on the listed movies.\\n\\n**Demographics Influence:**\\n- The preferences for classic and critically acclaimed films suggest a preference for well-crafted storytelling and timeless themes.\\n- The interest in a variety of genres indicates an open-minded approach to movie watching.\\n- The lower ratings for certain films may suggest a critical eye towards storytelling or filmmaking techniques.\\n\\nOverall, this individual seems to enjoy a mix of classic and critically acclaimed films across various genres, with a particular interest in psychological thrillers, dramas, and comedies. Their movie preferences suggest a diverse taste in films with a preference for well-crafted storytelling and timeless themes.\", 'The rating for Star Wars: Episode IV - A New Hope (1977) based on the preferences of the 25-34-year-old male programmer would be:\\n\\n*4*', 4, 1, \"Based on the movie preferences and ratings of the 25-34-year-old male programmer, we can infer the following:\\n\\n**Genres and Subgenres:**\\n- Psychological Thriller: The Silence of the Lambs\\n- War Drama: The General\\n- Mystery Thriller: Rear Window\\n- Romance Drama: Casablanca\\n- Fantasy Drama: It's a Wonderful Life\\n- Comedy Drama: Modern Times\\n\\n**Potential Favorite Directors and Actors:**\\n- Favorite Directors: Alfred Hitchcock (Rear Window), Frank Capra (It's a Wonderful Life), Charlie Chaplin (Modern Times)\\n- Favorite Actors: Anthony Hopkins (The Silence of the Lambs), James Stewart (Rear Window), Ingrid Bergman (Casablanca)\\n\\n**Film Eras or Years Preferences:**\\n- Classic Films: The General (1927), Casablanca (1942), It's a Wonderful Life (1946), Rear Window (1954), Modern Times (1936)\\n\\n**Common Themes and Motifs:**\\n- Psychological Thrills, War, Mystery, Romance, Fantasy, Comedy\\n\\n**Critical Reception versus User Ratings:**\\n- The Silence of the Lambs is critically acclaimed and rated highly by the user.\\n- Rear Window and Casablanca are considered classics with generally positive critical reception and user ratings.\\n- The General, It's a Wonderful Life, and Modern Times have mixed critical reception and lower user ratings.\\n\\n**Preferences in Sequels or Franchises:**\\n- No mentioned preference for sequels or franchises based on the listed movies.\\n\\n**Demographics Influence:**\\n- The preference for classic and critically acclaimed films suggests a preference for well-crafted storytelling and timeless themes.\\n- The interest in a variety of genres indicates an open-minded approach to movie watching.\\n- The lower ratings for certain films may suggest a critical eye towards storytelling or filmmaking techniques.\\n\\nOverall, this individual seems to enjoy a mix of classic and critically acclaimed films across various genres, with a particular interest in psychological thrillers, dramas, and comedies. Their movie preferences suggest a diverse taste in films with a preference for well-crafted storytelling and timeless themes.\"), (\"Based on the movie preferences and ratings of the 25-34-year-old male programmer, we can infer the following:\\n\\n**Genres and Subgenres:**\\n- Psychological Thriller: The Silence of the Lambs\\n- War Drama: The General\\n- Mystery Thriller: Rear Window\\n- Romance Drama: Casablanca\\n- Fantasy Drama: It's a Wonderful Life\\n- Comedy Drama: Modern Times\\n\\n**Potential Favorite Directors and Actors:**\\n- Favorite Directors: Alfred Hitchcock (Rear Window), Frank Capra (It's a Wonderful Life), Charlie Chaplin (Modern Times)\\n- Favorite Actors: Anthony Hopkins (The Silence of the Lambs), James Stewart (Rear Window), Ingrid Bergman (Casablanca)\\n\\n**Film Eras or Years Preferences:**\\n- Classic Films: The General (1927), Casablanca (1942), It's a Wonderful Life (1946), Rear Window (1954), Modern Times (1936)\\n\\n**Common Themes and Motifs:**\\n- Psychological Thrills, War, Mystery, Romance, Fantasy, Comedy\\n\\n**Critical Reception versus User Ratings:**\\n- The Silence of the Lambs is critically acclaimed and rated highly by the user.\\n- Rear Window and Casablanca are considered classics with generally positive critical reception and user ratings.\\n- The General, It's a Wonderful Life, and Modern Times have mixed critical reception and lower user ratings.\\n\\n**Preferences in Sequels or Franchises:**\\n- No mentioned preference for sequels or franchises based on the listed movies.\\n\\n**Demographics Influence:**\\n- The preference for classic and critically acclaimed films suggests a preference for well-crafted storytelling and timeless themes.\\n- The interest in a variety of genres indicates an open-minded approach to movie watching.\\n- The lower ratings for certain films may suggest a critical eye towards storytelling or filmmaking techniques.\\n\\nOverall, this individual seems to enjoy a mix of classic and critically acclaimed films across various genres, with a particular interest in psychological thrillers, dramas, and comedies. Their movie preferences suggest a diverse taste in films with a preference for well-crafted storytelling and timeless themes.\", 'The rating for Pulp Fiction (1994) based on the movie preferences and analysis provided would be: *4*', 4, 4, None), (\"Based on the movie preferences and ratings of the 25-34-year-old male programmer, we can infer the following:\\n\\n**Genres and Subgenres:**\\n- Psychological Thriller: The Silence of the Lambs\\n- War Drama: The General\\n- Mystery Thriller: Rear Window\\n- Romance Drama: Casablanca\\n- Fantasy Drama: It's a Wonderful Life\\n- Comedy Drama: Modern Times\\n\\n**Potential Favorite Directors and Actors:**\\n- Favorite Directors: Alfred Hitchcock (Rear Window), Frank Capra (It's a Wonderful Life), Charlie Chaplin (Modern Times)\\n- Favorite Actors: Anthony Hopkins (The Silence of the Lambs), James Stewart (Rear Window), Ingrid Bergman (Casablanca)\\n\\n**Film Eras or Years Preferences:**\\n- Classic Films: The General (1927), Casablanca (1942), It's a Wonderful Life (1946), Rear Window (1954), Modern Times (1936)\\n\\n**Common Themes and Motifs:**\\n- Psychological Thrills, War, Mystery, Romance, Fantasy, Comedy\\n\\n**Critical Reception versus User Ratings:**\\n- The Silence of the Lambs is critically acclaimed and rated highly by the user.\\n- Rear Window and Casablanca are considered classics with generally positive critical reception and user ratings.\\n- The General, It's a Wonderful Life, and Modern Times have mixed critical reception and lower user ratings.\\n\\n**Preferences in Sequels or Franchises:**\\n- No mentioned preference for sequels or franchises based on the listed movies.\\n\\n**Demographics Influence:**\\n- The preference for classic and critically acclaimed films suggests a preference for well-crafted storytelling and timeless themes.\\n- The interest in a variety of genres indicates an open-minded approach to movie watching.\\n- The lower ratings for certain films may suggest a critical eye towards storytelling or filmmaking techniques.\\n\\nOverall, this individual seems to enjoy a mix of classic and critically acclaimed films across various genres, with a particular interest in psychological thrillers, dramas, and comedies. Their movie preferences suggest a diverse taste in films with a preference for well-crafted storytelling and timeless themes.\", 'The rating for The Santa Clause (1994) based on the information provided would be: *3*', 3, 1, \"Based on the movie preferences and ratings of the 25-34-year-old male programmer, we can adjust the analysis as follows:\\n\\n**Genres and Subgenres:**\\n- Psychological Thriller: The Silence of the Lambs\\n- War Drama: The General\\n- Mystery Thriller: Rear Window\\n- Romance Drama: Casablanca\\n- Fantasy Drama: It's a Wonderful Life\\n- Comedy Drama: Modern Times\\n\\n**Potential Favorite Directors and Actors:**\\n- Favorite Directors: Alfred Hitchcock (Rear Window), Frank Capra (It's a Wonderful Life), Charlie Chaplin (Modern Times)\\n- Favorite Actors: Anthony Hopkins (The Silence of the Lambs), James Stewart (Rear Window), Ingrid Bergman (Casablanca)\\n\\n**Film Eras or Years Preferences:**\\n- Classic Films: The General (1927), Casablanca (1942), It's a Wonderful Life (1946), Rear Window (1954), Modern Times (1936)\\n\\n**Common Themes and Motifs:**\\n- Psychological Thrills, War, Mystery, Romance, Fantasy, Comedy\\n\\n**Critical Reception versus User Ratings:**\\n- The Silence of the Lambs is critically acclaimed and rated highly by the user.\\n- Rear Window and Casablanca are considered classics with generally positive critical reception and user ratings.\\n- The General, It's a Wonderful Life, and Modern Times have mixed critical reception and lower user ratings.\\n\\n**Preferences in Sequels or Franchises:**\\n- No mentioned preference for sequels or franchises based on the listed movies.\\n\\n**Demographics Influence:**\\n- The preference for classic and critically acclaimed films suggests a preference for well-crafted storytelling and timeless themes.\\n- The interest in a variety of genres indicates an open-minded approach to movie watching.\\n- The lower ratings for certain films may suggest a critical eye towards storytelling or filmmaking techniques.\\n\\nOverall, this individual seems to enjoy a mix of classic and critically acclaimed films across various genres, with a particular interest in psychological thrillers, dramas, and comedies. Their movie preferences suggest a diverse taste in films with a preference for well-crafted storytelling and timeless themes.\"), (\"Based on the movie preferences and ratings of the 25-34-year-old male programmer, we can adjust the analysis as follows:\\n\\n**Genres and Subgenres:**\\n- Psychological Thriller: The Silence of the Lambs\\n- War Drama: The General\\n- Mystery Thriller: Rear Window\\n- Romance Drama: Casablanca\\n- Fantasy Drama: It's a Wonderful Life\\n- Comedy Drama: Modern Times\\n\\n**Potential Favorite Directors and Actors:**\\n- Favorite Directors: Alfred Hitchcock (Rear Window), Frank Capra (It's a Wonderful Life), Charlie Chaplin (Modern Times)\\n- Favorite Actors: Anthony Hopkins (The Silence of the Lambs), James Stewart (Rear Window), Ingrid Bergman (Casablanca)\\n\\n**Film Eras or Years Preferences:**\\n- Classic Films: The General (1927), Casablanca (1942), It's a Wonderful Life (1946), Rear Window (1954), Modern Times (1936)\\n\\n**Common Themes and Motifs:**\\n- Psychological Thrills, War, Mystery, Romance, Fantasy, Comedy\\n\\n**Critical Reception versus User Ratings:**\\n- The Silence of the Lambs is critically acclaimed and rated highly by the user.\\n- Rear Window and Casablanca are considered classics with generally positive critical reception and user ratings.\\n- The General, It's a Wonderful Life, and Modern Times have mixed critical reception and lower user ratings.\\n\\n**Preferences in Sequels or Franchises:**\\n- No mentioned preference for sequels or franchises based on the listed movies.\\n\\n**Demographics Influence:**\\n- The preference for classic and critically acclaimed films suggests a preference for well-crafted storytelling and timeless themes.\\n- The interest in a variety of genres indicates an open-minded approach to movie watching.\\n- The lower ratings for certain films may suggest a critical eye towards storytelling or filmmaking techniques.\\n\\nOverall, this individual seems to enjoy a mix of classic and critically acclaimed films across various genres, with a particular interest in psychological thrillers, dramas, and comedies. Their movie preferences suggest a diverse taste in films with a preference for well-crafted storytelling and timeless themes.\", 'The rating for The Shawshank Redemption (1994) based on the analysis provided would be: *5*', 5, 5, None), (\"Based on the movie preferences and ratings of the 25-34-year-old male programmer, we can adjust the analysis as follows:\\n\\n**Genres and Subgenres:**\\n- Psychological Thriller: The Silence of the Lambs\\n- War Drama: The General\\n- Mystery Thriller: Rear Window\\n- Romance Drama: Casablanca\\n- Fantasy Drama: It's a Wonderful Life\\n- Comedy Drama: Modern Times\\n\\n**Potential Favorite Directors and Actors:**\\n- Favorite Directors: Alfred Hitchcock (Rear Window), Frank Capra (It's a Wonderful Life), Charlie Chaplin (Modern Times)\\n- Favorite Actors: Anthony Hopkins (The Silence of the Lambs), James Stewart (Rear Window), Ingrid Bergman (Casablanca)\\n\\n**Film Eras or Years Preferences:**\\n- Classic Films: The General (1927), Casablanca (1942), It's a Wonderful Life (1946), Rear Window (1954), Modern Times (1936)\\n\\n**Common Themes and Motifs:**\\n- Psychological Thrills, War, Mystery, Romance, Fantasy, Comedy\\n\\n**Critical Reception versus User Ratings:**\\n- The Silence of the Lambs is critically acclaimed and rated highly by the user.\\n- Rear Window and Casablanca are considered classics with generally positive critical reception and user ratings.\\n- The General, It's a Wonderful Life, and Modern Times have mixed critical reception and lower user ratings.\\n\\n**Preferences in Sequels or Franchises:**\\n- No mentioned preference for sequels or franchises based on the listed movies.\\n\\n**Demographics Influence:**\\n- The preference for classic and critically acclaimed films suggests a preference for well-crafted storytelling and timeless themes.\\n- The interest in a variety of genres indicates an open-minded approach to movie watching.\\n- The lower ratings for certain films may suggest a critical eye towards storytelling or filmmaking techniques.\\n\\nOverall, this individual seems to enjoy a mix of classic and critically acclaimed films across various genres, with a particular interest in psychological thrillers, dramas, and comedies. Their movie preferences suggest a diverse taste in films with a preference for well-crafted storytelling and timeless themes.\", 'The rating for Cabaret (1972) based on the analysis provided would be:\\n\\n*4*', 4, 1, \"Based on the adjusted analysis for the 25-34-year-old male programmer's movie preferences and ratings, we can make the following observations:\\n\\n**Genres and Subgenres:**\\n- Psychological Thriller: The Silence of the Lambs\\n- War Drama: The General\\n- Mystery Thriller: Rear Window\\n- Romance Drama: Casablanca\\n- Fantasy Drama: It's a Wonderful Life\\n- Comedy Drama: Modern Times\\n\\n**Potential Favorite Directors and Actors:**\\n- Favorite Directors: Alfred Hitchcock (Rear Window), Frank Capra (It's a Wonderful Life), Charlie Chaplin (Modern Times)\\n- Favorite Actors: Anthony Hopkins (The Silence of the Lambs), James Stewart (Rear Window), Ingrid Bergman (Casablanca)\\n\\n**Film Eras or Years Preferences:**\\n- Classic Films: The General (1927), Casablanca (1942), It's a Wonderful Life (1946), Rear Window (1954), Modern Times (1936)\\n\\n**Common Themes and Motifs:**\\n- Psychological Thrills, War, Mystery, Romance, Fantasy, Comedy\\n\\n**Critical Reception versus User Ratings:**\\n- The Silence of the Lambs is critically acclaimed and rated highly by the user.\\n- Rear Window and Casablanca are considered classics with generally positive critical reception and user ratings.\\n- The General, It's a Wonderful Life, and Modern Times have mixed critical reception and lower user ratings.\\n\\n**Preferences in Sequels or Franchises:**\\n- No mentioned preference for sequels or franchises based on the listed movies.\\n\\n**Demographics Influence:**\\n- The preference for classic and critically acclaimed films suggests a preference for well-crafted storytelling and timeless themes.\\n- The interest in a variety of genres indicates an open-minded approach to movie watching.\\n- The lower ratings for certain films may suggest a critical eye towards storytelling or filmmaking techniques.\\n\\nOverall, this individual seems to enjoy a mix of classic and critically acclaimed films across various genres, with a particular interest in psychological thrillers, dramas, and comedies. Their movie preferences suggest a diverse taste in films with a preference for well-crafted storytelling and timeless themes.\")]\n",
            "1996\n",
            "4 3\n",
            "5 5\n",
            "No feedback needed.\n",
            "5 5\n",
            "No feedback needed.\n",
            "4 4\n",
            "No feedback needed.\n",
            "4 3\n",
            "[('Based on the movie ratings and titles provided, we can infer some preferences and tendencies for the 35-44-year-old male viewer:\\n\\n1. **Genres and Subgenres**:\\n   - **Comedy**: \"Better Off Dead...\", \"Back to the Future\", \"Fast Times at Ridgemont High\", \"Breakfast at Tiffany\\'s\", \"Broadcast News\", \"Pulp Fiction\".\\n   - **Drama**: \"Being John Malkovich\", \"The Shining\", \"Blue Velvet\", \"The Killing Fields\", \"Rosewood\", \"L.A. Confidential\", \"The Natural\", \"Witness\".\\n   - **Action/Adventure**: \"Highlander\", \"Indiana Jones and the Last Crusade\", \"The Thing\", \"On Her Majesty\\'s Secret Service\".\\n   - **Horror**: \"The Shining\", \"The Thing\".\\n   - **Mystery/Thriller**: \"L.A. Confidential\", \"Being John Malkovich\".\\n\\n2. **Favorite Directors and Actors**:\\n   - **Directors**: Given the variety of genres and film styles, it is challenging to pinpoint a specific favorite director. However, the viewer may appreciate filmmakers known for blending genres and pushing boundaries, like David Lynch (\"Blue Velvet\") or Quentin Tarantino (\"Pulp Fiction\").\\n   - **Actors**: Actors like John Cusack (\"Better Off Dead...\"), Jack Nicholson (\"The Shining\"), Harrison Ford (\"Indiana Jones and the Last Crusade\"), and Kevin Spacey (\"L.A. Confidential\") may be among the favorites.\\n\\n3. **Film Eras or Years**:\\n   - The viewer seems to have a preference for movies from the 1980s and 1990s, with a few exceptions from earlier decades like the 1960s. This suggests a fondness for films from the late 20th century.\\n\\n4. **Common Themes and Motifs**:\\n   - The viewer seems to enjoy a mix of genres but leans towards movies with strong characters, intriguing plots, and possibly dark or unconventional themes. Themes of adventure, love, conflict, and mystery appear to resonate with the viewer.\\n\\n5. **Critical Reception vs. User Ratings**:\\n   - The viewer\\'s ratings indicate a preference for cult classics, critically acclaimed films, and some mainstream hits. The mix of high and moderate ratings suggests an appreciation for diverse storytelling and filmmaking styles.\\n\\n6. **Sequels or Franchises**:\\n   - \"Indiana Jones and the Last Crusade\" and \"On Her Majesty\\'s Secret Service\" belong to established franchises, so the viewer might enjoy sequels or franchise entries that offer a mix of action, adventure, and intrigue.\\n\\n7. **Demographics Influence**:\\n   - The viewer\\'s age range (35-44 years old) might influence the preference for movies from the 1980s and 1990s, reflecting a nostalgia factor or a formative movie-watching period during his youth.\\n\\nIn summary, the 35-44-year-old male viewer seems to have eclectic tastes, appreciating a mix of comedy, drama, action, and thriller genres with a preference for films from the 1980s and 1990s that offer engaging storytelling and memorable characters.', 'The rating for \"A Soldier\\'s Story\" (1984) would be: *4*', 4, 3, 'Based on the movie ratings and titles provided for the 35-44-year-old male viewer, here is an adjusted analysis of their movie preferences:\\n\\n1. **Genres and Subgenres**:\\n   - **Comedy**: \"Better Off Dead...\", \"Fast Times at Ridgemont High\", \"Breakfast at Tiffany\\'s\", \"Broadcast News\".\\n   - **Drama**: \"Being John Malkovich\", \"Blue Velvet\", \"The Killing Fields\", \"Rosewood\", \"L.A. Confidential\", \"The Natural\", \"Witness\".\\n   - **Action/Adventure**: \"Highlander\", \"Indiana Jones and the Last Crusade\", \"The Thing\", \"On Her Majesty\\'s Secret Service\".\\n   - **Horror**: \"The Shining\".\\n   - **Mystery/Thriller**: \"Being John Malkovich\", \"L.A. Confidential\", \"Pulp Fiction\".\\n\\n2. **Favorite Directors and Actors**:\\n   - **Directors**: The viewer may appreciate filmmakers like David Lynch, Quentin Tarantino, and Steven Spielberg based on the mix of genres and storytelling styles.\\n   - **Actors**: Actors like John Cusack, Harrison Ford, Kevin Spacey, and Jack Nicholson may be among the viewer\\'s favorites.\\n\\n3. **Film Eras or Years**:\\n   - The viewer shows a preference for movies primarily from the 1980s and 1990s, with a few exceptions from earlier decades like the 1960s. This indicates a fondness for films from the late 20th century.\\n\\n4. **Common Themes and Motifs**:\\n   - The viewer seems to enjoy movies with strong characters, intriguing plots, and a mix of genres. Themes of adventure, love, conflict, and mystery appear to resonate with the viewer.\\n\\n5. **Critical Reception vs. User Ratings**:\\n   - The viewer\\'s ratings suggest a preference for a blend of cult classics, critically acclaimed films, and mainstream hits. This indicates an appreciation for diverse storytelling and filmmaking styles.\\n\\n6. **Sequels or Franchises**:\\n   - The viewer may enjoy sequels or franchise entries based on the inclusion of movies like \"Indiana Jones and the Last Crusade\" and \"On Her Majesty\\'s Secret Service\" in their ratings.\\n\\n7. **Demographics Influence**:\\n   - The viewer\\'s age range (35-44 years old) likely influences the preference for movies from the 1980s and 1990s, reflecting a nostalgic connection to films from their youth.\\n\\nIn summary, the 35-44-year-old male viewer appears to have eclectic tastes, enjoying a mix of comedy, drama, action, and thriller genres from the 1980s and 1990s. They appreciate engaging storytelling, memorable characters, and films that blend different themes and motifs across various genres.'), ('Based on the movie ratings and titles provided for the 35-44-year-old male viewer, here is an adjusted analysis of their movie preferences:\\n\\n1. **Genres and Subgenres**:\\n   - **Comedy**: \"Better Off Dead...\", \"Fast Times at Ridgemont High\", \"Breakfast at Tiffany\\'s\", \"Broadcast News\".\\n   - **Drama**: \"Being John Malkovich\", \"Blue Velvet\", \"The Killing Fields\", \"Rosewood\", \"L.A. Confidential\", \"The Natural\", \"Witness\".\\n   - **Action/Adventure**: \"Highlander\", \"Indiana Jones and the Last Crusade\", \"The Thing\", \"On Her Majesty\\'s Secret Service\".\\n   - **Horror**: \"The Shining\".\\n   - **Mystery/Thriller**: \"Being John Malkovich\", \"L.A. Confidential\", \"Pulp Fiction\".\\n\\n2. **Favorite Directors and Actors**:\\n   - **Directors**: The viewer may appreciate filmmakers like David Lynch, Quentin Tarantino, and Steven Spielberg based on the mix of genres and storytelling styles.\\n   - **Actors**: Actors like John Cusack, Harrison Ford, Kevin Spacey, and Jack Nicholson may be among the viewer\\'s favorites.\\n\\n3. **Film Eras or Years**:\\n   - The viewer shows a preference for movies primarily from the 1980s and 1990s, with a few exceptions from earlier decades like the 1960s. This indicates a fondness for films from the late 20th century.\\n\\n4. **Common Themes and Motifs**:\\n   - The viewer seems to enjoy movies with strong characters, intriguing plots, and a mix of genres. Themes of adventure, love, conflict, and mystery appear to resonate with the viewer.\\n\\n5. **Critical Reception vs. User Ratings**:\\n   - The viewer\\'s ratings suggest a preference for a blend of cult classics, critically acclaimed films, and mainstream hits. This indicates an appreciation for diverse storytelling and filmmaking styles.\\n\\n6. **Sequels or Franchises**:\\n   - The viewer may enjoy sequels or franchise entries based on the inclusion of movies like \"Indiana Jones and the Last Crusade\" and \"On Her Majesty\\'s Secret Service\" in their ratings.\\n\\n7. **Demographics Influence**:\\n   - The viewer\\'s age range (35-44 years old) likely influences the preference for movies from the 1980s and 1990s, reflecting a nostalgic connection to films from their youth.\\n\\nIn summary, the 35-44-year-old male viewer appears to have eclectic tastes, enjoying a mix of comedy, drama, action, and thriller genres from the 1980s and 1990s. They appreciate engaging storytelling, memorable characters, and films that blend different themes and motifs across various genres.', 'The rating for **American Beauty (1999)** based on the analysis provided would be: ***5***', 5, 5, None), ('Based on the movie ratings and titles provided for the 35-44-year-old male viewer, here is an adjusted analysis of their movie preferences:\\n\\n1. **Genres and Subgenres**:\\n   - **Comedy**: \"Better Off Dead...\", \"Fast Times at Ridgemont High\", \"Breakfast at Tiffany\\'s\", \"Broadcast News\".\\n   - **Drama**: \"Being John Malkovich\", \"Blue Velvet\", \"The Killing Fields\", \"Rosewood\", \"L.A. Confidential\", \"The Natural\", \"Witness\".\\n   - **Action/Adventure**: \"Highlander\", \"Indiana Jones and the Last Crusade\", \"The Thing\", \"On Her Majesty\\'s Secret Service\".\\n   - **Horror**: \"The Shining\".\\n   - **Mystery/Thriller**: \"Being John Malkovich\", \"L.A. Confidential\", \"Pulp Fiction\".\\n\\n2. **Favorite Directors and Actors**:\\n   - **Directors**: The viewer may appreciate filmmakers like David Lynch, Quentin Tarantino, and Steven Spielberg based on the mix of genres and storytelling styles.\\n   - **Actors**: Actors like John Cusack, Harrison Ford, Kevin Spacey, and Jack Nicholson may be among the viewer\\'s favorites.\\n\\n3. **Film Eras or Years**:\\n   - The viewer shows a preference for movies primarily from the 1980s and 1990s, with a few exceptions from earlier decades like the 1960s. This indicates a fondness for films from the late 20th century.\\n\\n4. **Common Themes and Motifs**:\\n   - The viewer seems to enjoy movies with strong characters, intriguing plots, and a mix of genres. Themes of adventure, love, conflict, and mystery appear to resonate with the viewer.\\n\\n5. **Critical Reception vs. User Ratings**:\\n   - The viewer\\'s ratings suggest a preference for a blend of cult classics, critically acclaimed films, and mainstream hits. This indicates an appreciation for diverse storytelling and filmmaking styles.\\n\\n6. **Sequels or Franchises**:\\n   - The viewer may enjoy sequels or franchise entries based on the inclusion of movies like \"Indiana Jones and the Last Crusade\" and \"On Her Majesty\\'s Secret Service\" in their ratings.\\n\\n7. **Demographics Influence**:\\n   - The viewer\\'s age range (35-44 years old) likely influences the preference for movies from the 1980s and 1990s, reflecting a nostalgic connection to films from their youth.\\n\\nIn summary, the 35-44-year-old male viewer appears to have eclectic tastes, enjoying a mix of comedy, drama, action, and thriller genres from the 1980s and 1990s. They appreciate engaging storytelling, memorable characters, and films that blend different themes and motifs across various genres.', 'The rating for Fargo (1996) would be: *5*', 5, 5, None), ('Based on the movie ratings and titles provided for the 35-44-year-old male viewer, here is an adjusted analysis of their movie preferences:\\n\\n1. **Genres and Subgenres**:\\n   - **Comedy**: \"Better Off Dead...\", \"Fast Times at Ridgemont High\", \"Breakfast at Tiffany\\'s\", \"Broadcast News\".\\n   - **Drama**: \"Being John Malkovich\", \"Blue Velvet\", \"The Killing Fields\", \"Rosewood\", \"L.A. Confidential\", \"The Natural\", \"Witness\".\\n   - **Action/Adventure**: \"Highlander\", \"Indiana Jones and the Last Crusade\", \"The Thing\", \"On Her Majesty\\'s Secret Service\".\\n   - **Horror**: \"The Shining\".\\n   - **Mystery/Thriller**: \"Being John Malkovich\", \"L.A. Confidential\", \"Pulp Fiction\".\\n\\n2. **Favorite Directors and Actors**:\\n   - **Directors**: The viewer may appreciate filmmakers like David Lynch, Quentin Tarantino, and Steven Spielberg based on the mix of genres and storytelling styles.\\n   - **Actors**: Actors like John Cusack, Harrison Ford, Kevin Spacey, and Jack Nicholson may be among the viewer\\'s favorites.\\n\\n3. **Film Eras or Years**:\\n   - The viewer shows a preference for movies primarily from the 1980s and 1990s, with a few exceptions from earlier decades like the 1960s. This indicates a fondness for films from the late 20th century.\\n\\n4. **Common Themes and Motifs**:\\n   - The viewer seems to enjoy movies with strong characters, intriguing plots, and a mix of genres. Themes of adventure, love, conflict, and mystery appear to resonate with the viewer.\\n\\n5. **Critical Reception vs. User Ratings**:\\n   - The viewer\\'s ratings suggest a preference for a blend of cult classics, critically acclaimed films, and mainstream hits. This indicates an appreciation for diverse storytelling and filmmaking styles.\\n\\n6. **Sequels or Franchises**:\\n   - The viewer may enjoy sequels or franchise entries based on the inclusion of movies like \"Indiana Jones and the Last Crusade\" and \"On Her Majesty\\'s Secret Service\" in their ratings.\\n\\n7. **Demographics Influence**:\\n   - The viewer\\'s age range (35-44 years old) likely influences the preference for movies from the 1980s and 1990s, reflecting a nostalgic connection to films from their youth.\\n\\nIn summary, the 35-44-year-old male viewer appears to have eclectic tastes, enjoying a mix of comedy, drama, action, and thriller genres from the 1980s and 1990s. They appreciate engaging storytelling, memorable characters, and films that blend different themes and motifs across various genres.', 'The rating for *Blood Simple (1984)* would be: *4*', 4, 4, None), ('Based on the movie ratings and titles provided for the 35-44-year-old male viewer, here is an adjusted analysis of their movie preferences:\\n\\n1. **Genres and Subgenres**:\\n   - **Comedy**: \"Better Off Dead...\", \"Fast Times at Ridgemont High\", \"Breakfast at Tiffany\\'s\", \"Broadcast News\".\\n   - **Drama**: \"Being John Malkovich\", \"Blue Velvet\", \"The Killing Fields\", \"Rosewood\", \"L.A. Confidential\", \"The Natural\", \"Witness\".\\n   - **Action/Adventure**: \"Highlander\", \"Indiana Jones and the Last Crusade\", \"The Thing\", \"On Her Majesty\\'s Secret Service\".\\n   - **Horror**: \"The Shining\".\\n   - **Mystery/Thriller**: \"Being John Malkovich\", \"L.A. Confidential\", \"Pulp Fiction\".\\n\\n2. **Favorite Directors and Actors**:\\n   - **Directors**: The viewer may appreciate filmmakers like David Lynch, Quentin Tarantino, and Steven Spielberg based on the mix of genres and storytelling styles.\\n   - **Actors**: Actors like John Cusack, Harrison Ford, Kevin Spacey, and Jack Nicholson may be among the viewer\\'s favorites.\\n\\n3. **Film Eras or Years**:\\n   - The viewer shows a preference for movies primarily from the 1980s and 1990s, with a few exceptions from earlier decades like the 1960s. This indicates a fondness for films from the late 20th century.\\n\\n4. **Common Themes and Motifs**:\\n   - The viewer seems to enjoy movies with strong characters, intriguing plots, and a mix of genres. Themes of adventure, love, conflict, and mystery appear to resonate with the viewer.\\n\\n5. **Critical Reception vs. User Ratings**:\\n   - The viewer\\'s ratings suggest a preference for a blend of cult classics, critically acclaimed films, and mainstream hits. This indicates an appreciation for diverse storytelling and filmmaking styles.\\n\\n6. **Sequels or Franchises**:\\n   - The viewer may enjoy sequels or franchise entries based on the inclusion of movies like \"Indiana Jones and the Last Crusade\" and \"On Her Majesty\\'s Secret Service\" in their ratings.\\n\\n7. **Demographics Influence**:\\n   - The viewer\\'s age range (35-44 years old) likely influences the preference for movies from the 1980s and 1990s, reflecting a nostalgic connection to films from their youth.\\n\\nIn summary, the 35-44-year-old male viewer appears to have eclectic tastes, enjoying a mix of comedy, drama, action, and thriller genres from the 1980s and 1990s. They appreciate engaging storytelling, memorable characters, and films that blend different themes and motifs across various genres.', 'The rating for \"The Thin Blue Line\" (1988) based on the provided analysis would be: *4*', 4, 3, 'Based on the movie ratings and titles provided for the 35-44-year-old male viewer, here is an adjusted analysis of their movie preferences:\\n\\n1. **Genres and Subgenres**:\\n   - **Comedy**: \"Better Off Dead...\", \"Fast Times at Ridgemont High\", \"Breakfast at Tiffany\\'s\", \"Broadcast News\".\\n   - **Drama**: \"Being John Malkovich\", \"Blue Velvet\", \"The Killing Fields\", \"Rosewood\", \"L.A. Confidential\", \"The Natural\", \"Witness\".\\n   - **Action/Adventure**: \"Highlander\", \"Indiana Jones and the Last Crusade\", \"The Thing\", \"On Her Majesty\\'s Secret Service\".\\n   - **Horror**: \"The Shining\".\\n   - **Mystery/Thriller**: \"Being John Malkovich\", \"L.A. Confidential\", \"Pulp Fiction\".\\n\\n2. **Favorite Directors and Actors**:\\n   - **Directors**: The viewer may appreciate filmmakers like David Lynch, Quentin Tarantino, and Steven Spielberg based on the mix of genres and storytelling styles.\\n   - **Actors**: Actors like John Cusack, Harrison Ford, Kevin Spacey, and Jack Nicholson may be among the viewer\\'s favorites.\\n\\n3. **Film Eras or Years**:\\n   - The viewer shows a preference for movies primarily from the 1980s and 1990s, with a few exceptions from earlier decades like the 1960s. This indicates a fondness for films from the late 20th century.\\n\\n4. **Common Themes and Motifs**:\\n   - The viewer seems to enjoy movies with strong characters, intriguing plots, and a mix of genres. Themes of adventure, love, conflict, and mystery appear to resonate with the viewer.\\n\\n5. **Critical Reception vs. User Ratings**:\\n   - The viewer\\'s ratings suggest a preference for a blend of cult classics, critically acclaimed films, and mainstream hits. This indicates an appreciation for diverse storytelling and filmmaking styles.\\n\\n6. **Sequels or Franchises**:\\n   - The viewer may enjoy sequels or franchise entries based on the inclusion of movies like \"Indiana Jones and the Last Crusade\" and \"On Her Majesty\\'s Secret Service\" in their ratings.\\n\\n7. **Demographics Influence**:\\n   - The viewer\\'s age range (35-44 years old) likely influences the preference for movies from the 1980s and 1990s, reflecting a nostalgic connection to films from their youth.\\n\\nBased on the adjusted analysis, the 35-44-year-old male viewer appears to have eclectic tastes, enjoying a mix of comedy, drama, action, and thriller genres from the 1980s and 1990s. They appreciate engaging storytelling, memorable characters, and films that blend different themes and motifs across various genres.')]\n"
          ]
        }
      ],
      "source": [
        "uid_results = {}\n",
        "# Main loop for self-reflection based on user movie ratings\n",
        "for uid in df_test['user_key'].unique()[:5]:\n",
        "    print(uid)\n",
        "    uid = str(uid)\n",
        "    gender, age, occupation, user_movie_history  = return_user_details(uid)\n",
        "    iterations = 5\n",
        "    mask_value = 5\n",
        "    results = []\n",
        "    first = True\n",
        "    for i in range(iterations+mask_value,mask_value,-1):\n",
        "        # Create a slice of the movie history for the current iteration\n",
        "        current_history = user_movie_history[:-i]  # Items 0 through i+5\n",
        "\n",
        "        # Generate the analysis prompt\n",
        "        if first:\n",
        "            prompt = create_analysis_prompt(gender, age, occupation, current_history)\n",
        "            # Ask the LLM for analysis\n",
        "            analysis = llm_revised_prompt(prompt,llm)\n",
        "            first = False\n",
        "\n",
        "        # Predict the rating for the next movie\n",
        "        answer_according_to_analysis = llm_revised_prompt(f\"\"\"According to this analysis: {analysis}\n",
        "                                                            What would be the rating for: {user_movie_history[-i]['title']}?\n",
        "                                                            Answer with a single number between 1 and 5 - mark it with * before and after * the rating, like this\n",
        "                                                            The rating will be: *5* \"\"\",llm)\n",
        "        extract_rating = re.search(r\"\\*(\\d+)\\*\", answer_according_to_analysis)\n",
        "        next_movie_rating = int(extract_rating.group(1))\n",
        "\n",
        "        # Check if the prediction matches the actual rating\n",
        "        actual_rating = user_movie_history[-i]['rating']\n",
        "        print(next_movie_rating,actual_rating)\n",
        "        # Provide feedback and refine if necessary\n",
        "        if next_movie_rating != actual_rating:\n",
        "            feedback_prompt = f\"\"\"According to this analysis: {analysis}.\n",
        "                                  The model predicted {next_movie_rating} but the expected rating was {actual_rating}.\n",
        "                                  Please adjust your analysis.\n",
        "                                  Remember here are the guidelines:\n",
        "                                  {prompt}\"\"\"\n",
        "            new_analysis = llm_revised_prompt(feedback_prompt,llm)\n",
        "            results.append((analysis, answer_according_to_analysis, next_movie_rating, actual_rating,new_analysis))\n",
        "            analysis = new_analysis\n",
        "        else:\n",
        "            print(\"No feedback needed.\")\n",
        "            results.append((analysis, answer_according_to_analysis, next_movie_rating, actual_rating,None))\n",
        "    print(results)\n",
        "    uid_results[uid] = results"
      ]
    },
    {
      "cell_type": "code",
      "execution_count": 59,
      "metadata": {
        "colab": {
          "base_uri": "https://localhost:8080/",
          "height": 175
        },
        "id": "lEEiaRsQHxp7",
        "outputId": "45158016-d7d2-4378-fd7b-7f81b481ac38"
      },
      "outputs": [
        {
          "data": {
            "application/vnd.google.colaboratory.intrinsic+json": {
              "type": "string"
            },
            "text/plain": [
              "\"Based on the movie preferences of the 35-44-year-old female college/grad student, we can infer the following aspects:\\n\\nGenres and Subgenres:\\n1. Action/Sci-Fi: Terminator 2: Judgment Day (1991)\\n2. Animation/Family: Toy Story (1995), Snow White and the Seven Dwarfs (1937)\\n3. Thriller: The Silence of the Lambs (1991)\\n4. Western: The Wild Bunch (1969)\\n5. Musical/Drama: Evita (1996)\\n6. Mystery/Thriller: Vertigo (1958), Rear Window (1954), North by Northwest (1959)\\n7. Fantasy/Adventure: The Wizard of Oz (1939)\\n8. Sci-Fi: 2001: A Space Odyssey (1968)\\n9. Drama: The Verdict (1982), It's a Wonderful Life (1946), Mighty Joe Young (1949), The Grapes of Wrath (1940), The Natural (1984)\\n10. Comedy: Animal House (1978)\\n11. Drama/Romance: Moonstruck (1987)\\n12. Drama/Romance/Social: Guess Who's Coming to Dinner (1967)\\n\\nFavorite Directors and Actors:\\n1. Directors: Alfred Hitchcock (Vertigo, Rear Window, North by Northwest), Steven Spielberg (Jurassic Park)\\n2. Actors: Tom Hanks (Toy Story), Judy Garland (The Wizard of Oz), James Stewart (Rear Window, It's a Wonderful Life), Charlton Heston (The Wild Bunch)\\n\\nFilm Eras or Years Preferences:\\nThe individual seems to enjoy movies from various eras, including classic Hollywood films like The Wizard of Oz (1939) and Snow White and the Seven Dwarfs (1937), as well as more recent releases like Evita (1996) and Toy Story (1995).\\n\\nThemes and Motifs:\\nCommon themes in the mentioned movies include love, adventure, conflict, self-discovery, justice, and family relationships.\\n\\nCritical Reception vs. User Ratings:\\nThe individual seems to value classic films and high-quality storytelling, as indicated by the high ratings for movies like Snow White and the Seven Dwarfs, The Wizard of Oz, and It's a Wonderful Life.\\n\\nPreferences in Sequels or Franchises:\\nGiven the positive ratings for Terminator 2: Judgment Day and Toy Story, the individual may enjoy sequels and franchises with engaging storylines and strong character development.\\n\\nInfluence of Demographics:\\nAs a 35-44-year-old female college/grad student, the individual may appreciate a diverse range of genres and themes, including classics, animated films, thrillers, dramas, and comedies. Her preferences seem to lean towards well-crafted storytelling, strong character development, and emotional depth in movies across different eras.\""
            ]
          },
          "execution_count": 59,
          "metadata": {},
          "output_type": "execute_result"
        }
      ],
      "source": [
        "uid_results['3596'][0][0]"
      ]
    },
    {
      "cell_type": "code",
      "execution_count": 60,
      "metadata": {
        "colab": {
          "base_uri": "https://localhost:8080/",
          "height": 175
        },
        "id": "y3oED7_fH9dw",
        "outputId": "d16fab0b-f9b5-4658-b096-73d9a9c56b0d"
      },
      "outputs": [
        {
          "data": {
            "application/vnd.google.colaboratory.intrinsic+json": {
              "type": "string"
            },
            "text/plain": [
              "'Based on the adjusted analysis of the movie preferences for the 35-44-year-old female college/grad student, here are some recommendations and insights:\\n\\nGenres and Subgenres Inferred:\\n1. **Action/Sci-Fi**: \"Terminator 2: Judgment Day\" (1991) - rated 4/5, \"2001: A Space Odyssey\" (1968) - rated 3/5\\n2. **Animation/Family**: \"Toy Story\" (1995) - rated 4/5, \"Snow White and the Seven Dwarfs\" (1937) - rated 5/5, \"Mighty Joe Young\" (1949) - rated 3/5\\n3. **Thriller**: \"The Silence of the Lambs\" (1991) - rated 3/5\\n4. **Drama**: \"The Verdict\" (1982) - rated 4/5, \"Moonstruck\" (1987) - rated 3/5, \"It\\'s a Wonderful Life\" (1946) - rated 5/5, \"Guess Who\\'s Coming to Dinner\" (1967) - rated 2/5, \"The Grapes of Wrath\" (1940) - rated 3/5, \"The Natural\" (1984) - rated 4/5\\n5. **Comedy**: \"Animal House\" (1978) - rated 4/5\\n6. **Musical/Drama**: \"Evita\" (1996) - rated 2/5\\n7. **Comedy/Drama**: \"Mister Roberts\" (1955) - rated 4/5\\n\\nFavorite Directors and Actors Inferred:\\n- **Directors**: Given the ratings and movie selections, the individual may enjoy films directed by **Frank Capra** (known for classics like \"It\\'s a Wonderful Life\") and **Steven Spielberg** (known for family-friendly films like \"E.T.\" and \"Jurassic Park\").\\n- **Actors**: The individual may have a preference for actors like **Tom Hanks** (voiced in \"Toy Story\") and **Meryl Streep** (starred in \"The Devil Wears Prada\" and \"Mamma Mia!\").\\n\\nFilm Eras or Years Preferences:\\n- The individual seems to enjoy movies from various eras, including classic Hollywood films like \"Snow White and the Seven Dwarfs\" (1937), mid-century releases like \"Vertigo\" (1958), and more recent films like \"Toy Story\" (1995) and \"The Silence of the Lambs\" (1991).\\n\\nThemes and Motifs:\\n- Common themes in the mentioned movies include love, adventure, family relationships, justice, self-discovery, and social issues.\\n\\nCritical Reception vs. User Ratings:\\n- The individual values classic films, high-quality storytelling, and emotional depth, as indicated by the high ratings for movies like \"Snow White and the Seven Dwarfs,\" \"It\\'s a Wonderful Life,\" and \"Toy Story.\"\\n\\nPreferences in Sequels or Franchises:\\n- Given the positive ratings for \"Toy Story\" (1995), the individual may enjoy sequels and franchises with engaging storylines and strong character development.\\n\\nInfluence of Demographics:\\n- As a 35-44-year-old female college/grad student, the individual appreciates a diverse range of genres and themes, including classics, animated films, thrillers, dramas, and comedies. Her preferences lean towards well-crafted storytelling, strong character development, and emotional depth in movies across different eras.'"
            ]
          },
          "execution_count": 60,
          "metadata": {},
          "output_type": "execute_result"
        }
      ],
      "source": [
        "uid_results['3596'][-1][-1]"
      ]
    },
    {
      "cell_type": "code",
      "execution_count": 119,
      "metadata": {
        "id": "5bGdGRiPIXRw"
      },
      "outputs": [],
      "source": [
        "#save dict to jason\n",
        "# import json\n",
        "# with open('uid_results.json', 'w') as f:\n",
        "#     json.dump(uid_results, f)\n",
        "# uid_results"
      ]
    },
    {
      "cell_type": "code",
      "execution_count": 97,
      "metadata": {
        "id": "pZjcDGYnCLDI"
      },
      "outputs": [],
      "source": [
        "answer_according_to_analysis = llm_revised_prompt(f\"\"\"According to this analysis: {analysis}\n",
        "                                                    What would be the rating for: {user_movie_history[-i]['title']}?\n",
        "                                                    Answer with a single number between 1 and 5 - mark it with * before and after * the rating, like this\n",
        "                                                    The rating will be: *5* \"\"\",llm)\n",
        "extract_rating = re.search(r\"\\*(\\d+)\\*\", answer_according_to_analysis)\n",
        "next_movie_rating = int(extract_rating.group(1))\n",
        "\n",
        "# Check if the prediction matches the actual rating\n",
        "actual_rating = user_movie_history[i+6]['rating']"
      ]
    },
    {
      "cell_type": "code",
      "execution_count": 99,
      "metadata": {
        "colab": {
          "base_uri": "https://localhost:8080/",
          "height": 36
        },
        "id": "Qc8f581ZCWd9",
        "outputId": "f3c1bd0f-2bc9-4c7f-b4b7-e7a39c4bc67b"
      },
      "outputs": [
        {
          "data": {
            "application/vnd.google.colaboratory.intrinsic+json": {
              "type": "string"
            },
            "text/plain": [
              "'4'"
            ]
          },
          "execution_count": 99,
          "metadata": {},
          "output_type": "execute_result"
        }
      ],
      "source": [
        "extract_rating.group(1)"
      ]
    },
    {
      "cell_type": "code",
      "execution_count": 100,
      "metadata": {
        "colab": {
          "base_uri": "https://localhost:8080/"
        },
        "id": "FYXRDTV5CdzR",
        "outputId": "0f634fee-1a20-4203-aa60-5ceb065233d3"
      },
      "outputs": [
        {
          "data": {
            "text/plain": [
              "4"
            ]
          },
          "execution_count": 100,
          "metadata": {},
          "output_type": "execute_result"
        }
      ],
      "source": [
        "user_movie_history[i+6]['rating']"
      ]
    },
    {
      "cell_type": "code",
      "execution_count": 38,
      "metadata": {
        "id": "2oLqfDV6fhhN"
      },
      "outputs": [],
      "source": [
        "parser = JsonOutputToolsParser(return_id=True)"
      ]
    },
    {
      "cell_type": "code",
      "execution_count": 39,
      "metadata": {
        "id": "igfI9rynfhhN"
      },
      "outputs": [],
      "source": [
        "actor_prompt_template = ChatPromptTemplate.from_messages(\n",
        "    [\n",
        "        (\n",
        "            \"system\",\n",
        "            \"\"\"You are expert researcher.\n",
        "            Current time: {time}\n",
        "\n",
        "            1. {first_instruction}\n",
        "            2. Reflect and critique your answer. Be severe to maximize improvement.\n",
        "            3. Recommend search queries to research information and improve your answer.\"\"\",\n",
        "        ),\n",
        "            MessagesPlaceholder(variable_name=\"messages\"),\n",
        "            (\"system\", \"Answer the user's question above using the required format.\"),\n",
        "        ]\n",
        ").partial(\n",
        "    time=lambda: datetime.datetime.now().isoformat(),\n",
        ")\n",
        "\n",
        "\n",
        "class Reflection(BaseModel):\n",
        "    missing: str = Field(description=\"Critique of what is missing.\")\n",
        "    superfluous: str = Field(description=\"Critique of what is superfluous\")\n",
        "\n",
        "\n",
        "class AnswerQuestion(BaseModel):\n",
        "    \"\"\"Answer the question.\"\"\"\n",
        "\n",
        "    answer: str = Field(description=\"~250 word detailed answer to the question.\")\n",
        "    reflection: Reflection = Field(description=\"Your reflection on the initial answer.\")\n",
        "    search_queries: List[str] = Field(\n",
        "        description=\"1-3 search queries for researching improvements to address the critique of your current answer.\"\n",
        "    )"
      ]
    },
    {
      "cell_type": "code",
      "execution_count": 40,
      "metadata": {
        "id": "NIE5rm2HfhhO"
      },
      "outputs": [],
      "source": [
        "# llm = ChatGroq(groq_api_key = os.getenv('GROQ_API_KEY'),model = 'llama3-8b-8192')\n",
        "llm = ChatOpenAI(api_key=os.getenv('OPENAI_API_KEY'), model='gpt-3.5-turbo-0125') # gpt-4-turbo-2024-04-09\n",
        "initial_answer_chain = actor_prompt_template.partial(\n",
        "    first_instruction=\"Provide a detailed answer.\"\n",
        ") | llm.bind_tools(tools=[AnswerQuestion], tool_choice=\"AnswerQuestion\")\n",
        "validator = PydanticToolsParser(tools=[AnswerQuestion])"
      ]
    },
    {
      "cell_type": "code",
      "execution_count": 41,
      "metadata": {
        "id": "FcX1_qRDfhhO"
      },
      "outputs": [],
      "source": [
        "class ResponderWithRetries:\n",
        "    def __init__(self, runnable, validator):\n",
        "        self.runnable = runnable\n",
        "        self.validator = validator\n",
        "\n",
        "    @traceable\n",
        "    def respond(self, state: List[BaseMessage]):\n",
        "        response = []\n",
        "        for attempt in range(3):\n",
        "            try:\n",
        "                response = self.runnable.invoke({\"messages\": state})\n",
        "                self.validator.invoke(response)\n",
        "                return response\n",
        "            except ValidationError as e:\n",
        "                state = state + [HumanMessage(content=repr(e))]\n",
        "        return response\n",
        "\n",
        "first_responder = ResponderWithRetries(\n",
        "    runnable=initial_answer_chain, validator=validator\n",
        ")"
      ]
    },
    {
      "cell_type": "code",
      "execution_count": 36,
      "metadata": {
        "colab": {
          "base_uri": "https://localhost:8080/"
        },
        "id": "G6ent7jolO_u",
        "outputId": "17901246-886a-4b6f-9d88-3a6acfbf57c7"
      },
      "outputs": [
        {
          "data": {
            "text/plain": [
              "1"
            ]
          },
          "execution_count": 36,
          "metadata": {},
          "output_type": "execute_result"
        }
      ],
      "source": [
        "round(df_results['pred'][0])"
      ]
    },
    {
      "cell_type": "code",
      "execution_count": 37,
      "metadata": {
        "id": "DcCzdLobfhhO"
      },
      "outputs": [],
      "source": [
        "def generate_prompt_from_df(row):\n",
        "    user_hist = row['user_hist']\n",
        "    item_desc = row['item_desc']\n",
        "    real_label = row['label']\n",
        "    pred = round(row['pred'])\n",
        "    prompt =    f\"\"\"User has the following history: {user_hist}.\n",
        "                    Item has the following description: {item_desc}.\n",
        "                    A mistake was made in the model's prediction.\n",
        "                    The real label is {real_label} and the model predicted {pred}.\n",
        "                    How would you rephrase the user history and item description to improve the model's prediction?\n",
        "                    Answer formst should like this:\n",
        "                    Revised User History: <revised user history> \\n\\n\n",
        "                    Revised Item Description: <revised item description>\n",
        "                    use two lines at the end of user history and at the end of item description.\n",
        "                    Remember that your new rephrasing should help the model to predict better next time but without overfitting\"\"\"\n",
        "    return prompt"
      ]
    },
    {
      "cell_type": "code",
      "execution_count": 38,
      "metadata": {
        "id": "PnhjoacBfhhP"
      },
      "outputs": [],
      "source": [
        "# def generate_prompt_from_df(df_restuls,idx):\n",
        "#     user_hist = df_restuls['user_hist'][idx]\n",
        "#     item_desc = df_restuls['item_desc'][idx]\n",
        "#     real_label = df_restuls['label'][idx]\n",
        "#     pred = df_restuls['pred'][idx]\n",
        "\n",
        "#     prompt =    f\"\"\"Task:Rephrase the user history and item description to better match the prediction to the actual label. Assume that the model's prediction is either a match or a mismatch to the label, and modify the descriptions to improve the fit between user preferences (as inferred from the user history) and the characteristics of the movie (as described in the item description).\n",
        "\n",
        "#                 Output Format:\n",
        "#                 Revised User History:\n",
        "#                 Try to rephrase the user history to better reflect the user's preferences.\n",
        "#                 You can adjust the length, tone, and content of the user history to better align with the user's likely interests.\n",
        "#                 Finish the Revised User History with ;\n",
        "#                 Revised Item Description:\n",
        "#                 The item description should be rephrased to highlight aspects of the movie that are more aligned with the user's adjusted preferences.\n",
        "#                 Key elements to focus on might include genre, notable performances, thematic elements, and any particular production features.\n",
        "#                 Finish the Revised User Item Description with ;\n",
        "\n",
        "#                 Here is the user history: {user_hist}.\n",
        "#                 Here is the item description: {item_desc}.\n",
        "#                 A mistake was made in the model's prediction.\n",
        "#                 The real label is {real_label} and the model predicted {pred}.\n",
        "#                 How would you rephrase the user history and item description to improve the model's prediction?\n",
        "\n",
        "#                 \"\"\"\n",
        "#     return prompt"
      ]
    },
    {
      "cell_type": "code",
      "execution_count": 39,
      "metadata": {
        "id": "_uc45TosfhhP"
      },
      "outputs": [],
      "source": []
    },
    {
      "cell_type": "code",
      "execution_count": 40,
      "metadata": {
        "id": "4vnA-S5ZfhhP"
      },
      "outputs": [],
      "source": [
        "def extract_revised_prompt(initial):\n",
        "  revised_prompt = initial.content + \";\"\n",
        "  # String containing the revised User History and Revised Item Description\n",
        "  # Extracting the revised User History\n",
        "  user_history = re.search(r\"Revised User History:\\n(.*?)\\n\\n\", revised_prompt, re.DOTALL)\n",
        "  if user_history:\n",
        "      user_history = user_history.group(1).strip()\n",
        "\n",
        "  # Extracting the Revised Item Description\n",
        "  item_description = re.search(r\"Revised Item Description:\\n(.*?);\", revised_prompt, re.DOTALL)\n",
        "  if item_description:\n",
        "      item_description = item_description.group(1).strip()\n",
        "\n",
        "  # Printing the extracted information\n",
        "  # print(\"Revised User History:\", user_history)\n",
        "  # print(\"Revised Item Description:\", item_description)\n",
        "  return user_history, item_description\n"
      ]
    },
    {
      "cell_type": "code",
      "execution_count": 41,
      "metadata": {
        "id": "3ydQBhVQn1l7"
      },
      "outputs": [],
      "source": [
        "def reflect_prompt(row):\n",
        "    prompt = generate_prompt_from_df(row)\n",
        "    initial = llm_revised_prompt(prompt)\n",
        "    user_history, item_description = extract_revised_prompt(initial)\n",
        "    return user_history, item_description, initial.content"
      ]
    },
    {
      "cell_type": "code",
      "execution_count": 42,
      "metadata": {
        "colab": {
          "base_uri": "https://localhost:8080/"
        },
        "id": "5SQyH4MvYnXl",
        "outputId": "5e36e300-0f78-4892-9137-ddb8e4d6555a"
      },
      "outputs": [
        {
          "data": {
            "text/plain": [
              "user_idx\n",
              "1680    618\n",
              "1941    465\n",
              "2909    444\n",
              "3841    415\n",
              "2907    353\n",
              "       ... \n",
              "2510      1\n",
              "3104      1\n",
              "4228      1\n",
              "4129      1\n",
              "2336      1\n",
              "Name: count, Length: 5382, dtype: int64"
            ]
          },
          "execution_count": 42,
          "metadata": {},
          "output_type": "execute_result"
        }
      ],
      "source": [
        "df_results['user_idx'].value_counts()"
      ]
    },
    {
      "cell_type": "code",
      "execution_count": 43,
      "metadata": {
        "colab": {
          "base_uri": "https://localhost:8080/"
        },
        "id": "85XnM4g3npul",
        "outputId": "d0877f14-27bb-4c77-d332-f9ab92485951"
      },
      "outputs": [
        {
          "name": "stderr",
          "output_type": "stream",
          "text": [
            "<ipython-input-43-22e6b2741323>:2: SettingWithCopyWarning: \n",
            "A value is trying to be set on a copy of a slice from a DataFrame.\n",
            "Try using .loc[row_indexer,col_indexer] = value instead\n",
            "\n",
            "See the caveats in the documentation: https://pandas.pydata.org/pandas-docs/stable/user_guide/indexing.html#returning-a-view-versus-a-copy\n",
            "  sub_df['user_reflect'] = \"\"\n",
            "<ipython-input-43-22e6b2741323>:3: SettingWithCopyWarning: \n",
            "A value is trying to be set on a copy of a slice from a DataFrame.\n",
            "Try using .loc[row_indexer,col_indexer] = value instead\n",
            "\n",
            "See the caveats in the documentation: https://pandas.pydata.org/pandas-docs/stable/user_guide/indexing.html#returning-a-view-versus-a-copy\n",
            "  sub_df['item_reflect'] = \"\"\n",
            "<ipython-input-43-22e6b2741323>:4: SettingWithCopyWarning: \n",
            "A value is trying to be set on a copy of a slice from a DataFrame.\n",
            "Try using .loc[row_indexer,col_indexer] = value instead\n",
            "\n",
            "See the caveats in the documentation: https://pandas.pydata.org/pandas-docs/stable/user_guide/indexing.html#returning-a-view-versus-a-copy\n",
            "  sub_df['init_context'] = \"\"\n"
          ]
        }
      ],
      "source": [
        "sub_df = df_results.iloc[:30]\n",
        "sub_df['user_reflect'] = \"\"\n",
        "sub_df['item_reflect'] = \"\"\n",
        "sub_df['init_context'] = \"\"\n"
      ]
    },
    {
      "cell_type": "code",
      "execution_count": 44,
      "metadata": {
        "id": "DqilAtNbrRZh"
      },
      "outputs": [],
      "source": [
        "u_list =[]\n",
        "i_list = []\n",
        "for i, row in sub_df.iterrows():\n",
        "    user_history, item_description, init_context = reflect_prompt(row)\n",
        "    sub_df.loc[i,'user_reflect'] = user_history\n",
        "    sub_df.loc[i,'item_reflect'] = item_description\n",
        "    sub_df.loc[i,'init_context'] = init_context\n"
      ]
    },
    {
      "cell_type": "code",
      "execution_count": 45,
      "metadata": {
        "colab": {
          "base_uri": "https://localhost:8080/",
          "height": 1000
        },
        "id": "PwYa-n3mr1xJ",
        "outputId": "afe1c6e2-137f-4bc2-e4bc-50ae1202c8de"
      },
      "outputs": [
        {
          "data": {
            "application/vnd.google.colaboratory.intrinsic+json": {
              "summary": "{\n  \"name\": \"sub_df_clean\",\n  \"rows\": 18,\n  \"fields\": [\n    {\n      \"column\": \"test_index\",\n      \"properties\": {\n        \"dtype\": \"number\",\n        \"std\": 23,\n        \"min\": 29,\n        \"max\": 105,\n        \"num_unique_values\": 18,\n        \"samples\": [\n          29,\n          34,\n          86\n        ],\n        \"semantic_type\": \"\",\n        \"description\": \"\"\n      }\n    },\n    {\n      \"column\": \"user_idx\",\n      \"properties\": {\n        \"dtype\": \"category\",\n        \"num_unique_values\": 1,\n        \"samples\": [\n          \"1034\"\n        ],\n        \"semantic_type\": \"\",\n        \"description\": \"\"\n      }\n    },\n    {\n      \"column\": \"user_hist\",\n      \"properties\": {\n        \"dtype\": \"category\",\n        \"num_unique_values\": 1,\n        \"samples\": [\n          \"Given a female user who is aged 35-44 and an academic/educator, this user's movie viewing history over time is listed below. For Your Eyes Only (1981), 4 stars; Licence to Kill (1989), 4 stars; X-Men (2000), 2 stars; Live and Let Die (1973), 3 stars; Treasure of the Sierra Madre, The (1948), 4 stars; Incredible Journey, The (1963), 4 stars; What Lies Beneath (2000), 3 stars; Ghost (1990), 4 stars; Aladdin (1992), 4 stars; Grumpier Old Men (1995), 4 stars; Shadow of a Doubt (1943), 3 stars; Saboteur (1942), 4 stars; Mr. & Mrs. Smith (1941), 3 stars; Meet the Parents (2000), 4 stars; Last of the Mohicans, The (1992), 4 stars; Out of the Past (1947), 4 stars; Arsenic and Old Lace (1944), 4 stars; Dances with Wolves (1990), 4 stars; Batman (1989), 2 stars; Beauty and the Beast (1991), 4 stars; Pretty Woman (1990), 4 stars; Patton (1970), 5 stars; Lady and the Tramp (1955), 4 stars; 101 Dalmatians (1961), 3 stars; High Noon (1952), 3 stars; Big Sleep, The (1946), 4 stars; Somewhere in Time (1980), 4 stars; Ben-Hur (1959), 4 stars; Rounders (1998), 1 stars; Robin Hood (1973), 4 stars. Based on the user's movie viewing history, it seems she enjoys a variety of genres, ranging from action films like \\\"Licence to Kill\\\" and \\\"For Your Eyes Only\\\" to romantic comedies like \\\"Pretty Woman\\\" and family-friendly animations like \\\"Aladdin\\\" and \\\"101 Dalmatians.\\\" She also seems to appreciate classic films, as evidenced by her high ratings for \\\"Treasure of the Sierra Madre,\\\" \\\"Shadow of a Doubt,\\\" \\\"Saboteur,\\\" and \\\"Arsenic and Old Lace.\\\"\\n\\nThe user's ratings suggest that she values strong character development and engaging plots. She generally gives high ratings to films with well-developed and memorable characters, such as \\\"Patton,\\\" which earned a 5-star rating, and \\\"Grumpier Old Men,\\\" which earned a 4-star rating. She also seems to enjoy films with complex and intriguing plots, such as \\\"Out of the Past\\\" and \\\"Last of the Mohicans.\\\"\\n\\nThe user's ratings also suggest that she places importance on production quality and critical acclaim, as she gave high ratings to several award-winning films, including \\\"Ben-Hur\\\" and \\\"Dances with Wolves.\\\" However, she also seems to appreciate more light-hearted and entertaining films, such as \\\"Lady and the Tramp\\\" and \\\"Aladdin.\\\"\\n\\nOverall, it seems that the user enjoys a range of films with engaging plots, memorable characters, and high production quality, regardless of genre or time period. She also seems to appreciate classic films and award-winning productions.\"\n        ],\n        \"semantic_type\": \"\",\n        \"description\": \"\"\n      }\n    },\n    {\n      \"column\": \"item_idx\",\n      \"properties\": {\n        \"dtype\": \"string\",\n        \"num_unique_values\": 18,\n        \"samples\": [\n          \"3217\"\n        ],\n        \"semantic_type\": \"\",\n        \"description\": \"\"\n      }\n    },\n    {\n      \"column\": \"item_desc\",\n      \"properties\": {\n        \"dtype\": \"string\",\n        \"num_unique_values\": 18,\n        \"samples\": [\n          \"\\\"A Star is Born\\\" is a 1937 American drama film directed by William A. Wellman and produced by David O. Selznick. The film stars Janet Gaynor and Fredric March in the lead roles, with Adolphe Menjou, May Robson, and Andy Devine in supporting roles. The movie is a classic Hollywood melodrama and tells the story of a young woman who becomes a successful actress, while her husband's career declines due to alcoholism.\\n\\nThe film was critically acclaimed, receiving seven Academy Award nominations and winning the Best Original Story award. It was also a commercial success and was praised for its production quality and cinematography. The film was remade three times, with the most recent version starring Bradley Cooper and Lady Gaga in 2018.\\n\\nThe movie's soundtrack features several original songs, including \\\"The Man I Love\\\" and \\\"Someone to Watch Over Me,\\\" which have become standards in the American songbook. The film's score was composed by Max Steiner, who is considered one of the greatest composers in the history of film music.\\n\\nThe mood and tone of the film are dramatic and emotional, with a focus on the highs and lows of the entertainment industry. The characters are well-developed and complex, with Gaynor and March delivering powerful performances that have been praised by critics and audiences alike.\\n\\nOverall, \\\"A Star is Born\\\" is a classic Hollywood drama that has stood the test of time and continues to be celebrated for its storytelling, performances, and music.\"\n        ],\n        \"semantic_type\": \"\",\n        \"description\": \"\"\n      }\n    },\n    {\n      \"column\": \"label\",\n      \"properties\": {\n        \"dtype\": \"number\",\n        \"std\": 0,\n        \"min\": 0,\n        \"max\": 1,\n        \"num_unique_values\": 2,\n        \"samples\": [\n          0\n        ],\n        \"semantic_type\": \"\",\n        \"description\": \"\"\n      }\n    },\n    {\n      \"column\": \"pred\",\n      \"properties\": {\n        \"dtype\": \"number\",\n        \"std\": 0.10546544570618348,\n        \"min\": 0.27093765139579773,\n        \"max\": 0.663417637348175,\n        \"num_unique_values\": 18,\n        \"samples\": [\n          0.384421169757843\n        ],\n        \"semantic_type\": \"\",\n        \"description\": \"\"\n      }\n    },\n    {\n      \"column\": \"user_reflect\",\n      \"properties\": {\n        \"dtype\": \"string\",\n        \"num_unique_values\": 17,\n        \"samples\": [\n          \"Given a female user who is aged 35-44 and an academic/educator, this user's movie viewing history over time is listed below. For Your Eyes Only (1981), 4 stars; Licence to Kill (1989), 4 stars; X-Men (2000), 2 stars; Live and Let Die (1973), 3 stars; Treasure of the Sierra Madre, The (1948), 4 stars; Incredible Journey, The (1963), 4 stars; What Lies Beneath (2000), 3 stars; Ghost (1990), 4 stars; Aladdin (1992), 4 stars; Grumpier Old Men (1995), 4 stars; Shadow of a Doubt (1943), 3 stars; Saboteur (1942), 4 stars; Mr. & Mrs. Smith (1941), 3 stars; Meet the Parents (2000), 4 stars; Last of the Mohicans, The (1992), 4 stars; Out of the Past (1947), 4 stars; Arsenic and Old Lace (1944), 4 stars; Dances with Wolves (1990), 4 stars; Batman (1989), 2 stars; Beauty and the Beast (1991), 4 stars; Pretty Woman (1990), 4 stars; Patton (1970), 5 stars; Lady and the Tramp (1955), 4 stars; 101 Dalmatians (1961), 3 stars; High Noon (1952), 3 stars; Big Sleep, The (1946), 4 stars; Somewhere in Time (1980), 4 stars; Ben-Hur (1959), 4 stars; Rounders (1998), 1 stars; Robin Hood (1973), 4 stars. Note that this user tends to appreciate films with strong character development and engaging plots, often giving high ratings to classics and award-winning productions.\"\n        ],\n        \"semantic_type\": \"\",\n        \"description\": \"\"\n      }\n    },\n    {\n      \"column\": \"item_reflect\",\n      \"properties\": {\n        \"dtype\": \"string\",\n        \"num_unique_values\": 18,\n        \"samples\": [\n          \"A Star is Born is a 1937 American drama film that tells the story of a young woman who becomes a successful actress, while her husband's career declines due to alcoholism. With its rich production quality, cinematography, and soundtrack, the film has stood the test of time and continues to be celebrated for its storytelling, performances, and music. The movie's complex characters, played by Janet Gaynor and Fredric March, deliver powerful performances that have been praised by critics and audiences alike.\"\n        ],\n        \"semantic_type\": \"\",\n        \"description\": \"\"\n      }\n    },\n    {\n      \"column\": \"init_context\",\n      \"properties\": {\n        \"dtype\": \"string\",\n        \"num_unique_values\": 18,\n        \"samples\": [\n          \"Revised User History:\\nGiven a female user who is aged 35-44 and an academic/educator, this user's movie viewing history over time is listed below. For Your Eyes Only (1981), 4 stars; Licence to Kill (1989), 4 stars; X-Men (2000), 2 stars; Live and Let Die (1973), 3 stars; Treasure of the Sierra Madre, The (1948), 4 stars; Incredible Journey, The (1963), 4 stars; What Lies Beneath (2000), 3 stars; Ghost (1990), 4 stars; Aladdin (1992), 4 stars; Grumpier Old Men (1995), 4 stars; Shadow of a Doubt (1943), 3 stars; Saboteur (1942), 4 stars; Mr. & Mrs. Smith (1941), 3 stars; Meet the Parents (2000), 4 stars; Last of the Mohicans, The (1992), 4 stars; Out of the Past (1947), 4 stars; Arsenic and Old Lace (1944), 4 stars; Dances with Wolves (1990), 4 stars; Batman (1989), 2 stars; Beauty and the Beast (1991), 4 stars; Pretty Woman (1990), 4 stars; Patton (1970), 5 stars; Lady and the Tramp (1955), 4 stars; 101 Dalmatians (1961), 3 stars; High Noon (1952), 3 stars; Big Sleep, The (1946), 4 stars; Somewhere in Time (1980), 4 stars; Ben-Hur (1959), 4 stars; Rounders (1998), 1 stars; Robin Hood (1973), 4 stars. Note that this user tends to appreciate films with strong character development and engaging plots, often giving high ratings to classics and award-winning productions.\\n\\nRevised Item Description:\\nA Star is Born is a 1937 American drama film that tells the story of a young woman who becomes a successful actress, while her husband's career declines due to alcoholism. With its rich production quality, cinematography, and soundtrack, the film has stood the test of time and continues to be celebrated for its storytelling, performances, and music. The movie's complex characters, played by Janet Gaynor and Fredric March, deliver powerful performances that have been praised by critics and audiences alike.\"\n        ],\n        \"semantic_type\": \"\",\n        \"description\": \"\"\n      }\n    }\n  ]\n}",
              "type": "dataframe",
              "variable_name": "sub_df_clean"
            },
            "text/html": [
              "\n",
              "  <div id=\"df-3d9cb4e9-811f-4e31-9c7a-1003481891ec\" class=\"colab-df-container\">\n",
              "    <div>\n",
              "<style scoped>\n",
              "    .dataframe tbody tr th:only-of-type {\n",
              "        vertical-align: middle;\n",
              "    }\n",
              "\n",
              "    .dataframe tbody tr th {\n",
              "        vertical-align: top;\n",
              "    }\n",
              "\n",
              "    .dataframe thead th {\n",
              "        text-align: right;\n",
              "    }\n",
              "</style>\n",
              "<table border=\"1\" class=\"dataframe\">\n",
              "  <thead>\n",
              "    <tr style=\"text-align: right;\">\n",
              "      <th></th>\n",
              "      <th>test_index</th>\n",
              "      <th>user_idx</th>\n",
              "      <th>user_hist</th>\n",
              "      <th>item_idx</th>\n",
              "      <th>item_desc</th>\n",
              "      <th>label</th>\n",
              "      <th>pred</th>\n",
              "      <th>user_reflect</th>\n",
              "      <th>item_reflect</th>\n",
              "      <th>init_context</th>\n",
              "    </tr>\n",
              "  </thead>\n",
              "  <tbody>\n",
              "    <tr>\n",
              "      <th>0</th>\n",
              "      <td>29</td>\n",
              "      <td>1034</td>\n",
              "      <td>Given a female user who is aged 35-44 and an a...</td>\n",
              "      <td>3217</td>\n",
              "      <td>\"A Star is Born\" is a 1937 American drama film...</td>\n",
              "      <td>1</td>\n",
              "      <td>0.384421</td>\n",
              "      <td>Given a female user who is aged 35-44 and an a...</td>\n",
              "      <td>A Star is Born is a 1937 American drama film t...</td>\n",
              "      <td>Revised User History:\\nGiven a female user who...</td>\n",
              "    </tr>\n",
              "    <tr>\n",
              "      <th>1</th>\n",
              "      <td>34</td>\n",
              "      <td>1034</td>\n",
              "      <td>Given a female user who is aged 35-44 and an a...</td>\n",
              "      <td>2278</td>\n",
              "      <td>Ronin is a 1998 thriller movie directed by Joh...</td>\n",
              "      <td>0</td>\n",
              "      <td>0.514711</td>\n",
              "      <td>Given a female user who is aged 35-44 and an a...</td>\n",
              "      <td>Ronin is a 1998 thriller movie directed by Joh...</td>\n",
              "      <td>Revised User History:\\n\\nGiven a female user w...</td>\n",
              "    </tr>\n",
              "    <tr>\n",
              "      <th>2</th>\n",
              "      <td>39</td>\n",
              "      <td>1034</td>\n",
              "      <td>Given a female user who is aged 35-44 and an a...</td>\n",
              "      <td>949</td>\n",
              "      <td>East of Eden is a classic drama film released ...</td>\n",
              "      <td>0</td>\n",
              "      <td>0.663418</td>\n",
              "      <td>Given a female user who is aged 35-44 and an a...</td>\n",
              "      <td>East of Eden is a timeless classic drama film ...</td>\n",
              "      <td>Revised User History:\\nGiven a female user who...</td>\n",
              "    </tr>\n",
              "    <tr>\n",
              "      <th>3</th>\n",
              "      <td>59</td>\n",
              "      <td>1034</td>\n",
              "      <td>Given a female user who is aged 35-44 and an a...</td>\n",
              "      <td>3408</td>\n",
              "      <td>Erin Brockovich is a biographical drama film t...</td>\n",
              "      <td>1</td>\n",
              "      <td>0.473590</td>\n",
              "      <td>A 35-44-year-old academic/educator with a dive...</td>\n",
              "      <td>Erin Brockovich is a biographical drama film t...</td>\n",
              "      <td>Here are the revised user history and item des...</td>\n",
              "    </tr>\n",
              "    <tr>\n",
              "      <th>4</th>\n",
              "      <td>60</td>\n",
              "      <td>1034</td>\n",
              "      <td>Given a female user who is aged 35-44 and an a...</td>\n",
              "      <td>2617</td>\n",
              "      <td>The Mummy is a 1999 American action-adventure ...</td>\n",
              "      <td>1</td>\n",
              "      <td>0.270938</td>\n",
              "      <td>Given a female user who is aged 35-44 and an a...</td>\n",
              "      <td>The Mummy is a 1999 American action-adventure ...</td>\n",
              "      <td>Revised User History:\\nGiven a female user who...</td>\n",
              "    </tr>\n",
              "    <tr>\n",
              "      <th>5</th>\n",
              "      <td>65</td>\n",
              "      <td>1034</td>\n",
              "      <td>Given a female user who is aged 35-44 and an a...</td>\n",
              "      <td>2640</td>\n",
              "      <td>Superman is a 1978 superhero film directed by ...</td>\n",
              "      <td>1</td>\n",
              "      <td>0.380954</td>\n",
              "      <td>Given a female user who is aged 35-44 and an a...</td>\n",
              "      <td>Superman is a 1978 superhero film directed by ...</td>\n",
              "      <td>Revised User History:\\nGiven a female user who...</td>\n",
              "    </tr>\n",
              "    <tr>\n",
              "      <th>6</th>\n",
              "      <td>79</td>\n",
              "      <td>1034</td>\n",
              "      <td>Given a female user who is aged 35-44 and an a...</td>\n",
              "      <td>2861</td>\n",
              "      <td>For Love of the Game is a romantic sports dram...</td>\n",
              "      <td>1</td>\n",
              "      <td>0.425896</td>\n",
              "      <td>Given a female user who is aged 35-44 and an a...</td>\n",
              "      <td>For Love of the Game is a romantic sports dram...</td>\n",
              "      <td>Here are the revised user history and item des...</td>\n",
              "    </tr>\n",
              "    <tr>\n",
              "      <th>7</th>\n",
              "      <td>84</td>\n",
              "      <td>1034</td>\n",
              "      <td>Given a female user who is aged 35-44 and an a...</td>\n",
              "      <td>477</td>\n",
              "      <td>What's Love Got to Do with It? is a 1993 biogr...</td>\n",
              "      <td>0</td>\n",
              "      <td>0.540011</td>\n",
              "      <td>This user is a 35-44 year old academic/educato...</td>\n",
              "      <td>\"What's Love Got to Do with It?\" is a 1993 bio...</td>\n",
              "      <td>Here are the revised user history and item des...</td>\n",
              "    </tr>\n",
              "    <tr>\n",
              "      <th>8</th>\n",
              "      <td>86</td>\n",
              "      <td>1034</td>\n",
              "      <td>Given a female user who is aged 35-44 and an a...</td>\n",
              "      <td>2100</td>\n",
              "      <td>Splash is a romantic comedy film released in 1...</td>\n",
              "      <td>1</td>\n",
              "      <td>0.355477</td>\n",
              "      <td>Given a female user who is aged 35-44 and an a...</td>\n",
              "      <td>Splash is a charming romantic comedy film rele...</td>\n",
              "      <td>Revised User History:\\nGiven a female user who...</td>\n",
              "    </tr>\n",
              "    <tr>\n",
              "      <th>9</th>\n",
              "      <td>87</td>\n",
              "      <td>1034</td>\n",
              "      <td>Given a female user who is aged 35-44 and an a...</td>\n",
              "      <td>3844</td>\n",
              "      <td>Steel Magnolias is a 1989 American comedy-dram...</td>\n",
              "      <td>1</td>\n",
              "      <td>0.434559</td>\n",
              "      <td>Given a female user who is aged 35-44 and an a...</td>\n",
              "      <td>Steel Magnolias is a 1989 American comedy-dram...</td>\n",
              "      <td>Here are the revised user history and item des...</td>\n",
              "    </tr>\n",
              "    <tr>\n",
              "      <th>10</th>\n",
              "      <td>88</td>\n",
              "      <td>1034</td>\n",
              "      <td>Given a female user who is aged 35-44 and an a...</td>\n",
              "      <td>2110</td>\n",
              "      <td>Dead Men Don't Wear Plaid is a 1982 comedy fil...</td>\n",
              "      <td>1</td>\n",
              "      <td>0.341342</td>\n",
              "      <td>Given a female user who is aged 35-44 and an a...</td>\n",
              "      <td>Dead Men Don't Wear Plaid is a 1982 comedy fil...</td>\n",
              "      <td>Here are the revised user history and item des...</td>\n",
              "    </tr>\n",
              "    <tr>\n",
              "      <th>11</th>\n",
              "      <td>90</td>\n",
              "      <td>1034</td>\n",
              "      <td>Given a female user who is aged 35-44 and an a...</td>\n",
              "      <td>1333</td>\n",
              "      <td>The Birds is a 1963 horror-thriller film direc...</td>\n",
              "      <td>0</td>\n",
              "      <td>0.600994</td>\n",
              "      <td>Given a female user who is aged 35-44 and an a...</td>\n",
              "      <td>The Birds is a 1963 horror-thriller film direc...</td>\n",
              "      <td>Here is the revised user history and item desc...</td>\n",
              "    </tr>\n",
              "    <tr>\n",
              "      <th>12</th>\n",
              "      <td>94</td>\n",
              "      <td>1034</td>\n",
              "      <td>Given a female user who is aged 35-44 and an a...</td>\n",
              "      <td>1348</td>\n",
              "      <td>Sure, I would be happy to introduce the movie ...</td>\n",
              "      <td>0</td>\n",
              "      <td>0.553050</td>\n",
              "      <td>Given a female user who is aged 35-44 and an a...</td>\n",
              "      <td>Released in 1922, Nosferatu is a German silent...</td>\n",
              "      <td>Revised User History:\\nGiven a female user who...</td>\n",
              "    </tr>\n",
              "    <tr>\n",
              "      <th>13</th>\n",
              "      <td>96</td>\n",
              "      <td>1034</td>\n",
              "      <td>Given a female user who is aged 35-44 and an a...</td>\n",
              "      <td>2160</td>\n",
              "      <td>Rosemary's Baby is a classic horror film that ...</td>\n",
              "      <td>0</td>\n",
              "      <td>0.583724</td>\n",
              "      <td>This user is a 35-44 year old academic/educato...</td>\n",
              "      <td>Rosemary's Baby is a classic horror film relea...</td>\n",
              "      <td>Here are the revised user history and item des...</td>\n",
              "    </tr>\n",
              "    <tr>\n",
              "      <th>14</th>\n",
              "      <td>97</td>\n",
              "      <td>1034</td>\n",
              "      <td>Given a female user who is aged 35-44 and an a...</td>\n",
              "      <td>3111</td>\n",
              "      <td>\"Places in the Heart\" is a drama film from 198...</td>\n",
              "      <td>1</td>\n",
              "      <td>0.445930</td>\n",
              "      <td>Given a female user who is aged 35-44 and an a...</td>\n",
              "      <td>\"Places in the Heart\" is a critically acclaime...</td>\n",
              "      <td>Here are the revised user history and item des...</td>\n",
              "    </tr>\n",
              "    <tr>\n",
              "      <th>15</th>\n",
              "      <td>99</td>\n",
              "      <td>1034</td>\n",
              "      <td>Given a female user who is aged 35-44 and an a...</td>\n",
              "      <td>2312</td>\n",
              "      <td>\"Children of a Lesser God\" is a 1986 American ...</td>\n",
              "      <td>1</td>\n",
              "      <td>0.490645</td>\n",
              "      <td>Given a female user who is aged 35-44 and an a...</td>\n",
              "      <td>\"Children of a Lesser God\" is an 1986 romantic...</td>\n",
              "      <td>Revised User History:\\n\\nGiven a female user w...</td>\n",
              "    </tr>\n",
              "    <tr>\n",
              "      <th>16</th>\n",
              "      <td>100</td>\n",
              "      <td>1034</td>\n",
              "      <td>Given a female user who is aged 35-44 and an a...</td>\n",
              "      <td>2176</td>\n",
              "      <td>Rope is a classic psychological thriller film ...</td>\n",
              "      <td>0</td>\n",
              "      <td>0.503088</td>\n",
              "      <td>Given a female user who is aged 35-44 and an a...</td>\n",
              "      <td>Rope is a classic psychological thriller film ...</td>\n",
              "      <td>Revised User History:\\nGiven a female user who...</td>\n",
              "    </tr>\n",
              "    <tr>\n",
              "      <th>17</th>\n",
              "      <td>105</td>\n",
              "      <td>1034</td>\n",
              "      <td>Given a female user who is aged 35-44 and an a...</td>\n",
              "      <td>2340</td>\n",
              "      <td>Meet Joe Black is a romantic fantasy drama fil...</td>\n",
              "      <td>1</td>\n",
              "      <td>0.330452</td>\n",
              "      <td>Given a female user who is aged 35-44 and an a...</td>\n",
              "      <td>Meet Joe Black is a romantic fantasy drama fil...</td>\n",
              "      <td>Here is the revised user history and item desc...</td>\n",
              "    </tr>\n",
              "  </tbody>\n",
              "</table>\n",
              "</div>\n",
              "    <div class=\"colab-df-buttons\">\n",
              "\n",
              "  <div class=\"colab-df-container\">\n",
              "    <button class=\"colab-df-convert\" onclick=\"convertToInteractive('df-3d9cb4e9-811f-4e31-9c7a-1003481891ec')\"\n",
              "            title=\"Convert this dataframe to an interactive table.\"\n",
              "            style=\"display:none;\">\n",
              "\n",
              "  <svg xmlns=\"http://www.w3.org/2000/svg\" height=\"24px\" viewBox=\"0 -960 960 960\">\n",
              "    <path d=\"M120-120v-720h720v720H120Zm60-500h600v-160H180v160Zm220 220h160v-160H400v160Zm0 220h160v-160H400v160ZM180-400h160v-160H180v160Zm440 0h160v-160H620v160ZM180-180h160v-160H180v160Zm440 0h160v-160H620v160Z\"/>\n",
              "  </svg>\n",
              "    </button>\n",
              "\n",
              "  <style>\n",
              "    .colab-df-container {\n",
              "      display:flex;\n",
              "      gap: 12px;\n",
              "    }\n",
              "\n",
              "    .colab-df-convert {\n",
              "      background-color: #E8F0FE;\n",
              "      border: none;\n",
              "      border-radius: 50%;\n",
              "      cursor: pointer;\n",
              "      display: none;\n",
              "      fill: #1967D2;\n",
              "      height: 32px;\n",
              "      padding: 0 0 0 0;\n",
              "      width: 32px;\n",
              "    }\n",
              "\n",
              "    .colab-df-convert:hover {\n",
              "      background-color: #E2EBFA;\n",
              "      box-shadow: 0px 1px 2px rgba(60, 64, 67, 0.3), 0px 1px 3px 1px rgba(60, 64, 67, 0.15);\n",
              "      fill: #174EA6;\n",
              "    }\n",
              "\n",
              "    .colab-df-buttons div {\n",
              "      margin-bottom: 4px;\n",
              "    }\n",
              "\n",
              "    [theme=dark] .colab-df-convert {\n",
              "      background-color: #3B4455;\n",
              "      fill: #D2E3FC;\n",
              "    }\n",
              "\n",
              "    [theme=dark] .colab-df-convert:hover {\n",
              "      background-color: #434B5C;\n",
              "      box-shadow: 0px 1px 3px 1px rgba(0, 0, 0, 0.15);\n",
              "      filter: drop-shadow(0px 1px 2px rgba(0, 0, 0, 0.3));\n",
              "      fill: #FFFFFF;\n",
              "    }\n",
              "  </style>\n",
              "\n",
              "    <script>\n",
              "      const buttonEl =\n",
              "        document.querySelector('#df-3d9cb4e9-811f-4e31-9c7a-1003481891ec button.colab-df-convert');\n",
              "      buttonEl.style.display =\n",
              "        google.colab.kernel.accessAllowed ? 'block' : 'none';\n",
              "\n",
              "      async function convertToInteractive(key) {\n",
              "        const element = document.querySelector('#df-3d9cb4e9-811f-4e31-9c7a-1003481891ec');\n",
              "        const dataTable =\n",
              "          await google.colab.kernel.invokeFunction('convertToInteractive',\n",
              "                                                    [key], {});\n",
              "        if (!dataTable) return;\n",
              "\n",
              "        const docLinkHtml = 'Like what you see? Visit the ' +\n",
              "          '<a target=\"_blank\" href=https://colab.research.google.com/notebooks/data_table.ipynb>data table notebook</a>'\n",
              "          + ' to learn more about interactive tables.';\n",
              "        element.innerHTML = '';\n",
              "        dataTable['output_type'] = 'display_data';\n",
              "        await google.colab.output.renderOutput(dataTable, element);\n",
              "        const docLink = document.createElement('div');\n",
              "        docLink.innerHTML = docLinkHtml;\n",
              "        element.appendChild(docLink);\n",
              "      }\n",
              "    </script>\n",
              "  </div>\n",
              "\n",
              "\n",
              "<div id=\"df-88f656f5-1162-4086-829e-146b2ba5c89d\">\n",
              "  <button class=\"colab-df-quickchart\" onclick=\"quickchart('df-88f656f5-1162-4086-829e-146b2ba5c89d')\"\n",
              "            title=\"Suggest charts\"\n",
              "            style=\"display:none;\">\n",
              "\n",
              "<svg xmlns=\"http://www.w3.org/2000/svg\" height=\"24px\"viewBox=\"0 0 24 24\"\n",
              "     width=\"24px\">\n",
              "    <g>\n",
              "        <path d=\"M19 3H5c-1.1 0-2 .9-2 2v14c0 1.1.9 2 2 2h14c1.1 0 2-.9 2-2V5c0-1.1-.9-2-2-2zM9 17H7v-7h2v7zm4 0h-2V7h2v10zm4 0h-2v-4h2v4z\"/>\n",
              "    </g>\n",
              "</svg>\n",
              "  </button>\n",
              "\n",
              "<style>\n",
              "  .colab-df-quickchart {\n",
              "      --bg-color: #E8F0FE;\n",
              "      --fill-color: #1967D2;\n",
              "      --hover-bg-color: #E2EBFA;\n",
              "      --hover-fill-color: #174EA6;\n",
              "      --disabled-fill-color: #AAA;\n",
              "      --disabled-bg-color: #DDD;\n",
              "  }\n",
              "\n",
              "  [theme=dark] .colab-df-quickchart {\n",
              "      --bg-color: #3B4455;\n",
              "      --fill-color: #D2E3FC;\n",
              "      --hover-bg-color: #434B5C;\n",
              "      --hover-fill-color: #FFFFFF;\n",
              "      --disabled-bg-color: #3B4455;\n",
              "      --disabled-fill-color: #666;\n",
              "  }\n",
              "\n",
              "  .colab-df-quickchart {\n",
              "    background-color: var(--bg-color);\n",
              "    border: none;\n",
              "    border-radius: 50%;\n",
              "    cursor: pointer;\n",
              "    display: none;\n",
              "    fill: var(--fill-color);\n",
              "    height: 32px;\n",
              "    padding: 0;\n",
              "    width: 32px;\n",
              "  }\n",
              "\n",
              "  .colab-df-quickchart:hover {\n",
              "    background-color: var(--hover-bg-color);\n",
              "    box-shadow: 0 1px 2px rgba(60, 64, 67, 0.3), 0 1px 3px 1px rgba(60, 64, 67, 0.15);\n",
              "    fill: var(--button-hover-fill-color);\n",
              "  }\n",
              "\n",
              "  .colab-df-quickchart-complete:disabled,\n",
              "  .colab-df-quickchart-complete:disabled:hover {\n",
              "    background-color: var(--disabled-bg-color);\n",
              "    fill: var(--disabled-fill-color);\n",
              "    box-shadow: none;\n",
              "  }\n",
              "\n",
              "  .colab-df-spinner {\n",
              "    border: 2px solid var(--fill-color);\n",
              "    border-color: transparent;\n",
              "    border-bottom-color: var(--fill-color);\n",
              "    animation:\n",
              "      spin 1s steps(1) infinite;\n",
              "  }\n",
              "\n",
              "  @keyframes spin {\n",
              "    0% {\n",
              "      border-color: transparent;\n",
              "      border-bottom-color: var(--fill-color);\n",
              "      border-left-color: var(--fill-color);\n",
              "    }\n",
              "    20% {\n",
              "      border-color: transparent;\n",
              "      border-left-color: var(--fill-color);\n",
              "      border-top-color: var(--fill-color);\n",
              "    }\n",
              "    30% {\n",
              "      border-color: transparent;\n",
              "      border-left-color: var(--fill-color);\n",
              "      border-top-color: var(--fill-color);\n",
              "      border-right-color: var(--fill-color);\n",
              "    }\n",
              "    40% {\n",
              "      border-color: transparent;\n",
              "      border-right-color: var(--fill-color);\n",
              "      border-top-color: var(--fill-color);\n",
              "    }\n",
              "    60% {\n",
              "      border-color: transparent;\n",
              "      border-right-color: var(--fill-color);\n",
              "    }\n",
              "    80% {\n",
              "      border-color: transparent;\n",
              "      border-right-color: var(--fill-color);\n",
              "      border-bottom-color: var(--fill-color);\n",
              "    }\n",
              "    90% {\n",
              "      border-color: transparent;\n",
              "      border-bottom-color: var(--fill-color);\n",
              "    }\n",
              "  }\n",
              "</style>\n",
              "\n",
              "  <script>\n",
              "    async function quickchart(key) {\n",
              "      const quickchartButtonEl =\n",
              "        document.querySelector('#' + key + ' button');\n",
              "      quickchartButtonEl.disabled = true;  // To prevent multiple clicks.\n",
              "      quickchartButtonEl.classList.add('colab-df-spinner');\n",
              "      try {\n",
              "        const charts = await google.colab.kernel.invokeFunction(\n",
              "            'suggestCharts', [key], {});\n",
              "      } catch (error) {\n",
              "        console.error('Error during call to suggestCharts:', error);\n",
              "      }\n",
              "      quickchartButtonEl.classList.remove('colab-df-spinner');\n",
              "      quickchartButtonEl.classList.add('colab-df-quickchart-complete');\n",
              "    }\n",
              "    (() => {\n",
              "      let quickchartButtonEl =\n",
              "        document.querySelector('#df-88f656f5-1162-4086-829e-146b2ba5c89d button');\n",
              "      quickchartButtonEl.style.display =\n",
              "        google.colab.kernel.accessAllowed ? 'block' : 'none';\n",
              "    })();\n",
              "  </script>\n",
              "</div>\n",
              "\n",
              "  <div id=\"id_f491e466-407a-4f75-a949-bd4825fa434d\">\n",
              "    <style>\n",
              "      .colab-df-generate {\n",
              "        background-color: #E8F0FE;\n",
              "        border: none;\n",
              "        border-radius: 50%;\n",
              "        cursor: pointer;\n",
              "        display: none;\n",
              "        fill: #1967D2;\n",
              "        height: 32px;\n",
              "        padding: 0 0 0 0;\n",
              "        width: 32px;\n",
              "      }\n",
              "\n",
              "      .colab-df-generate:hover {\n",
              "        background-color: #E2EBFA;\n",
              "        box-shadow: 0px 1px 2px rgba(60, 64, 67, 0.3), 0px 1px 3px 1px rgba(60, 64, 67, 0.15);\n",
              "        fill: #174EA6;\n",
              "      }\n",
              "\n",
              "      [theme=dark] .colab-df-generate {\n",
              "        background-color: #3B4455;\n",
              "        fill: #D2E3FC;\n",
              "      }\n",
              "\n",
              "      [theme=dark] .colab-df-generate:hover {\n",
              "        background-color: #434B5C;\n",
              "        box-shadow: 0px 1px 3px 1px rgba(0, 0, 0, 0.15);\n",
              "        filter: drop-shadow(0px 1px 2px rgba(0, 0, 0, 0.3));\n",
              "        fill: #FFFFFF;\n",
              "      }\n",
              "    </style>\n",
              "    <button class=\"colab-df-generate\" onclick=\"generateWithVariable('sub_df_clean')\"\n",
              "            title=\"Generate code using this dataframe.\"\n",
              "            style=\"display:none;\">\n",
              "\n",
              "  <svg xmlns=\"http://www.w3.org/2000/svg\" height=\"24px\"viewBox=\"0 0 24 24\"\n",
              "       width=\"24px\">\n",
              "    <path d=\"M7,19H8.4L18.45,9,17,7.55,7,17.6ZM5,21V16.75L18.45,3.32a2,2,0,0,1,2.83,0l1.4,1.43a1.91,1.91,0,0,1,.58,1.4,1.91,1.91,0,0,1-.58,1.4L9.25,21ZM18.45,9,17,7.55Zm-12,3A5.31,5.31,0,0,0,4.9,8.1,5.31,5.31,0,0,0,1,6.5,5.31,5.31,0,0,0,4.9,4.9,5.31,5.31,0,0,0,6.5,1,5.31,5.31,0,0,0,8.1,4.9,5.31,5.31,0,0,0,12,6.5,5.46,5.46,0,0,0,6.5,12Z\"/>\n",
              "  </svg>\n",
              "    </button>\n",
              "    <script>\n",
              "      (() => {\n",
              "      const buttonEl =\n",
              "        document.querySelector('#id_f491e466-407a-4f75-a949-bd4825fa434d button.colab-df-generate');\n",
              "      buttonEl.style.display =\n",
              "        google.colab.kernel.accessAllowed ? 'block' : 'none';\n",
              "\n",
              "      buttonEl.onclick = () => {\n",
              "        google.colab.notebook.generateWithVariable('sub_df_clean');\n",
              "      }\n",
              "      })();\n",
              "    </script>\n",
              "  </div>\n",
              "\n",
              "    </div>\n",
              "  </div>\n"
            ],
            "text/plain": [
              "    test_index user_idx                                          user_hist  \\\n",
              "0           29     1034  Given a female user who is aged 35-44 and an a...   \n",
              "1           34     1034  Given a female user who is aged 35-44 and an a...   \n",
              "2           39     1034  Given a female user who is aged 35-44 and an a...   \n",
              "3           59     1034  Given a female user who is aged 35-44 and an a...   \n",
              "4           60     1034  Given a female user who is aged 35-44 and an a...   \n",
              "5           65     1034  Given a female user who is aged 35-44 and an a...   \n",
              "6           79     1034  Given a female user who is aged 35-44 and an a...   \n",
              "7           84     1034  Given a female user who is aged 35-44 and an a...   \n",
              "8           86     1034  Given a female user who is aged 35-44 and an a...   \n",
              "9           87     1034  Given a female user who is aged 35-44 and an a...   \n",
              "10          88     1034  Given a female user who is aged 35-44 and an a...   \n",
              "11          90     1034  Given a female user who is aged 35-44 and an a...   \n",
              "12          94     1034  Given a female user who is aged 35-44 and an a...   \n",
              "13          96     1034  Given a female user who is aged 35-44 and an a...   \n",
              "14          97     1034  Given a female user who is aged 35-44 and an a...   \n",
              "15          99     1034  Given a female user who is aged 35-44 and an a...   \n",
              "16         100     1034  Given a female user who is aged 35-44 and an a...   \n",
              "17         105     1034  Given a female user who is aged 35-44 and an a...   \n",
              "\n",
              "   item_idx                                          item_desc  label  \\\n",
              "0      3217  \"A Star is Born\" is a 1937 American drama film...      1   \n",
              "1      2278  Ronin is a 1998 thriller movie directed by Joh...      0   \n",
              "2       949  East of Eden is a classic drama film released ...      0   \n",
              "3      3408  Erin Brockovich is a biographical drama film t...      1   \n",
              "4      2617  The Mummy is a 1999 American action-adventure ...      1   \n",
              "5      2640  Superman is a 1978 superhero film directed by ...      1   \n",
              "6      2861  For Love of the Game is a romantic sports dram...      1   \n",
              "7       477  What's Love Got to Do with It? is a 1993 biogr...      0   \n",
              "8      2100  Splash is a romantic comedy film released in 1...      1   \n",
              "9      3844  Steel Magnolias is a 1989 American comedy-dram...      1   \n",
              "10     2110  Dead Men Don't Wear Plaid is a 1982 comedy fil...      1   \n",
              "11     1333  The Birds is a 1963 horror-thriller film direc...      0   \n",
              "12     1348  Sure, I would be happy to introduce the movie ...      0   \n",
              "13     2160  Rosemary's Baby is a classic horror film that ...      0   \n",
              "14     3111  \"Places in the Heart\" is a drama film from 198...      1   \n",
              "15     2312  \"Children of a Lesser God\" is a 1986 American ...      1   \n",
              "16     2176  Rope is a classic psychological thriller film ...      0   \n",
              "17     2340  Meet Joe Black is a romantic fantasy drama fil...      1   \n",
              "\n",
              "        pred                                       user_reflect  \\\n",
              "0   0.384421  Given a female user who is aged 35-44 and an a...   \n",
              "1   0.514711  Given a female user who is aged 35-44 and an a...   \n",
              "2   0.663418  Given a female user who is aged 35-44 and an a...   \n",
              "3   0.473590  A 35-44-year-old academic/educator with a dive...   \n",
              "4   0.270938  Given a female user who is aged 35-44 and an a...   \n",
              "5   0.380954  Given a female user who is aged 35-44 and an a...   \n",
              "6   0.425896  Given a female user who is aged 35-44 and an a...   \n",
              "7   0.540011  This user is a 35-44 year old academic/educato...   \n",
              "8   0.355477  Given a female user who is aged 35-44 and an a...   \n",
              "9   0.434559  Given a female user who is aged 35-44 and an a...   \n",
              "10  0.341342  Given a female user who is aged 35-44 and an a...   \n",
              "11  0.600994  Given a female user who is aged 35-44 and an a...   \n",
              "12  0.553050  Given a female user who is aged 35-44 and an a...   \n",
              "13  0.583724  This user is a 35-44 year old academic/educato...   \n",
              "14  0.445930  Given a female user who is aged 35-44 and an a...   \n",
              "15  0.490645  Given a female user who is aged 35-44 and an a...   \n",
              "16  0.503088  Given a female user who is aged 35-44 and an a...   \n",
              "17  0.330452  Given a female user who is aged 35-44 and an a...   \n",
              "\n",
              "                                         item_reflect  \\\n",
              "0   A Star is Born is a 1937 American drama film t...   \n",
              "1   Ronin is a 1998 thriller movie directed by Joh...   \n",
              "2   East of Eden is a timeless classic drama film ...   \n",
              "3   Erin Brockovich is a biographical drama film t...   \n",
              "4   The Mummy is a 1999 American action-adventure ...   \n",
              "5   Superman is a 1978 superhero film directed by ...   \n",
              "6   For Love of the Game is a romantic sports dram...   \n",
              "7   \"What's Love Got to Do with It?\" is a 1993 bio...   \n",
              "8   Splash is a charming romantic comedy film rele...   \n",
              "9   Steel Magnolias is a 1989 American comedy-dram...   \n",
              "10  Dead Men Don't Wear Plaid is a 1982 comedy fil...   \n",
              "11  The Birds is a 1963 horror-thriller film direc...   \n",
              "12  Released in 1922, Nosferatu is a German silent...   \n",
              "13  Rosemary's Baby is a classic horror film relea...   \n",
              "14  \"Places in the Heart\" is a critically acclaime...   \n",
              "15  \"Children of a Lesser God\" is an 1986 romantic...   \n",
              "16  Rope is a classic psychological thriller film ...   \n",
              "17  Meet Joe Black is a romantic fantasy drama fil...   \n",
              "\n",
              "                                         init_context  \n",
              "0   Revised User History:\\nGiven a female user who...  \n",
              "1   Revised User History:\\n\\nGiven a female user w...  \n",
              "2   Revised User History:\\nGiven a female user who...  \n",
              "3   Here are the revised user history and item des...  \n",
              "4   Revised User History:\\nGiven a female user who...  \n",
              "5   Revised User History:\\nGiven a female user who...  \n",
              "6   Here are the revised user history and item des...  \n",
              "7   Here are the revised user history and item des...  \n",
              "8   Revised User History:\\nGiven a female user who...  \n",
              "9   Here are the revised user history and item des...  \n",
              "10  Here are the revised user history and item des...  \n",
              "11  Here is the revised user history and item desc...  \n",
              "12  Revised User History:\\nGiven a female user who...  \n",
              "13  Here are the revised user history and item des...  \n",
              "14  Here are the revised user history and item des...  \n",
              "15  Revised User History:\\n\\nGiven a female user w...  \n",
              "16  Revised User History:\\nGiven a female user who...  \n",
              "17  Here is the revised user history and item desc...  "
            ]
          },
          "execution_count": 45,
          "metadata": {},
          "output_type": "execute_result"
        }
      ],
      "source": [
        "sub_df_clean = sub_df.dropna()\n",
        "sub_df_clean.reset_index(drop=True, inplace=True)\n",
        "sub_df_clean"
      ]
    },
    {
      "cell_type": "code",
      "execution_count": 46,
      "metadata": {
        "id": "i7Dob1wBdtJr"
      },
      "outputs": [],
      "source": [
        "sub_df.loc[0,'user_reflect']"
      ]
    },
    {
      "cell_type": "code",
      "execution_count": 47,
      "metadata": {
        "colab": {
          "base_uri": "https://localhost:8080/",
          "height": 175
        },
        "id": "g3B8Jp4ldw4c",
        "outputId": "8088aa3a-7760-4ec9-fe96-f466ef0696c8"
      },
      "outputs": [
        {
          "data": {
            "application/vnd.google.colaboratory.intrinsic+json": {
              "type": "string"
            },
            "text/plain": [
              "'Given a male user who is aged 35-44 and a tradesman/craftsman, this user\\'s movie viewing history over time is listed below. Last of the Mohicans, The (1992), 4 stars; Unforgiven (1992), 5 stars; Pale Rider (1985), 5 stars; Gattaca (1997), 2 stars; Legends of the Fall (1994), 5 stars; Milk Money (1994), 3 stars; Kelly\\'s Heroes (1970), 4 stars; One Flew Over the Cuckoo\\'s Nest (1975), 4 stars; Star Wars: Episode V - The Empire Strikes Back (1980), 3 stars; Raiders of the Lost Ark (1981), 4 stars. Based on the user\\'s movie viewing history, it seems that he enjoys action and adventure movies with strong male leads. The user has given high ratings to movies like \"Unforgiven,\" \"Pale Rider,\" and \"Legends of the Fall,\" which all feature rugged, tough male protagonists. The user also enjoys classic war movies like \"Kelly\\'s Heroes\" and \"Raiders of the Lost Ark,\" both of which have strong male leads.\\n\\nHowever, the user also seems to appreciate movies with more complex themes and characters. \"One Flew Over the Cuckoo\\'s Nest\" is a classic film that explores mental illness and institutionalization, while \"Gattaca\" deals with issues of genetic engineering and discrimination. These movies may appeal to the user\\'s intellectual side.\\n\\nThe user\\'s lower rating for \"Star Wars: Episode V - The Empire Strikes Back\" may suggest that he is not a huge fan of sci-fi or fantasy movies. However, the user may still enjoy action-driven movies like \"Star Wars\" as long as they have strong male leads and a compelling plot.\\n\\nOverall, the user seems to prefer movies with strong male leads, action and adventure, complex themes and characters, and high production quality. The user may also appreciate movies with critical acclaim or awards, as many of the movies in his viewing history have received positive reviews and recognition.'"
            ]
          },
          "execution_count": 47,
          "metadata": {},
          "output_type": "execute_result"
        }
      ],
      "source": [
        "sub_df.loc[0,'user_hist']"
      ]
    },
    {
      "cell_type": "code",
      "execution_count": 48,
      "metadata": {
        "id": "vVjRCbc7owmp"
      },
      "outputs": [],
      "source": [
        "new_user_history = sub_df_clean['user_reflect'].tolist()\n",
        "new_item_description = sub_df_clean['item_reflect'].tolist()"
      ]
    },
    {
      "cell_type": "code",
      "execution_count": 49,
      "metadata": {
        "colab": {
          "base_uri": "https://localhost:8080/"
        },
        "id": "6m6TVFM7fhhP",
        "outputId": "0fe833cc-e4c7-4b99-9513-97317ea3fd06"
      },
      "outputs": [
        {
          "name": "stderr",
          "output_type": "stream",
          "text": [
            "100%|██████████| 9/9 [00:00<00:00, 37.81it/s]\n"
          ]
        }
      ],
      "source": [
        "data_l = DataLoader(new_user_history,2, shuffle=False)\n",
        "new_user_vec = inference(encoding_model, tokenizer, data_l, 'bert', 'avg')"
      ]
    },
    {
      "cell_type": "code",
      "execution_count": 50,
      "metadata": {
        "colab": {
          "base_uri": "https://localhost:8080/"
        },
        "id": "cTmPcwNHp9M5",
        "outputId": "0fa5c7f8-82b0-411b-fd78-f9e5e6448c82"
      },
      "outputs": [
        {
          "name": "stderr",
          "output_type": "stream",
          "text": [
            "100%|██████████| 9/9 [00:00<00:00, 59.03it/s]\n"
          ]
        }
      ],
      "source": [
        "data_l = DataLoader(new_item_description,2, shuffle=False)\n",
        "new_item_vec = inference(encoding_model, tokenizer, data_l, 'bert', 'avg')"
      ]
    },
    {
      "cell_type": "code",
      "execution_count": 51,
      "metadata": {
        "id": "jxEA7ksTfhhQ"
      },
      "outputs": [],
      "source": [
        "l = []\n",
        "cnt= 0\n",
        "for item in train_set:\n",
        "    l.append(item)\n",
        "    cnt+=1\n",
        "    if cnt>200:\n",
        "        break\n",
        "train_dataset = DictDataset(l)"
      ]
    },
    {
      "cell_type": "code",
      "execution_count": 52,
      "metadata": {
        "colab": {
          "base_uri": "https://localhost:8080/"
        },
        "id": "CvbcnoMaqwER",
        "outputId": "ca6c8f9c-d2e6-4f74-c655-882204c3282e"
      },
      "outputs": [
        {
          "data": {
            "text/plain": [
              "tensor([-0.4031,  0.0147,  0.1539, -0.0502,  0.4482,  0.1345,  0.3013,  0.1704,\n",
              "        -0.1854,  0.3938])"
            ]
          },
          "execution_count": 52,
          "metadata": {},
          "output_type": "execute_result"
        }
      ],
      "source": [
        "train_dataset[18]['hist_aug_vec'][:10]"
      ]
    },
    {
      "cell_type": "code",
      "execution_count": 53,
      "metadata": {
        "colab": {
          "base_uri": "https://localhost:8080/"
        },
        "id": "wYSmbANRoeCA",
        "outputId": "1ce55a6f-1b50-4825-adf9-11d0cb9e3837"
      },
      "outputs": [
        {
          "name": "stdout",
          "output_type": "stream",
          "text": [
            "29\n",
            "34\n",
            "39\n",
            "59\n",
            "60\n",
            "65\n",
            "79\n",
            "84\n",
            "86\n",
            "87\n",
            "88\n",
            "90\n",
            "94\n",
            "96\n",
            "97\n",
            "99\n",
            "100\n",
            "105\n"
          ]
        }
      ],
      "source": [
        "for idx, row in sub_df_clean.iterrows():\n",
        "    train_idx = row['test_index']\n",
        "    print(train_idx)\n",
        "    train_dataset[train_idx]['hist_aug_vec'] = 0\n",
        "    train_dataset[train_idx]['hist_aug_vec'] = torch.tensor(new_user_vec[idx])\n",
        "    train_dataset[train_idx]['item_aug_vec'] = 0\n",
        "    train_dataset[train_idx]['item_aug_vec'] = torch.tensor(new_item_vec[idx])\n"
      ]
    },
    {
      "cell_type": "code",
      "execution_count": 54,
      "metadata": {
        "colab": {
          "base_uri": "https://localhost:8080/"
        },
        "id": "2ONmVWUQq2VG",
        "outputId": "b8ad19a3-d7bf-4554-cc17-cc08bf8b585d"
      },
      "outputs": [
        {
          "data": {
            "text/plain": [
              "tensor([-0.4031,  0.0147,  0.1539, -0.0502,  0.4482,  0.1345,  0.3013,  0.1704,\n",
              "        -0.1854,  0.3938])"
            ]
          },
          "execution_count": 54,
          "metadata": {},
          "output_type": "execute_result"
        }
      ],
      "source": [
        "train_dataset[18]['hist_aug_vec'][:10]"
      ]
    },
    {
      "cell_type": "code",
      "execution_count": 55,
      "metadata": {
        "id": "6s-OvTzyfhhQ"
      },
      "outputs": [],
      "source": [
        "test_loader = Data.DataLoader(dataset=test_dataset, batch_size=2, shuffle=False)\n",
        "short_test = ShortDataLoader(test_loader, num_batches=100)\n",
        "auc, ll, loss, eval_time, labels, preds = eval(inference_model, short_test)"
      ]
    },
    {
      "cell_type": "code",
      "execution_count": 56,
      "metadata": {
        "colab": {
          "base_uri": "https://localhost:8080/"
        },
        "id": "524JVoApfhhR",
        "outputId": "e682cc8a-e5a5-42a9-b78b-e2627ec87109"
      },
      "outputs": [
        {
          "data": {
            "text/plain": [
              "(0, [0.708030104637146])"
            ]
          },
          "execution_count": 56,
          "metadata": {},
          "output_type": "execute_result"
        }
      ],
      "source": [
        "labels[18], preds[18]"
      ]
    },
    {
      "cell_type": "code",
      "execution_count": 57,
      "metadata": {
        "colab": {
          "base_uri": "https://localhost:8080/"
        },
        "id": "1WB3j3R0sA7v",
        "outputId": "598cc4ab-dff5-4c5e-b205-befbcaeb728a"
      },
      "outputs": [
        {
          "data": {
            "text/plain": [
              "[4,\n",
              " 18,\n",
              " 24,\n",
              " 29,\n",
              " 31,\n",
              " 34,\n",
              " 39,\n",
              " 54,\n",
              " 57,\n",
              " 59,\n",
              " 60,\n",
              " 64,\n",
              " 65,\n",
              " 69,\n",
              " 74,\n",
              " 79,\n",
              " 84,\n",
              " 85,\n",
              " 86,\n",
              " 87,\n",
              " 88,\n",
              " 90,\n",
              " 94,\n",
              " 95,\n",
              " 96,\n",
              " 97,\n",
              " 99,\n",
              " 100,\n",
              " 105,\n",
              " 107]"
            ]
          },
          "execution_count": 57,
          "metadata": {},
          "output_type": "execute_result"
        }
      ],
      "source": [
        "sub_df['test_index'].to_list()"
      ]
    },
    {
      "cell_type": "code",
      "execution_count": 58,
      "metadata": {
        "id": "mj0SoXttsNRS"
      },
      "outputs": [],
      "source": [
        "# prompt: take from list only the indexes from another list\n",
        "\n",
        "def get_indexes(list1, list2):\n",
        "  return [e for i, e in enumerate(list1) if i in list2]\n"
      ]
    },
    {
      "cell_type": "code",
      "execution_count": 59,
      "metadata": {
        "colab": {
          "base_uri": "https://localhost:8080/"
        },
        "id": "Cs4jVGOQr6Uy",
        "outputId": "5d9c273f-0499-41e0-e221-6bd2d6e55e8a"
      },
      "outputs": [
        {
          "data": {
            "text/plain": [
              "[1, 0, 0, 1, 1, 1, 1, 0, 1, 1, 1, 0, 0, 0, 1, 1, 0, 1]"
            ]
          },
          "execution_count": 59,
          "metadata": {},
          "output_type": "execute_result"
        }
      ],
      "source": [
        "new_labels = [v for i , v in enumerate(labels) if i in sub_df_clean['test_index'].to_list()]\n",
        "new_preds = [v[0] for i , v  in enumerate(preds) if i in sub_df_clean['test_index'].to_list()]\n",
        "new_labels"
      ]
    },
    {
      "cell_type": "code",
      "execution_count": 60,
      "metadata": {
        "colab": {
          "base_uri": "https://localhost:8080/"
        },
        "id": "K7MuHfsUsmEi",
        "outputId": "eee073c4-edb7-45d0-b75d-e9794982830c"
      },
      "outputs": [
        {
          "data": {
            "text/plain": [
              "[0.4336511194705963,\n",
              " 0.4532131254673004,\n",
              " 0.7217369079589844,\n",
              " 0.6745705604553223,\n",
              " 0.31332603096961975,\n",
              " 0.4512385129928589,\n",
              " 0.40330809354782104,\n",
              " 0.5837703347206116,\n",
              " 0.3552521765232086,\n",
              " 0.506752073764801,\n",
              " 0.38986751437187195,\n",
              " 0.5957568287849426,\n",
              " 0.5156009793281555,\n",
              " 0.5262630581855774,\n",
              " 0.5289294719696045,\n",
              " 0.4980555474758148,\n",
              " 0.6564141511917114,\n",
              " 0.4624698758125305]"
            ]
          },
          "execution_count": 60,
          "metadata": {},
          "output_type": "execute_result"
        }
      ],
      "source": [
        "new_preds"
      ]
    },
    {
      "cell_type": "code",
      "execution_count": 61,
      "metadata": {
        "colab": {
          "base_uri": "https://localhost:8080/",
          "height": 1000
        },
        "id": "MVJbxyNUfhhR",
        "outputId": "940026da-5790-4d7a-80a5-8cedc41ad684"
      },
      "outputs": [
        {
          "name": "stderr",
          "output_type": "stream",
          "text": [
            "<ipython-input-61-4f1ed2965461>:1: SettingWithCopyWarning: \n",
            "A value is trying to be set on a copy of a slice from a DataFrame.\n",
            "Try using .loc[row_indexer,col_indexer] = value instead\n",
            "\n",
            "See the caveats in the documentation: https://pandas.pydata.org/pandas-docs/stable/user_guide/indexing.html#returning-a-view-versus-a-copy\n",
            "  sub_df_clean['new label'] = new_labels\n",
            "<ipython-input-61-4f1ed2965461>:2: SettingWithCopyWarning: \n",
            "A value is trying to be set on a copy of a slice from a DataFrame.\n",
            "Try using .loc[row_indexer,col_indexer] = value instead\n",
            "\n",
            "See the caveats in the documentation: https://pandas.pydata.org/pandas-docs/stable/user_guide/indexing.html#returning-a-view-versus-a-copy\n",
            "  sub_df_clean['new pred'] = new_preds\n"
          ]
        },
        {
          "data": {
            "application/vnd.google.colaboratory.intrinsic+json": {
              "summary": "{\n  \"name\": \"sub_df_clean\",\n  \"rows\": 18,\n  \"fields\": [\n    {\n      \"column\": \"test_index\",\n      \"properties\": {\n        \"dtype\": \"number\",\n        \"std\": 23,\n        \"min\": 29,\n        \"max\": 105,\n        \"num_unique_values\": 18,\n        \"samples\": [\n          29,\n          34,\n          86\n        ],\n        \"semantic_type\": \"\",\n        \"description\": \"\"\n      }\n    },\n    {\n      \"column\": \"user_idx\",\n      \"properties\": {\n        \"dtype\": \"category\",\n        \"num_unique_values\": 1,\n        \"samples\": [\n          \"1034\"\n        ],\n        \"semantic_type\": \"\",\n        \"description\": \"\"\n      }\n    },\n    {\n      \"column\": \"user_hist\",\n      \"properties\": {\n        \"dtype\": \"category\",\n        \"num_unique_values\": 1,\n        \"samples\": [\n          \"Given a female user who is aged 35-44 and an academic/educator, this user's movie viewing history over time is listed below. For Your Eyes Only (1981), 4 stars; Licence to Kill (1989), 4 stars; X-Men (2000), 2 stars; Live and Let Die (1973), 3 stars; Treasure of the Sierra Madre, The (1948), 4 stars; Incredible Journey, The (1963), 4 stars; What Lies Beneath (2000), 3 stars; Ghost (1990), 4 stars; Aladdin (1992), 4 stars; Grumpier Old Men (1995), 4 stars; Shadow of a Doubt (1943), 3 stars; Saboteur (1942), 4 stars; Mr. & Mrs. Smith (1941), 3 stars; Meet the Parents (2000), 4 stars; Last of the Mohicans, The (1992), 4 stars; Out of the Past (1947), 4 stars; Arsenic and Old Lace (1944), 4 stars; Dances with Wolves (1990), 4 stars; Batman (1989), 2 stars; Beauty and the Beast (1991), 4 stars; Pretty Woman (1990), 4 stars; Patton (1970), 5 stars; Lady and the Tramp (1955), 4 stars; 101 Dalmatians (1961), 3 stars; High Noon (1952), 3 stars; Big Sleep, The (1946), 4 stars; Somewhere in Time (1980), 4 stars; Ben-Hur (1959), 4 stars; Rounders (1998), 1 stars; Robin Hood (1973), 4 stars. Based on the user's movie viewing history, it seems she enjoys a variety of genres, ranging from action films like \\\"Licence to Kill\\\" and \\\"For Your Eyes Only\\\" to romantic comedies like \\\"Pretty Woman\\\" and family-friendly animations like \\\"Aladdin\\\" and \\\"101 Dalmatians.\\\" She also seems to appreciate classic films, as evidenced by her high ratings for \\\"Treasure of the Sierra Madre,\\\" \\\"Shadow of a Doubt,\\\" \\\"Saboteur,\\\" and \\\"Arsenic and Old Lace.\\\"\\n\\nThe user's ratings suggest that she values strong character development and engaging plots. She generally gives high ratings to films with well-developed and memorable characters, such as \\\"Patton,\\\" which earned a 5-star rating, and \\\"Grumpier Old Men,\\\" which earned a 4-star rating. She also seems to enjoy films with complex and intriguing plots, such as \\\"Out of the Past\\\" and \\\"Last of the Mohicans.\\\"\\n\\nThe user's ratings also suggest that she places importance on production quality and critical acclaim, as she gave high ratings to several award-winning films, including \\\"Ben-Hur\\\" and \\\"Dances with Wolves.\\\" However, she also seems to appreciate more light-hearted and entertaining films, such as \\\"Lady and the Tramp\\\" and \\\"Aladdin.\\\"\\n\\nOverall, it seems that the user enjoys a range of films with engaging plots, memorable characters, and high production quality, regardless of genre or time period. She also seems to appreciate classic films and award-winning productions.\"\n        ],\n        \"semantic_type\": \"\",\n        \"description\": \"\"\n      }\n    },\n    {\n      \"column\": \"item_idx\",\n      \"properties\": {\n        \"dtype\": \"string\",\n        \"num_unique_values\": 18,\n        \"samples\": [\n          \"3217\"\n        ],\n        \"semantic_type\": \"\",\n        \"description\": \"\"\n      }\n    },\n    {\n      \"column\": \"item_desc\",\n      \"properties\": {\n        \"dtype\": \"string\",\n        \"num_unique_values\": 18,\n        \"samples\": [\n          \"\\\"A Star is Born\\\" is a 1937 American drama film directed by William A. Wellman and produced by David O. Selznick. The film stars Janet Gaynor and Fredric March in the lead roles, with Adolphe Menjou, May Robson, and Andy Devine in supporting roles. The movie is a classic Hollywood melodrama and tells the story of a young woman who becomes a successful actress, while her husband's career declines due to alcoholism.\\n\\nThe film was critically acclaimed, receiving seven Academy Award nominations and winning the Best Original Story award. It was also a commercial success and was praised for its production quality and cinematography. The film was remade three times, with the most recent version starring Bradley Cooper and Lady Gaga in 2018.\\n\\nThe movie's soundtrack features several original songs, including \\\"The Man I Love\\\" and \\\"Someone to Watch Over Me,\\\" which have become standards in the American songbook. The film's score was composed by Max Steiner, who is considered one of the greatest composers in the history of film music.\\n\\nThe mood and tone of the film are dramatic and emotional, with a focus on the highs and lows of the entertainment industry. The characters are well-developed and complex, with Gaynor and March delivering powerful performances that have been praised by critics and audiences alike.\\n\\nOverall, \\\"A Star is Born\\\" is a classic Hollywood drama that has stood the test of time and continues to be celebrated for its storytelling, performances, and music.\"\n        ],\n        \"semantic_type\": \"\",\n        \"description\": \"\"\n      }\n    },\n    {\n      \"column\": \"label\",\n      \"properties\": {\n        \"dtype\": \"number\",\n        \"std\": 0,\n        \"min\": 0,\n        \"max\": 1,\n        \"num_unique_values\": 2,\n        \"samples\": [\n          0\n        ],\n        \"semantic_type\": \"\",\n        \"description\": \"\"\n      }\n    },\n    {\n      \"column\": \"pred\",\n      \"properties\": {\n        \"dtype\": \"number\",\n        \"std\": 0.10546544570618348,\n        \"min\": 0.27093765139579773,\n        \"max\": 0.663417637348175,\n        \"num_unique_values\": 18,\n        \"samples\": [\n          0.384421169757843\n        ],\n        \"semantic_type\": \"\",\n        \"description\": \"\"\n      }\n    },\n    {\n      \"column\": \"user_reflect\",\n      \"properties\": {\n        \"dtype\": \"string\",\n        \"num_unique_values\": 17,\n        \"samples\": [\n          \"Given a female user who is aged 35-44 and an academic/educator, this user's movie viewing history over time is listed below. For Your Eyes Only (1981), 4 stars; Licence to Kill (1989), 4 stars; X-Men (2000), 2 stars; Live and Let Die (1973), 3 stars; Treasure of the Sierra Madre, The (1948), 4 stars; Incredible Journey, The (1963), 4 stars; What Lies Beneath (2000), 3 stars; Ghost (1990), 4 stars; Aladdin (1992), 4 stars; Grumpier Old Men (1995), 4 stars; Shadow of a Doubt (1943), 3 stars; Saboteur (1942), 4 stars; Mr. & Mrs. Smith (1941), 3 stars; Meet the Parents (2000), 4 stars; Last of the Mohicans, The (1992), 4 stars; Out of the Past (1947), 4 stars; Arsenic and Old Lace (1944), 4 stars; Dances with Wolves (1990), 4 stars; Batman (1989), 2 stars; Beauty and the Beast (1991), 4 stars; Pretty Woman (1990), 4 stars; Patton (1970), 5 stars; Lady and the Tramp (1955), 4 stars; 101 Dalmatians (1961), 3 stars; High Noon (1952), 3 stars; Big Sleep, The (1946), 4 stars; Somewhere in Time (1980), 4 stars; Ben-Hur (1959), 4 stars; Rounders (1998), 1 stars; Robin Hood (1973), 4 stars. Note that this user tends to appreciate films with strong character development and engaging plots, often giving high ratings to classics and award-winning productions.\"\n        ],\n        \"semantic_type\": \"\",\n        \"description\": \"\"\n      }\n    },\n    {\n      \"column\": \"item_reflect\",\n      \"properties\": {\n        \"dtype\": \"string\",\n        \"num_unique_values\": 18,\n        \"samples\": [\n          \"A Star is Born is a 1937 American drama film that tells the story of a young woman who becomes a successful actress, while her husband's career declines due to alcoholism. With its rich production quality, cinematography, and soundtrack, the film has stood the test of time and continues to be celebrated for its storytelling, performances, and music. The movie's complex characters, played by Janet Gaynor and Fredric March, deliver powerful performances that have been praised by critics and audiences alike.\"\n        ],\n        \"semantic_type\": \"\",\n        \"description\": \"\"\n      }\n    },\n    {\n      \"column\": \"init_context\",\n      \"properties\": {\n        \"dtype\": \"string\",\n        \"num_unique_values\": 18,\n        \"samples\": [\n          \"Revised User History:\\nGiven a female user who is aged 35-44 and an academic/educator, this user's movie viewing history over time is listed below. For Your Eyes Only (1981), 4 stars; Licence to Kill (1989), 4 stars; X-Men (2000), 2 stars; Live and Let Die (1973), 3 stars; Treasure of the Sierra Madre, The (1948), 4 stars; Incredible Journey, The (1963), 4 stars; What Lies Beneath (2000), 3 stars; Ghost (1990), 4 stars; Aladdin (1992), 4 stars; Grumpier Old Men (1995), 4 stars; Shadow of a Doubt (1943), 3 stars; Saboteur (1942), 4 stars; Mr. & Mrs. Smith (1941), 3 stars; Meet the Parents (2000), 4 stars; Last of the Mohicans, The (1992), 4 stars; Out of the Past (1947), 4 stars; Arsenic and Old Lace (1944), 4 stars; Dances with Wolves (1990), 4 stars; Batman (1989), 2 stars; Beauty and the Beast (1991), 4 stars; Pretty Woman (1990), 4 stars; Patton (1970), 5 stars; Lady and the Tramp (1955), 4 stars; 101 Dalmatians (1961), 3 stars; High Noon (1952), 3 stars; Big Sleep, The (1946), 4 stars; Somewhere in Time (1980), 4 stars; Ben-Hur (1959), 4 stars; Rounders (1998), 1 stars; Robin Hood (1973), 4 stars. Note that this user tends to appreciate films with strong character development and engaging plots, often giving high ratings to classics and award-winning productions.\\n\\nRevised Item Description:\\nA Star is Born is a 1937 American drama film that tells the story of a young woman who becomes a successful actress, while her husband's career declines due to alcoholism. With its rich production quality, cinematography, and soundtrack, the film has stood the test of time and continues to be celebrated for its storytelling, performances, and music. The movie's complex characters, played by Janet Gaynor and Fredric March, deliver powerful performances that have been praised by critics and audiences alike.\"\n        ],\n        \"semantic_type\": \"\",\n        \"description\": \"\"\n      }\n    },\n    {\n      \"column\": \"new label\",\n      \"properties\": {\n        \"dtype\": \"number\",\n        \"std\": 0,\n        \"min\": 0,\n        \"max\": 1,\n        \"num_unique_values\": 2,\n        \"samples\": [\n          0\n        ],\n        \"semantic_type\": \"\",\n        \"description\": \"\"\n      }\n    },\n    {\n      \"column\": \"new pred\",\n      \"properties\": {\n        \"dtype\": \"number\",\n        \"std\": 0.11101011146702697,\n        \"min\": 0.31332603096961975,\n        \"max\": 0.7217369079589844,\n        \"num_unique_values\": 18,\n        \"samples\": [\n          0.4336511194705963\n        ],\n        \"semantic_type\": \"\",\n        \"description\": \"\"\n      }\n    }\n  ]\n}",
              "type": "dataframe",
              "variable_name": "sub_df_clean"
            },
            "text/html": [
              "\n",
              "  <div id=\"df-3e9393ca-726e-42ff-a85f-2b379ac33865\" class=\"colab-df-container\">\n",
              "    <div>\n",
              "<style scoped>\n",
              "    .dataframe tbody tr th:only-of-type {\n",
              "        vertical-align: middle;\n",
              "    }\n",
              "\n",
              "    .dataframe tbody tr th {\n",
              "        vertical-align: top;\n",
              "    }\n",
              "\n",
              "    .dataframe thead th {\n",
              "        text-align: right;\n",
              "    }\n",
              "</style>\n",
              "<table border=\"1\" class=\"dataframe\">\n",
              "  <thead>\n",
              "    <tr style=\"text-align: right;\">\n",
              "      <th></th>\n",
              "      <th>test_index</th>\n",
              "      <th>user_idx</th>\n",
              "      <th>user_hist</th>\n",
              "      <th>item_idx</th>\n",
              "      <th>item_desc</th>\n",
              "      <th>label</th>\n",
              "      <th>pred</th>\n",
              "      <th>user_reflect</th>\n",
              "      <th>item_reflect</th>\n",
              "      <th>init_context</th>\n",
              "      <th>new label</th>\n",
              "      <th>new pred</th>\n",
              "    </tr>\n",
              "  </thead>\n",
              "  <tbody>\n",
              "    <tr>\n",
              "      <th>0</th>\n",
              "      <td>29</td>\n",
              "      <td>1034</td>\n",
              "      <td>Given a female user who is aged 35-44 and an a...</td>\n",
              "      <td>3217</td>\n",
              "      <td>\"A Star is Born\" is a 1937 American drama film...</td>\n",
              "      <td>1</td>\n",
              "      <td>0.384421</td>\n",
              "      <td>Given a female user who is aged 35-44 and an a...</td>\n",
              "      <td>A Star is Born is a 1937 American drama film t...</td>\n",
              "      <td>Revised User History:\\nGiven a female user who...</td>\n",
              "      <td>1</td>\n",
              "      <td>0.433651</td>\n",
              "    </tr>\n",
              "    <tr>\n",
              "      <th>1</th>\n",
              "      <td>34</td>\n",
              "      <td>1034</td>\n",
              "      <td>Given a female user who is aged 35-44 and an a...</td>\n",
              "      <td>2278</td>\n",
              "      <td>Ronin is a 1998 thriller movie directed by Joh...</td>\n",
              "      <td>0</td>\n",
              "      <td>0.514711</td>\n",
              "      <td>Given a female user who is aged 35-44 and an a...</td>\n",
              "      <td>Ronin is a 1998 thriller movie directed by Joh...</td>\n",
              "      <td>Revised User History:\\n\\nGiven a female user w...</td>\n",
              "      <td>0</td>\n",
              "      <td>0.453213</td>\n",
              "    </tr>\n",
              "    <tr>\n",
              "      <th>2</th>\n",
              "      <td>39</td>\n",
              "      <td>1034</td>\n",
              "      <td>Given a female user who is aged 35-44 and an a...</td>\n",
              "      <td>949</td>\n",
              "      <td>East of Eden is a classic drama film released ...</td>\n",
              "      <td>0</td>\n",
              "      <td>0.663418</td>\n",
              "      <td>Given a female user who is aged 35-44 and an a...</td>\n",
              "      <td>East of Eden is a timeless classic drama film ...</td>\n",
              "      <td>Revised User History:\\nGiven a female user who...</td>\n",
              "      <td>0</td>\n",
              "      <td>0.721737</td>\n",
              "    </tr>\n",
              "    <tr>\n",
              "      <th>3</th>\n",
              "      <td>59</td>\n",
              "      <td>1034</td>\n",
              "      <td>Given a female user who is aged 35-44 and an a...</td>\n",
              "      <td>3408</td>\n",
              "      <td>Erin Brockovich is a biographical drama film t...</td>\n",
              "      <td>1</td>\n",
              "      <td>0.473590</td>\n",
              "      <td>A 35-44-year-old academic/educator with a dive...</td>\n",
              "      <td>Erin Brockovich is a biographical drama film t...</td>\n",
              "      <td>Here are the revised user history and item des...</td>\n",
              "      <td>1</td>\n",
              "      <td>0.674571</td>\n",
              "    </tr>\n",
              "    <tr>\n",
              "      <th>4</th>\n",
              "      <td>60</td>\n",
              "      <td>1034</td>\n",
              "      <td>Given a female user who is aged 35-44 and an a...</td>\n",
              "      <td>2617</td>\n",
              "      <td>The Mummy is a 1999 American action-adventure ...</td>\n",
              "      <td>1</td>\n",
              "      <td>0.270938</td>\n",
              "      <td>Given a female user who is aged 35-44 and an a...</td>\n",
              "      <td>The Mummy is a 1999 American action-adventure ...</td>\n",
              "      <td>Revised User History:\\nGiven a female user who...</td>\n",
              "      <td>1</td>\n",
              "      <td>0.313326</td>\n",
              "    </tr>\n",
              "    <tr>\n",
              "      <th>5</th>\n",
              "      <td>65</td>\n",
              "      <td>1034</td>\n",
              "      <td>Given a female user who is aged 35-44 and an a...</td>\n",
              "      <td>2640</td>\n",
              "      <td>Superman is a 1978 superhero film directed by ...</td>\n",
              "      <td>1</td>\n",
              "      <td>0.380954</td>\n",
              "      <td>Given a female user who is aged 35-44 and an a...</td>\n",
              "      <td>Superman is a 1978 superhero film directed by ...</td>\n",
              "      <td>Revised User History:\\nGiven a female user who...</td>\n",
              "      <td>1</td>\n",
              "      <td>0.451239</td>\n",
              "    </tr>\n",
              "    <tr>\n",
              "      <th>6</th>\n",
              "      <td>79</td>\n",
              "      <td>1034</td>\n",
              "      <td>Given a female user who is aged 35-44 and an a...</td>\n",
              "      <td>2861</td>\n",
              "      <td>For Love of the Game is a romantic sports dram...</td>\n",
              "      <td>1</td>\n",
              "      <td>0.425896</td>\n",
              "      <td>Given a female user who is aged 35-44 and an a...</td>\n",
              "      <td>For Love of the Game is a romantic sports dram...</td>\n",
              "      <td>Here are the revised user history and item des...</td>\n",
              "      <td>1</td>\n",
              "      <td>0.403308</td>\n",
              "    </tr>\n",
              "    <tr>\n",
              "      <th>7</th>\n",
              "      <td>84</td>\n",
              "      <td>1034</td>\n",
              "      <td>Given a female user who is aged 35-44 and an a...</td>\n",
              "      <td>477</td>\n",
              "      <td>What's Love Got to Do with It? is a 1993 biogr...</td>\n",
              "      <td>0</td>\n",
              "      <td>0.540011</td>\n",
              "      <td>This user is a 35-44 year old academic/educato...</td>\n",
              "      <td>\"What's Love Got to Do with It?\" is a 1993 bio...</td>\n",
              "      <td>Here are the revised user history and item des...</td>\n",
              "      <td>0</td>\n",
              "      <td>0.583770</td>\n",
              "    </tr>\n",
              "    <tr>\n",
              "      <th>8</th>\n",
              "      <td>86</td>\n",
              "      <td>1034</td>\n",
              "      <td>Given a female user who is aged 35-44 and an a...</td>\n",
              "      <td>2100</td>\n",
              "      <td>Splash is a romantic comedy film released in 1...</td>\n",
              "      <td>1</td>\n",
              "      <td>0.355477</td>\n",
              "      <td>Given a female user who is aged 35-44 and an a...</td>\n",
              "      <td>Splash is a charming romantic comedy film rele...</td>\n",
              "      <td>Revised User History:\\nGiven a female user who...</td>\n",
              "      <td>1</td>\n",
              "      <td>0.355252</td>\n",
              "    </tr>\n",
              "    <tr>\n",
              "      <th>9</th>\n",
              "      <td>87</td>\n",
              "      <td>1034</td>\n",
              "      <td>Given a female user who is aged 35-44 and an a...</td>\n",
              "      <td>3844</td>\n",
              "      <td>Steel Magnolias is a 1989 American comedy-dram...</td>\n",
              "      <td>1</td>\n",
              "      <td>0.434559</td>\n",
              "      <td>Given a female user who is aged 35-44 and an a...</td>\n",
              "      <td>Steel Magnolias is a 1989 American comedy-dram...</td>\n",
              "      <td>Here are the revised user history and item des...</td>\n",
              "      <td>1</td>\n",
              "      <td>0.506752</td>\n",
              "    </tr>\n",
              "    <tr>\n",
              "      <th>10</th>\n",
              "      <td>88</td>\n",
              "      <td>1034</td>\n",
              "      <td>Given a female user who is aged 35-44 and an a...</td>\n",
              "      <td>2110</td>\n",
              "      <td>Dead Men Don't Wear Plaid is a 1982 comedy fil...</td>\n",
              "      <td>1</td>\n",
              "      <td>0.341342</td>\n",
              "      <td>Given a female user who is aged 35-44 and an a...</td>\n",
              "      <td>Dead Men Don't Wear Plaid is a 1982 comedy fil...</td>\n",
              "      <td>Here are the revised user history and item des...</td>\n",
              "      <td>1</td>\n",
              "      <td>0.389868</td>\n",
              "    </tr>\n",
              "    <tr>\n",
              "      <th>11</th>\n",
              "      <td>90</td>\n",
              "      <td>1034</td>\n",
              "      <td>Given a female user who is aged 35-44 and an a...</td>\n",
              "      <td>1333</td>\n",
              "      <td>The Birds is a 1963 horror-thriller film direc...</td>\n",
              "      <td>0</td>\n",
              "      <td>0.600994</td>\n",
              "      <td>Given a female user who is aged 35-44 and an a...</td>\n",
              "      <td>The Birds is a 1963 horror-thriller film direc...</td>\n",
              "      <td>Here is the revised user history and item desc...</td>\n",
              "      <td>0</td>\n",
              "      <td>0.595757</td>\n",
              "    </tr>\n",
              "    <tr>\n",
              "      <th>12</th>\n",
              "      <td>94</td>\n",
              "      <td>1034</td>\n",
              "      <td>Given a female user who is aged 35-44 and an a...</td>\n",
              "      <td>1348</td>\n",
              "      <td>Sure, I would be happy to introduce the movie ...</td>\n",
              "      <td>0</td>\n",
              "      <td>0.553050</td>\n",
              "      <td>Given a female user who is aged 35-44 and an a...</td>\n",
              "      <td>Released in 1922, Nosferatu is a German silent...</td>\n",
              "      <td>Revised User History:\\nGiven a female user who...</td>\n",
              "      <td>0</td>\n",
              "      <td>0.515601</td>\n",
              "    </tr>\n",
              "    <tr>\n",
              "      <th>13</th>\n",
              "      <td>96</td>\n",
              "      <td>1034</td>\n",
              "      <td>Given a female user who is aged 35-44 and an a...</td>\n",
              "      <td>2160</td>\n",
              "      <td>Rosemary's Baby is a classic horror film that ...</td>\n",
              "      <td>0</td>\n",
              "      <td>0.583724</td>\n",
              "      <td>This user is a 35-44 year old academic/educato...</td>\n",
              "      <td>Rosemary's Baby is a classic horror film relea...</td>\n",
              "      <td>Here are the revised user history and item des...</td>\n",
              "      <td>0</td>\n",
              "      <td>0.526263</td>\n",
              "    </tr>\n",
              "    <tr>\n",
              "      <th>14</th>\n",
              "      <td>97</td>\n",
              "      <td>1034</td>\n",
              "      <td>Given a female user who is aged 35-44 and an a...</td>\n",
              "      <td>3111</td>\n",
              "      <td>\"Places in the Heart\" is a drama film from 198...</td>\n",
              "      <td>1</td>\n",
              "      <td>0.445930</td>\n",
              "      <td>Given a female user who is aged 35-44 and an a...</td>\n",
              "      <td>\"Places in the Heart\" is a critically acclaime...</td>\n",
              "      <td>Here are the revised user history and item des...</td>\n",
              "      <td>1</td>\n",
              "      <td>0.528929</td>\n",
              "    </tr>\n",
              "    <tr>\n",
              "      <th>15</th>\n",
              "      <td>99</td>\n",
              "      <td>1034</td>\n",
              "      <td>Given a female user who is aged 35-44 and an a...</td>\n",
              "      <td>2312</td>\n",
              "      <td>\"Children of a Lesser God\" is a 1986 American ...</td>\n",
              "      <td>1</td>\n",
              "      <td>0.490645</td>\n",
              "      <td>Given a female user who is aged 35-44 and an a...</td>\n",
              "      <td>\"Children of a Lesser God\" is an 1986 romantic...</td>\n",
              "      <td>Revised User History:\\n\\nGiven a female user w...</td>\n",
              "      <td>1</td>\n",
              "      <td>0.498056</td>\n",
              "    </tr>\n",
              "    <tr>\n",
              "      <th>16</th>\n",
              "      <td>100</td>\n",
              "      <td>1034</td>\n",
              "      <td>Given a female user who is aged 35-44 and an a...</td>\n",
              "      <td>2176</td>\n",
              "      <td>Rope is a classic psychological thriller film ...</td>\n",
              "      <td>0</td>\n",
              "      <td>0.503088</td>\n",
              "      <td>Given a female user who is aged 35-44 and an a...</td>\n",
              "      <td>Rope is a classic psychological thriller film ...</td>\n",
              "      <td>Revised User History:\\nGiven a female user who...</td>\n",
              "      <td>0</td>\n",
              "      <td>0.656414</td>\n",
              "    </tr>\n",
              "    <tr>\n",
              "      <th>17</th>\n",
              "      <td>105</td>\n",
              "      <td>1034</td>\n",
              "      <td>Given a female user who is aged 35-44 and an a...</td>\n",
              "      <td>2340</td>\n",
              "      <td>Meet Joe Black is a romantic fantasy drama fil...</td>\n",
              "      <td>1</td>\n",
              "      <td>0.330452</td>\n",
              "      <td>Given a female user who is aged 35-44 and an a...</td>\n",
              "      <td>Meet Joe Black is a romantic fantasy drama fil...</td>\n",
              "      <td>Here is the revised user history and item desc...</td>\n",
              "      <td>1</td>\n",
              "      <td>0.462470</td>\n",
              "    </tr>\n",
              "  </tbody>\n",
              "</table>\n",
              "</div>\n",
              "    <div class=\"colab-df-buttons\">\n",
              "\n",
              "  <div class=\"colab-df-container\">\n",
              "    <button class=\"colab-df-convert\" onclick=\"convertToInteractive('df-3e9393ca-726e-42ff-a85f-2b379ac33865')\"\n",
              "            title=\"Convert this dataframe to an interactive table.\"\n",
              "            style=\"display:none;\">\n",
              "\n",
              "  <svg xmlns=\"http://www.w3.org/2000/svg\" height=\"24px\" viewBox=\"0 -960 960 960\">\n",
              "    <path d=\"M120-120v-720h720v720H120Zm60-500h600v-160H180v160Zm220 220h160v-160H400v160Zm0 220h160v-160H400v160ZM180-400h160v-160H180v160Zm440 0h160v-160H620v160ZM180-180h160v-160H180v160Zm440 0h160v-160H620v160Z\"/>\n",
              "  </svg>\n",
              "    </button>\n",
              "\n",
              "  <style>\n",
              "    .colab-df-container {\n",
              "      display:flex;\n",
              "      gap: 12px;\n",
              "    }\n",
              "\n",
              "    .colab-df-convert {\n",
              "      background-color: #E8F0FE;\n",
              "      border: none;\n",
              "      border-radius: 50%;\n",
              "      cursor: pointer;\n",
              "      display: none;\n",
              "      fill: #1967D2;\n",
              "      height: 32px;\n",
              "      padding: 0 0 0 0;\n",
              "      width: 32px;\n",
              "    }\n",
              "\n",
              "    .colab-df-convert:hover {\n",
              "      background-color: #E2EBFA;\n",
              "      box-shadow: 0px 1px 2px rgba(60, 64, 67, 0.3), 0px 1px 3px 1px rgba(60, 64, 67, 0.15);\n",
              "      fill: #174EA6;\n",
              "    }\n",
              "\n",
              "    .colab-df-buttons div {\n",
              "      margin-bottom: 4px;\n",
              "    }\n",
              "\n",
              "    [theme=dark] .colab-df-convert {\n",
              "      background-color: #3B4455;\n",
              "      fill: #D2E3FC;\n",
              "    }\n",
              "\n",
              "    [theme=dark] .colab-df-convert:hover {\n",
              "      background-color: #434B5C;\n",
              "      box-shadow: 0px 1px 3px 1px rgba(0, 0, 0, 0.15);\n",
              "      filter: drop-shadow(0px 1px 2px rgba(0, 0, 0, 0.3));\n",
              "      fill: #FFFFFF;\n",
              "    }\n",
              "  </style>\n",
              "\n",
              "    <script>\n",
              "      const buttonEl =\n",
              "        document.querySelector('#df-3e9393ca-726e-42ff-a85f-2b379ac33865 button.colab-df-convert');\n",
              "      buttonEl.style.display =\n",
              "        google.colab.kernel.accessAllowed ? 'block' : 'none';\n",
              "\n",
              "      async function convertToInteractive(key) {\n",
              "        const element = document.querySelector('#df-3e9393ca-726e-42ff-a85f-2b379ac33865');\n",
              "        const dataTable =\n",
              "          await google.colab.kernel.invokeFunction('convertToInteractive',\n",
              "                                                    [key], {});\n",
              "        if (!dataTable) return;\n",
              "\n",
              "        const docLinkHtml = 'Like what you see? Visit the ' +\n",
              "          '<a target=\"_blank\" href=https://colab.research.google.com/notebooks/data_table.ipynb>data table notebook</a>'\n",
              "          + ' to learn more about interactive tables.';\n",
              "        element.innerHTML = '';\n",
              "        dataTable['output_type'] = 'display_data';\n",
              "        await google.colab.output.renderOutput(dataTable, element);\n",
              "        const docLink = document.createElement('div');\n",
              "        docLink.innerHTML = docLinkHtml;\n",
              "        element.appendChild(docLink);\n",
              "      }\n",
              "    </script>\n",
              "  </div>\n",
              "\n",
              "\n",
              "<div id=\"df-b7706faf-4201-4af4-bd0f-d8a9311da65d\">\n",
              "  <button class=\"colab-df-quickchart\" onclick=\"quickchart('df-b7706faf-4201-4af4-bd0f-d8a9311da65d')\"\n",
              "            title=\"Suggest charts\"\n",
              "            style=\"display:none;\">\n",
              "\n",
              "<svg xmlns=\"http://www.w3.org/2000/svg\" height=\"24px\"viewBox=\"0 0 24 24\"\n",
              "     width=\"24px\">\n",
              "    <g>\n",
              "        <path d=\"M19 3H5c-1.1 0-2 .9-2 2v14c0 1.1.9 2 2 2h14c1.1 0 2-.9 2-2V5c0-1.1-.9-2-2-2zM9 17H7v-7h2v7zm4 0h-2V7h2v10zm4 0h-2v-4h2v4z\"/>\n",
              "    </g>\n",
              "</svg>\n",
              "  </button>\n",
              "\n",
              "<style>\n",
              "  .colab-df-quickchart {\n",
              "      --bg-color: #E8F0FE;\n",
              "      --fill-color: #1967D2;\n",
              "      --hover-bg-color: #E2EBFA;\n",
              "      --hover-fill-color: #174EA6;\n",
              "      --disabled-fill-color: #AAA;\n",
              "      --disabled-bg-color: #DDD;\n",
              "  }\n",
              "\n",
              "  [theme=dark] .colab-df-quickchart {\n",
              "      --bg-color: #3B4455;\n",
              "      --fill-color: #D2E3FC;\n",
              "      --hover-bg-color: #434B5C;\n",
              "      --hover-fill-color: #FFFFFF;\n",
              "      --disabled-bg-color: #3B4455;\n",
              "      --disabled-fill-color: #666;\n",
              "  }\n",
              "\n",
              "  .colab-df-quickchart {\n",
              "    background-color: var(--bg-color);\n",
              "    border: none;\n",
              "    border-radius: 50%;\n",
              "    cursor: pointer;\n",
              "    display: none;\n",
              "    fill: var(--fill-color);\n",
              "    height: 32px;\n",
              "    padding: 0;\n",
              "    width: 32px;\n",
              "  }\n",
              "\n",
              "  .colab-df-quickchart:hover {\n",
              "    background-color: var(--hover-bg-color);\n",
              "    box-shadow: 0 1px 2px rgba(60, 64, 67, 0.3), 0 1px 3px 1px rgba(60, 64, 67, 0.15);\n",
              "    fill: var(--button-hover-fill-color);\n",
              "  }\n",
              "\n",
              "  .colab-df-quickchart-complete:disabled,\n",
              "  .colab-df-quickchart-complete:disabled:hover {\n",
              "    background-color: var(--disabled-bg-color);\n",
              "    fill: var(--disabled-fill-color);\n",
              "    box-shadow: none;\n",
              "  }\n",
              "\n",
              "  .colab-df-spinner {\n",
              "    border: 2px solid var(--fill-color);\n",
              "    border-color: transparent;\n",
              "    border-bottom-color: var(--fill-color);\n",
              "    animation:\n",
              "      spin 1s steps(1) infinite;\n",
              "  }\n",
              "\n",
              "  @keyframes spin {\n",
              "    0% {\n",
              "      border-color: transparent;\n",
              "      border-bottom-color: var(--fill-color);\n",
              "      border-left-color: var(--fill-color);\n",
              "    }\n",
              "    20% {\n",
              "      border-color: transparent;\n",
              "      border-left-color: var(--fill-color);\n",
              "      border-top-color: var(--fill-color);\n",
              "    }\n",
              "    30% {\n",
              "      border-color: transparent;\n",
              "      border-left-color: var(--fill-color);\n",
              "      border-top-color: var(--fill-color);\n",
              "      border-right-color: var(--fill-color);\n",
              "    }\n",
              "    40% {\n",
              "      border-color: transparent;\n",
              "      border-right-color: var(--fill-color);\n",
              "      border-top-color: var(--fill-color);\n",
              "    }\n",
              "    60% {\n",
              "      border-color: transparent;\n",
              "      border-right-color: var(--fill-color);\n",
              "    }\n",
              "    80% {\n",
              "      border-color: transparent;\n",
              "      border-right-color: var(--fill-color);\n",
              "      border-bottom-color: var(--fill-color);\n",
              "    }\n",
              "    90% {\n",
              "      border-color: transparent;\n",
              "      border-bottom-color: var(--fill-color);\n",
              "    }\n",
              "  }\n",
              "</style>\n",
              "\n",
              "  <script>\n",
              "    async function quickchart(key) {\n",
              "      const quickchartButtonEl =\n",
              "        document.querySelector('#' + key + ' button');\n",
              "      quickchartButtonEl.disabled = true;  // To prevent multiple clicks.\n",
              "      quickchartButtonEl.classList.add('colab-df-spinner');\n",
              "      try {\n",
              "        const charts = await google.colab.kernel.invokeFunction(\n",
              "            'suggestCharts', [key], {});\n",
              "      } catch (error) {\n",
              "        console.error('Error during call to suggestCharts:', error);\n",
              "      }\n",
              "      quickchartButtonEl.classList.remove('colab-df-spinner');\n",
              "      quickchartButtonEl.classList.add('colab-df-quickchart-complete');\n",
              "    }\n",
              "    (() => {\n",
              "      let quickchartButtonEl =\n",
              "        document.querySelector('#df-b7706faf-4201-4af4-bd0f-d8a9311da65d button');\n",
              "      quickchartButtonEl.style.display =\n",
              "        google.colab.kernel.accessAllowed ? 'block' : 'none';\n",
              "    })();\n",
              "  </script>\n",
              "</div>\n",
              "\n",
              "  <div id=\"id_7627c247-c9d9-41af-92a1-773c187ffeea\">\n",
              "    <style>\n",
              "      .colab-df-generate {\n",
              "        background-color: #E8F0FE;\n",
              "        border: none;\n",
              "        border-radius: 50%;\n",
              "        cursor: pointer;\n",
              "        display: none;\n",
              "        fill: #1967D2;\n",
              "        height: 32px;\n",
              "        padding: 0 0 0 0;\n",
              "        width: 32px;\n",
              "      }\n",
              "\n",
              "      .colab-df-generate:hover {\n",
              "        background-color: #E2EBFA;\n",
              "        box-shadow: 0px 1px 2px rgba(60, 64, 67, 0.3), 0px 1px 3px 1px rgba(60, 64, 67, 0.15);\n",
              "        fill: #174EA6;\n",
              "      }\n",
              "\n",
              "      [theme=dark] .colab-df-generate {\n",
              "        background-color: #3B4455;\n",
              "        fill: #D2E3FC;\n",
              "      }\n",
              "\n",
              "      [theme=dark] .colab-df-generate:hover {\n",
              "        background-color: #434B5C;\n",
              "        box-shadow: 0px 1px 3px 1px rgba(0, 0, 0, 0.15);\n",
              "        filter: drop-shadow(0px 1px 2px rgba(0, 0, 0, 0.3));\n",
              "        fill: #FFFFFF;\n",
              "      }\n",
              "    </style>\n",
              "    <button class=\"colab-df-generate\" onclick=\"generateWithVariable('sub_df_clean')\"\n",
              "            title=\"Generate code using this dataframe.\"\n",
              "            style=\"display:none;\">\n",
              "\n",
              "  <svg xmlns=\"http://www.w3.org/2000/svg\" height=\"24px\"viewBox=\"0 0 24 24\"\n",
              "       width=\"24px\">\n",
              "    <path d=\"M7,19H8.4L18.45,9,17,7.55,7,17.6ZM5,21V16.75L18.45,3.32a2,2,0,0,1,2.83,0l1.4,1.43a1.91,1.91,0,0,1,.58,1.4,1.91,1.91,0,0,1-.58,1.4L9.25,21ZM18.45,9,17,7.55Zm-12,3A5.31,5.31,0,0,0,4.9,8.1,5.31,5.31,0,0,0,1,6.5,5.31,5.31,0,0,0,4.9,4.9,5.31,5.31,0,0,0,6.5,1,5.31,5.31,0,0,0,8.1,4.9,5.31,5.31,0,0,0,12,6.5,5.46,5.46,0,0,0,6.5,12Z\"/>\n",
              "  </svg>\n",
              "    </button>\n",
              "    <script>\n",
              "      (() => {\n",
              "      const buttonEl =\n",
              "        document.querySelector('#id_7627c247-c9d9-41af-92a1-773c187ffeea button.colab-df-generate');\n",
              "      buttonEl.style.display =\n",
              "        google.colab.kernel.accessAllowed ? 'block' : 'none';\n",
              "\n",
              "      buttonEl.onclick = () => {\n",
              "        google.colab.notebook.generateWithVariable('sub_df_clean');\n",
              "      }\n",
              "      })();\n",
              "    </script>\n",
              "  </div>\n",
              "\n",
              "    </div>\n",
              "  </div>\n"
            ],
            "text/plain": [
              "    test_index user_idx                                          user_hist  \\\n",
              "0           29     1034  Given a female user who is aged 35-44 and an a...   \n",
              "1           34     1034  Given a female user who is aged 35-44 and an a...   \n",
              "2           39     1034  Given a female user who is aged 35-44 and an a...   \n",
              "3           59     1034  Given a female user who is aged 35-44 and an a...   \n",
              "4           60     1034  Given a female user who is aged 35-44 and an a...   \n",
              "5           65     1034  Given a female user who is aged 35-44 and an a...   \n",
              "6           79     1034  Given a female user who is aged 35-44 and an a...   \n",
              "7           84     1034  Given a female user who is aged 35-44 and an a...   \n",
              "8           86     1034  Given a female user who is aged 35-44 and an a...   \n",
              "9           87     1034  Given a female user who is aged 35-44 and an a...   \n",
              "10          88     1034  Given a female user who is aged 35-44 and an a...   \n",
              "11          90     1034  Given a female user who is aged 35-44 and an a...   \n",
              "12          94     1034  Given a female user who is aged 35-44 and an a...   \n",
              "13          96     1034  Given a female user who is aged 35-44 and an a...   \n",
              "14          97     1034  Given a female user who is aged 35-44 and an a...   \n",
              "15          99     1034  Given a female user who is aged 35-44 and an a...   \n",
              "16         100     1034  Given a female user who is aged 35-44 and an a...   \n",
              "17         105     1034  Given a female user who is aged 35-44 and an a...   \n",
              "\n",
              "   item_idx                                          item_desc  label  \\\n",
              "0      3217  \"A Star is Born\" is a 1937 American drama film...      1   \n",
              "1      2278  Ronin is a 1998 thriller movie directed by Joh...      0   \n",
              "2       949  East of Eden is a classic drama film released ...      0   \n",
              "3      3408  Erin Brockovich is a biographical drama film t...      1   \n",
              "4      2617  The Mummy is a 1999 American action-adventure ...      1   \n",
              "5      2640  Superman is a 1978 superhero film directed by ...      1   \n",
              "6      2861  For Love of the Game is a romantic sports dram...      1   \n",
              "7       477  What's Love Got to Do with It? is a 1993 biogr...      0   \n",
              "8      2100  Splash is a romantic comedy film released in 1...      1   \n",
              "9      3844  Steel Magnolias is a 1989 American comedy-dram...      1   \n",
              "10     2110  Dead Men Don't Wear Plaid is a 1982 comedy fil...      1   \n",
              "11     1333  The Birds is a 1963 horror-thriller film direc...      0   \n",
              "12     1348  Sure, I would be happy to introduce the movie ...      0   \n",
              "13     2160  Rosemary's Baby is a classic horror film that ...      0   \n",
              "14     3111  \"Places in the Heart\" is a drama film from 198...      1   \n",
              "15     2312  \"Children of a Lesser God\" is a 1986 American ...      1   \n",
              "16     2176  Rope is a classic psychological thriller film ...      0   \n",
              "17     2340  Meet Joe Black is a romantic fantasy drama fil...      1   \n",
              "\n",
              "        pred                                       user_reflect  \\\n",
              "0   0.384421  Given a female user who is aged 35-44 and an a...   \n",
              "1   0.514711  Given a female user who is aged 35-44 and an a...   \n",
              "2   0.663418  Given a female user who is aged 35-44 and an a...   \n",
              "3   0.473590  A 35-44-year-old academic/educator with a dive...   \n",
              "4   0.270938  Given a female user who is aged 35-44 and an a...   \n",
              "5   0.380954  Given a female user who is aged 35-44 and an a...   \n",
              "6   0.425896  Given a female user who is aged 35-44 and an a...   \n",
              "7   0.540011  This user is a 35-44 year old academic/educato...   \n",
              "8   0.355477  Given a female user who is aged 35-44 and an a...   \n",
              "9   0.434559  Given a female user who is aged 35-44 and an a...   \n",
              "10  0.341342  Given a female user who is aged 35-44 and an a...   \n",
              "11  0.600994  Given a female user who is aged 35-44 and an a...   \n",
              "12  0.553050  Given a female user who is aged 35-44 and an a...   \n",
              "13  0.583724  This user is a 35-44 year old academic/educato...   \n",
              "14  0.445930  Given a female user who is aged 35-44 and an a...   \n",
              "15  0.490645  Given a female user who is aged 35-44 and an a...   \n",
              "16  0.503088  Given a female user who is aged 35-44 and an a...   \n",
              "17  0.330452  Given a female user who is aged 35-44 and an a...   \n",
              "\n",
              "                                         item_reflect  \\\n",
              "0   A Star is Born is a 1937 American drama film t...   \n",
              "1   Ronin is a 1998 thriller movie directed by Joh...   \n",
              "2   East of Eden is a timeless classic drama film ...   \n",
              "3   Erin Brockovich is a biographical drama film t...   \n",
              "4   The Mummy is a 1999 American action-adventure ...   \n",
              "5   Superman is a 1978 superhero film directed by ...   \n",
              "6   For Love of the Game is a romantic sports dram...   \n",
              "7   \"What's Love Got to Do with It?\" is a 1993 bio...   \n",
              "8   Splash is a charming romantic comedy film rele...   \n",
              "9   Steel Magnolias is a 1989 American comedy-dram...   \n",
              "10  Dead Men Don't Wear Plaid is a 1982 comedy fil...   \n",
              "11  The Birds is a 1963 horror-thriller film direc...   \n",
              "12  Released in 1922, Nosferatu is a German silent...   \n",
              "13  Rosemary's Baby is a classic horror film relea...   \n",
              "14  \"Places in the Heart\" is a critically acclaime...   \n",
              "15  \"Children of a Lesser God\" is an 1986 romantic...   \n",
              "16  Rope is a classic psychological thriller film ...   \n",
              "17  Meet Joe Black is a romantic fantasy drama fil...   \n",
              "\n",
              "                                         init_context  new label  new pred  \n",
              "0   Revised User History:\\nGiven a female user who...          1  0.433651  \n",
              "1   Revised User History:\\n\\nGiven a female user w...          0  0.453213  \n",
              "2   Revised User History:\\nGiven a female user who...          0  0.721737  \n",
              "3   Here are the revised user history and item des...          1  0.674571  \n",
              "4   Revised User History:\\nGiven a female user who...          1  0.313326  \n",
              "5   Revised User History:\\nGiven a female user who...          1  0.451239  \n",
              "6   Here are the revised user history and item des...          1  0.403308  \n",
              "7   Here are the revised user history and item des...          0  0.583770  \n",
              "8   Revised User History:\\nGiven a female user who...          1  0.355252  \n",
              "9   Here are the revised user history and item des...          1  0.506752  \n",
              "10  Here are the revised user history and item des...          1  0.389868  \n",
              "11  Here is the revised user history and item desc...          0  0.595757  \n",
              "12  Revised User History:\\nGiven a female user who...          0  0.515601  \n",
              "13  Here are the revised user history and item des...          0  0.526263  \n",
              "14  Here are the revised user history and item des...          1  0.528929  \n",
              "15  Revised User History:\\n\\nGiven a female user w...          1  0.498056  \n",
              "16  Revised User History:\\nGiven a female user who...          0  0.656414  \n",
              "17  Here is the revised user history and item desc...          1  0.462470  "
            ]
          },
          "execution_count": 61,
          "metadata": {},
          "output_type": "execute_result"
        }
      ],
      "source": [
        "sub_df_clean['new label'] = new_labels\n",
        "sub_df_clean['new pred'] = new_preds\n",
        "sub_df_clean"
      ]
    },
    {
      "cell_type": "code",
      "execution_count": 62,
      "metadata": {
        "colab": {
          "base_uri": "https://localhost:8080/"
        },
        "id": "N2vFxF8vFgbT",
        "outputId": "95710193-3791-40c1-9de2-b0df8c0b7205"
      },
      "outputs": [
        {
          "data": {
            "text/plain": [
              "0.9047640904842554"
            ]
          },
          "execution_count": 62,
          "metadata": {},
          "output_type": "execute_result"
        }
      ],
      "source": [
        "y_true = sub_df_clean['label'].to_list()\n",
        "y_pred = sub_df_clean['pred'].to_list()\n",
        "log_loss(y_true, y_pred)"
      ]
    },
    {
      "cell_type": "code",
      "execution_count": 63,
      "metadata": {
        "colab": {
          "base_uri": "https://localhost:8080/"
        },
        "id": "ohACq0uufhhR",
        "outputId": "3d108b07-7d56-4ccd-b2e0-d4ce865fd93b"
      },
      "outputs": [
        {
          "data": {
            "text/plain": [
              "0.8367030164913698"
            ]
          },
          "execution_count": 63,
          "metadata": {},
          "output_type": "execute_result"
        }
      ],
      "source": [
        "\n",
        "y_true = sub_df_clean['label'].to_list()\n",
        "y_pred = sub_df_clean['new pred'].to_list()\n",
        "\n",
        "log_loss(y_true, y_pred)\n"
      ]
    }
  ],
  "metadata": {
    "accelerator": "GPU",
    "colab": {
      "gpuType": "T4",
      "provenance": []
    },
    "kernelspec": {
      "display_name": "Python 3",
      "name": "python3"
    },
    "language_info": {
      "codemirror_mode": {
        "name": "ipython",
        "version": 3
      },
      "file_extension": ".py",
      "mimetype": "text/x-python",
      "name": "python",
      "nbconvert_exporter": "python",
      "pygments_lexer": "ipython3",
      "version": "3.11.9"
    }
  },
  "nbformat": 4,
  "nbformat_minor": 0
}
